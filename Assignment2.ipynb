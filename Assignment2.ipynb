{
 "cells": [
  {
   "cell_type": "code",
   "execution_count": 1,
   "id": "695329f8",
   "metadata": {},
   "outputs": [],
   "source": [
    "import regex as re"
   ]
  },
  {
   "cell_type": "code",
   "execution_count": 2,
   "id": "04f1c4da",
   "metadata": {},
   "outputs": [
    {
     "name": "stdout",
     "output_type": "stream",
     "text": [
      "Python:Exercises::PHP:exercises:\n"
     ]
    }
   ],
   "source": [
    "# Question 1.\n",
    "\n",
    "a = \"[ , .]\"\n",
    "text = 'Python Exercises, PHP exercises.'\n",
    "replaced_text = re.sub(a, \":\", text)\n",
    "print (replaced_text)"
   ]
  },
  {
   "cell_type": "code",
   "execution_count": 3,
   "id": "215834bc",
   "metadata": {},
   "outputs": [
    {
     "data": {
      "text/plain": [
       "0         hello world\n",
       "1          XXXXX test\n",
       "2    123four five six\n",
       "Name: SUMMARY, dtype: object"
      ]
     },
     "execution_count": 3,
     "metadata": {},
     "output_type": "execute_result"
    }
   ],
   "source": [
    "# Question 2.\n",
    "\n",
    "import pandas as pd\n",
    "Data = {'SUMMARY' : ['hello, world!', 'XXXXX test', '123four, five:; six...']}\n",
    "df = pd.DataFrame(Data)\n",
    "df['SUMMARY'] = df['SUMMARY'].apply(lambda X: re.sub(r'[^\\w\\s]', '', X))\n",
    "df['SUMMARY']"
   ]
  },
  {
   "cell_type": "code",
   "execution_count": 4,
   "id": "df8be894",
   "metadata": {},
   "outputs": [
    {
     "name": "stdout",
     "output_type": "stream",
     "text": [
      "<class '_regex.Pattern'> \n",
      "\n",
      "['safe', 'will', 'LVM3', 'from', 'SDSC', 'SHAR', 'will', 'till', 'from']\n"
     ]
    }
   ],
   "source": [
    "# Question 3.\n",
    "\n",
    "str1 = \"\"\"Chandrayaan-3 is a follow on Mission to chandrayaan 2 to demonstrate end-to-end capability in safe landing and roving on the lunar surface.\n",
    "          It consist of Lander and Rover configuration. It will be launched by LVM3 from SDSC SHAR, Sriharikota.\n",
    "          The propulsion module will carry the lander and rover configuration till 1020km lunar orbit.\n",
    "          The propulsion module has spectro-polarimetry of habitable planet Earth (SHAPE) payload to study the spectral and polarimetric measurements of Earth from the lunar orbit.\"\"\"\n",
    "\n",
    "# pattern to find 3 consecutive digits\n",
    "string_pattern = r\"\\b\\w{4}\\b\"\n",
    "\n",
    "# compile string pattern to re.pattern object\n",
    "regex_pattern = re.compile(string_pattern)\n",
    "\n",
    "# print the type of compiled pattern\n",
    "print (type (regex_pattern), \"\\n\")\n",
    "\n",
    "# find all the matches in string one\n",
    "result = regex_pattern.findall(str1)\n",
    "\n",
    "print (result)"
   ]
  },
  {
   "cell_type": "code",
   "execution_count": 5,
   "id": "b39ca169",
   "metadata": {},
   "outputs": [
    {
     "name": "stdout",
     "output_type": "stream",
     "text": [
      "<class '_regex.Pattern'> \n",
      "\n",
      "['end', 'end', 'safe', 'and', 'the', 'lunar', 'and', 'Rover', 'will', 'LVM3', 'from', 'SDSC', 'SHAR', 'The', 'will', 'carry', 'the', 'and', 'rover', 'till', 'lunar', 'orbit', 'The', 'has', 'Earth', 'SHAPE', 'study', 'the', 'and', 'Earth', 'from', 'the', 'lunar', 'orbit']\n"
     ]
    }
   ],
   "source": [
    "# Question 4.\n",
    "\n",
    "str1 = \"\"\"Chandrayaan-3 is a follow on Mission to chandrayaan 2 to demonstrate end-to-end capability in safe landing and roving on the lunar surface.\n",
    "          It consist of Lander and Rover configuration. It will be launched by LVM3 from SDSC SHAR, Sriharikota.\n",
    "          The propulsion module will carry the lander and rover configuration till 1020km lunar orbit.\n",
    "          The propulsion module has spectro-polarimetry of habitable planet Earth (SHAPE) payload to study the spectral and polarimetric measurements of Earth from the lunar orbit.\"\"\"\n",
    "\n",
    "# pattern to find 3 consecutive digits\n",
    "string_pattern = r\"\\b\\w{3,5}\\b\"\n",
    "\n",
    "# compile string pattern to re.pattern object\n",
    "regex_pattern = re.compile(string_pattern)\n",
    "\n",
    "# print the type of compiled pattern\n",
    "print (type (regex_pattern), \"\\n\")\n",
    "\n",
    "# find all the matches in string one\n",
    "result = regex_pattern.findall(str1)\n",
    "\n",
    "print (result)"
   ]
  },
  {
   "cell_type": "code",
   "execution_count": null,
   "id": "aaeb2b6c",
   "metadata": {},
   "outputs": [],
   "source": [
    "    "
   ]
  },
  {
   "cell_type": "code",
   "execution_count": 6,
   "id": "8546d2a6",
   "metadata": {},
   "outputs": [
    {
     "name": "stdout",
     "output_type": "stream",
     "text": [
      "<class '_regex.Pattern'> \n",
      "\n"
     ]
    },
    {
     "ename": "TypeError",
     "evalue": "sub() missing required argument 'string' (pos 2)",
     "output_type": "error",
     "traceback": [
      "\u001b[1;31m---------------------------------------------------------------------------\u001b[0m",
      "\u001b[1;31mTypeError\u001b[0m                                 Traceback (most recent call last)",
      "Cell \u001b[1;32mIn[6], line 15\u001b[0m\n\u001b[0;32m     12\u001b[0m \u001b[38;5;28mprint\u001b[39m (\u001b[38;5;28mtype\u001b[39m (regex_pattern), \u001b[38;5;124m\"\u001b[39m\u001b[38;5;130;01m\\n\u001b[39;00m\u001b[38;5;124m\"\u001b[39m)\n\u001b[0;32m     14\u001b[0m \u001b[38;5;66;03m# find all the matches in string one\u001b[39;00m\n\u001b[1;32m---> 15\u001b[0m result \u001b[38;5;241m=\u001b[39m \u001b[43mregex_pattern\u001b[49m\u001b[38;5;241;43m.\u001b[39;49m\u001b[43msub\u001b[49m\u001b[43m(\u001b[49m\u001b[38;5;124;43m\"\u001b[39;49m\u001b[38;5;124;43mText\u001b[39;49m\u001b[38;5;124;43m\"\u001b[39;49m\u001b[43m)\u001b[49m\n\u001b[0;32m     17\u001b[0m \u001b[38;5;28mprint\u001b[39m (result)\n",
      "\u001b[1;31mTypeError\u001b[0m: sub() missing required argument 'string' (pos 2)"
     ]
    }
   ],
   "source": [
    "# Question 5.\n",
    "\n",
    "Text = [\"example (.com)\", \"hr@fliprobo (.com)\", \"github (.com)\", \"Hello (Data Science World)\", \"Data (Scientist)\"]\n",
    "\n",
    "# pattern to find 3 consecutive digits\n",
    "string_pattern = r\" ?\\([\\w.+^)]+\"\n",
    "\n",
    "# compile string pattern to re.pattern object\n",
    "regex_pattern = re.compile(string_pattern, flags = re.IGNORECASE)\n",
    "\n",
    "# print the type of compiled pattern\n",
    "print (type (regex_pattern), \"\\n\")\n",
    "\n",
    "# find all the matches in string one\n",
    "result = regex_pattern.sub(\"Text\")\n",
    "\n",
    "print (result)"
   ]
  },
  {
   "cell_type": "code",
   "execution_count": 7,
   "id": "27e5cc49",
   "metadata": {},
   "outputs": [
    {
     "name": "stdout",
     "output_type": "stream",
     "text": [
      "example\n",
      "hr@fliprobo\n",
      "github\n",
      "Hello\n",
      "Data\n"
     ]
    }
   ],
   "source": [
    "# Question 6.\n",
    "\n",
    "Text = [\"example (.com)\", \"hr@fliprobo (.com)\", \"github (.com)\", \"Hello (Data Science World)\", \"Data (Scientist)\"]\n",
    "\n",
    "for item in Text:\n",
    "    print(re.sub(r\" ?\\([^)]+\\)\", \"\", item))"
   ]
  },
  {
   "cell_type": "code",
   "execution_count": 8,
   "id": "5eae6990",
   "metadata": {},
   "outputs": [
    {
     "name": "stdout",
     "output_type": "stream",
     "text": [
      "['Importance', 'Of', 'Regular', 'Expressions', 'In', 'Python']\n"
     ]
    }
   ],
   "source": [
    "# Question 7.\n",
    "\n",
    "text = \"ImportanceOfRegularExpressionsInPython\"\n",
    "x = re.findall(r\"[A-Z][^A-Z]*\", text)\n",
    "print (x)"
   ]
  },
  {
   "cell_type": "code",
   "execution_count": 9,
   "id": "57b98d5e",
   "metadata": {},
   "outputs": [
    {
     "name": "stdout",
     "output_type": "stream",
     "text": [
      "['Regular', 'Expression1', 'Is', 'An2', 'Important', 'Topic3', 'In', 'Python']\n"
     ]
    }
   ],
   "source": [
    "# Question 8.\n",
    "\n",
    "Text = \"RegularExpression1IsAn2ImportantTopic3InPython\"\n",
    "x = re.findall(r'[A-Z][^A-Z]*', Text)\n",
    "print(x)"
   ]
  },
  {
   "cell_type": "code",
   "execution_count": 10,
   "id": "ec15e69f",
   "metadata": {},
   "outputs": [
    {
     "name": "stdout",
     "output_type": "stream",
     "text": [
      "['Regular', 'Expression1', 'Is', 'An2', 'Important', 'Topic3', 'In', 'Python']\n"
     ]
    }
   ],
   "source": [
    "# Question 9.\n",
    "\n",
    "Text = \"RegularExpression1IsAn2ImportantTopic3InPython\"\n",
    "x = re.findall(r'[A-Z][^A-Z]*', Text)\n",
    "print(x)"
   ]
  },
  {
   "cell_type": "code",
   "execution_count": 11,
   "id": "22e1d9dc",
   "metadata": {},
   "outputs": [
    {
     "data": {
      "text/html": [
       "<div>\n",
       "<style scoped>\n",
       "    .dataframe tbody tr th:only-of-type {\n",
       "        vertical-align: middle;\n",
       "    }\n",
       "\n",
       "    .dataframe tbody tr th {\n",
       "        vertical-align: top;\n",
       "    }\n",
       "\n",
       "    .dataframe thead th {\n",
       "        text-align: right;\n",
       "    }\n",
       "</style>\n",
       "<table border=\"1\" class=\"dataframe\">\n",
       "  <thead>\n",
       "    <tr style=\"text-align: right;\">\n",
       "      <th></th>\n",
       "      <th>Country</th>\n",
       "      <th>Region</th>\n",
       "      <th>Happiness Rank</th>\n",
       "      <th>Happiness Score</th>\n",
       "      <th>Standard Error</th>\n",
       "      <th>Economy (GDP per Capita)</th>\n",
       "      <th>Family</th>\n",
       "      <th>Health (Life Expectancy)</th>\n",
       "      <th>Freedom</th>\n",
       "      <th>Trust (Government Corruption)</th>\n",
       "      <th>Generosity</th>\n",
       "      <th>Dystopia Residual</th>\n",
       "    </tr>\n",
       "  </thead>\n",
       "  <tbody>\n",
       "    <tr>\n",
       "      <th>0</th>\n",
       "      <td>Switzerland</td>\n",
       "      <td>Western Europe</td>\n",
       "      <td>1</td>\n",
       "      <td>7.587</td>\n",
       "      <td>0.03411</td>\n",
       "      <td>1.39651</td>\n",
       "      <td>1.34951</td>\n",
       "      <td>0.94143</td>\n",
       "      <td>0.66557</td>\n",
       "      <td>0.41978</td>\n",
       "      <td>0.29678</td>\n",
       "      <td>2.51738</td>\n",
       "    </tr>\n",
       "    <tr>\n",
       "      <th>1</th>\n",
       "      <td>Iceland</td>\n",
       "      <td>Western Europe</td>\n",
       "      <td>2</td>\n",
       "      <td>7.561</td>\n",
       "      <td>0.04884</td>\n",
       "      <td>1.30232</td>\n",
       "      <td>1.40223</td>\n",
       "      <td>0.94784</td>\n",
       "      <td>0.62877</td>\n",
       "      <td>0.14145</td>\n",
       "      <td>0.43630</td>\n",
       "      <td>2.70201</td>\n",
       "    </tr>\n",
       "    <tr>\n",
       "      <th>2</th>\n",
       "      <td>Denmark</td>\n",
       "      <td>Western Europe</td>\n",
       "      <td>3</td>\n",
       "      <td>7.527</td>\n",
       "      <td>0.03328</td>\n",
       "      <td>1.32548</td>\n",
       "      <td>1.36058</td>\n",
       "      <td>0.87464</td>\n",
       "      <td>0.64938</td>\n",
       "      <td>0.48357</td>\n",
       "      <td>0.34139</td>\n",
       "      <td>2.49204</td>\n",
       "    </tr>\n",
       "    <tr>\n",
       "      <th>3</th>\n",
       "      <td>Norway</td>\n",
       "      <td>Western Europe</td>\n",
       "      <td>4</td>\n",
       "      <td>7.522</td>\n",
       "      <td>0.03880</td>\n",
       "      <td>1.45900</td>\n",
       "      <td>1.33095</td>\n",
       "      <td>0.88521</td>\n",
       "      <td>0.66973</td>\n",
       "      <td>0.36503</td>\n",
       "      <td>0.34699</td>\n",
       "      <td>2.46531</td>\n",
       "    </tr>\n",
       "    <tr>\n",
       "      <th>4</th>\n",
       "      <td>Canada</td>\n",
       "      <td>North America</td>\n",
       "      <td>5</td>\n",
       "      <td>7.427</td>\n",
       "      <td>0.03553</td>\n",
       "      <td>1.32629</td>\n",
       "      <td>1.32261</td>\n",
       "      <td>0.90563</td>\n",
       "      <td>0.63297</td>\n",
       "      <td>0.32957</td>\n",
       "      <td>0.45811</td>\n",
       "      <td>2.45176</td>\n",
       "    </tr>\n",
       "    <tr>\n",
       "      <th>...</th>\n",
       "      <td>...</td>\n",
       "      <td>...</td>\n",
       "      <td>...</td>\n",
       "      <td>...</td>\n",
       "      <td>...</td>\n",
       "      <td>...</td>\n",
       "      <td>...</td>\n",
       "      <td>...</td>\n",
       "      <td>...</td>\n",
       "      <td>...</td>\n",
       "      <td>...</td>\n",
       "      <td>...</td>\n",
       "    </tr>\n",
       "    <tr>\n",
       "      <th>153</th>\n",
       "      <td>Rwanda</td>\n",
       "      <td>Sub-Saharan Africa</td>\n",
       "      <td>154</td>\n",
       "      <td>3.465</td>\n",
       "      <td>0.03464</td>\n",
       "      <td>0.22208</td>\n",
       "      <td>0.77370</td>\n",
       "      <td>0.42864</td>\n",
       "      <td>0.59201</td>\n",
       "      <td>0.55191</td>\n",
       "      <td>0.22628</td>\n",
       "      <td>0.67042</td>\n",
       "    </tr>\n",
       "    <tr>\n",
       "      <th>154</th>\n",
       "      <td>Benin</td>\n",
       "      <td>Sub-Saharan Africa</td>\n",
       "      <td>155</td>\n",
       "      <td>3.340</td>\n",
       "      <td>0.03656</td>\n",
       "      <td>0.28665</td>\n",
       "      <td>0.35386</td>\n",
       "      <td>0.31910</td>\n",
       "      <td>0.48450</td>\n",
       "      <td>0.08010</td>\n",
       "      <td>0.18260</td>\n",
       "      <td>1.63328</td>\n",
       "    </tr>\n",
       "    <tr>\n",
       "      <th>155</th>\n",
       "      <td>Syria</td>\n",
       "      <td>Middle East and Northern Africa</td>\n",
       "      <td>156</td>\n",
       "      <td>3.006</td>\n",
       "      <td>0.05015</td>\n",
       "      <td>0.66320</td>\n",
       "      <td>0.47489</td>\n",
       "      <td>0.72193</td>\n",
       "      <td>0.15684</td>\n",
       "      <td>0.18906</td>\n",
       "      <td>0.47179</td>\n",
       "      <td>0.32858</td>\n",
       "    </tr>\n",
       "    <tr>\n",
       "      <th>156</th>\n",
       "      <td>Burundi</td>\n",
       "      <td>Sub-Saharan Africa</td>\n",
       "      <td>157</td>\n",
       "      <td>2.905</td>\n",
       "      <td>0.08658</td>\n",
       "      <td>0.01530</td>\n",
       "      <td>0.41587</td>\n",
       "      <td>0.22396</td>\n",
       "      <td>0.11850</td>\n",
       "      <td>0.10062</td>\n",
       "      <td>0.19727</td>\n",
       "      <td>1.83302</td>\n",
       "    </tr>\n",
       "    <tr>\n",
       "      <th>157</th>\n",
       "      <td>Togo</td>\n",
       "      <td>Sub-Saharan Africa</td>\n",
       "      <td>158</td>\n",
       "      <td>2.839</td>\n",
       "      <td>0.06727</td>\n",
       "      <td>0.20868</td>\n",
       "      <td>0.13995</td>\n",
       "      <td>0.28443</td>\n",
       "      <td>0.36453</td>\n",
       "      <td>0.10731</td>\n",
       "      <td>0.16681</td>\n",
       "      <td>1.56726</td>\n",
       "    </tr>\n",
       "  </tbody>\n",
       "</table>\n",
       "<p>158 rows × 12 columns</p>\n",
       "</div>"
      ],
      "text/plain": [
       "         Country                           Region  Happiness Rank  \\\n",
       "0    Switzerland                   Western Europe               1   \n",
       "1        Iceland                   Western Europe               2   \n",
       "2        Denmark                   Western Europe               3   \n",
       "3         Norway                   Western Europe               4   \n",
       "4         Canada                    North America               5   \n",
       "..           ...                              ...             ...   \n",
       "153       Rwanda               Sub-Saharan Africa             154   \n",
       "154        Benin               Sub-Saharan Africa             155   \n",
       "155        Syria  Middle East and Northern Africa             156   \n",
       "156      Burundi               Sub-Saharan Africa             157   \n",
       "157         Togo               Sub-Saharan Africa             158   \n",
       "\n",
       "     Happiness Score  Standard Error  Economy (GDP per Capita)   Family  \\\n",
       "0              7.587         0.03411                   1.39651  1.34951   \n",
       "1              7.561         0.04884                   1.30232  1.40223   \n",
       "2              7.527         0.03328                   1.32548  1.36058   \n",
       "3              7.522         0.03880                   1.45900  1.33095   \n",
       "4              7.427         0.03553                   1.32629  1.32261   \n",
       "..               ...             ...                       ...      ...   \n",
       "153            3.465         0.03464                   0.22208  0.77370   \n",
       "154            3.340         0.03656                   0.28665  0.35386   \n",
       "155            3.006         0.05015                   0.66320  0.47489   \n",
       "156            2.905         0.08658                   0.01530  0.41587   \n",
       "157            2.839         0.06727                   0.20868  0.13995   \n",
       "\n",
       "     Health (Life Expectancy)  Freedom  Trust (Government Corruption)  \\\n",
       "0                     0.94143  0.66557                        0.41978   \n",
       "1                     0.94784  0.62877                        0.14145   \n",
       "2                     0.87464  0.64938                        0.48357   \n",
       "3                     0.88521  0.66973                        0.36503   \n",
       "4                     0.90563  0.63297                        0.32957   \n",
       "..                        ...      ...                            ...   \n",
       "153                   0.42864  0.59201                        0.55191   \n",
       "154                   0.31910  0.48450                        0.08010   \n",
       "155                   0.72193  0.15684                        0.18906   \n",
       "156                   0.22396  0.11850                        0.10062   \n",
       "157                   0.28443  0.36453                        0.10731   \n",
       "\n",
       "     Generosity  Dystopia Residual  \n",
       "0       0.29678            2.51738  \n",
       "1       0.43630            2.70201  \n",
       "2       0.34139            2.49204  \n",
       "3       0.34699            2.46531  \n",
       "4       0.45811            2.45176  \n",
       "..          ...                ...  \n",
       "153     0.22628            0.67042  \n",
       "154     0.18260            1.63328  \n",
       "155     0.47179            0.32858  \n",
       "156     0.19727            1.83302  \n",
       "157     0.16681            1.56726  \n",
       "\n",
       "[158 rows x 12 columns]"
      ]
     },
     "execution_count": 11,
     "metadata": {},
     "output_type": "execute_result"
    }
   ],
   "source": [
    "# Question 10.\n",
    "\n",
    "df = pd.read_csv('https://raw.githubusercontent.com/dsrscientist/DSData/master/happiness_score_dataset.csv')\n",
    "df"
   ]
  },
  {
   "cell_type": "code",
   "execution_count": 12,
   "id": "7edb5606",
   "metadata": {},
   "outputs": [
    {
     "data": {
      "text/html": [
       "<div>\n",
       "<style scoped>\n",
       "    .dataframe tbody tr th:only-of-type {\n",
       "        vertical-align: middle;\n",
       "    }\n",
       "\n",
       "    .dataframe tbody tr th {\n",
       "        vertical-align: top;\n",
       "    }\n",
       "\n",
       "    .dataframe thead th {\n",
       "        text-align: right;\n",
       "    }\n",
       "</style>\n",
       "<table border=\"1\" class=\"dataframe\">\n",
       "  <thead>\n",
       "    <tr style=\"text-align: right;\">\n",
       "      <th></th>\n",
       "      <th>Country</th>\n",
       "      <th>Region</th>\n",
       "      <th>Happiness Rank</th>\n",
       "      <th>Happiness Score</th>\n",
       "      <th>Standard Error</th>\n",
       "      <th>Economy (GDP per Capita)</th>\n",
       "      <th>Family</th>\n",
       "      <th>Health (Life Expectancy)</th>\n",
       "      <th>Freedom</th>\n",
       "      <th>Trust (Government Corruption)</th>\n",
       "      <th>Generosity</th>\n",
       "      <th>Dystopia Residual</th>\n",
       "      <th>first five letters</th>\n",
       "    </tr>\n",
       "  </thead>\n",
       "  <tbody>\n",
       "    <tr>\n",
       "      <th>0</th>\n",
       "      <td>Switzerland</td>\n",
       "      <td>Western Europe</td>\n",
       "      <td>1</td>\n",
       "      <td>7.587</td>\n",
       "      <td>0.03411</td>\n",
       "      <td>1.39651</td>\n",
       "      <td>1.34951</td>\n",
       "      <td>0.94143</td>\n",
       "      <td>0.66557</td>\n",
       "      <td>0.41978</td>\n",
       "      <td>0.29678</td>\n",
       "      <td>2.51738</td>\n",
       "      <td>Switze</td>\n",
       "    </tr>\n",
       "    <tr>\n",
       "      <th>1</th>\n",
       "      <td>Iceland</td>\n",
       "      <td>Western Europe</td>\n",
       "      <td>2</td>\n",
       "      <td>7.561</td>\n",
       "      <td>0.04884</td>\n",
       "      <td>1.30232</td>\n",
       "      <td>1.40223</td>\n",
       "      <td>0.94784</td>\n",
       "      <td>0.62877</td>\n",
       "      <td>0.14145</td>\n",
       "      <td>0.43630</td>\n",
       "      <td>2.70201</td>\n",
       "      <td>Icelan</td>\n",
       "    </tr>\n",
       "    <tr>\n",
       "      <th>2</th>\n",
       "      <td>Denmark</td>\n",
       "      <td>Western Europe</td>\n",
       "      <td>3</td>\n",
       "      <td>7.527</td>\n",
       "      <td>0.03328</td>\n",
       "      <td>1.32548</td>\n",
       "      <td>1.36058</td>\n",
       "      <td>0.87464</td>\n",
       "      <td>0.64938</td>\n",
       "      <td>0.48357</td>\n",
       "      <td>0.34139</td>\n",
       "      <td>2.49204</td>\n",
       "      <td>Denmar</td>\n",
       "    </tr>\n",
       "    <tr>\n",
       "      <th>3</th>\n",
       "      <td>Norway</td>\n",
       "      <td>Western Europe</td>\n",
       "      <td>4</td>\n",
       "      <td>7.522</td>\n",
       "      <td>0.03880</td>\n",
       "      <td>1.45900</td>\n",
       "      <td>1.33095</td>\n",
       "      <td>0.88521</td>\n",
       "      <td>0.66973</td>\n",
       "      <td>0.36503</td>\n",
       "      <td>0.34699</td>\n",
       "      <td>2.46531</td>\n",
       "      <td>Norway</td>\n",
       "    </tr>\n",
       "    <tr>\n",
       "      <th>4</th>\n",
       "      <td>Canada</td>\n",
       "      <td>North America</td>\n",
       "      <td>5</td>\n",
       "      <td>7.427</td>\n",
       "      <td>0.03553</td>\n",
       "      <td>1.32629</td>\n",
       "      <td>1.32261</td>\n",
       "      <td>0.90563</td>\n",
       "      <td>0.63297</td>\n",
       "      <td>0.32957</td>\n",
       "      <td>0.45811</td>\n",
       "      <td>2.45176</td>\n",
       "      <td>Canada</td>\n",
       "    </tr>\n",
       "    <tr>\n",
       "      <th>...</th>\n",
       "      <td>...</td>\n",
       "      <td>...</td>\n",
       "      <td>...</td>\n",
       "      <td>...</td>\n",
       "      <td>...</td>\n",
       "      <td>...</td>\n",
       "      <td>...</td>\n",
       "      <td>...</td>\n",
       "      <td>...</td>\n",
       "      <td>...</td>\n",
       "      <td>...</td>\n",
       "      <td>...</td>\n",
       "      <td>...</td>\n",
       "    </tr>\n",
       "    <tr>\n",
       "      <th>153</th>\n",
       "      <td>Rwanda</td>\n",
       "      <td>Sub-Saharan Africa</td>\n",
       "      <td>154</td>\n",
       "      <td>3.465</td>\n",
       "      <td>0.03464</td>\n",
       "      <td>0.22208</td>\n",
       "      <td>0.77370</td>\n",
       "      <td>0.42864</td>\n",
       "      <td>0.59201</td>\n",
       "      <td>0.55191</td>\n",
       "      <td>0.22628</td>\n",
       "      <td>0.67042</td>\n",
       "      <td>Rwanda</td>\n",
       "    </tr>\n",
       "    <tr>\n",
       "      <th>154</th>\n",
       "      <td>Benin</td>\n",
       "      <td>Sub-Saharan Africa</td>\n",
       "      <td>155</td>\n",
       "      <td>3.340</td>\n",
       "      <td>0.03656</td>\n",
       "      <td>0.28665</td>\n",
       "      <td>0.35386</td>\n",
       "      <td>0.31910</td>\n",
       "      <td>0.48450</td>\n",
       "      <td>0.08010</td>\n",
       "      <td>0.18260</td>\n",
       "      <td>1.63328</td>\n",
       "      <td>Benin</td>\n",
       "    </tr>\n",
       "    <tr>\n",
       "      <th>155</th>\n",
       "      <td>Syria</td>\n",
       "      <td>Middle East and Northern Africa</td>\n",
       "      <td>156</td>\n",
       "      <td>3.006</td>\n",
       "      <td>0.05015</td>\n",
       "      <td>0.66320</td>\n",
       "      <td>0.47489</td>\n",
       "      <td>0.72193</td>\n",
       "      <td>0.15684</td>\n",
       "      <td>0.18906</td>\n",
       "      <td>0.47179</td>\n",
       "      <td>0.32858</td>\n",
       "      <td>Syria</td>\n",
       "    </tr>\n",
       "    <tr>\n",
       "      <th>156</th>\n",
       "      <td>Burundi</td>\n",
       "      <td>Sub-Saharan Africa</td>\n",
       "      <td>157</td>\n",
       "      <td>2.905</td>\n",
       "      <td>0.08658</td>\n",
       "      <td>0.01530</td>\n",
       "      <td>0.41587</td>\n",
       "      <td>0.22396</td>\n",
       "      <td>0.11850</td>\n",
       "      <td>0.10062</td>\n",
       "      <td>0.19727</td>\n",
       "      <td>1.83302</td>\n",
       "      <td>Burund</td>\n",
       "    </tr>\n",
       "    <tr>\n",
       "      <th>157</th>\n",
       "      <td>Togo</td>\n",
       "      <td>Sub-Saharan Africa</td>\n",
       "      <td>158</td>\n",
       "      <td>2.839</td>\n",
       "      <td>0.06727</td>\n",
       "      <td>0.20868</td>\n",
       "      <td>0.13995</td>\n",
       "      <td>0.28443</td>\n",
       "      <td>0.36453</td>\n",
       "      <td>0.10731</td>\n",
       "      <td>0.16681</td>\n",
       "      <td>1.56726</td>\n",
       "      <td>Togo</td>\n",
       "    </tr>\n",
       "  </tbody>\n",
       "</table>\n",
       "<p>158 rows × 13 columns</p>\n",
       "</div>"
      ],
      "text/plain": [
       "         Country                           Region  Happiness Rank  \\\n",
       "0    Switzerland                   Western Europe               1   \n",
       "1        Iceland                   Western Europe               2   \n",
       "2        Denmark                   Western Europe               3   \n",
       "3         Norway                   Western Europe               4   \n",
       "4         Canada                    North America               5   \n",
       "..           ...                              ...             ...   \n",
       "153       Rwanda               Sub-Saharan Africa             154   \n",
       "154        Benin               Sub-Saharan Africa             155   \n",
       "155        Syria  Middle East and Northern Africa             156   \n",
       "156      Burundi               Sub-Saharan Africa             157   \n",
       "157         Togo               Sub-Saharan Africa             158   \n",
       "\n",
       "     Happiness Score  Standard Error  Economy (GDP per Capita)   Family  \\\n",
       "0              7.587         0.03411                   1.39651  1.34951   \n",
       "1              7.561         0.04884                   1.30232  1.40223   \n",
       "2              7.527         0.03328                   1.32548  1.36058   \n",
       "3              7.522         0.03880                   1.45900  1.33095   \n",
       "4              7.427         0.03553                   1.32629  1.32261   \n",
       "..               ...             ...                       ...      ...   \n",
       "153            3.465         0.03464                   0.22208  0.77370   \n",
       "154            3.340         0.03656                   0.28665  0.35386   \n",
       "155            3.006         0.05015                   0.66320  0.47489   \n",
       "156            2.905         0.08658                   0.01530  0.41587   \n",
       "157            2.839         0.06727                   0.20868  0.13995   \n",
       "\n",
       "     Health (Life Expectancy)  Freedom  Trust (Government Corruption)  \\\n",
       "0                     0.94143  0.66557                        0.41978   \n",
       "1                     0.94784  0.62877                        0.14145   \n",
       "2                     0.87464  0.64938                        0.48357   \n",
       "3                     0.88521  0.66973                        0.36503   \n",
       "4                     0.90563  0.63297                        0.32957   \n",
       "..                        ...      ...                            ...   \n",
       "153                   0.42864  0.59201                        0.55191   \n",
       "154                   0.31910  0.48450                        0.08010   \n",
       "155                   0.72193  0.15684                        0.18906   \n",
       "156                   0.22396  0.11850                        0.10062   \n",
       "157                   0.28443  0.36453                        0.10731   \n",
       "\n",
       "     Generosity  Dystopia Residual first five letters  \n",
       "0       0.29678            2.51738             Switze  \n",
       "1       0.43630            2.70201             Icelan  \n",
       "2       0.34139            2.49204             Denmar  \n",
       "3       0.34699            2.46531             Norway  \n",
       "4       0.45811            2.45176             Canada  \n",
       "..          ...                ...                ...  \n",
       "153     0.22628            0.67042             Rwanda  \n",
       "154     0.18260            1.63328              Benin  \n",
       "155     0.47179            0.32858              Syria  \n",
       "156     0.19727            1.83302             Burund  \n",
       "157     0.16681            1.56726               Togo  \n",
       "\n",
       "[158 rows x 13 columns]"
      ]
     },
     "execution_count": 12,
     "metadata": {},
     "output_type": "execute_result"
    }
   ],
   "source": [
    "df['first five letters'] = df['Country'].apply(lambda x:x[:6])\n",
    "df"
   ]
  },
  {
   "cell_type": "code",
   "execution_count": 13,
   "id": "ecbf638b",
   "metadata": {},
   "outputs": [
    {
     "name": "stdout",
     "output_type": "stream",
     "text": [
      "['abc123xyz456ABC_456']\n"
     ]
    }
   ],
   "source": [
    "# Question 11:\n",
    "\n",
    "pattern = \"[\\w]+\"\n",
    "matches = re.findall(pattern, \"abc123xyz456ABC_456\")\n",
    "print(matches)"
   ]
  },
  {
   "cell_type": "code",
   "execution_count": 14,
   "id": "640b7602",
   "metadata": {},
   "outputs": [
    {
     "name": "stdout",
     "output_type": "stream",
     "text": [
      "['987abc123xyz456ABC_456']\n"
     ]
    }
   ],
   "source": [
    "# Question 12:\n",
    "\n",
    "pattern = \"[\\w]+\"\n",
    "matches = re.findall(pattern, \"987abc123xyz456ABC_456\")\n",
    "print(matches)"
   ]
  },
  {
   "cell_type": "code",
   "execution_count": 15,
   "id": "c701274e",
   "metadata": {},
   "outputs": [
    {
     "name": "stdout",
     "output_type": "stream",
     "text": [
      "216,999,11,1111\n"
     ]
    }
   ],
   "source": [
    "# Question 13:\n",
    "\n",
    "IP = '216.0999.011.1111'\n",
    "string = re.sub('\\.[0]*', ',', IP)\n",
    "print(string)"
   ]
  },
  {
   "cell_type": "code",
   "execution_count": 16,
   "id": "57202f0d",
   "metadata": {},
   "outputs": [
    {
     "ename": "SyntaxError",
     "evalue": "unterminated string literal (detected at line 3) (3179678875.py, line 3)",
     "output_type": "error",
     "traceback": [
      "\u001b[1;36m  Cell \u001b[1;32mIn[16], line 3\u001b[1;36m\u001b[0m\n\u001b[1;33m    text = 'On August 15th 1947 that India was declared independent from British colonialism, and the reins of control were handed over to the leaders of the Country’\u001b[0m\n\u001b[1;37m           ^\u001b[0m\n\u001b[1;31mSyntaxError\u001b[0m\u001b[1;31m:\u001b[0m unterminated string literal (detected at line 3)\n"
     ]
    }
   ],
   "source": [
    "# Question 14:\n",
    "\n",
    "text = 'On August 15th 1947 that India was declared independent from British colonialism, and the reins of control were handed over to the leaders of the Country’\n",
    "pattern = r\"\\b([A-Z][a-z]+)\\d{1,2}(?:st|nd|rd|th)?\\d{4}\\b\"\n",
    "matches = re.findall(pattern, text)\n",
    "print(matches)"
   ]
  },
  {
   "cell_type": "code",
   "execution_count": 17,
   "id": "49e5fe39",
   "metadata": {},
   "outputs": [
    {
     "name": "stdout",
     "output_type": "stream",
     "text": [
      "<regex.Match object; span=(16, 19), match='fox'>\n",
      "<regex.Match object; span=(16, 19), match='fox'>\n",
      "<regex.Match object; span=(16, 19), match='fox'>\n",
      "<regex.Match object; span=(16, 19), match='fox'>\n",
      "<regex.Match object; span=(16, 19), match='fox'>\n",
      "<regex.Match object; span=(16, 19), match='fox'>\n",
      "<regex.Match object; span=(16, 19), match='fox'>\n",
      "<regex.Match object; span=(16, 19), match='fox'>\n",
      "<regex.Match object; span=(16, 19), match='fox'>\n",
      "<regex.Match object; span=(16, 19), match='fox'>\n",
      "<regex.Match object; span=(16, 19), match='fox'>\n",
      "<regex.Match object; span=(16, 19), match='fox'>\n",
      "<regex.Match object; span=(16, 19), match='fox'>\n",
      "<regex.Match object; span=(16, 19), match='fox'>\n",
      "<regex.Match object; span=(16, 19), match='fox'>\n",
      "<regex.Match object; span=(16, 19), match='fox'>\n",
      "<regex.Match object; span=(16, 19), match='fox'>\n",
      "<regex.Match object; span=(16, 19), match='fox'>\n",
      "<regex.Match object; span=(16, 19), match='fox'>\n",
      "<regex.Match object; span=(16, 19), match='fox'>\n",
      "<regex.Match object; span=(16, 19), match='fox'>\n",
      "<regex.Match object; span=(16, 19), match='fox'>\n",
      "<regex.Match object; span=(16, 19), match='fox'>\n",
      "<regex.Match object; span=(16, 19), match='fox'>\n",
      "<regex.Match object; span=(16, 19), match='fox'>\n",
      "<regex.Match object; span=(16, 19), match='fox'>\n",
      "<regex.Match object; span=(16, 19), match='fox'>\n",
      "<regex.Match object; span=(16, 19), match='fox'>\n",
      "<regex.Match object; span=(16, 19), match='fox'>\n",
      "<regex.Match object; span=(16, 19), match='fox'>\n",
      "<regex.Match object; span=(16, 19), match='fox'>\n",
      "<regex.Match object; span=(16, 19), match='fox'>\n",
      "<regex.Match object; span=(16, 19), match='fox'>\n",
      "<regex.Match object; span=(16, 19), match='fox'>\n",
      "<regex.Match object; span=(16, 19), match='fox'>\n",
      "<regex.Match object; span=(16, 19), match='fox'>\n",
      "<regex.Match object; span=(16, 19), match='fox'>\n",
      "<regex.Match object; span=(16, 19), match='fox'>\n",
      "<regex.Match object; span=(16, 19), match='fox'>\n",
      "<regex.Match object; span=(16, 19), match='fox'>\n",
      "<regex.Match object; span=(16, 19), match='fox'>\n",
      "<regex.Match object; span=(16, 19), match='fox'>\n",
      "<regex.Match object; span=(16, 19), match='fox'>\n",
      "<regex.Match object; span=(16, 19), match='fox'>\n"
     ]
    }
   ],
   "source": [
    "# Question 15:\n",
    "\n",
    "text = 'The quick brown fox jumps over the lazy dog.'\n",
    "for pattern in text:\n",
    "    search = re.search(\"fox\", text)\n",
    "    print(search)"
   ]
  },
  {
   "cell_type": "code",
   "execution_count": 18,
   "id": "32928f10",
   "metadata": {},
   "outputs": [
    {
     "name": "stdout",
     "output_type": "stream",
     "text": [
      "<regex.Match object; span=(40, 43), match='dog'>\n",
      "<regex.Match object; span=(40, 43), match='dog'>\n",
      "<regex.Match object; span=(40, 43), match='dog'>\n",
      "<regex.Match object; span=(40, 43), match='dog'>\n",
      "<regex.Match object; span=(40, 43), match='dog'>\n",
      "<regex.Match object; span=(40, 43), match='dog'>\n",
      "<regex.Match object; span=(40, 43), match='dog'>\n",
      "<regex.Match object; span=(40, 43), match='dog'>\n",
      "<regex.Match object; span=(40, 43), match='dog'>\n",
      "<regex.Match object; span=(40, 43), match='dog'>\n",
      "<regex.Match object; span=(40, 43), match='dog'>\n",
      "<regex.Match object; span=(40, 43), match='dog'>\n",
      "<regex.Match object; span=(40, 43), match='dog'>\n",
      "<regex.Match object; span=(40, 43), match='dog'>\n",
      "<regex.Match object; span=(40, 43), match='dog'>\n",
      "<regex.Match object; span=(40, 43), match='dog'>\n",
      "<regex.Match object; span=(40, 43), match='dog'>\n",
      "<regex.Match object; span=(40, 43), match='dog'>\n",
      "<regex.Match object; span=(40, 43), match='dog'>\n",
      "<regex.Match object; span=(40, 43), match='dog'>\n",
      "<regex.Match object; span=(40, 43), match='dog'>\n",
      "<regex.Match object; span=(40, 43), match='dog'>\n",
      "<regex.Match object; span=(40, 43), match='dog'>\n",
      "<regex.Match object; span=(40, 43), match='dog'>\n",
      "<regex.Match object; span=(40, 43), match='dog'>\n",
      "<regex.Match object; span=(40, 43), match='dog'>\n",
      "<regex.Match object; span=(40, 43), match='dog'>\n",
      "<regex.Match object; span=(40, 43), match='dog'>\n",
      "<regex.Match object; span=(40, 43), match='dog'>\n",
      "<regex.Match object; span=(40, 43), match='dog'>\n",
      "<regex.Match object; span=(40, 43), match='dog'>\n",
      "<regex.Match object; span=(40, 43), match='dog'>\n",
      "<regex.Match object; span=(40, 43), match='dog'>\n",
      "<regex.Match object; span=(40, 43), match='dog'>\n",
      "<regex.Match object; span=(40, 43), match='dog'>\n",
      "<regex.Match object; span=(40, 43), match='dog'>\n",
      "<regex.Match object; span=(40, 43), match='dog'>\n",
      "<regex.Match object; span=(40, 43), match='dog'>\n",
      "<regex.Match object; span=(40, 43), match='dog'>\n",
      "<regex.Match object; span=(40, 43), match='dog'>\n",
      "<regex.Match object; span=(40, 43), match='dog'>\n",
      "<regex.Match object; span=(40, 43), match='dog'>\n",
      "<regex.Match object; span=(40, 43), match='dog'>\n",
      "<regex.Match object; span=(40, 43), match='dog'>\n"
     ]
    }
   ],
   "source": [
    "# Question 15:\n",
    "\n",
    "text = 'The quick brown fox jumps over the lazy dog.'\n",
    "for pattern in text:\n",
    "    search = re.search(\"dog\", text)\n",
    "    print(search)"
   ]
  },
  {
   "cell_type": "code",
   "execution_count": 19,
   "id": "604c2b34",
   "metadata": {},
   "outputs": [
    {
     "name": "stdout",
     "output_type": "stream",
     "text": [
      "None\n",
      "None\n",
      "None\n",
      "None\n",
      "None\n",
      "None\n",
      "None\n",
      "None\n",
      "None\n",
      "None\n",
      "None\n",
      "None\n",
      "None\n",
      "None\n",
      "None\n",
      "None\n",
      "None\n",
      "None\n",
      "None\n",
      "None\n",
      "None\n",
      "None\n",
      "None\n",
      "None\n",
      "None\n",
      "None\n",
      "None\n",
      "None\n",
      "None\n",
      "None\n",
      "None\n",
      "None\n",
      "None\n",
      "None\n",
      "None\n",
      "None\n",
      "None\n",
      "None\n",
      "None\n",
      "None\n",
      "None\n",
      "None\n",
      "None\n",
      "None\n"
     ]
    }
   ],
   "source": [
    "# Question 15:\n",
    "\n",
    "text = 'The quick brown fox jumps over the lazy dog.'\n",
    "for pattern in text:\n",
    "    search = re.search(\"horse\", text)\n",
    "    print(search)"
   ]
  },
  {
   "cell_type": "code",
   "execution_count": 20,
   "id": "317a18a8",
   "metadata": {},
   "outputs": [
    {
     "name": "stdout",
     "output_type": "stream",
     "text": [
      "<regex.Match object; span=(16, 19), match='fox'>\n",
      "<regex.Match object; span=(16, 19), match='fox'>\n",
      "<regex.Match object; span=(16, 19), match='fox'>\n",
      "<regex.Match object; span=(16, 19), match='fox'>\n",
      "<regex.Match object; span=(16, 19), match='fox'>\n",
      "<regex.Match object; span=(16, 19), match='fox'>\n",
      "<regex.Match object; span=(16, 19), match='fox'>\n",
      "<regex.Match object; span=(16, 19), match='fox'>\n",
      "<regex.Match object; span=(16, 19), match='fox'>\n",
      "<regex.Match object; span=(16, 19), match='fox'>\n",
      "<regex.Match object; span=(16, 19), match='fox'>\n",
      "<regex.Match object; span=(16, 19), match='fox'>\n",
      "<regex.Match object; span=(16, 19), match='fox'>\n",
      "<regex.Match object; span=(16, 19), match='fox'>\n",
      "<regex.Match object; span=(16, 19), match='fox'>\n",
      "<regex.Match object; span=(16, 19), match='fox'>\n",
      "<regex.Match object; span=(16, 19), match='fox'>\n",
      "<regex.Match object; span=(16, 19), match='fox'>\n",
      "<regex.Match object; span=(16, 19), match='fox'>\n",
      "<regex.Match object; span=(16, 19), match='fox'>\n",
      "<regex.Match object; span=(16, 19), match='fox'>\n",
      "<regex.Match object; span=(16, 19), match='fox'>\n",
      "<regex.Match object; span=(16, 19), match='fox'>\n",
      "<regex.Match object; span=(16, 19), match='fox'>\n",
      "<regex.Match object; span=(16, 19), match='fox'>\n",
      "<regex.Match object; span=(16, 19), match='fox'>\n",
      "<regex.Match object; span=(16, 19), match='fox'>\n",
      "<regex.Match object; span=(16, 19), match='fox'>\n",
      "<regex.Match object; span=(16, 19), match='fox'>\n",
      "<regex.Match object; span=(16, 19), match='fox'>\n",
      "<regex.Match object; span=(16, 19), match='fox'>\n",
      "<regex.Match object; span=(16, 19), match='fox'>\n",
      "<regex.Match object; span=(16, 19), match='fox'>\n",
      "<regex.Match object; span=(16, 19), match='fox'>\n",
      "<regex.Match object; span=(16, 19), match='fox'>\n",
      "<regex.Match object; span=(16, 19), match='fox'>\n",
      "<regex.Match object; span=(16, 19), match='fox'>\n",
      "<regex.Match object; span=(16, 19), match='fox'>\n",
      "<regex.Match object; span=(16, 19), match='fox'>\n",
      "<regex.Match object; span=(16, 19), match='fox'>\n",
      "<regex.Match object; span=(16, 19), match='fox'>\n",
      "<regex.Match object; span=(16, 19), match='fox'>\n",
      "<regex.Match object; span=(16, 19), match='fox'>\n",
      "<regex.Match object; span=(16, 19), match='fox'>\n"
     ]
    }
   ],
   "source": [
    "# Question 16:\n",
    "\n",
    "text = 'The quick brown fox jumps over the lazy dog.'\n",
    "for pattern in text:\n",
    "    search = re.search(\"fox\", text)\n",
    "    print(search)"
   ]
  },
  {
   "cell_type": "code",
   "execution_count": 22,
   "id": "e66169ea",
   "metadata": {},
   "outputs": [
    {
     "name": "stdout",
     "output_type": "stream",
     "text": [
      "<regex.Match object; span=(7, 16), match='exercises'>\n",
      "<regex.Match object; span=(22, 31), match='exercises'>\n",
      "<regex.Match object; span=(36, 45), match='exercises'>\n"
     ]
    }
   ],
   "source": [
    "# Question 17:\n",
    "\n",
    "\n",
    "text = 'Python exercises, PHP exercises, C# exercises'\n",
    "result = re.finditer(r'exercises', text)\n",
    "for match in result:\n",
    "    print(match)"
   ]
  },
  {
   "cell_type": "code",
   "execution_count": 30,
   "id": "2ba69093",
   "metadata": {},
   "outputs": [],
   "source": [
    "# Question 18:\n",
    "\n",
    "\n",
    "text = 'Python exercises, PHP exercises, C# exercises'\n",
    "pattern = 'excercises'\n",
    "for match in re.findall(pattern, text):\n",
    "    print(match)"
   ]
  },
  {
   "cell_type": "code",
   "execution_count": 37,
   "id": "3d0464f9",
   "metadata": {},
   "outputs": [
    {
     "name": "stdout",
     "output_type": "stream",
     "text": [
      "31-12-2023\n"
     ]
    }
   ],
   "source": [
    "# Question 19:\n",
    "\n",
    "result = re.sub (r\"2023-12-31\", \"31-12-2023\", \"2023-12-31\" )\n",
    "print (result)"
   ]
  },
  {
   "cell_type": "code",
   "execution_count": 50,
   "id": "be26240a",
   "metadata": {},
   "outputs": [
    {
     "name": "stdout",
     "output_type": "stream",
     "text": [
      "['01.12', '0132.12', '2.31', '145.8', '3.01', '27.25', '0.25']\n"
     ]
    }
   ],
   "source": [
    "# Question 20:\n",
    "\n",
    "Text = \"01.12 0132.123 2.31875 145.8 3.01 27.25 0.25\"\n",
    "\n",
    "# compile string pattern to re.pattern object\n",
    "pattern = re.compile(r\"\\d+\\.\\d{1,2}\")\n",
    "result = re.findall(pattern, Text)\n",
    "print(result)"
   ]
  },
  {
   "cell_type": "code",
   "execution_count": 51,
   "id": "ae4eabd2",
   "metadata": {},
   "outputs": [
    {
     "name": "stdout",
     "output_type": "stream",
     "text": [
      "<class '_regex.Pattern'> \n",
      "\n",
      "['01.12', '0132.12', '2.31', '145.8', '3.01', '27.25', '0.25']\n"
     ]
    }
   ],
   "source": [
    "Text = \"01.12 0132.123 2.31875 145.8 3.01 27.25 0.25\"\n",
    "\n",
    "# compile string pattern to re.pattern object\n",
    "regex_pattern = re.compile(r\"\\d+\\.\\d{1,2}\")\n",
    "\n",
    "# print the type of compiled pattern\n",
    "print (type (regex_pattern), \"\\n\")\n",
    "\n",
    "# find all the matches in string one\n",
    "result = regex_pattern.findall(Text)\n",
    "\n",
    "print (result)"
   ]
  },
  {
   "cell_type": "code",
   "execution_count": 60,
   "id": "ac48668a",
   "metadata": {},
   "outputs": [
    {
     "name": "stdout",
     "output_type": "stream",
     "text": [
      "['50']\n",
      "Index position: ['50']\n",
      "['60']\n",
      "Index position: ['60']\n",
      "['150']\n",
      "Index position: ['150']\n"
     ]
    }
   ],
   "source": [
    "# Question 21:\n",
    "\n",
    "price = [\"Apple costs Rs 50\", \"Rs 60 for each Pinpeapple\", \"Rs 150 for Watermelon\"]\n",
    "\n",
    "for msg in price:\n",
    "    matches = re.findall(\"\\d+\", msg)\n",
    "    print (matches)\n",
    "    print(\"Index position:\", matches)"
   ]
  },
  {
   "cell_type": "code",
   "execution_count": 62,
   "id": "56d17bc7",
   "metadata": {},
   "outputs": [
    {
     "name": "stdout",
     "output_type": "stream",
     "text": [
      "max_value: 950\n"
     ]
    }
   ],
   "source": [
    "# Question 22:\n",
    "\n",
    "Text = 'My marks in each semester are: 947, 896, 926, 524, 734, 950, 642'\n",
    "number = re.findall(\"\\d+\", Text)\n",
    "number = map(int, number)\n",
    "print(\"max_value:\", max(number))"
   ]
  },
  {
   "cell_type": "code",
   "execution_count": 63,
   "id": "9b631143",
   "metadata": {},
   "outputs": [
    {
     "name": "stdout",
     "output_type": "stream",
     "text": [
      "['Regular', 'Expression', 'Is', 'An', 'Important', 'Topic', 'In', 'Python']\n"
     ]
    }
   ],
   "source": [
    "# Question 23:\n",
    "\n",
    "Text = \"RegularExpressionIsAnImportantTopicInPython\"\n",
    "words = re.findall('[A-Z][a-z]*', Text)\n",
    "print(words)"
   ]
  },
  {
   "cell_type": "code",
   "execution_count": 65,
   "id": "5500bf83",
   "metadata": {},
   "outputs": [
    {
     "name": "stdout",
     "output_type": "stream",
     "text": [
      "<regex.Match object; span=(0, 7), match='Regular'>\n"
     ]
    }
   ],
   "source": [
    "# Question 24:\n",
    "\n",
    "Text = \"Regular\"\n",
    "result = re.search(\"[A-z]+[a-z]+$\", Text)\n",
    "print(result)"
   ]
  },
  {
   "cell_type": "code",
   "execution_count": 92,
   "id": "0a260357",
   "metadata": {},
   "outputs": [
    {
     "name": "stdout",
     "output_type": "stream",
     "text": [
      "Hello hello world world\n"
     ]
    }
   ],
   "source": [
    "# Question 25:\n",
    "\n",
    "text = \"Hello hello world world\"\n",
    "regex = r\"\\b(\\w+)(?:\\w+\\1\\b)+\"\n",
    "t = re.sub(regex,r\"\\1\", text)\n",
    "print(t)"
   ]
  },
  {
   "cell_type": "code",
   "execution_count": 96,
   "id": "86257279",
   "metadata": {},
   "outputs": [
    {
     "name": "stdout",
     "output_type": "stream",
     "text": [
      "<regex.Match object; span=(0, 11), match='python12345'>\n"
     ]
    }
   ],
   "source": [
    "# Question 26:\n",
    "\n",
    "text = \"python12345\"\n",
    "pattern = r\"[A-Za-z0-9]+\"\n",
    "match = re.search(pattern, text)\n",
    "print(match)"
   ]
  },
  {
   "cell_type": "code",
   "execution_count": null,
   "id": "4ab09874",
   "metadata": {},
   "outputs": [],
   "source": []
  },
  {
   "cell_type": "code",
   "execution_count": 121,
   "id": "b0f62dc9",
   "metadata": {},
   "outputs": [
    {
     "name": "stdout",
     "output_type": "stream",
     "text": [
      "<class '_regex.Pattern'> \n",
      "\n",
      "@Jags123456 Bharat band on 28??<ed><ed>Those who  are protesting #demonetization  are all different party leaders\n"
     ]
    }
   ],
   "source": [
    "# Question 28:\n",
    "\n",
    "text = \"@Jags123456 Bharat band on 28??<ed><U+00A0><U+00BD><ed><U+00B8><U+0082>Those who  are protesting #demonetization  are all different party leaders\"\n",
    "\n",
    "# pattern to find 3 consecutive digits\n",
    "string_pattern = r\"<U\\+\\w{4}>\"\n",
    "\n",
    "# compile string pattern to re.pattern object\n",
    "regex_pattern = re.compile(string_pattern)\n",
    "\n",
    "# print the type of compiled pattern\n",
    "print (type (regex_pattern), \"\\n\")\n",
    "\n",
    "# find all the matches in string one\n",
    "result = re.sub(string_pattern, \"\", text)\n",
    "\n",
    "print (result)"
   ]
  },
  {
   "cell_type": "code",
   "execution_count": 112,
   "id": "1099edd2",
   "metadata": {},
   "outputs": [
    {
     "ename": "FileNotFoundError",
     "evalue": "[Errno 2] No such file or directory: 'filename.txt'",
     "output_type": "error",
     "traceback": [
      "\u001b[1;31m---------------------------------------------------------------------------\u001b[0m",
      "\u001b[1;31mFileNotFoundError\u001b[0m                         Traceback (most recent call last)",
      "Cell \u001b[1;32mIn[112], line 4\u001b[0m\n\u001b[0;32m      1\u001b[0m \u001b[38;5;66;03m# Question 29:\u001b[39;00m\n\u001b[0;32m      3\u001b[0m text \u001b[38;5;241m=\u001b[39m \u001b[38;5;124m\"\u001b[39m\u001b[38;5;124mRon was born on 12-09-1992 and he was admitted to school 15-12-1999.\u001b[39m\u001b[38;5;124m\"\u001b[39m\n\u001b[1;32m----> 4\u001b[0m \u001b[38;5;28;01mwith\u001b[39;00m \u001b[38;5;28;43mopen\u001b[39;49m\u001b[43m(\u001b[49m\u001b[38;5;124;43m'\u001b[39;49m\u001b[38;5;124;43mfilename.txt\u001b[39;49m\u001b[38;5;124;43m'\u001b[39;49m\u001b[43m,\u001b[49m\u001b[38;5;124;43m'\u001b[39;49m\u001b[38;5;124;43mr\u001b[39;49m\u001b[38;5;124;43m'\u001b[39;49m\u001b[43m)\u001b[49m \u001b[38;5;28;01mas\u001b[39;00m file:\n\u001b[0;32m      5\u001b[0m     text \u001b[38;5;241m=\u001b[39m file\u001b[38;5;241m.\u001b[39mread()\n\u001b[0;32m      6\u001b[0m pattern \u001b[38;5;241m=\u001b[39m \u001b[38;5;124mr\u001b[39m\u001b[38;5;124m'\u001b[39m\u001b[38;5;124m\\\u001b[39m\u001b[38;5;124md\u001b[39m\u001b[38;5;132;01m{2}\u001b[39;00m\u001b[38;5;124m-\u001b[39m\u001b[38;5;124m\\\u001b[39m\u001b[38;5;124md\u001b[39m\u001b[38;5;132;01m{2}\u001b[39;00m\u001b[38;5;124m-\u001b[39m\u001b[38;5;124m\\\u001b[39m\u001b[38;5;124md\u001b[39m\u001b[38;5;132;01m{4}\u001b[39;00m\u001b[38;5;124m'\u001b[39m\n",
      "File \u001b[1;32m~\\anaconda3\\python\\lib\\site-packages\\IPython\\core\\interactiveshell.py:282\u001b[0m, in \u001b[0;36m_modified_open\u001b[1;34m(file, *args, **kwargs)\u001b[0m\n\u001b[0;32m    275\u001b[0m \u001b[38;5;28;01mif\u001b[39;00m file \u001b[38;5;129;01min\u001b[39;00m {\u001b[38;5;241m0\u001b[39m, \u001b[38;5;241m1\u001b[39m, \u001b[38;5;241m2\u001b[39m}:\n\u001b[0;32m    276\u001b[0m     \u001b[38;5;28;01mraise\u001b[39;00m \u001b[38;5;167;01mValueError\u001b[39;00m(\n\u001b[0;32m    277\u001b[0m         \u001b[38;5;124mf\u001b[39m\u001b[38;5;124m\"\u001b[39m\u001b[38;5;124mIPython won\u001b[39m\u001b[38;5;124m'\u001b[39m\u001b[38;5;124mt let you open fd=\u001b[39m\u001b[38;5;132;01m{\u001b[39;00mfile\u001b[38;5;132;01m}\u001b[39;00m\u001b[38;5;124m by default \u001b[39m\u001b[38;5;124m\"\u001b[39m\n\u001b[0;32m    278\u001b[0m         \u001b[38;5;124m\"\u001b[39m\u001b[38;5;124mas it is likely to crash IPython. If you know what you are doing, \u001b[39m\u001b[38;5;124m\"\u001b[39m\n\u001b[0;32m    279\u001b[0m         \u001b[38;5;124m\"\u001b[39m\u001b[38;5;124myou can use builtins\u001b[39m\u001b[38;5;124m'\u001b[39m\u001b[38;5;124m open.\u001b[39m\u001b[38;5;124m\"\u001b[39m\n\u001b[0;32m    280\u001b[0m     )\n\u001b[1;32m--> 282\u001b[0m \u001b[38;5;28;01mreturn\u001b[39;00m io_open(file, \u001b[38;5;241m*\u001b[39margs, \u001b[38;5;241m*\u001b[39m\u001b[38;5;241m*\u001b[39mkwargs)\n",
      "\u001b[1;31mFileNotFoundError\u001b[0m: [Errno 2] No such file or directory: 'filename.txt'"
     ]
    }
   ],
   "source": [
    "# Question 29:\n",
    "\n",
    "text = \"Ron was born on 12-09-1992 and he was admitted to school 15-12-1999.\"\n",
    "with open('filename.txt','r') as file:\n",
    "    text = file.read()\n",
    "pattern = r'\\d{2}-\\d{2}-\\d{4}'\n",
    "dates = re.findall(pattern, text)\n",
    "print(date)"
   ]
  },
  {
   "cell_type": "code",
   "execution_count": 120,
   "id": "e23b1ab0",
   "metadata": {},
   "outputs": [
    {
     "name": "stdout",
     "output_type": "stream",
     "text": [
      "<class '_regex.Pattern'> \n",
      "\n",
      " following example creates  ArrayList  a capacity   elements. 4 elements   added   ArrayList   ArrayList  trimmed accordingly.\n"
     ]
    }
   ],
   "source": [
    "# Question 30:\n",
    "\n",
    "text = \"The following example creates an ArrayList with a capacity of 50 elements. 4 elements are then added to the ArrayList and the ArrayList is trimmed accordingly.\"\n",
    "\n",
    "# pattern to find 3 consecutive digits\n",
    "string_pattern = r\"\\b\\w{2,4}\\b\"\n",
    "\n",
    "# compile string pattern to re.pattern object\n",
    "regex_pattern = re.compile(string_pattern)\n",
    "\n",
    "# print the type of compiled pattern\n",
    "print (type (regex_pattern), \"\\n\")\n",
    "\n",
    "# find all the matches in string one\n",
    "result = re.sub(string_pattern, \"\", text)\n",
    "\n",
    "print (result)"
   ]
  },
  {
   "cell_type": "code",
   "execution_count": null,
   "id": "59867ba6",
   "metadata": {},
   "outputs": [],
   "source": []
  }
 ],
 "metadata": {
  "kernelspec": {
   "display_name": "Python 3 (ipykernel)",
   "language": "python",
   "name": "python3"
  },
  "language_info": {
   "codemirror_mode": {
    "name": "ipython",
    "version": 3
   },
   "file_extension": ".py",
   "mimetype": "text/x-python",
   "name": "python",
   "nbconvert_exporter": "python",
   "pygments_lexer": "ipython3",
   "version": "3.10.9"
  }
 },
 "nbformat": 4,
 "nbformat_minor": 5
}
