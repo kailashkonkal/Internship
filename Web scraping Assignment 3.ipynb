{
 "cells": [
  {
   "cell_type": "code",
   "execution_count": 1,
   "id": "f18cd741",
   "metadata": {},
   "outputs": [],
   "source": [
    "# Importing Libraries\n",
    "\n",
    "import selenium\n",
    "import pandas as pd\n",
    "import time\n",
    "from bs4 import BeautifulSoup\n",
    "\n",
    "# importing selenium webdriver\n",
    "from selenium import webdriver\n",
    "\n",
    "# importing required Exceptions which needs to handle\n",
    "from selenium.common.exceptions import StaleElementReferenceException, NoSuchElementException\n",
    "\n",
    "# import requests\n",
    "import requests\n",
    "\n",
    "from selenium.webdriver.common.by import By"
   ]
  },
  {
   "cell_type": "code",
   "execution_count": 7,
   "id": "4e14304a",
   "metadata": {},
   "outputs": [],
   "source": [
    "# Question 1:-\n",
    "\n",
    "driver = webdriver.Chrome()"
   ]
  },
  {
   "cell_type": "code",
   "execution_count": 8,
   "id": "58c24e17",
   "metadata": {},
   "outputs": [],
   "source": [
    "# Opening the Amazon page on Automated Chrome Browser.\n",
    "driver.get(\"http://www.amazon.in/\")"
   ]
  },
  {
   "cell_type": "code",
   "execution_count": 9,
   "id": "8024bce7",
   "metadata": {},
   "outputs": [],
   "source": [
    "# Entering product name as required in the question.\n",
    "\n",
    "title = driver.find_element(By.XPATH, '//input[@class=\"nav-input nav-progressive-attribute\"]')\n",
    "title.send_keys(\"Guitars\")"
   ]
  },
  {
   "cell_type": "code",
   "execution_count": 10,
   "id": "92e5faf6",
   "metadata": {},
   "outputs": [],
   "source": [
    "search = driver.find_element(By.XPATH, '/html/body/div[1]/header/div/div[1]/div[2]/div/form/div[3]/div/span/input')\n",
    "search.click()"
   ]
  },
  {
   "cell_type": "code",
   "execution_count": 11,
   "id": "0425c872",
   "metadata": {},
   "outputs": [],
   "source": [
    "# Question 2:-\n",
    "\n",
    "# Fetching the url to open \n",
    "\n",
    "opening_url = []\n",
    "\n",
    "start = 0\n",
    "end = 3\n",
    "for page in range(start, end):\n",
    "    url = driver.find_elements(By.XPATH, '//a[@class=\"a-link-normal s-underline-text s-underline-link-text s-link-style a-text-normal\"]')\n",
    "    for i in url:\n",
    "        opening_url.append(i.get_attribute('href'))                # To retrieve any link we use get_attribute\n",
    "        next_buton = driver.find_elements(By.XPATH, \"/html/body/div[1]/div[1]/div[1]/div[1]/div/span[1]/div[1]/div[66]/div/div/span/a[3]\")"
   ]
  },
  {
   "cell_type": "code",
   "execution_count": 12,
   "id": "e38e08eb",
   "metadata": {},
   "outputs": [
    {
     "data": {
      "text/plain": [
       "195"
      ]
     },
     "execution_count": 12,
     "metadata": {},
     "output_type": "execute_result"
    }
   ],
   "source": [
    "len(opening_url)"
   ]
  },
  {
   "cell_type": "code",
   "execution_count": 13,
   "id": "1b4adb68",
   "metadata": {},
   "outputs": [
    {
     "data": {
      "text/plain": [
       "['https://www.amazon.in/sspa/click?ie=UTF8&spc=MTo4OTQ4NjA4MTc1NzY0MDQ3OjE3MDgxNjI5NjI6c3BfYXRmOjMwMDAyMjkzODAyNjEzMjo6MDo6&url=%2FKadence-Professional-Acoustic-Rosewood-Natural%2Fdp%2FB0CC927DLN%2Fref%3Dsr_1_1_sspa%3Fcrid%3D1EOZCJ6HN4T78%26keywords%3DGuitars%26qid%3D1708162962%26sprefix%3Dguitars%252Caps%252C252%26sr%3D8-1-spons%26sp_csd%3Dd2lkZ2V0TmFtZT1zcF9hdGY%26psc%3D1',\n",
       " 'https://www.amazon.in/sspa/click?ie=UTF8&spc=MTo4OTQ4NjA4MTc1NzY0MDQ3OjE3MDgxNjI5NjI6c3BfYXRmOjMwMDAzMTMyOTU5MDczMjo6MDo6&url=%2FKadence-A281BK-Professional-Acoustic-Rosewood%2Fdp%2FB0CD7D6C6R%2Fref%3Dsr_1_2_sspa%3Fcrid%3D1EOZCJ6HN4T78%26keywords%3DGuitars%26qid%3D1708162962%26sprefix%3Dguitars%252Caps%252C252%26sr%3D8-2-spons%26sp_csd%3Dd2lkZ2V0TmFtZT1zcF9hdGY%26psc%3D1',\n",
       " 'https://www.amazon.in/sspa/click?ie=UTF8&spc=MTo4OTQ4NjA4MTc1NzY0MDQ3OjE3MDgxNjI5NjI6c3BfYXRmOjMwMDAxNTUwODk1NDEzMjo6MDo6&url=%2FKadence-Frontier-Acoustic-Guitar-Strings%2Fdp%2FB01GDZ46AA%2Fref%3Dsr_1_3_sspa%3Fcrid%3D1EOZCJ6HN4T78%26keywords%3DGuitars%26qid%3D1708162962%26sprefix%3Dguitars%252Caps%252C252%26sr%3D8-3-spons%26sp_csd%3Dd2lkZ2V0TmFtZT1zcF9hdGY%26psc%3D1',\n",
       " 'https://www.amazon.in/sspa/click?ie=UTF8&spc=MTo4OTQ4NjA4MTc1NzY0MDQ3OjE3MDgxNjI5NjI6c3BfYXRmOjMwMDAxNTUzNzk3OTIzMjo6MDo6&url=%2FKadence-Frontier-Acoustic-Guitar-Strings%2Fdp%2FB078GTJP5Y%2Fref%3Dsr_1_4_sspa%3Fcrid%3D1EOZCJ6HN4T78%26keywords%3DGuitars%26qid%3D1708162962%26sprefix%3Dguitars%252Caps%252C252%26sr%3D8-4-spons%26sp_csd%3Dd2lkZ2V0TmFtZT1zcF9hdGY%26psc%3D1',\n",
       " 'https://www.amazon.in/Juarez-Acoustic-Cutaway-038C-Strings/dp/B017NPCSLI/ref=sr_1_5?crid=1EOZCJ6HN4T78&keywords=Guitars&qid=1708162962&sprefix=guitars%2Caps%2C252&sr=8-5',\n",
       " 'https://www.amazon.in/Yamaha-F280-Acoustic-Guitar-Natural/dp/B08317Y4VP/ref=sr_1_6?crid=1EOZCJ6HN4T78&keywords=Guitars&qid=1708162962&sprefix=guitars%2Caps%2C252&sr=8-6',\n",
       " 'https://www.amazon.in/Intern-INT-38C-Acoustic-Guitar-Kit/dp/B073B6TF31/ref=sr_1_7?crid=1EOZCJ6HN4T78&keywords=Guitars&qid=1708162962&sprefix=guitars%2Caps%2C252&sr=8-7',\n",
       " 'https://www.amazon.in/sspa/click?ie=UTF8&spc=MTo0MDA5NDY2ODA0ODIyMDQ3OjE3MDgxNjI5NjI6c3Bfc2VhcmNoX3RoZW1hdGljOjMwMDAzNDc3Mzk4MDUzMjo6MDo6&url=%2FKadence-Professional-Acoustic-Rosewood-Natural%2Fdp%2FB0CC927DLN%2Fref%3Dsxin_15_pa_sp_search_thematic_sspa%3Fcontent-id%3Damzn1.sym.98540494-efab-4501-a09e-396488cbe59e%253Aamzn1.sym.98540494-efab-4501-a09e-396488cbe59e%26crid%3D1EOZCJ6HN4T78%26cv_ct_cx%3DGuitars%26keywords%3DGuitars%26pd_rd_i%3DB0CC927DLN%26pd_rd_r%3D0b767ffd-cce8-4b64-a87d-25076b8066f1%26pd_rd_w%3DWZprm%26pd_rd_wg%3DWjT1E%26pf_rd_p%3D98540494-efab-4501-a09e-396488cbe59e%26pf_rd_r%3DVGWQ6TC5FXWCYYXZQ4PC%26qid%3D1708162962%26sbo%3DRZvfv%252F%252FHxDF%252BO5021pAnSA%253D%253D%26sprefix%3Dguitars%252Caps%252C252%26sr%3D1-1-c92737ae-3a54-4c28-a9c8-c0802936a7c9-spons%26sp_csd%3Dd2lkZ2V0TmFtZT1zcF9zZWFyY2hfdGhlbWF0aWM%26psc%3D1',\n",
       " 'https://www.amazon.in/sspa/click?ie=UTF8&spc=MTo0MDA5NDY2ODA0ODIyMDQ3OjE3MDgxNjI5NjI6c3Bfc2VhcmNoX3RoZW1hdGljOjMwMDAzMTMyOTU5MDczMjo6MTo6&url=%2FKadence-A281BK-Professional-Acoustic-Rosewood%2Fdp%2FB0CD7D6C6R%2Fref%3Dsxin_15_pa_sp_search_thematic_sspa%3Fcontent-id%3Damzn1.sym.98540494-efab-4501-a09e-396488cbe59e%253Aamzn1.sym.98540494-efab-4501-a09e-396488cbe59e%26crid%3D1EOZCJ6HN4T78%26cv_ct_cx%3DGuitars%26keywords%3DGuitars%26pd_rd_i%3DB0CD7D6C6R%26pd_rd_r%3D0b767ffd-cce8-4b64-a87d-25076b8066f1%26pd_rd_w%3DWZprm%26pd_rd_wg%3DWjT1E%26pf_rd_p%3D98540494-efab-4501-a09e-396488cbe59e%26pf_rd_r%3DVGWQ6TC5FXWCYYXZQ4PC%26qid%3D1708162962%26sbo%3DRZvfv%252F%252FHxDF%252BO5021pAnSA%253D%253D%26sprefix%3Dguitars%252Caps%252C252%26sr%3D1-2-c92737ae-3a54-4c28-a9c8-c0802936a7c9-spons%26sp_csd%3Dd2lkZ2V0TmFtZT1zcF9zZWFyY2hfdGhlbWF0aWM%26psc%3D1',\n",
       " 'https://www.amazon.in/sspa/click?ie=UTF8&spc=MTo0MDA5NDY2ODA0ODIyMDQ3OjE3MDgxNjI5NjI6c3Bfc2VhcmNoX3RoZW1hdGljOjMwMDAxNTUwODk1NDEzMjo6Mjo6&url=%2FKadence-Frontier-Acoustic-Guitar-Strings%2Fdp%2FB01GDZ46AA%2Fref%3Dsxin_15_pa_sp_search_thematic_sspa%3Fcontent-id%3Damzn1.sym.98540494-efab-4501-a09e-396488cbe59e%253Aamzn1.sym.98540494-efab-4501-a09e-396488cbe59e%26crid%3D1EOZCJ6HN4T78%26cv_ct_cx%3DGuitars%26keywords%3DGuitars%26pd_rd_i%3DB01GDZ46AA%26pd_rd_r%3D0b767ffd-cce8-4b64-a87d-25076b8066f1%26pd_rd_w%3DWZprm%26pd_rd_wg%3DWjT1E%26pf_rd_p%3D98540494-efab-4501-a09e-396488cbe59e%26pf_rd_r%3DVGWQ6TC5FXWCYYXZQ4PC%26qid%3D1708162962%26sbo%3DRZvfv%252F%252FHxDF%252BO5021pAnSA%253D%253D%26sprefix%3Dguitars%252Caps%252C252%26sr%3D1-3-c92737ae-3a54-4c28-a9c8-c0802936a7c9-spons%26sp_csd%3Dd2lkZ2V0TmFtZT1zcF9zZWFyY2hfdGhlbWF0aWM%26psc%3D1',\n",
       " 'https://www.amazon.in/sspa/click?ie=UTF8&spc=MTo0MDA5NDY2ODA0ODIyMDQ3OjE3MDgxNjI5NjI6c3Bfc2VhcmNoX3RoZW1hdGljOjMwMDAxNTUzNzk3OTIzMjo6Mzo6&url=%2FKadence-Frontier-Acoustic-Guitar-Strings%2Fdp%2FB078GTJP5Y%2Fref%3Dsxin_15_pa_sp_search_thematic_sspa%3Fcontent-id%3Damzn1.sym.98540494-efab-4501-a09e-396488cbe59e%253Aamzn1.sym.98540494-efab-4501-a09e-396488cbe59e%26crid%3D1EOZCJ6HN4T78%26cv_ct_cx%3DGuitars%26keywords%3DGuitars%26pd_rd_i%3DB078GTJP5Y%26pd_rd_r%3D0b767ffd-cce8-4b64-a87d-25076b8066f1%26pd_rd_w%3DWZprm%26pd_rd_wg%3DWjT1E%26pf_rd_p%3D98540494-efab-4501-a09e-396488cbe59e%26pf_rd_r%3DVGWQ6TC5FXWCYYXZQ4PC%26qid%3D1708162962%26sbo%3DRZvfv%252F%252FHxDF%252BO5021pAnSA%253D%253D%26sprefix%3Dguitars%252Caps%252C252%26sr%3D1-4-c92737ae-3a54-4c28-a9c8-c0802936a7c9-spons%26sp_csd%3Dd2lkZ2V0TmFtZT1zcF9zZWFyY2hfdGhlbWF0aWM%26psc%3D1',\n",
       " 'https://www.amazon.in/sspa/click?ie=UTF8&spc=MTo0MDA5NDY2ODA0ODIyMDQ3OjE3MDgxNjI5NjI6c3Bfc2VhcmNoX3RoZW1hdGljOjIwMDU3MzAzOTg2MjA0Ojo0Ojo&url=%2FKadence-Slowhand-Premium-Acoustic-Instrument%2Fdp%2FB077SZ667X%2Fref%3Dsxin_15_pa_sp_search_thematic_sspa%3Fcontent-id%3Damzn1.sym.98540494-efab-4501-a09e-396488cbe59e%253Aamzn1.sym.98540494-efab-4501-a09e-396488cbe59e%26crid%3D1EOZCJ6HN4T78%26cv_ct_cx%3DGuitars%26keywords%3DGuitars%26pd_rd_i%3DB077SZ667X%26pd_rd_r%3D0b767ffd-cce8-4b64-a87d-25076b8066f1%26pd_rd_w%3DWZprm%26pd_rd_wg%3DWjT1E%26pf_rd_p%3D98540494-efab-4501-a09e-396488cbe59e%26pf_rd_r%3DVGWQ6TC5FXWCYYXZQ4PC%26qid%3D1708162962%26sbo%3DRZvfv%252F%252FHxDF%252BO5021pAnSA%253D%253D%26sprefix%3Dguitars%252Caps%252C252%26sr%3D1-5-c92737ae-3a54-4c28-a9c8-c0802936a7c9-spons%26sp_csd%3Dd2lkZ2V0TmFtZT1zcF9zZWFyY2hfdGhlbWF0aWM%26psc%3D1',\n",
       " 'https://www.amazon.in/Intern-INT-38C-Acoustic-Guitar-Black/dp/B073B6TQQY/ref=sr_1_8?crid=1EOZCJ6HN4T78&keywords=Guitars&qid=1708162962&sprefix=guitars%2Caps%2C252&sr=8-8',\n",
       " 'https://www.amazon.in/Intern-INT-38C-Acoustic-Guitar-Sunburst/dp/B073B5MJRM/ref=sr_1_9?crid=1EOZCJ6HN4T78&keywords=Guitars&qid=1708162962&sprefix=guitars%2Caps%2C252&sr=8-9',\n",
       " 'https://www.amazon.in/Intern-INT-38C-Acoustic-Guitar-Blue/dp/B073B5RZBV/ref=sr_1_10?crid=1EOZCJ6HN4T78&keywords=Guitars&qid=1708162962&sprefix=guitars%2Caps%2C252&sr=8-10',\n",
       " 'https://www.amazon.in/Intern-38-inch-Cutaway-Design-Acoustic/dp/B07X4PN85R/ref=sr_1_11?crid=1EOZCJ6HN4T78&keywords=Guitars&qid=1708162962&sprefix=guitars%2Caps%2C252&sr=8-11',\n",
       " 'https://www.amazon.in/JUAREZ-JRZ38C-Acoustic-Sunburst-Strings/dp/B01FYYTDS6/ref=sr_1_12?crid=1EOZCJ6HN4T78&keywords=Guitars&qid=1708162962&sprefix=guitars%2Caps%2C252&sr=8-12',\n",
       " 'https://www.amazon.in/Intern-INT-38C-Acoustic-Guitar-Purple/dp/B073B4CT2F/ref=sr_1_13?crid=1EOZCJ6HN4T78&keywords=Guitars&qid=1708162962&sprefix=guitars%2Caps%2C252&sr=8-13',\n",
       " 'https://www.amazon.in/YAMAHA-FS80C-CONCERT-CUTAWAY-GUITAR/dp/B08WBBVMVJ/ref=sr_1_14?crid=1EOZCJ6HN4T78&keywords=Guitars&qid=1708162962&sprefix=guitars%2Caps%2C252&sr=8-14',\n",
       " 'https://www.amazon.in/Kadence-Frontier-Acoustic-Guitar-Strings/dp/B078GTJP5Y/ref=sr_1_15?crid=1EOZCJ6HN4T78&keywords=Guitars&qid=1708162962&sprefix=guitars%2Caps%2C252&sr=8-15',\n",
       " 'https://www.amazon.in/JUAREZ-JRZ38C-PP/dp/B0BCQNLXVM/ref=sr_1_16?crid=1EOZCJ6HN4T78&keywords=Guitars&qid=1708162962&sprefix=guitars%2Caps%2C252&sr=8-16',\n",
       " 'https://www.amazon.in/JUAREZ-JRZ38C-Acoustic-Sunburst-Strings/dp/B01FYYTDTU/ref=sr_1_17?crid=1EOZCJ6HN4T78&keywords=Guitars&qid=1708162962&sprefix=guitars%2Caps%2C252&sr=8-17',\n",
       " 'https://www.amazon.in/JUAREZ-JRZ38C-Acoustic-Natural-Strings/dp/B01FYYTDWC/ref=sr_1_18?crid=1EOZCJ6HN4T78&keywords=Guitars&qid=1708162962&sprefix=guitars%2Caps%2C252&sr=8-18',\n",
       " 'https://www.amazon.in/Kadence-Slowhand-Premium-Acoustic-Instrument/dp/B077SZ667X/ref=sr_1_19?crid=1EOZCJ6HN4T78&keywords=Guitars&qid=1708162962&sprefix=guitars%2Caps%2C252&sr=8-19',\n",
       " 'https://www.amazon.in/JUAREZ-JRZ38C-BKNA/dp/B0BCQNVPRB/ref=sr_1_20?crid=1EOZCJ6HN4T78&keywords=Guitars&qid=1708162962&sprefix=guitars%2Caps%2C252&sr=8-20',\n",
       " 'https://www.amazon.in/sspa/click?ie=UTF8&spc=MTo4OTQ4NjA4MTc1NzY0MDQ3OjE3MDgxNjI5NjI6c3BfbXRmOjMwMDExODczMTI4ODIzMjo6MDo6&url=%2FMOCKING-BIRD-Beginners-Instruments-Accessories%2Fdp%2FB0CMXGGM24%2Fref%3Dsr_1_21_sspa%3Fcrid%3D1EOZCJ6HN4T78%26keywords%3DGuitars%26qid%3D1708162962%26sprefix%3Dguitars%252Caps%252C252%26sr%3D8-21-spons%26sp_csd%3Dd2lkZ2V0TmFtZT1zcF9tdGY%26psc%3D1',\n",
       " 'https://www.amazon.in/sspa/click?ie=UTF8&spc=MTo4OTQ4NjA4MTc1NzY0MDQ3OjE3MDgxNjI5NjI6c3BfbXRmOjMwMDEwNTMwMzczMTEzMjo6MDo6&url=%2FPerlman-Fretboard-Fingerboard-Stickers-Beginner%2Fdp%2FB096ZDSWJ4%2Fref%3Dsr_1_22_sspa%3Fcrid%3D1EOZCJ6HN4T78%26keywords%3DGuitars%26qid%3D1708162962%26sprefix%3Dguitars%252Caps%252C252%26sr%3D8-22-spons%26sp_csd%3Dd2lkZ2V0TmFtZT1zcF9tdGY%26psc%3D1',\n",
       " 'https://www.amazon.in/sspa/click?ie=UTF8&spc=MTo4OTQ4NjA4MTc1NzY0MDQ3OjE3MDgxNjI5NjI6c3BfbXRmOjIwMDkyNjI0MDIxNTk4OjowOjo&url=%2FDreadnought-Acoustic-Gig-Bag-Strings-Polishing%2Fdp%2FB0BJJRJVHY%2Fref%3Dsr_1_23_sspa%3Fcrid%3D1EOZCJ6HN4T78%26keywords%3DGuitars%26qid%3D1708162962%26sprefix%3Dguitars%252Caps%252C252%26sr%3D8-23-spons%26sp_csd%3Dd2lkZ2V0TmFtZT1zcF9tdGY%26psc%3D1',\n",
       " 'https://www.amazon.in/sspa/click?ie=UTF8&spc=MTo4OTQ4NjA4MTc1NzY0MDQ3OjE3MDgxNjI5NjI6c3BfbXRmOjMwMDEyMDIyODA4NTIzMjo6MDo6&url=%2FROCKON-RA-40-INCHES-ACOUSTIC-THERMOCOL%2Fdp%2FB0CS9NCWZM%2Fref%3Dsr_1_24_sspa%3Fcrid%3D1EOZCJ6HN4T78%26keywords%3DGuitars%26qid%3D1708162962%26sprefix%3Dguitars%252Caps%252C252%26sr%3D8-24-spons%26sp_csd%3Dd2lkZ2V0TmFtZT1zcF9tdGY%26psc%3D1',\n",
       " 'https://www.amazon.in/Juarez-JRZ-ST01-6-String-Electric-Without/dp/B01FYZSOGM/ref=sr_1_25?crid=1EOZCJ6HN4T78&keywords=Guitars&qid=1708162962&sprefix=guitars%2Caps%2C252&sr=8-25',\n",
       " 'https://www.amazon.in/Medellin-Acoustic-Guitar-learning-course/dp/B0CJY91RB1/ref=sr_1_26?crid=1EOZCJ6HN4T78&keywords=Guitars&qid=1708162962&sprefix=guitars%2Caps%2C252&sr=8-26',\n",
       " 'https://www.amazon.in/JUAREZ-JRZ38C-Handed-Acoustic-Strings/dp/B01FYYTDW2/ref=sr_1_27?crid=1EOZCJ6HN4T78&keywords=Guitars&qid=1708162962&sprefix=guitars%2Caps%2C252&sr=8-27',\n",
       " 'https://www.amazon.in/Yamaha-Acoustic-Guitar-Tobacco-Sunburst/dp/B08VXR74Q2/ref=sr_1_28?crid=1EOZCJ6HN4T78&keywords=Guitars&qid=1708162962&sprefix=guitars%2Caps%2C252&sr=8-28',\n",
       " 'https://www.amazon.in/Yamaha-Classical-Guitar-C40-02/dp/B003UGCUFE/ref=sr_1_29?crid=1EOZCJ6HN4T78&keywords=Guitars&qid=1708162962&sprefix=guitars%2Caps%2C252&sr=8-29',\n",
       " 'https://www.amazon.in/JUAREZ-JRZ38C-TBLSNA/dp/B0BCQKQ6CS/ref=sr_1_30?crid=1EOZCJ6HN4T78&keywords=Guitars&qid=1708162962&sprefix=guitars%2Caps%2C252&sr=8-30',\n",
       " 'https://www.amazon.in/Intern-INT-38C-NT-G-Guitar-Kit-Natural/dp/B07K9MZZH9/ref=sr_1_31?crid=1EOZCJ6HN4T78&keywords=Guitars&qid=1708162962&sprefix=guitars%2Caps%2C252&sr=8-31',\n",
       " 'https://www.amazon.in/Yamaha-F310-6-Strings-Acoustic-Natural/dp/B000RVYW7E/ref=sr_1_32?crid=1EOZCJ6HN4T78&keywords=Guitars&qid=1708162962&sprefix=guitars%2Caps%2C252&sr=8-32',\n",
       " 'https://www.amazon.in/Yamaha-FS-100C-6-String-Acoustic-without/dp/B00PAS9CK6/ref=sr_1_33?crid=1EOZCJ6HN4T78&keywords=Guitars&qid=1708162962&sprefix=guitars%2Caps%2C252&sr=8-33',\n",
       " 'https://www.amazon.in/Cort-SFX-MEM-Electro-Acoustic-Guitar/dp/B0915ZCZWK/ref=sr_1_34?crid=1EOZCJ6HN4T78&keywords=Guitars&qid=1708162962&sprefix=guitars%2Caps%2C252&sr=8-34',\n",
       " 'https://www.amazon.in/JUAREZ-Arpeggio-Guitar-JRA41SP-RD-K-red/dp/B08MW8CWG8/ref=sr_1_35?crid=1EOZCJ6HN4T78&keywords=Guitars&qid=1708162962&sprefix=guitars%2Caps%2C252&sr=8-35',\n",
       " 'https://www.amazon.in/Kadence-Frontier-Acoustic-Natural-Equalizer/dp/B01I50UJG6/ref=sr_1_36?crid=1EOZCJ6HN4T78&keywords=Guitars&qid=1708162962&sprefix=guitars%2Caps%2C252&sr=8-36',\n",
       " 'https://www.amazon.in/Donner-Silent-Guitar-Mahogany/dp/B09Q8CXL2K/ref=sr_1_37?crid=1EOZCJ6HN4T78&keywords=Guitars&qid=1708162962&sprefix=guitars%2Caps%2C252&sr=8-37',\n",
       " 'https://www.amazon.in/Yamaha-FSX80C-Acoustic-Cutaway-Natural/dp/B09HL3GFZF/ref=sr_1_38?crid=1EOZCJ6HN4T78&keywords=Guitars&qid=1708162962&sprefix=guitars%2Caps%2C252&sr=8-38',\n",
       " 'https://www.amazon.in/Kadence-Professional-Acoustic-Rosewood-Natural/dp/B0CC927DLN/ref=sr_1_39?crid=1EOZCJ6HN4T78&keywords=Guitars&qid=1708162962&sprefix=guitars%2Caps%2C252&sr=8-39',\n",
       " 'https://www.amazon.in/YAMAHA-NATURAL-CONCERT-CUTAWAY-GUITAR/dp/B08KW4DRKL/ref=sr_1_40?crid=1EOZCJ6HN4T78&keywords=Guitars&qid=1708162962&sprefix=guitars%2Caps%2C252&sr=8-40',\n",
       " 'https://www.amazon.in/JUAREZ-JRZ38C-3TSNA/dp/B0BCQQRDF3/ref=sr_1_41?crid=1EOZCJ6HN4T78&keywords=Guitars&qid=1708162962&sprefix=guitars%2Caps%2C252&sr=8-41',\n",
       " 'https://www.amazon.in/Intern-INT-38C-BK-G-Guitar-Kit-Black/dp/B07K9497RC/ref=sr_1_42?crid=1EOZCJ6HN4T78&keywords=Guitars&qid=1708162962&sprefix=guitars%2Caps%2C252&sr=8-42',\n",
       " 'https://www.amazon.in/Fender-FA-345CE-Auditorium-Acoustic-Guitar/dp/B07984RR41/ref=sr_1_43?crid=1EOZCJ6HN4T78&keywords=Guitars&qid=1708162962&sprefix=guitars%2Caps%2C252&sr=8-43',\n",
       " 'https://www.amazon.in/Soloist-Premium-Electric-Guitar-Transparent/dp/B09GLYZSQP/ref=sr_1_44?crid=1EOZCJ6HN4T78&keywords=Guitars&qid=1708162962&sprefix=guitars%2Caps%2C252&sr=8-44',\n",
       " 'https://www.amazon.in/Acoustic-Plectrums-Beginner-Learners-configuration/dp/B0B4SSB8BJ/ref=sr_1_45?crid=1EOZCJ6HN4T78&keywords=Guitars&qid=1708162962&sprefix=guitars%2Caps%2C252&sr=8-45',\n",
       " 'https://www.amazon.in/Intern-INT-38C-Sunburst-Acoustic-Guitar/dp/B07X1J4D3Z/ref=sr_1_46?crid=1EOZCJ6HN4T78&keywords=Guitars&qid=1708162962&sprefix=guitars%2Caps%2C252&sr=8-46',\n",
       " 'https://www.amazon.in/FS80C-Acoustic-Cutaway-Concert-Plectrums/dp/B08XVV1WH7/ref=sr_1_47?crid=1EOZCJ6HN4T78&keywords=Guitars&qid=1708162962&sprefix=guitars%2Caps%2C252&sr=8-47',\n",
       " 'https://www.amazon.in/Intern-INT-38C-Natural-Acoustic-Guitar/dp/B07X4LPJ6H/ref=sr_1_48?crid=1EOZCJ6HN4T78&keywords=Guitars&qid=1708162962&sprefix=guitars%2Caps%2C252&sr=8-48',\n",
       " 'https://www.amazon.in/Epiphone-String-Electric-Inspired-Metallic/dp/B08BH48B2Y/ref=sr_1_49?crid=1EOZCJ6HN4T78&keywords=Guitars&qid=1708162962&sprefix=guitars%2Caps%2C252&sr=8-49',\n",
       " 'https://www.amazon.in/Ju%C3%A2rez-JRZ38C-WH-Strings-Acoustic/dp/B072MFK4L6/ref=sr_1_50?crid=1EOZCJ6HN4T78&keywords=Guitars&qid=1708162962&sprefix=guitars%2Caps%2C252&sr=8-50',\n",
       " 'https://www.amazon.in/Yamaha-FX280-acoustic-Dreadnought-Natural/dp/B09HR6BNFQ/ref=sr_1_51?crid=1EOZCJ6HN4T78&keywords=Guitars&qid=1708162962&sprefix=guitars%2Caps%2C252&sr=8-51',\n",
       " 'https://www.amazon.in/Fender-Dread-String-Acoustic-Guitar/dp/B07RL6VG3H/ref=sr_1_52?crid=1EOZCJ6HN4T78&keywords=Guitars&qid=1708162962&sprefix=guitars%2Caps%2C252&sr=8-52',\n",
       " 'https://www.amazon.in/Intern-INT-38C-VT-G-Guitar-Kit-Violet/dp/B07K8YJXKL/ref=sr_1_53?crid=1EOZCJ6HN4T78&keywords=Guitars&qid=1708162962&sprefix=guitars%2Caps%2C252&sr=8-53',\n",
       " 'https://www.amazon.in/Kadence-Frontier-Acoustic-Guitar-Equalizer/dp/B01HRIHJWY/ref=sr_1_54?crid=1EOZCJ6HN4T78&keywords=Guitars&qid=1708162962&sprefix=guitars%2Caps%2C252&sr=8-54',\n",
       " 'https://www.amazon.in/Stratocaster-Electric-Fingerboard-Pickguard-0373203506/dp/B0BVGSWXDY/ref=sr_1_55?crid=1EOZCJ6HN4T78&keywords=Guitars&qid=1708162962&sprefix=guitars%2Caps%2C252&sr=8-55',\n",
       " 'https://www.amazon.in/JRZ38C-VTS-Strings-Acoustic-Cutaway/dp/B072MFLQC9/ref=sr_1_56?crid=1EOZCJ6HN4T78&keywords=Guitars&qid=1708162962&sprefix=guitars%2Caps%2C252&sr=8-56',\n",
       " 'https://www.amazon.in/sspa/click?ie=UTF8&spc=MTo4OTQ4NjA4MTc1NzY0MDQ3OjE3MDgxNjI5NjI6c3BfYnRmOjMwMDEzMzIzNTM1NTEzMjo6MDo6&url=%2Fchiransi-Acoustic-Instrument-Educational-Beginners%2Fdp%2FB0BW5YG9TG%2Fref%3Dsr_1_57_sspa%3Fcrid%3D1EOZCJ6HN4T78%26keywords%3DGuitars%26qid%3D1708162962%26sprefix%3Dguitars%252Caps%252C252%26sr%3D8-57-spons%26sp_csd%3Dd2lkZ2V0TmFtZT1zcF9idGY%26psc%3D1',\n",
       " 'https://www.amazon.in/sspa/click?ie=UTF8&spc=MTo4OTQ4NjA4MTc1NzY0MDQ3OjE3MDgxNjI5NjI6c3BfYnRmOjIwMDU3MzAzOTg2MjA0OjowOjo&url=%2FKadence-Slowhand-Premium-Acoustic-Instrument%2Fdp%2FB077SZ667X%2Fref%3Dsr_1_58_sspa%3Fcrid%3D1EOZCJ6HN4T78%26keywords%3DGuitars%26qid%3D1708162962%26sprefix%3Dguitars%252Caps%252C252%26sr%3D8-58-spons%26sp_csd%3Dd2lkZ2V0TmFtZT1zcF9idGY%26psc%3D1',\n",
       " 'https://www.amazon.in/sspa/click?ie=UTF8&spc=MTo4OTQ4NjA4MTc1NzY0MDQ3OjE3MDgxNjI5NjI6c3BfYnRmOjMwMDExOTA0NjgwNjAzMjo6MDo6&url=%2FROCKON-INCHES-ACOUSTIC-GUITAR-THERMOCOL%2Fdp%2FB0CMQTLVV5%2Fref%3Dsr_1_59_sspa%3Fcrid%3D1EOZCJ6HN4T78%26keywords%3DGuitars%26qid%3D1708162962%26sprefix%3Dguitars%252Caps%252C252%26sr%3D8-59-spons%26sp_csd%3Dd2lkZ2V0TmFtZT1zcF9idGY%26psc%3D1',\n",
       " 'https://www.amazon.in/sspa/click?ie=UTF8&spc=MTo4OTQ4NjA4MTc1NzY0MDQ3OjE3MDgxNjI5NjI6c3BfYnRmOjMwMDEyMDIyODA4NTEzMjo6MDo6&url=%2FROCKON-RA-40-SUNBURST-ACOUSTIC-THERMOCOL%2Fdp%2FB0CS9MH5X9%2Fref%3Dsr_1_60_sspa%3Fcrid%3D1EOZCJ6HN4T78%26keywords%3DGuitars%26qid%3D1708162962%26sprefix%3Dguitars%252Caps%252C252%26sr%3D8-60-spons%26sp_csd%3Dd2lkZ2V0TmFtZT1zcF9idGY%26psc%3D1',\n",
       " 'https://www.amazon.in/sspa/click?ie=UTF8&spc=MTo4OTQ4NjA4MTc1NzY0MDQ3OjE3MDgxNjI5NjI6c3BfYXRmOjMwMDAyMjkzODAyNjEzMjo6MDo6&url=%2FKadence-Professional-Acoustic-Rosewood-Natural%2Fdp%2FB0CC927DLN%2Fref%3Dsr_1_1_sspa%3Fcrid%3D1EOZCJ6HN4T78%26keywords%3DGuitars%26qid%3D1708162962%26sprefix%3Dguitars%252Caps%252C252%26sr%3D8-1-spons%26sp_csd%3Dd2lkZ2V0TmFtZT1zcF9hdGY%26psc%3D1',\n",
       " 'https://www.amazon.in/sspa/click?ie=UTF8&spc=MTo4OTQ4NjA4MTc1NzY0MDQ3OjE3MDgxNjI5NjI6c3BfYXRmOjMwMDAzMTMyOTU5MDczMjo6MDo6&url=%2FKadence-A281BK-Professional-Acoustic-Rosewood%2Fdp%2FB0CD7D6C6R%2Fref%3Dsr_1_2_sspa%3Fcrid%3D1EOZCJ6HN4T78%26keywords%3DGuitars%26qid%3D1708162962%26sprefix%3Dguitars%252Caps%252C252%26sr%3D8-2-spons%26sp_csd%3Dd2lkZ2V0TmFtZT1zcF9hdGY%26psc%3D1',\n",
       " 'https://www.amazon.in/sspa/click?ie=UTF8&spc=MTo4OTQ4NjA4MTc1NzY0MDQ3OjE3MDgxNjI5NjI6c3BfYXRmOjMwMDAxNTUwODk1NDEzMjo6MDo6&url=%2FKadence-Frontier-Acoustic-Guitar-Strings%2Fdp%2FB01GDZ46AA%2Fref%3Dsr_1_3_sspa%3Fcrid%3D1EOZCJ6HN4T78%26keywords%3DGuitars%26qid%3D1708162962%26sprefix%3Dguitars%252Caps%252C252%26sr%3D8-3-spons%26sp_csd%3Dd2lkZ2V0TmFtZT1zcF9hdGY%26psc%3D1',\n",
       " 'https://www.amazon.in/sspa/click?ie=UTF8&spc=MTo4OTQ4NjA4MTc1NzY0MDQ3OjE3MDgxNjI5NjI6c3BfYXRmOjMwMDAxNTUzNzk3OTIzMjo6MDo6&url=%2FKadence-Frontier-Acoustic-Guitar-Strings%2Fdp%2FB078GTJP5Y%2Fref%3Dsr_1_4_sspa%3Fcrid%3D1EOZCJ6HN4T78%26keywords%3DGuitars%26qid%3D1708162962%26sprefix%3Dguitars%252Caps%252C252%26sr%3D8-4-spons%26sp_csd%3Dd2lkZ2V0TmFtZT1zcF9hdGY%26psc%3D1',\n",
       " 'https://www.amazon.in/Juarez-Acoustic-Cutaway-038C-Strings/dp/B017NPCSLI/ref=sr_1_5?crid=1EOZCJ6HN4T78&keywords=Guitars&qid=1708162962&sprefix=guitars%2Caps%2C252&sr=8-5',\n",
       " 'https://www.amazon.in/Yamaha-F280-Acoustic-Guitar-Natural/dp/B08317Y4VP/ref=sr_1_6?crid=1EOZCJ6HN4T78&keywords=Guitars&qid=1708162962&sprefix=guitars%2Caps%2C252&sr=8-6',\n",
       " 'https://www.amazon.in/Intern-INT-38C-Acoustic-Guitar-Kit/dp/B073B6TF31/ref=sr_1_7?crid=1EOZCJ6HN4T78&keywords=Guitars&qid=1708162962&sprefix=guitars%2Caps%2C252&sr=8-7',\n",
       " 'https://www.amazon.in/sspa/click?ie=UTF8&spc=MTo0MDA5NDY2ODA0ODIyMDQ3OjE3MDgxNjI5NjI6c3Bfc2VhcmNoX3RoZW1hdGljOjMwMDAzNDc3Mzk4MDUzMjo6MDo6&url=%2FKadence-Professional-Acoustic-Rosewood-Natural%2Fdp%2FB0CC927DLN%2Fref%3Dsxin_15_pa_sp_search_thematic_sspa%3Fcontent-id%3Damzn1.sym.98540494-efab-4501-a09e-396488cbe59e%253Aamzn1.sym.98540494-efab-4501-a09e-396488cbe59e%26crid%3D1EOZCJ6HN4T78%26cv_ct_cx%3DGuitars%26keywords%3DGuitars%26pd_rd_i%3DB0CC927DLN%26pd_rd_r%3D0b767ffd-cce8-4b64-a87d-25076b8066f1%26pd_rd_w%3DWZprm%26pd_rd_wg%3DWjT1E%26pf_rd_p%3D98540494-efab-4501-a09e-396488cbe59e%26pf_rd_r%3DVGWQ6TC5FXWCYYXZQ4PC%26qid%3D1708162962%26sbo%3DRZvfv%252F%252FHxDF%252BO5021pAnSA%253D%253D%26sprefix%3Dguitars%252Caps%252C252%26sr%3D1-1-c92737ae-3a54-4c28-a9c8-c0802936a7c9-spons%26sp_csd%3Dd2lkZ2V0TmFtZT1zcF9zZWFyY2hfdGhlbWF0aWM%26psc%3D1',\n",
       " 'https://www.amazon.in/sspa/click?ie=UTF8&spc=MTo0MDA5NDY2ODA0ODIyMDQ3OjE3MDgxNjI5NjI6c3Bfc2VhcmNoX3RoZW1hdGljOjMwMDAzMTMyOTU5MDczMjo6MTo6&url=%2FKadence-A281BK-Professional-Acoustic-Rosewood%2Fdp%2FB0CD7D6C6R%2Fref%3Dsxin_15_pa_sp_search_thematic_sspa%3Fcontent-id%3Damzn1.sym.98540494-efab-4501-a09e-396488cbe59e%253Aamzn1.sym.98540494-efab-4501-a09e-396488cbe59e%26crid%3D1EOZCJ6HN4T78%26cv_ct_cx%3DGuitars%26keywords%3DGuitars%26pd_rd_i%3DB0CD7D6C6R%26pd_rd_r%3D0b767ffd-cce8-4b64-a87d-25076b8066f1%26pd_rd_w%3DWZprm%26pd_rd_wg%3DWjT1E%26pf_rd_p%3D98540494-efab-4501-a09e-396488cbe59e%26pf_rd_r%3DVGWQ6TC5FXWCYYXZQ4PC%26qid%3D1708162962%26sbo%3DRZvfv%252F%252FHxDF%252BO5021pAnSA%253D%253D%26sprefix%3Dguitars%252Caps%252C252%26sr%3D1-2-c92737ae-3a54-4c28-a9c8-c0802936a7c9-spons%26sp_csd%3Dd2lkZ2V0TmFtZT1zcF9zZWFyY2hfdGhlbWF0aWM%26psc%3D1',\n",
       " 'https://www.amazon.in/sspa/click?ie=UTF8&spc=MTo0MDA5NDY2ODA0ODIyMDQ3OjE3MDgxNjI5NjI6c3Bfc2VhcmNoX3RoZW1hdGljOjMwMDAxNTUwODk1NDEzMjo6Mjo6&url=%2FKadence-Frontier-Acoustic-Guitar-Strings%2Fdp%2FB01GDZ46AA%2Fref%3Dsxin_15_pa_sp_search_thematic_sspa%3Fcontent-id%3Damzn1.sym.98540494-efab-4501-a09e-396488cbe59e%253Aamzn1.sym.98540494-efab-4501-a09e-396488cbe59e%26crid%3D1EOZCJ6HN4T78%26cv_ct_cx%3DGuitars%26keywords%3DGuitars%26pd_rd_i%3DB01GDZ46AA%26pd_rd_r%3D0b767ffd-cce8-4b64-a87d-25076b8066f1%26pd_rd_w%3DWZprm%26pd_rd_wg%3DWjT1E%26pf_rd_p%3D98540494-efab-4501-a09e-396488cbe59e%26pf_rd_r%3DVGWQ6TC5FXWCYYXZQ4PC%26qid%3D1708162962%26sbo%3DRZvfv%252F%252FHxDF%252BO5021pAnSA%253D%253D%26sprefix%3Dguitars%252Caps%252C252%26sr%3D1-3-c92737ae-3a54-4c28-a9c8-c0802936a7c9-spons%26sp_csd%3Dd2lkZ2V0TmFtZT1zcF9zZWFyY2hfdGhlbWF0aWM%26psc%3D1',\n",
       " 'https://www.amazon.in/sspa/click?ie=UTF8&spc=MTo0MDA5NDY2ODA0ODIyMDQ3OjE3MDgxNjI5NjI6c3Bfc2VhcmNoX3RoZW1hdGljOjMwMDAxNTUzNzk3OTIzMjo6Mzo6&url=%2FKadence-Frontier-Acoustic-Guitar-Strings%2Fdp%2FB078GTJP5Y%2Fref%3Dsxin_15_pa_sp_search_thematic_sspa%3Fcontent-id%3Damzn1.sym.98540494-efab-4501-a09e-396488cbe59e%253Aamzn1.sym.98540494-efab-4501-a09e-396488cbe59e%26crid%3D1EOZCJ6HN4T78%26cv_ct_cx%3DGuitars%26keywords%3DGuitars%26pd_rd_i%3DB078GTJP5Y%26pd_rd_r%3D0b767ffd-cce8-4b64-a87d-25076b8066f1%26pd_rd_w%3DWZprm%26pd_rd_wg%3DWjT1E%26pf_rd_p%3D98540494-efab-4501-a09e-396488cbe59e%26pf_rd_r%3DVGWQ6TC5FXWCYYXZQ4PC%26qid%3D1708162962%26sbo%3DRZvfv%252F%252FHxDF%252BO5021pAnSA%253D%253D%26sprefix%3Dguitars%252Caps%252C252%26sr%3D1-4-c92737ae-3a54-4c28-a9c8-c0802936a7c9-spons%26sp_csd%3Dd2lkZ2V0TmFtZT1zcF9zZWFyY2hfdGhlbWF0aWM%26psc%3D1',\n",
       " 'https://www.amazon.in/sspa/click?ie=UTF8&spc=MTo0MDA5NDY2ODA0ODIyMDQ3OjE3MDgxNjI5NjI6c3Bfc2VhcmNoX3RoZW1hdGljOjIwMDU3MzAzOTg2MjA0Ojo0Ojo&url=%2FKadence-Slowhand-Premium-Acoustic-Instrument%2Fdp%2FB077SZ667X%2Fref%3Dsxin_15_pa_sp_search_thematic_sspa%3Fcontent-id%3Damzn1.sym.98540494-efab-4501-a09e-396488cbe59e%253Aamzn1.sym.98540494-efab-4501-a09e-396488cbe59e%26crid%3D1EOZCJ6HN4T78%26cv_ct_cx%3DGuitars%26keywords%3DGuitars%26pd_rd_i%3DB077SZ667X%26pd_rd_r%3D0b767ffd-cce8-4b64-a87d-25076b8066f1%26pd_rd_w%3DWZprm%26pd_rd_wg%3DWjT1E%26pf_rd_p%3D98540494-efab-4501-a09e-396488cbe59e%26pf_rd_r%3DVGWQ6TC5FXWCYYXZQ4PC%26qid%3D1708162962%26sbo%3DRZvfv%252F%252FHxDF%252BO5021pAnSA%253D%253D%26sprefix%3Dguitars%252Caps%252C252%26sr%3D1-5-c92737ae-3a54-4c28-a9c8-c0802936a7c9-spons%26sp_csd%3Dd2lkZ2V0TmFtZT1zcF9zZWFyY2hfdGhlbWF0aWM%26psc%3D1',\n",
       " 'https://www.amazon.in/Intern-INT-38C-Acoustic-Guitar-Black/dp/B073B6TQQY/ref=sr_1_8?crid=1EOZCJ6HN4T78&keywords=Guitars&qid=1708162962&sprefix=guitars%2Caps%2C252&sr=8-8',\n",
       " 'https://www.amazon.in/Intern-INT-38C-Acoustic-Guitar-Sunburst/dp/B073B5MJRM/ref=sr_1_9?crid=1EOZCJ6HN4T78&keywords=Guitars&qid=1708162962&sprefix=guitars%2Caps%2C252&sr=8-9',\n",
       " 'https://www.amazon.in/Intern-INT-38C-Acoustic-Guitar-Blue/dp/B073B5RZBV/ref=sr_1_10?crid=1EOZCJ6HN4T78&keywords=Guitars&qid=1708162962&sprefix=guitars%2Caps%2C252&sr=8-10',\n",
       " 'https://www.amazon.in/Intern-38-inch-Cutaway-Design-Acoustic/dp/B07X4PN85R/ref=sr_1_11?crid=1EOZCJ6HN4T78&keywords=Guitars&qid=1708162962&sprefix=guitars%2Caps%2C252&sr=8-11',\n",
       " 'https://www.amazon.in/JUAREZ-JRZ38C-Acoustic-Sunburst-Strings/dp/B01FYYTDS6/ref=sr_1_12?crid=1EOZCJ6HN4T78&keywords=Guitars&qid=1708162962&sprefix=guitars%2Caps%2C252&sr=8-12',\n",
       " 'https://www.amazon.in/Intern-INT-38C-Acoustic-Guitar-Purple/dp/B073B4CT2F/ref=sr_1_13?crid=1EOZCJ6HN4T78&keywords=Guitars&qid=1708162962&sprefix=guitars%2Caps%2C252&sr=8-13',\n",
       " 'https://www.amazon.in/YAMAHA-FS80C-CONCERT-CUTAWAY-GUITAR/dp/B08WBBVMVJ/ref=sr_1_14?crid=1EOZCJ6HN4T78&keywords=Guitars&qid=1708162962&sprefix=guitars%2Caps%2C252&sr=8-14',\n",
       " 'https://www.amazon.in/Kadence-Frontier-Acoustic-Guitar-Strings/dp/B078GTJP5Y/ref=sr_1_15?crid=1EOZCJ6HN4T78&keywords=Guitars&qid=1708162962&sprefix=guitars%2Caps%2C252&sr=8-15',\n",
       " 'https://www.amazon.in/JUAREZ-JRZ38C-PP/dp/B0BCQNLXVM/ref=sr_1_16?crid=1EOZCJ6HN4T78&keywords=Guitars&qid=1708162962&sprefix=guitars%2Caps%2C252&sr=8-16',\n",
       " 'https://www.amazon.in/JUAREZ-JRZ38C-Acoustic-Sunburst-Strings/dp/B01FYYTDTU/ref=sr_1_17?crid=1EOZCJ6HN4T78&keywords=Guitars&qid=1708162962&sprefix=guitars%2Caps%2C252&sr=8-17',\n",
       " 'https://www.amazon.in/JUAREZ-JRZ38C-Acoustic-Natural-Strings/dp/B01FYYTDWC/ref=sr_1_18?crid=1EOZCJ6HN4T78&keywords=Guitars&qid=1708162962&sprefix=guitars%2Caps%2C252&sr=8-18',\n",
       " 'https://www.amazon.in/Kadence-Slowhand-Premium-Acoustic-Instrument/dp/B077SZ667X/ref=sr_1_19?crid=1EOZCJ6HN4T78&keywords=Guitars&qid=1708162962&sprefix=guitars%2Caps%2C252&sr=8-19',\n",
       " 'https://www.amazon.in/JUAREZ-JRZ38C-BKNA/dp/B0BCQNVPRB/ref=sr_1_20?crid=1EOZCJ6HN4T78&keywords=Guitars&qid=1708162962&sprefix=guitars%2Caps%2C252&sr=8-20',\n",
       " 'https://www.amazon.in/sspa/click?ie=UTF8&spc=MTo4OTQ4NjA4MTc1NzY0MDQ3OjE3MDgxNjI5NjI6c3BfbXRmOjMwMDExODczMTI4ODIzMjo6MDo6&url=%2FMOCKING-BIRD-Beginners-Instruments-Accessories%2Fdp%2FB0CMXGGM24%2Fref%3Dsr_1_21_sspa%3Fcrid%3D1EOZCJ6HN4T78%26keywords%3DGuitars%26qid%3D1708162962%26sprefix%3Dguitars%252Caps%252C252%26sr%3D8-21-spons%26sp_csd%3Dd2lkZ2V0TmFtZT1zcF9tdGY%26psc%3D1',\n",
       " 'https://www.amazon.in/sspa/click?ie=UTF8&spc=MTo4OTQ4NjA4MTc1NzY0MDQ3OjE3MDgxNjI5NjI6c3BfbXRmOjMwMDEwNTMwMzczMTEzMjo6MDo6&url=%2FPerlman-Fretboard-Fingerboard-Stickers-Beginner%2Fdp%2FB096ZDSWJ4%2Fref%3Dsr_1_22_sspa%3Fcrid%3D1EOZCJ6HN4T78%26keywords%3DGuitars%26qid%3D1708162962%26sprefix%3Dguitars%252Caps%252C252%26sr%3D8-22-spons%26sp_csd%3Dd2lkZ2V0TmFtZT1zcF9tdGY%26psc%3D1',\n",
       " 'https://www.amazon.in/sspa/click?ie=UTF8&spc=MTo4OTQ4NjA4MTc1NzY0MDQ3OjE3MDgxNjI5NjI6c3BfbXRmOjIwMDkyNjI0MDIxNTk4OjowOjo&url=%2FDreadnought-Acoustic-Gig-Bag-Strings-Polishing%2Fdp%2FB0BJJRJVHY%2Fref%3Dsr_1_23_sspa%3Fcrid%3D1EOZCJ6HN4T78%26keywords%3DGuitars%26qid%3D1708162962%26sprefix%3Dguitars%252Caps%252C252%26sr%3D8-23-spons%26sp_csd%3Dd2lkZ2V0TmFtZT1zcF9tdGY%26psc%3D1',\n",
       " 'https://www.amazon.in/sspa/click?ie=UTF8&spc=MTo4OTQ4NjA4MTc1NzY0MDQ3OjE3MDgxNjI5NjI6c3BfbXRmOjMwMDEyMDIyODA4NTIzMjo6MDo6&url=%2FROCKON-RA-40-INCHES-ACOUSTIC-THERMOCOL%2Fdp%2FB0CS9NCWZM%2Fref%3Dsr_1_24_sspa%3Fcrid%3D1EOZCJ6HN4T78%26keywords%3DGuitars%26qid%3D1708162962%26sprefix%3Dguitars%252Caps%252C252%26sr%3D8-24-spons%26sp_csd%3Dd2lkZ2V0TmFtZT1zcF9tdGY%26psc%3D1',\n",
       " 'https://www.amazon.in/Juarez-JRZ-ST01-6-String-Electric-Without/dp/B01FYZSOGM/ref=sr_1_25?crid=1EOZCJ6HN4T78&keywords=Guitars&qid=1708162962&sprefix=guitars%2Caps%2C252&sr=8-25',\n",
       " 'https://www.amazon.in/Medellin-Acoustic-Guitar-learning-course/dp/B0CJY91RB1/ref=sr_1_26?crid=1EOZCJ6HN4T78&keywords=Guitars&qid=1708162962&sprefix=guitars%2Caps%2C252&sr=8-26',\n",
       " 'https://www.amazon.in/JUAREZ-JRZ38C-Handed-Acoustic-Strings/dp/B01FYYTDW2/ref=sr_1_27?crid=1EOZCJ6HN4T78&keywords=Guitars&qid=1708162962&sprefix=guitars%2Caps%2C252&sr=8-27',\n",
       " 'https://www.amazon.in/Yamaha-Acoustic-Guitar-Tobacco-Sunburst/dp/B08VXR74Q2/ref=sr_1_28?crid=1EOZCJ6HN4T78&keywords=Guitars&qid=1708162962&sprefix=guitars%2Caps%2C252&sr=8-28',\n",
       " 'https://www.amazon.in/Yamaha-Classical-Guitar-C40-02/dp/B003UGCUFE/ref=sr_1_29?crid=1EOZCJ6HN4T78&keywords=Guitars&qid=1708162962&sprefix=guitars%2Caps%2C252&sr=8-29',\n",
       " 'https://www.amazon.in/JUAREZ-JRZ38C-TBLSNA/dp/B0BCQKQ6CS/ref=sr_1_30?crid=1EOZCJ6HN4T78&keywords=Guitars&qid=1708162962&sprefix=guitars%2Caps%2C252&sr=8-30',\n",
       " 'https://www.amazon.in/Intern-INT-38C-NT-G-Guitar-Kit-Natural/dp/B07K9MZZH9/ref=sr_1_31?crid=1EOZCJ6HN4T78&keywords=Guitars&qid=1708162962&sprefix=guitars%2Caps%2C252&sr=8-31',\n",
       " 'https://www.amazon.in/Yamaha-F310-6-Strings-Acoustic-Natural/dp/B000RVYW7E/ref=sr_1_32?crid=1EOZCJ6HN4T78&keywords=Guitars&qid=1708162962&sprefix=guitars%2Caps%2C252&sr=8-32',\n",
       " 'https://www.amazon.in/Yamaha-FS-100C-6-String-Acoustic-without/dp/B00PAS9CK6/ref=sr_1_33?crid=1EOZCJ6HN4T78&keywords=Guitars&qid=1708162962&sprefix=guitars%2Caps%2C252&sr=8-33',\n",
       " 'https://www.amazon.in/Cort-SFX-MEM-Electro-Acoustic-Guitar/dp/B0915ZCZWK/ref=sr_1_34?crid=1EOZCJ6HN4T78&keywords=Guitars&qid=1708162962&sprefix=guitars%2Caps%2C252&sr=8-34',\n",
       " 'https://www.amazon.in/JUAREZ-Arpeggio-Guitar-JRA41SP-RD-K-red/dp/B08MW8CWG8/ref=sr_1_35?crid=1EOZCJ6HN4T78&keywords=Guitars&qid=1708162962&sprefix=guitars%2Caps%2C252&sr=8-35',\n",
       " 'https://www.amazon.in/Kadence-Frontier-Acoustic-Natural-Equalizer/dp/B01I50UJG6/ref=sr_1_36?crid=1EOZCJ6HN4T78&keywords=Guitars&qid=1708162962&sprefix=guitars%2Caps%2C252&sr=8-36',\n",
       " 'https://www.amazon.in/Donner-Silent-Guitar-Mahogany/dp/B09Q8CXL2K/ref=sr_1_37?crid=1EOZCJ6HN4T78&keywords=Guitars&qid=1708162962&sprefix=guitars%2Caps%2C252&sr=8-37',\n",
       " 'https://www.amazon.in/Yamaha-FSX80C-Acoustic-Cutaway-Natural/dp/B09HL3GFZF/ref=sr_1_38?crid=1EOZCJ6HN4T78&keywords=Guitars&qid=1708162962&sprefix=guitars%2Caps%2C252&sr=8-38',\n",
       " 'https://www.amazon.in/Kadence-Professional-Acoustic-Rosewood-Natural/dp/B0CC927DLN/ref=sr_1_39?crid=1EOZCJ6HN4T78&keywords=Guitars&qid=1708162962&sprefix=guitars%2Caps%2C252&sr=8-39',\n",
       " 'https://www.amazon.in/YAMAHA-NATURAL-CONCERT-CUTAWAY-GUITAR/dp/B08KW4DRKL/ref=sr_1_40?crid=1EOZCJ6HN4T78&keywords=Guitars&qid=1708162962&sprefix=guitars%2Caps%2C252&sr=8-40',\n",
       " 'https://www.amazon.in/JUAREZ-JRZ38C-3TSNA/dp/B0BCQQRDF3/ref=sr_1_41?crid=1EOZCJ6HN4T78&keywords=Guitars&qid=1708162962&sprefix=guitars%2Caps%2C252&sr=8-41',\n",
       " 'https://www.amazon.in/Intern-INT-38C-BK-G-Guitar-Kit-Black/dp/B07K9497RC/ref=sr_1_42?crid=1EOZCJ6HN4T78&keywords=Guitars&qid=1708162962&sprefix=guitars%2Caps%2C252&sr=8-42',\n",
       " 'https://www.amazon.in/Fender-FA-345CE-Auditorium-Acoustic-Guitar/dp/B07984RR41/ref=sr_1_43?crid=1EOZCJ6HN4T78&keywords=Guitars&qid=1708162962&sprefix=guitars%2Caps%2C252&sr=8-43',\n",
       " 'https://www.amazon.in/Soloist-Premium-Electric-Guitar-Transparent/dp/B09GLYZSQP/ref=sr_1_44?crid=1EOZCJ6HN4T78&keywords=Guitars&qid=1708162962&sprefix=guitars%2Caps%2C252&sr=8-44',\n",
       " 'https://www.amazon.in/Acoustic-Plectrums-Beginner-Learners-configuration/dp/B0B4SSB8BJ/ref=sr_1_45?crid=1EOZCJ6HN4T78&keywords=Guitars&qid=1708162962&sprefix=guitars%2Caps%2C252&sr=8-45',\n",
       " 'https://www.amazon.in/Intern-INT-38C-Sunburst-Acoustic-Guitar/dp/B07X1J4D3Z/ref=sr_1_46?crid=1EOZCJ6HN4T78&keywords=Guitars&qid=1708162962&sprefix=guitars%2Caps%2C252&sr=8-46',\n",
       " 'https://www.amazon.in/FS80C-Acoustic-Cutaway-Concert-Plectrums/dp/B08XVV1WH7/ref=sr_1_47?crid=1EOZCJ6HN4T78&keywords=Guitars&qid=1708162962&sprefix=guitars%2Caps%2C252&sr=8-47',\n",
       " 'https://www.amazon.in/Intern-INT-38C-Natural-Acoustic-Guitar/dp/B07X4LPJ6H/ref=sr_1_48?crid=1EOZCJ6HN4T78&keywords=Guitars&qid=1708162962&sprefix=guitars%2Caps%2C252&sr=8-48',\n",
       " 'https://www.amazon.in/Epiphone-String-Electric-Inspired-Metallic/dp/B08BH48B2Y/ref=sr_1_49?crid=1EOZCJ6HN4T78&keywords=Guitars&qid=1708162962&sprefix=guitars%2Caps%2C252&sr=8-49',\n",
       " 'https://www.amazon.in/Ju%C3%A2rez-JRZ38C-WH-Strings-Acoustic/dp/B072MFK4L6/ref=sr_1_50?crid=1EOZCJ6HN4T78&keywords=Guitars&qid=1708162962&sprefix=guitars%2Caps%2C252&sr=8-50',\n",
       " 'https://www.amazon.in/Yamaha-FX280-acoustic-Dreadnought-Natural/dp/B09HR6BNFQ/ref=sr_1_51?crid=1EOZCJ6HN4T78&keywords=Guitars&qid=1708162962&sprefix=guitars%2Caps%2C252&sr=8-51',\n",
       " 'https://www.amazon.in/Fender-Dread-String-Acoustic-Guitar/dp/B07RL6VG3H/ref=sr_1_52?crid=1EOZCJ6HN4T78&keywords=Guitars&qid=1708162962&sprefix=guitars%2Caps%2C252&sr=8-52',\n",
       " 'https://www.amazon.in/Intern-INT-38C-VT-G-Guitar-Kit-Violet/dp/B07K8YJXKL/ref=sr_1_53?crid=1EOZCJ6HN4T78&keywords=Guitars&qid=1708162962&sprefix=guitars%2Caps%2C252&sr=8-53',\n",
       " 'https://www.amazon.in/Kadence-Frontier-Acoustic-Guitar-Equalizer/dp/B01HRIHJWY/ref=sr_1_54?crid=1EOZCJ6HN4T78&keywords=Guitars&qid=1708162962&sprefix=guitars%2Caps%2C252&sr=8-54',\n",
       " 'https://www.amazon.in/Stratocaster-Electric-Fingerboard-Pickguard-0373203506/dp/B0BVGSWXDY/ref=sr_1_55?crid=1EOZCJ6HN4T78&keywords=Guitars&qid=1708162962&sprefix=guitars%2Caps%2C252&sr=8-55',\n",
       " 'https://www.amazon.in/JRZ38C-VTS-Strings-Acoustic-Cutaway/dp/B072MFLQC9/ref=sr_1_56?crid=1EOZCJ6HN4T78&keywords=Guitars&qid=1708162962&sprefix=guitars%2Caps%2C252&sr=8-56',\n",
       " 'https://www.amazon.in/sspa/click?ie=UTF8&spc=MTo4OTQ4NjA4MTc1NzY0MDQ3OjE3MDgxNjI5NjI6c3BfYnRmOjMwMDEzMzIzNTM1NTEzMjo6MDo6&url=%2Fchiransi-Acoustic-Instrument-Educational-Beginners%2Fdp%2FB0BW5YG9TG%2Fref%3Dsr_1_57_sspa%3Fcrid%3D1EOZCJ6HN4T78%26keywords%3DGuitars%26qid%3D1708162962%26sprefix%3Dguitars%252Caps%252C252%26sr%3D8-57-spons%26sp_csd%3Dd2lkZ2V0TmFtZT1zcF9idGY%26psc%3D1',\n",
       " 'https://www.amazon.in/sspa/click?ie=UTF8&spc=MTo4OTQ4NjA4MTc1NzY0MDQ3OjE3MDgxNjI5NjI6c3BfYnRmOjIwMDU3MzAzOTg2MjA0OjowOjo&url=%2FKadence-Slowhand-Premium-Acoustic-Instrument%2Fdp%2FB077SZ667X%2Fref%3Dsr_1_58_sspa%3Fcrid%3D1EOZCJ6HN4T78%26keywords%3DGuitars%26qid%3D1708162962%26sprefix%3Dguitars%252Caps%252C252%26sr%3D8-58-spons%26sp_csd%3Dd2lkZ2V0TmFtZT1zcF9idGY%26psc%3D1',\n",
       " 'https://www.amazon.in/sspa/click?ie=UTF8&spc=MTo4OTQ4NjA4MTc1NzY0MDQ3OjE3MDgxNjI5NjI6c3BfYnRmOjMwMDExOTA0NjgwNjAzMjo6MDo6&url=%2FROCKON-INCHES-ACOUSTIC-GUITAR-THERMOCOL%2Fdp%2FB0CMQTLVV5%2Fref%3Dsr_1_59_sspa%3Fcrid%3D1EOZCJ6HN4T78%26keywords%3DGuitars%26qid%3D1708162962%26sprefix%3Dguitars%252Caps%252C252%26sr%3D8-59-spons%26sp_csd%3Dd2lkZ2V0TmFtZT1zcF9idGY%26psc%3D1',\n",
       " 'https://www.amazon.in/sspa/click?ie=UTF8&spc=MTo4OTQ4NjA4MTc1NzY0MDQ3OjE3MDgxNjI5NjI6c3BfYnRmOjMwMDEyMDIyODA4NTEzMjo6MDo6&url=%2FROCKON-RA-40-SUNBURST-ACOUSTIC-THERMOCOL%2Fdp%2FB0CS9MH5X9%2Fref%3Dsr_1_60_sspa%3Fcrid%3D1EOZCJ6HN4T78%26keywords%3DGuitars%26qid%3D1708162962%26sprefix%3Dguitars%252Caps%252C252%26sr%3D8-60-spons%26sp_csd%3Dd2lkZ2V0TmFtZT1zcF9idGY%26psc%3D1',\n",
       " 'https://www.amazon.in/sspa/click?ie=UTF8&spc=MTo4OTQ4NjA4MTc1NzY0MDQ3OjE3MDgxNjI5NjI6c3BfYXRmOjMwMDAyMjkzODAyNjEzMjo6MDo6&url=%2FKadence-Professional-Acoustic-Rosewood-Natural%2Fdp%2FB0CC927DLN%2Fref%3Dsr_1_1_sspa%3Fcrid%3D1EOZCJ6HN4T78%26keywords%3DGuitars%26qid%3D1708162962%26sprefix%3Dguitars%252Caps%252C252%26sr%3D8-1-spons%26sp_csd%3Dd2lkZ2V0TmFtZT1zcF9hdGY%26psc%3D1',\n",
       " 'https://www.amazon.in/sspa/click?ie=UTF8&spc=MTo4OTQ4NjA4MTc1NzY0MDQ3OjE3MDgxNjI5NjI6c3BfYXRmOjMwMDAzMTMyOTU5MDczMjo6MDo6&url=%2FKadence-A281BK-Professional-Acoustic-Rosewood%2Fdp%2FB0CD7D6C6R%2Fref%3Dsr_1_2_sspa%3Fcrid%3D1EOZCJ6HN4T78%26keywords%3DGuitars%26qid%3D1708162962%26sprefix%3Dguitars%252Caps%252C252%26sr%3D8-2-spons%26sp_csd%3Dd2lkZ2V0TmFtZT1zcF9hdGY%26psc%3D1',\n",
       " 'https://www.amazon.in/sspa/click?ie=UTF8&spc=MTo4OTQ4NjA4MTc1NzY0MDQ3OjE3MDgxNjI5NjI6c3BfYXRmOjMwMDAxNTUwODk1NDEzMjo6MDo6&url=%2FKadence-Frontier-Acoustic-Guitar-Strings%2Fdp%2FB01GDZ46AA%2Fref%3Dsr_1_3_sspa%3Fcrid%3D1EOZCJ6HN4T78%26keywords%3DGuitars%26qid%3D1708162962%26sprefix%3Dguitars%252Caps%252C252%26sr%3D8-3-spons%26sp_csd%3Dd2lkZ2V0TmFtZT1zcF9hdGY%26psc%3D1',\n",
       " 'https://www.amazon.in/sspa/click?ie=UTF8&spc=MTo4OTQ4NjA4MTc1NzY0MDQ3OjE3MDgxNjI5NjI6c3BfYXRmOjMwMDAxNTUzNzk3OTIzMjo6MDo6&url=%2FKadence-Frontier-Acoustic-Guitar-Strings%2Fdp%2FB078GTJP5Y%2Fref%3Dsr_1_4_sspa%3Fcrid%3D1EOZCJ6HN4T78%26keywords%3DGuitars%26qid%3D1708162962%26sprefix%3Dguitars%252Caps%252C252%26sr%3D8-4-spons%26sp_csd%3Dd2lkZ2V0TmFtZT1zcF9hdGY%26psc%3D1',\n",
       " 'https://www.amazon.in/Juarez-Acoustic-Cutaway-038C-Strings/dp/B017NPCSLI/ref=sr_1_5?crid=1EOZCJ6HN4T78&keywords=Guitars&qid=1708162962&sprefix=guitars%2Caps%2C252&sr=8-5',\n",
       " 'https://www.amazon.in/Yamaha-F280-Acoustic-Guitar-Natural/dp/B08317Y4VP/ref=sr_1_6?crid=1EOZCJ6HN4T78&keywords=Guitars&qid=1708162962&sprefix=guitars%2Caps%2C252&sr=8-6',\n",
       " 'https://www.amazon.in/Intern-INT-38C-Acoustic-Guitar-Kit/dp/B073B6TF31/ref=sr_1_7?crid=1EOZCJ6HN4T78&keywords=Guitars&qid=1708162962&sprefix=guitars%2Caps%2C252&sr=8-7',\n",
       " 'https://www.amazon.in/sspa/click?ie=UTF8&spc=MTo0MDA5NDY2ODA0ODIyMDQ3OjE3MDgxNjI5NjI6c3Bfc2VhcmNoX3RoZW1hdGljOjMwMDAzNDc3Mzk4MDUzMjo6MDo6&url=%2FKadence-Professional-Acoustic-Rosewood-Natural%2Fdp%2FB0CC927DLN%2Fref%3Dsxin_15_pa_sp_search_thematic_sspa%3Fcontent-id%3Damzn1.sym.98540494-efab-4501-a09e-396488cbe59e%253Aamzn1.sym.98540494-efab-4501-a09e-396488cbe59e%26crid%3D1EOZCJ6HN4T78%26cv_ct_cx%3DGuitars%26keywords%3DGuitars%26pd_rd_i%3DB0CC927DLN%26pd_rd_r%3D0b767ffd-cce8-4b64-a87d-25076b8066f1%26pd_rd_w%3DWZprm%26pd_rd_wg%3DWjT1E%26pf_rd_p%3D98540494-efab-4501-a09e-396488cbe59e%26pf_rd_r%3DVGWQ6TC5FXWCYYXZQ4PC%26qid%3D1708162962%26sbo%3DRZvfv%252F%252FHxDF%252BO5021pAnSA%253D%253D%26sprefix%3Dguitars%252Caps%252C252%26sr%3D1-1-c92737ae-3a54-4c28-a9c8-c0802936a7c9-spons%26sp_csd%3Dd2lkZ2V0TmFtZT1zcF9zZWFyY2hfdGhlbWF0aWM%26psc%3D1',\n",
       " 'https://www.amazon.in/sspa/click?ie=UTF8&spc=MTo0MDA5NDY2ODA0ODIyMDQ3OjE3MDgxNjI5NjI6c3Bfc2VhcmNoX3RoZW1hdGljOjMwMDAzMTMyOTU5MDczMjo6MTo6&url=%2FKadence-A281BK-Professional-Acoustic-Rosewood%2Fdp%2FB0CD7D6C6R%2Fref%3Dsxin_15_pa_sp_search_thematic_sspa%3Fcontent-id%3Damzn1.sym.98540494-efab-4501-a09e-396488cbe59e%253Aamzn1.sym.98540494-efab-4501-a09e-396488cbe59e%26crid%3D1EOZCJ6HN4T78%26cv_ct_cx%3DGuitars%26keywords%3DGuitars%26pd_rd_i%3DB0CD7D6C6R%26pd_rd_r%3D0b767ffd-cce8-4b64-a87d-25076b8066f1%26pd_rd_w%3DWZprm%26pd_rd_wg%3DWjT1E%26pf_rd_p%3D98540494-efab-4501-a09e-396488cbe59e%26pf_rd_r%3DVGWQ6TC5FXWCYYXZQ4PC%26qid%3D1708162962%26sbo%3DRZvfv%252F%252FHxDF%252BO5021pAnSA%253D%253D%26sprefix%3Dguitars%252Caps%252C252%26sr%3D1-2-c92737ae-3a54-4c28-a9c8-c0802936a7c9-spons%26sp_csd%3Dd2lkZ2V0TmFtZT1zcF9zZWFyY2hfdGhlbWF0aWM%26psc%3D1',\n",
       " 'https://www.amazon.in/sspa/click?ie=UTF8&spc=MTo0MDA5NDY2ODA0ODIyMDQ3OjE3MDgxNjI5NjI6c3Bfc2VhcmNoX3RoZW1hdGljOjMwMDAxNTUwODk1NDEzMjo6Mjo6&url=%2FKadence-Frontier-Acoustic-Guitar-Strings%2Fdp%2FB01GDZ46AA%2Fref%3Dsxin_15_pa_sp_search_thematic_sspa%3Fcontent-id%3Damzn1.sym.98540494-efab-4501-a09e-396488cbe59e%253Aamzn1.sym.98540494-efab-4501-a09e-396488cbe59e%26crid%3D1EOZCJ6HN4T78%26cv_ct_cx%3DGuitars%26keywords%3DGuitars%26pd_rd_i%3DB01GDZ46AA%26pd_rd_r%3D0b767ffd-cce8-4b64-a87d-25076b8066f1%26pd_rd_w%3DWZprm%26pd_rd_wg%3DWjT1E%26pf_rd_p%3D98540494-efab-4501-a09e-396488cbe59e%26pf_rd_r%3DVGWQ6TC5FXWCYYXZQ4PC%26qid%3D1708162962%26sbo%3DRZvfv%252F%252FHxDF%252BO5021pAnSA%253D%253D%26sprefix%3Dguitars%252Caps%252C252%26sr%3D1-3-c92737ae-3a54-4c28-a9c8-c0802936a7c9-spons%26sp_csd%3Dd2lkZ2V0TmFtZT1zcF9zZWFyY2hfdGhlbWF0aWM%26psc%3D1',\n",
       " 'https://www.amazon.in/sspa/click?ie=UTF8&spc=MTo0MDA5NDY2ODA0ODIyMDQ3OjE3MDgxNjI5NjI6c3Bfc2VhcmNoX3RoZW1hdGljOjMwMDAxNTUzNzk3OTIzMjo6Mzo6&url=%2FKadence-Frontier-Acoustic-Guitar-Strings%2Fdp%2FB078GTJP5Y%2Fref%3Dsxin_15_pa_sp_search_thematic_sspa%3Fcontent-id%3Damzn1.sym.98540494-efab-4501-a09e-396488cbe59e%253Aamzn1.sym.98540494-efab-4501-a09e-396488cbe59e%26crid%3D1EOZCJ6HN4T78%26cv_ct_cx%3DGuitars%26keywords%3DGuitars%26pd_rd_i%3DB078GTJP5Y%26pd_rd_r%3D0b767ffd-cce8-4b64-a87d-25076b8066f1%26pd_rd_w%3DWZprm%26pd_rd_wg%3DWjT1E%26pf_rd_p%3D98540494-efab-4501-a09e-396488cbe59e%26pf_rd_r%3DVGWQ6TC5FXWCYYXZQ4PC%26qid%3D1708162962%26sbo%3DRZvfv%252F%252FHxDF%252BO5021pAnSA%253D%253D%26sprefix%3Dguitars%252Caps%252C252%26sr%3D1-4-c92737ae-3a54-4c28-a9c8-c0802936a7c9-spons%26sp_csd%3Dd2lkZ2V0TmFtZT1zcF9zZWFyY2hfdGhlbWF0aWM%26psc%3D1',\n",
       " 'https://www.amazon.in/sspa/click?ie=UTF8&spc=MTo0MDA5NDY2ODA0ODIyMDQ3OjE3MDgxNjI5NjI6c3Bfc2VhcmNoX3RoZW1hdGljOjIwMDU3MzAzOTg2MjA0Ojo0Ojo&url=%2FKadence-Slowhand-Premium-Acoustic-Instrument%2Fdp%2FB077SZ667X%2Fref%3Dsxin_15_pa_sp_search_thematic_sspa%3Fcontent-id%3Damzn1.sym.98540494-efab-4501-a09e-396488cbe59e%253Aamzn1.sym.98540494-efab-4501-a09e-396488cbe59e%26crid%3D1EOZCJ6HN4T78%26cv_ct_cx%3DGuitars%26keywords%3DGuitars%26pd_rd_i%3DB077SZ667X%26pd_rd_r%3D0b767ffd-cce8-4b64-a87d-25076b8066f1%26pd_rd_w%3DWZprm%26pd_rd_wg%3DWjT1E%26pf_rd_p%3D98540494-efab-4501-a09e-396488cbe59e%26pf_rd_r%3DVGWQ6TC5FXWCYYXZQ4PC%26qid%3D1708162962%26sbo%3DRZvfv%252F%252FHxDF%252BO5021pAnSA%253D%253D%26sprefix%3Dguitars%252Caps%252C252%26sr%3D1-5-c92737ae-3a54-4c28-a9c8-c0802936a7c9-spons%26sp_csd%3Dd2lkZ2V0TmFtZT1zcF9zZWFyY2hfdGhlbWF0aWM%26psc%3D1',\n",
       " 'https://www.amazon.in/Intern-INT-38C-Acoustic-Guitar-Black/dp/B073B6TQQY/ref=sr_1_8?crid=1EOZCJ6HN4T78&keywords=Guitars&qid=1708162962&sprefix=guitars%2Caps%2C252&sr=8-8',\n",
       " 'https://www.amazon.in/Intern-INT-38C-Acoustic-Guitar-Sunburst/dp/B073B5MJRM/ref=sr_1_9?crid=1EOZCJ6HN4T78&keywords=Guitars&qid=1708162962&sprefix=guitars%2Caps%2C252&sr=8-9',\n",
       " 'https://www.amazon.in/Intern-INT-38C-Acoustic-Guitar-Blue/dp/B073B5RZBV/ref=sr_1_10?crid=1EOZCJ6HN4T78&keywords=Guitars&qid=1708162962&sprefix=guitars%2Caps%2C252&sr=8-10',\n",
       " 'https://www.amazon.in/Intern-38-inch-Cutaway-Design-Acoustic/dp/B07X4PN85R/ref=sr_1_11?crid=1EOZCJ6HN4T78&keywords=Guitars&qid=1708162962&sprefix=guitars%2Caps%2C252&sr=8-11',\n",
       " 'https://www.amazon.in/JUAREZ-JRZ38C-Acoustic-Sunburst-Strings/dp/B01FYYTDS6/ref=sr_1_12?crid=1EOZCJ6HN4T78&keywords=Guitars&qid=1708162962&sprefix=guitars%2Caps%2C252&sr=8-12',\n",
       " 'https://www.amazon.in/Intern-INT-38C-Acoustic-Guitar-Purple/dp/B073B4CT2F/ref=sr_1_13?crid=1EOZCJ6HN4T78&keywords=Guitars&qid=1708162962&sprefix=guitars%2Caps%2C252&sr=8-13',\n",
       " 'https://www.amazon.in/YAMAHA-FS80C-CONCERT-CUTAWAY-GUITAR/dp/B08WBBVMVJ/ref=sr_1_14?crid=1EOZCJ6HN4T78&keywords=Guitars&qid=1708162962&sprefix=guitars%2Caps%2C252&sr=8-14',\n",
       " 'https://www.amazon.in/Kadence-Frontier-Acoustic-Guitar-Strings/dp/B078GTJP5Y/ref=sr_1_15?crid=1EOZCJ6HN4T78&keywords=Guitars&qid=1708162962&sprefix=guitars%2Caps%2C252&sr=8-15',\n",
       " 'https://www.amazon.in/JUAREZ-JRZ38C-PP/dp/B0BCQNLXVM/ref=sr_1_16?crid=1EOZCJ6HN4T78&keywords=Guitars&qid=1708162962&sprefix=guitars%2Caps%2C252&sr=8-16',\n",
       " 'https://www.amazon.in/JUAREZ-JRZ38C-Acoustic-Sunburst-Strings/dp/B01FYYTDTU/ref=sr_1_17?crid=1EOZCJ6HN4T78&keywords=Guitars&qid=1708162962&sprefix=guitars%2Caps%2C252&sr=8-17',\n",
       " 'https://www.amazon.in/JUAREZ-JRZ38C-Acoustic-Natural-Strings/dp/B01FYYTDWC/ref=sr_1_18?crid=1EOZCJ6HN4T78&keywords=Guitars&qid=1708162962&sprefix=guitars%2Caps%2C252&sr=8-18',\n",
       " 'https://www.amazon.in/Kadence-Slowhand-Premium-Acoustic-Instrument/dp/B077SZ667X/ref=sr_1_19?crid=1EOZCJ6HN4T78&keywords=Guitars&qid=1708162962&sprefix=guitars%2Caps%2C252&sr=8-19',\n",
       " 'https://www.amazon.in/JUAREZ-JRZ38C-BKNA/dp/B0BCQNVPRB/ref=sr_1_20?crid=1EOZCJ6HN4T78&keywords=Guitars&qid=1708162962&sprefix=guitars%2Caps%2C252&sr=8-20',\n",
       " 'https://www.amazon.in/sspa/click?ie=UTF8&spc=MTo4OTQ4NjA4MTc1NzY0MDQ3OjE3MDgxNjI5NjI6c3BfbXRmOjMwMDExODczMTI4ODIzMjo6MDo6&url=%2FMOCKING-BIRD-Beginners-Instruments-Accessories%2Fdp%2FB0CMXGGM24%2Fref%3Dsr_1_21_sspa%3Fcrid%3D1EOZCJ6HN4T78%26keywords%3DGuitars%26qid%3D1708162962%26sprefix%3Dguitars%252Caps%252C252%26sr%3D8-21-spons%26sp_csd%3Dd2lkZ2V0TmFtZT1zcF9tdGY%26psc%3D1',\n",
       " 'https://www.amazon.in/sspa/click?ie=UTF8&spc=MTo4OTQ4NjA4MTc1NzY0MDQ3OjE3MDgxNjI5NjI6c3BfbXRmOjMwMDEwNTMwMzczMTEzMjo6MDo6&url=%2FPerlman-Fretboard-Fingerboard-Stickers-Beginner%2Fdp%2FB096ZDSWJ4%2Fref%3Dsr_1_22_sspa%3Fcrid%3D1EOZCJ6HN4T78%26keywords%3DGuitars%26qid%3D1708162962%26sprefix%3Dguitars%252Caps%252C252%26sr%3D8-22-spons%26sp_csd%3Dd2lkZ2V0TmFtZT1zcF9tdGY%26psc%3D1',\n",
       " 'https://www.amazon.in/sspa/click?ie=UTF8&spc=MTo4OTQ4NjA4MTc1NzY0MDQ3OjE3MDgxNjI5NjI6c3BfbXRmOjIwMDkyNjI0MDIxNTk4OjowOjo&url=%2FDreadnought-Acoustic-Gig-Bag-Strings-Polishing%2Fdp%2FB0BJJRJVHY%2Fref%3Dsr_1_23_sspa%3Fcrid%3D1EOZCJ6HN4T78%26keywords%3DGuitars%26qid%3D1708162962%26sprefix%3Dguitars%252Caps%252C252%26sr%3D8-23-spons%26sp_csd%3Dd2lkZ2V0TmFtZT1zcF9tdGY%26psc%3D1',\n",
       " 'https://www.amazon.in/sspa/click?ie=UTF8&spc=MTo4OTQ4NjA4MTc1NzY0MDQ3OjE3MDgxNjI5NjI6c3BfbXRmOjMwMDEyMDIyODA4NTIzMjo6MDo6&url=%2FROCKON-RA-40-INCHES-ACOUSTIC-THERMOCOL%2Fdp%2FB0CS9NCWZM%2Fref%3Dsr_1_24_sspa%3Fcrid%3D1EOZCJ6HN4T78%26keywords%3DGuitars%26qid%3D1708162962%26sprefix%3Dguitars%252Caps%252C252%26sr%3D8-24-spons%26sp_csd%3Dd2lkZ2V0TmFtZT1zcF9tdGY%26psc%3D1',\n",
       " 'https://www.amazon.in/Juarez-JRZ-ST01-6-String-Electric-Without/dp/B01FYZSOGM/ref=sr_1_25?crid=1EOZCJ6HN4T78&keywords=Guitars&qid=1708162962&sprefix=guitars%2Caps%2C252&sr=8-25',\n",
       " 'https://www.amazon.in/Medellin-Acoustic-Guitar-learning-course/dp/B0CJY91RB1/ref=sr_1_26?crid=1EOZCJ6HN4T78&keywords=Guitars&qid=1708162962&sprefix=guitars%2Caps%2C252&sr=8-26',\n",
       " 'https://www.amazon.in/JUAREZ-JRZ38C-Handed-Acoustic-Strings/dp/B01FYYTDW2/ref=sr_1_27?crid=1EOZCJ6HN4T78&keywords=Guitars&qid=1708162962&sprefix=guitars%2Caps%2C252&sr=8-27',\n",
       " 'https://www.amazon.in/Yamaha-Acoustic-Guitar-Tobacco-Sunburst/dp/B08VXR74Q2/ref=sr_1_28?crid=1EOZCJ6HN4T78&keywords=Guitars&qid=1708162962&sprefix=guitars%2Caps%2C252&sr=8-28',\n",
       " 'https://www.amazon.in/Yamaha-Classical-Guitar-C40-02/dp/B003UGCUFE/ref=sr_1_29?crid=1EOZCJ6HN4T78&keywords=Guitars&qid=1708162962&sprefix=guitars%2Caps%2C252&sr=8-29',\n",
       " 'https://www.amazon.in/JUAREZ-JRZ38C-TBLSNA/dp/B0BCQKQ6CS/ref=sr_1_30?crid=1EOZCJ6HN4T78&keywords=Guitars&qid=1708162962&sprefix=guitars%2Caps%2C252&sr=8-30',\n",
       " 'https://www.amazon.in/Intern-INT-38C-NT-G-Guitar-Kit-Natural/dp/B07K9MZZH9/ref=sr_1_31?crid=1EOZCJ6HN4T78&keywords=Guitars&qid=1708162962&sprefix=guitars%2Caps%2C252&sr=8-31',\n",
       " 'https://www.amazon.in/Yamaha-F310-6-Strings-Acoustic-Natural/dp/B000RVYW7E/ref=sr_1_32?crid=1EOZCJ6HN4T78&keywords=Guitars&qid=1708162962&sprefix=guitars%2Caps%2C252&sr=8-32',\n",
       " 'https://www.amazon.in/Yamaha-FS-100C-6-String-Acoustic-without/dp/B00PAS9CK6/ref=sr_1_33?crid=1EOZCJ6HN4T78&keywords=Guitars&qid=1708162962&sprefix=guitars%2Caps%2C252&sr=8-33',\n",
       " 'https://www.amazon.in/Cort-SFX-MEM-Electro-Acoustic-Guitar/dp/B0915ZCZWK/ref=sr_1_34?crid=1EOZCJ6HN4T78&keywords=Guitars&qid=1708162962&sprefix=guitars%2Caps%2C252&sr=8-34',\n",
       " 'https://www.amazon.in/JUAREZ-Arpeggio-Guitar-JRA41SP-RD-K-red/dp/B08MW8CWG8/ref=sr_1_35?crid=1EOZCJ6HN4T78&keywords=Guitars&qid=1708162962&sprefix=guitars%2Caps%2C252&sr=8-35',\n",
       " 'https://www.amazon.in/Kadence-Frontier-Acoustic-Natural-Equalizer/dp/B01I50UJG6/ref=sr_1_36?crid=1EOZCJ6HN4T78&keywords=Guitars&qid=1708162962&sprefix=guitars%2Caps%2C252&sr=8-36',\n",
       " 'https://www.amazon.in/Donner-Silent-Guitar-Mahogany/dp/B09Q8CXL2K/ref=sr_1_37?crid=1EOZCJ6HN4T78&keywords=Guitars&qid=1708162962&sprefix=guitars%2Caps%2C252&sr=8-37',\n",
       " 'https://www.amazon.in/Yamaha-FSX80C-Acoustic-Cutaway-Natural/dp/B09HL3GFZF/ref=sr_1_38?crid=1EOZCJ6HN4T78&keywords=Guitars&qid=1708162962&sprefix=guitars%2Caps%2C252&sr=8-38',\n",
       " 'https://www.amazon.in/Kadence-Professional-Acoustic-Rosewood-Natural/dp/B0CC927DLN/ref=sr_1_39?crid=1EOZCJ6HN4T78&keywords=Guitars&qid=1708162962&sprefix=guitars%2Caps%2C252&sr=8-39',\n",
       " 'https://www.amazon.in/YAMAHA-NATURAL-CONCERT-CUTAWAY-GUITAR/dp/B08KW4DRKL/ref=sr_1_40?crid=1EOZCJ6HN4T78&keywords=Guitars&qid=1708162962&sprefix=guitars%2Caps%2C252&sr=8-40',\n",
       " 'https://www.amazon.in/JUAREZ-JRZ38C-3TSNA/dp/B0BCQQRDF3/ref=sr_1_41?crid=1EOZCJ6HN4T78&keywords=Guitars&qid=1708162962&sprefix=guitars%2Caps%2C252&sr=8-41',\n",
       " 'https://www.amazon.in/Intern-INT-38C-BK-G-Guitar-Kit-Black/dp/B07K9497RC/ref=sr_1_42?crid=1EOZCJ6HN4T78&keywords=Guitars&qid=1708162962&sprefix=guitars%2Caps%2C252&sr=8-42',\n",
       " 'https://www.amazon.in/Fender-FA-345CE-Auditorium-Acoustic-Guitar/dp/B07984RR41/ref=sr_1_43?crid=1EOZCJ6HN4T78&keywords=Guitars&qid=1708162962&sprefix=guitars%2Caps%2C252&sr=8-43',\n",
       " 'https://www.amazon.in/Soloist-Premium-Electric-Guitar-Transparent/dp/B09GLYZSQP/ref=sr_1_44?crid=1EOZCJ6HN4T78&keywords=Guitars&qid=1708162962&sprefix=guitars%2Caps%2C252&sr=8-44',\n",
       " 'https://www.amazon.in/Acoustic-Plectrums-Beginner-Learners-configuration/dp/B0B4SSB8BJ/ref=sr_1_45?crid=1EOZCJ6HN4T78&keywords=Guitars&qid=1708162962&sprefix=guitars%2Caps%2C252&sr=8-45',\n",
       " 'https://www.amazon.in/Intern-INT-38C-Sunburst-Acoustic-Guitar/dp/B07X1J4D3Z/ref=sr_1_46?crid=1EOZCJ6HN4T78&keywords=Guitars&qid=1708162962&sprefix=guitars%2Caps%2C252&sr=8-46',\n",
       " 'https://www.amazon.in/FS80C-Acoustic-Cutaway-Concert-Plectrums/dp/B08XVV1WH7/ref=sr_1_47?crid=1EOZCJ6HN4T78&keywords=Guitars&qid=1708162962&sprefix=guitars%2Caps%2C252&sr=8-47',\n",
       " 'https://www.amazon.in/Intern-INT-38C-Natural-Acoustic-Guitar/dp/B07X4LPJ6H/ref=sr_1_48?crid=1EOZCJ6HN4T78&keywords=Guitars&qid=1708162962&sprefix=guitars%2Caps%2C252&sr=8-48',\n",
       " 'https://www.amazon.in/Epiphone-String-Electric-Inspired-Metallic/dp/B08BH48B2Y/ref=sr_1_49?crid=1EOZCJ6HN4T78&keywords=Guitars&qid=1708162962&sprefix=guitars%2Caps%2C252&sr=8-49',\n",
       " 'https://www.amazon.in/Ju%C3%A2rez-JRZ38C-WH-Strings-Acoustic/dp/B072MFK4L6/ref=sr_1_50?crid=1EOZCJ6HN4T78&keywords=Guitars&qid=1708162962&sprefix=guitars%2Caps%2C252&sr=8-50',\n",
       " 'https://www.amazon.in/Yamaha-FX280-acoustic-Dreadnought-Natural/dp/B09HR6BNFQ/ref=sr_1_51?crid=1EOZCJ6HN4T78&keywords=Guitars&qid=1708162962&sprefix=guitars%2Caps%2C252&sr=8-51',\n",
       " 'https://www.amazon.in/Fender-Dread-String-Acoustic-Guitar/dp/B07RL6VG3H/ref=sr_1_52?crid=1EOZCJ6HN4T78&keywords=Guitars&qid=1708162962&sprefix=guitars%2Caps%2C252&sr=8-52',\n",
       " 'https://www.amazon.in/Intern-INT-38C-VT-G-Guitar-Kit-Violet/dp/B07K8YJXKL/ref=sr_1_53?crid=1EOZCJ6HN4T78&keywords=Guitars&qid=1708162962&sprefix=guitars%2Caps%2C252&sr=8-53',\n",
       " 'https://www.amazon.in/Kadence-Frontier-Acoustic-Guitar-Equalizer/dp/B01HRIHJWY/ref=sr_1_54?crid=1EOZCJ6HN4T78&keywords=Guitars&qid=1708162962&sprefix=guitars%2Caps%2C252&sr=8-54',\n",
       " 'https://www.amazon.in/Stratocaster-Electric-Fingerboard-Pickguard-0373203506/dp/B0BVGSWXDY/ref=sr_1_55?crid=1EOZCJ6HN4T78&keywords=Guitars&qid=1708162962&sprefix=guitars%2Caps%2C252&sr=8-55',\n",
       " 'https://www.amazon.in/JRZ38C-VTS-Strings-Acoustic-Cutaway/dp/B072MFLQC9/ref=sr_1_56?crid=1EOZCJ6HN4T78&keywords=Guitars&qid=1708162962&sprefix=guitars%2Caps%2C252&sr=8-56',\n",
       " 'https://www.amazon.in/sspa/click?ie=UTF8&spc=MTo4OTQ4NjA4MTc1NzY0MDQ3OjE3MDgxNjI5NjI6c3BfYnRmOjMwMDEzMzIzNTM1NTEzMjo6MDo6&url=%2Fchiransi-Acoustic-Instrument-Educational-Beginners%2Fdp%2FB0BW5YG9TG%2Fref%3Dsr_1_57_sspa%3Fcrid%3D1EOZCJ6HN4T78%26keywords%3DGuitars%26qid%3D1708162962%26sprefix%3Dguitars%252Caps%252C252%26sr%3D8-57-spons%26sp_csd%3Dd2lkZ2V0TmFtZT1zcF9idGY%26psc%3D1',\n",
       " 'https://www.amazon.in/sspa/click?ie=UTF8&spc=MTo4OTQ4NjA4MTc1NzY0MDQ3OjE3MDgxNjI5NjI6c3BfYnRmOjIwMDU3MzAzOTg2MjA0OjowOjo&url=%2FKadence-Slowhand-Premium-Acoustic-Instrument%2Fdp%2FB077SZ667X%2Fref%3Dsr_1_58_sspa%3Fcrid%3D1EOZCJ6HN4T78%26keywords%3DGuitars%26qid%3D1708162962%26sprefix%3Dguitars%252Caps%252C252%26sr%3D8-58-spons%26sp_csd%3Dd2lkZ2V0TmFtZT1zcF9idGY%26psc%3D1',\n",
       " 'https://www.amazon.in/sspa/click?ie=UTF8&spc=MTo4OTQ4NjA4MTc1NzY0MDQ3OjE3MDgxNjI5NjI6c3BfYnRmOjMwMDExOTA0NjgwNjAzMjo6MDo6&url=%2FROCKON-INCHES-ACOUSTIC-GUITAR-THERMOCOL%2Fdp%2FB0CMQTLVV5%2Fref%3Dsr_1_59_sspa%3Fcrid%3D1EOZCJ6HN4T78%26keywords%3DGuitars%26qid%3D1708162962%26sprefix%3Dguitars%252Caps%252C252%26sr%3D8-59-spons%26sp_csd%3Dd2lkZ2V0TmFtZT1zcF9idGY%26psc%3D1',\n",
       " 'https://www.amazon.in/sspa/click?ie=UTF8&spc=MTo4OTQ4NjA4MTc1NzY0MDQ3OjE3MDgxNjI5NjI6c3BfYnRmOjMwMDEyMDIyODA4NTEzMjo6MDo6&url=%2FROCKON-RA-40-SUNBURST-ACOUSTIC-THERMOCOL%2Fdp%2FB0CS9MH5X9%2Fref%3Dsr_1_60_sspa%3Fcrid%3D1EOZCJ6HN4T78%26keywords%3DGuitars%26qid%3D1708162962%26sprefix%3Dguitars%252Caps%252C252%26sr%3D8-60-spons%26sp_csd%3Dd2lkZ2V0TmFtZT1zcF9idGY%26psc%3D1']"
      ]
     },
     "execution_count": 13,
     "metadata": {},
     "output_type": "execute_result"
    }
   ],
   "source": [
    "opening_url"
   ]
  },
  {
   "cell_type": "code",
   "execution_count": 16,
   "id": "f76a4d4e",
   "metadata": {},
   "outputs": [
    {
     "ename": "TimeoutException",
     "evalue": "Message: timeout: Timed out receiving message from renderer: 296.079\n  (Session info: chrome=121.0.6167.185)\nStacktrace:\n\tGetHandleVerifier [0x00007FF72D797012+3522402]\n\t(No symbol) [0x00007FF72D3B8352]\n\t(No symbol) [0x00007FF72D265ABB]\n\t(No symbol) [0x00007FF72D252FC8]\n\t(No symbol) [0x00007FF72D252E7F]\n\t(No symbol) [0x00007FF72D251385]\n\t(No symbol) [0x00007FF72D251E3F]\n\t(No symbol) [0x00007FF72D25F30E]\n\t(No symbol) [0x00007FF72D271D43]\n\t(No symbol) [0x00007FF72D27618A]\n\t(No symbol) [0x00007FF72D252400]\n\t(No symbol) [0x00007FF72D271B5A]\n\t(No symbol) [0x00007FF72D2EC102]\n\t(No symbol) [0x00007FF72D2CEE03]\n\t(No symbol) [0x00007FF72D29F4D4]\n\t(No symbol) [0x00007FF72D2A05F1]\n\tGetHandleVerifier [0x00007FF72D7C9B9D+3730157]\n\tGetHandleVerifier [0x00007FF72D81F02D+4079485]\n\tGetHandleVerifier [0x00007FF72D8175D3+4048163]\n\tGetHandleVerifier [0x00007FF72D4EA649+718233]\n\t(No symbol) [0x00007FF72D3C4A3F]\n\t(No symbol) [0x00007FF72D3BFA94]\n\t(No symbol) [0x00007FF72D3BFBC2]\n\t(No symbol) [0x00007FF72D3AF2E4]\n\tBaseThreadInitThunk [0x00007FFEE1227344+20]\n\tRtlUserThreadStart [0x00007FFEE14426B1+33]\n",
     "output_type": "error",
     "traceback": [
      "\u001b[1;31m---------------------------------------------------------------------------\u001b[0m",
      "\u001b[1;31mTimeoutException\u001b[0m                          Traceback (most recent call last)",
      "Cell \u001b[1;32mIn[16], line 9\u001b[0m\n\u001b[0;32m      7\u001b[0m url \u001b[38;5;241m=\u001b[39m []\n\u001b[0;32m      8\u001b[0m \u001b[38;5;28;01mfor\u001b[39;00m i \u001b[38;5;129;01min\u001b[39;00m opening_url:                   \u001b[38;5;66;03m# iterate each and evry url to fetch full job details\u001b[39;00m\n\u001b[1;32m----> 9\u001b[0m     \u001b[43mdriver\u001b[49m\u001b[38;5;241;43m.\u001b[39;49m\u001b[43mget\u001b[49m\u001b[43m(\u001b[49m\u001b[43mi\u001b[49m\u001b[43m)\u001b[49m                           \u001b[38;5;66;03m# taking each url 1 by 1 as an input\u001b[39;00m\n\u001b[0;32m     10\u001b[0m     time\u001b[38;5;241m.\u001b[39msleep(\u001b[38;5;241m5\u001b[39m)\n\u001b[0;32m     12\u001b[0m     \u001b[38;5;28;01mtry\u001b[39;00m:\n",
      "File \u001b[1;32m~\\anaconda3\\python\\lib\\site-packages\\selenium\\webdriver\\remote\\webdriver.py:356\u001b[0m, in \u001b[0;36mWebDriver.get\u001b[1;34m(self, url)\u001b[0m\n\u001b[0;32m    354\u001b[0m \u001b[38;5;28;01mdef\u001b[39;00m \u001b[38;5;21mget\u001b[39m(\u001b[38;5;28mself\u001b[39m, url: \u001b[38;5;28mstr\u001b[39m) \u001b[38;5;241m-\u001b[39m\u001b[38;5;241m>\u001b[39m \u001b[38;5;28;01mNone\u001b[39;00m:\n\u001b[0;32m    355\u001b[0m     \u001b[38;5;124;03m\"\"\"Loads a web page in the current browser session.\"\"\"\u001b[39;00m\n\u001b[1;32m--> 356\u001b[0m     \u001b[38;5;28;43mself\u001b[39;49m\u001b[38;5;241;43m.\u001b[39;49m\u001b[43mexecute\u001b[49m\u001b[43m(\u001b[49m\u001b[43mCommand\u001b[49m\u001b[38;5;241;43m.\u001b[39;49m\u001b[43mGET\u001b[49m\u001b[43m,\u001b[49m\u001b[43m \u001b[49m\u001b[43m{\u001b[49m\u001b[38;5;124;43m\"\u001b[39;49m\u001b[38;5;124;43murl\u001b[39;49m\u001b[38;5;124;43m\"\u001b[39;49m\u001b[43m:\u001b[49m\u001b[43m \u001b[49m\u001b[43murl\u001b[49m\u001b[43m}\u001b[49m\u001b[43m)\u001b[49m\n",
      "File \u001b[1;32m~\\anaconda3\\python\\lib\\site-packages\\selenium\\webdriver\\remote\\webdriver.py:347\u001b[0m, in \u001b[0;36mWebDriver.execute\u001b[1;34m(self, driver_command, params)\u001b[0m\n\u001b[0;32m    345\u001b[0m response \u001b[38;5;241m=\u001b[39m \u001b[38;5;28mself\u001b[39m\u001b[38;5;241m.\u001b[39mcommand_executor\u001b[38;5;241m.\u001b[39mexecute(driver_command, params)\n\u001b[0;32m    346\u001b[0m \u001b[38;5;28;01mif\u001b[39;00m response:\n\u001b[1;32m--> 347\u001b[0m     \u001b[38;5;28;43mself\u001b[39;49m\u001b[38;5;241;43m.\u001b[39;49m\u001b[43merror_handler\u001b[49m\u001b[38;5;241;43m.\u001b[39;49m\u001b[43mcheck_response\u001b[49m\u001b[43m(\u001b[49m\u001b[43mresponse\u001b[49m\u001b[43m)\u001b[49m\n\u001b[0;32m    348\u001b[0m     response[\u001b[38;5;124m\"\u001b[39m\u001b[38;5;124mvalue\u001b[39m\u001b[38;5;124m\"\u001b[39m] \u001b[38;5;241m=\u001b[39m \u001b[38;5;28mself\u001b[39m\u001b[38;5;241m.\u001b[39m_unwrap_value(response\u001b[38;5;241m.\u001b[39mget(\u001b[38;5;124m\"\u001b[39m\u001b[38;5;124mvalue\u001b[39m\u001b[38;5;124m\"\u001b[39m, \u001b[38;5;28;01mNone\u001b[39;00m))\n\u001b[0;32m    349\u001b[0m     \u001b[38;5;28;01mreturn\u001b[39;00m response\n",
      "File \u001b[1;32m~\\anaconda3\\python\\lib\\site-packages\\selenium\\webdriver\\remote\\errorhandler.py:229\u001b[0m, in \u001b[0;36mErrorHandler.check_response\u001b[1;34m(self, response)\u001b[0m\n\u001b[0;32m    227\u001b[0m         alert_text \u001b[38;5;241m=\u001b[39m value[\u001b[38;5;124m\"\u001b[39m\u001b[38;5;124malert\u001b[39m\u001b[38;5;124m\"\u001b[39m]\u001b[38;5;241m.\u001b[39mget(\u001b[38;5;124m\"\u001b[39m\u001b[38;5;124mtext\u001b[39m\u001b[38;5;124m\"\u001b[39m)\n\u001b[0;32m    228\u001b[0m     \u001b[38;5;28;01mraise\u001b[39;00m exception_class(message, screen, stacktrace, alert_text)  \u001b[38;5;66;03m# type: ignore[call-arg]  # mypy is not smart enough here\u001b[39;00m\n\u001b[1;32m--> 229\u001b[0m \u001b[38;5;28;01mraise\u001b[39;00m exception_class(message, screen, stacktrace)\n",
      "\u001b[1;31mTimeoutException\u001b[0m: Message: timeout: Timed out receiving message from renderer: 296.079\n  (Session info: chrome=121.0.6167.185)\nStacktrace:\n\tGetHandleVerifier [0x00007FF72D797012+3522402]\n\t(No symbol) [0x00007FF72D3B8352]\n\t(No symbol) [0x00007FF72D265ABB]\n\t(No symbol) [0x00007FF72D252FC8]\n\t(No symbol) [0x00007FF72D252E7F]\n\t(No symbol) [0x00007FF72D251385]\n\t(No symbol) [0x00007FF72D251E3F]\n\t(No symbol) [0x00007FF72D25F30E]\n\t(No symbol) [0x00007FF72D271D43]\n\t(No symbol) [0x00007FF72D27618A]\n\t(No symbol) [0x00007FF72D252400]\n\t(No symbol) [0x00007FF72D271B5A]\n\t(No symbol) [0x00007FF72D2EC102]\n\t(No symbol) [0x00007FF72D2CEE03]\n\t(No symbol) [0x00007FF72D29F4D4]\n\t(No symbol) [0x00007FF72D2A05F1]\n\tGetHandleVerifier [0x00007FF72D7C9B9D+3730157]\n\tGetHandleVerifier [0x00007FF72D81F02D+4079485]\n\tGetHandleVerifier [0x00007FF72D8175D3+4048163]\n\tGetHandleVerifier [0x00007FF72D4EA649+718233]\n\t(No symbol) [0x00007FF72D3C4A3F]\n\t(No symbol) [0x00007FF72D3BFA94]\n\t(No symbol) [0x00007FF72D3BFBC2]\n\t(No symbol) [0x00007FF72D3AF2E4]\n\tBaseThreadInitThunk [0x00007FFEE1227344+20]\n\tRtlUserThreadStart [0x00007FFEE14426B1+33]\n"
     ]
    }
   ],
   "source": [
    "Brand_Name = []             # Creating an empty list\n",
    "Product_Name = []\n",
    "Price =  []\n",
    "Return = []\n",
    "Expected_Delivery = []\n",
    "Availability = []\n",
    "url = []\n",
    "for i in opening_url:                   # iterate each and evry url to fetch full job details\n",
    "    driver.get(i)                           # taking each url 1 by 1 as an input\n",
    "    time.sleep(5)\n",
    "    \n",
    "    try:\n",
    "        Brand = driver.find_element(By.XPATH, '//span[@class=\"a-size-base po-break-word\"]')\n",
    "        Brand_Name.append(Brand.text)\n",
    "        Product = driver.find_element(By.XPATH, '//span[@class=\"a-size-large product-title-word-break\"]')\n",
    "        Product_Name.append(Product.text)\n",
    "        price = driver.find_element(By.XPATH, '/html/body/div[2]/div/div[5]/div[3]/div[1]/div[3]/div/div[1]/div/div/div/form/div/div/div/div/div[3]/div/div[1]/div/div/span[1]/span[2]/span[2]')\n",
    "        Price.append(price.text)\n",
    "        Exchange = driver.find_element(By.XPATH, '/html/body/div[2]/div/div[5]/div[3]/div[4]/div[24]/div[2]/div/div/div/div[2]/div/ol/li[3]/div/span/div[2]/span')\n",
    "        Return.append(Exchange.text)\n",
    "        Delivery = driver.find_element(By.XPATH, '/html/body/div[2]/div/div[5]/div[3]/div[1]/div[3]/div/div[1]/div/div/div/form/div/div/div/div/div[4]/div/div[3]/div[10]/div[1]/div/div/div/span/span')\n",
    "        Expected_Delivery.append(Delivery.text)\n",
    "        availability = driver.find_element(By.XPATH, '//span[@class=\"a-size-medium a-color-success\"]')\n",
    "        Availability.append(availability.text)\n",
    "        x = driver.find_element(By.XPATH, '//img[@src=\"https://m.media-amazon.com/images/I/51ULlJI6JlL._SX679_.jpg\"]')\n",
    "        url.append(x.text)\n",
    "    except NoSuchElementException:\n",
    "        Brand_Name.append('Not Present')\n",
    "        Product_Name.append('Not Present')\n",
    "        Price.append('Not Present')\n",
    "        Return.append('Not Present')\n",
    "        Expected_Delivery.append('Not Present')\n",
    "        Availability.append('Not Present')\n",
    "        url.append('Not Present')"
   ]
  },
  {
   "cell_type": "code",
   "execution_count": 18,
   "id": "401e9688",
   "metadata": {},
   "outputs": [
    {
     "data": {
      "text/plain": [
       "['Not Present',\n",
       " 'Not Present',\n",
       " 'Not Present',\n",
       " 'Not Present',\n",
       " 'Not Present',\n",
       " 'Not Present',\n",
       " 'Not Present',\n",
       " 'Not Present',\n",
       " 'Not Present',\n",
       " 'Not Present',\n",
       " 'Not Present',\n",
       " 'Not Present',\n",
       " 'Not Present',\n",
       " 'Not Present',\n",
       " 'Not Present',\n",
       " 'Not Present',\n",
       " 'Not Present',\n",
       " 'Not Present',\n",
       " 'Not Present',\n",
       " 'Not Present',\n",
       " 'Not Present',\n",
       " 'Not Present',\n",
       " 'Not Present',\n",
       " 'Not Present',\n",
       " 'Not Present',\n",
       " 'Not Present',\n",
       " 'Not Present',\n",
       " 'Not Present',\n",
       " 'Not Present',\n",
       " 'Not Present',\n",
       " 'Not Present',\n",
       " 'Not Present']"
      ]
     },
     "execution_count": 18,
     "metadata": {},
     "output_type": "execute_result"
    }
   ],
   "source": [
    "Brand_Name\n",
    "Product_Name\n",
    "Price\n",
    "Return\n",
    "Expected_Delivery\n",
    "Availability\n",
    "url"
   ]
  },
  {
   "cell_type": "code",
   "execution_count": 19,
   "id": "e83d4c5d",
   "metadata": {},
   "outputs": [
    {
     "name": "stdout",
     "output_type": "stream",
     "text": [
      "64 64 57 55 55 55 32\n"
     ]
    }
   ],
   "source": [
    "print(len(Brand_Name), len(Product_Name), len(Price), len(Return), len(Expected_Delivery), len(Availability), len(url))"
   ]
  },
  {
   "cell_type": "code",
   "execution_count": 21,
   "id": "fb97dbc6",
   "metadata": {},
   "outputs": [
    {
     "data": {
      "text/html": [
       "<div>\n",
       "<style scoped>\n",
       "    .dataframe tbody tr th:only-of-type {\n",
       "        vertical-align: middle;\n",
       "    }\n",
       "\n",
       "    .dataframe tbody tr th {\n",
       "        vertical-align: top;\n",
       "    }\n",
       "\n",
       "    .dataframe thead th {\n",
       "        text-align: right;\n",
       "    }\n",
       "</style>\n",
       "<table border=\"1\" class=\"dataframe\">\n",
       "  <thead>\n",
       "    <tr style=\"text-align: right;\">\n",
       "      <th></th>\n",
       "      <th>Brand_Name</th>\n",
       "      <th>Product_Name</th>\n",
       "    </tr>\n",
       "  </thead>\n",
       "  <tbody>\n",
       "    <tr>\n",
       "      <th>0</th>\n",
       "      <td>Kadence</td>\n",
       "      <td>Kadence A281 Professional Acoustic Rosewood gu...</td>\n",
       "    </tr>\n",
       "    <tr>\n",
       "      <th>1</th>\n",
       "      <td>Not Present</td>\n",
       "      <td>Not Present</td>\n",
       "    </tr>\n",
       "    <tr>\n",
       "      <th>2</th>\n",
       "      <td>Kadence</td>\n",
       "      <td>Kadence A281BK Professional Acoustic Rosewood ...</td>\n",
       "    </tr>\n",
       "    <tr>\n",
       "      <th>3</th>\n",
       "      <td>Not Present</td>\n",
       "      <td>Not Present</td>\n",
       "    </tr>\n",
       "    <tr>\n",
       "      <th>4</th>\n",
       "      <td>Kadence</td>\n",
       "      <td>Kadence Frontier guitar with Online Guitar lea...</td>\n",
       "    </tr>\n",
       "    <tr>\n",
       "      <th>...</th>\n",
       "      <td>...</td>\n",
       "      <td>...</td>\n",
       "    </tr>\n",
       "    <tr>\n",
       "      <th>59</th>\n",
       "      <td>Not Present</td>\n",
       "      <td>Not Present</td>\n",
       "    </tr>\n",
       "    <tr>\n",
       "      <th>60</th>\n",
       "      <td>Medellin</td>\n",
       "      <td>Medellin 38” Acoustic Guitar with (free learni...</td>\n",
       "    </tr>\n",
       "    <tr>\n",
       "      <th>61</th>\n",
       "      <td>Not Present</td>\n",
       "      <td>Not Present</td>\n",
       "    </tr>\n",
       "    <tr>\n",
       "      <th>62</th>\n",
       "      <td>JUAREZ</td>\n",
       "      <td>Juârez Acoustic Guitar, 38 Inch Cutaway, JRZ38...</td>\n",
       "    </tr>\n",
       "    <tr>\n",
       "      <th>63</th>\n",
       "      <td>Not Present</td>\n",
       "      <td>Not Present</td>\n",
       "    </tr>\n",
       "  </tbody>\n",
       "</table>\n",
       "<p>64 rows × 2 columns</p>\n",
       "</div>"
      ],
      "text/plain": [
       "     Brand_Name                                       Product_Name\n",
       "0       Kadence  Kadence A281 Professional Acoustic Rosewood gu...\n",
       "1   Not Present                                        Not Present\n",
       "2       Kadence  Kadence A281BK Professional Acoustic Rosewood ...\n",
       "3   Not Present                                        Not Present\n",
       "4       Kadence  Kadence Frontier guitar with Online Guitar lea...\n",
       "..          ...                                                ...\n",
       "59  Not Present                                        Not Present\n",
       "60     Medellin  Medellin 38” Acoustic Guitar with (free learni...\n",
       "61  Not Present                                        Not Present\n",
       "62       JUAREZ  Juârez Acoustic Guitar, 38 Inch Cutaway, JRZ38...\n",
       "63  Not Present                                        Not Present\n",
       "\n",
       "[64 rows x 2 columns]"
      ]
     },
     "execution_count": 21,
     "metadata": {},
     "output_type": "execute_result"
    }
   ],
   "source": [
    "df = pd.DataFrame({'Brand_Name':Brand_Name, 'Product_Name':Product_Name})\n",
    "df"
   ]
  },
  {
   "cell_type": "code",
   "execution_count": 24,
   "id": "672a9852",
   "metadata": {},
   "outputs": [],
   "source": [
    "# Question 3:-\n",
    "\n",
    "driver = webdriver.Chrome()"
   ]
  },
  {
   "cell_type": "code",
   "execution_count": 25,
   "id": "dd58d843",
   "metadata": {},
   "outputs": [],
   "source": [
    "# Opening the Amazon page on Automated Chrome Browser.\n",
    "driver.get(\"http://www.images.google.com/\")"
   ]
  },
  {
   "cell_type": "code",
   "execution_count": 26,
   "id": "73709ff5",
   "metadata": {},
   "outputs": [],
   "source": [
    "# Entering fruits as required in the question.\n",
    "\n",
    "title = driver.find_element(By.XPATH, '//textarea[@class=\"gLFyf\"]')\n",
    "title.send_keys(\"fruits\")"
   ]
  },
  {
   "cell_type": "code",
   "execution_count": 27,
   "id": "e3704c49",
   "metadata": {},
   "outputs": [],
   "source": [
    "search = driver.find_element(By.XPATH, '//span[@class=\"z1asCe MZy1Rb\"]')\n",
    "search.click()"
   ]
  },
  {
   "cell_type": "code",
   "execution_count": 28,
   "id": "e5d612ef",
   "metadata": {},
   "outputs": [],
   "source": [
    "image = []"
   ]
  },
  {
   "cell_type": "code",
   "execution_count": 35,
   "id": "ecec2215",
   "metadata": {},
   "outputs": [],
   "source": [
    "# Scraping image from the given page\n",
    "img = driver.find_elements(By.XPATH,'//img[@class=\"rg_i Q4LuWd\"]')\n",
    "\n",
    "for i in img:\n",
    "    im = i.text\n",
    "    image.append(im)"
   ]
  },
  {
   "cell_type": "code",
   "execution_count": 33,
   "id": "4cca7e58",
   "metadata": {},
   "outputs": [
    {
     "name": "stdout",
     "output_type": "stream",
     "text": [
      "48\n"
     ]
    }
   ],
   "source": [
    "print (len(image))"
   ]
  },
  {
   "cell_type": "code",
   "execution_count": 36,
   "id": "db4a59cd",
   "metadata": {},
   "outputs": [],
   "source": [
    "driver = webdriver.Chrome()\n",
    "driver.get(\"http://www.images.google.com/\")\n",
    "title = driver.find_element(By.XPATH, '//textarea[@class=\"gLFyf\"]')\n",
    "title.send_keys(\"cars\")\n",
    "search = driver.find_element(By.XPATH, '//span[@class=\"z1asCe MZy1Rb\"]')\n",
    "search.click()"
   ]
  },
  {
   "cell_type": "code",
   "execution_count": 37,
   "id": "f7305d0b",
   "metadata": {},
   "outputs": [],
   "source": [
    "cars = []\n",
    "\n",
    "# Scraping cars from the given page\n",
    "img = driver.find_elements(By.XPATH,'//img[@class=\"rg_i Q4LuWd\"]')\n",
    "\n",
    "for i in img:\n",
    "    im = i.text\n",
    "    cars.append(im)"
   ]
  },
  {
   "cell_type": "code",
   "execution_count": 38,
   "id": "9035ea52",
   "metadata": {},
   "outputs": [
    {
     "data": {
      "text/plain": [
       "48"
      ]
     },
     "execution_count": 38,
     "metadata": {},
     "output_type": "execute_result"
    }
   ],
   "source": [
    "len(cars)"
   ]
  },
  {
   "cell_type": "code",
   "execution_count": 46,
   "id": "2a9d5a86",
   "metadata": {},
   "outputs": [],
   "source": [
    "driver = webdriver.Chrome()\n",
    "driver.get(\"http://www.images.google.com/\")"
   ]
  },
  {
   "cell_type": "code",
   "execution_count": 48,
   "id": "e65194f6",
   "metadata": {},
   "outputs": [],
   "source": [
    "title = driver.find_element(By.XPATH, '//textarea[@class=\"gLFyf\"]')\n",
    "title.send_keys(\"Machine learning\")\n",
    "search = driver.find_element(By.XPATH, '/html/body/div[1]/div[3]/form/div[1]/div[1]/div[1]/button/div/span')\n",
    "search.click()"
   ]
  },
  {
   "cell_type": "code",
   "execution_count": 49,
   "id": "8fe82018",
   "metadata": {},
   "outputs": [],
   "source": [
    "Machine_learning = []\n",
    "\n",
    "# Scraping cars from the given page\n",
    "img = driver.find_elements(By.XPATH,'//img[@class=\"rg_i Q4LuWd\"]')\n",
    "\n",
    "for i in img:\n",
    "    im = i.text\n",
    "    Machine_learning.append(im)"
   ]
  },
  {
   "cell_type": "code",
   "execution_count": 50,
   "id": "a023e08c",
   "metadata": {},
   "outputs": [
    {
     "data": {
      "text/plain": [
       "48"
      ]
     },
     "execution_count": 50,
     "metadata": {},
     "output_type": "execute_result"
    }
   ],
   "source": [
    "len(Machine_learning)"
   ]
  },
  {
   "cell_type": "code",
   "execution_count": 53,
   "id": "bf950676",
   "metadata": {},
   "outputs": [],
   "source": [
    "driver = webdriver.Chrome()\n",
    "driver.get(\"http://www.images.google.com/\")"
   ]
  },
  {
   "cell_type": "code",
   "execution_count": 54,
   "id": "396fb6bc",
   "metadata": {},
   "outputs": [],
   "source": [
    "title = driver.find_element(By.XPATH, '//textarea[@class=\"gLFyf\"]')\n",
    "title.send_keys(\"guitars\")\n",
    "search = driver.find_element(By.XPATH, '/html/body/div[1]/div[3]/form/div[1]/div[1]/div[1]/button/div/span')\n",
    "search.click()"
   ]
  },
  {
   "cell_type": "code",
   "execution_count": 55,
   "id": "6b5c7199",
   "metadata": {},
   "outputs": [],
   "source": [
    "guitars = []\n",
    "\n",
    "# Scraping cars from the given page\n",
    "img = driver.find_elements(By.XPATH,'//img[@class=\"rg_i Q4LuWd\"]')\n",
    "\n",
    "for i in img:\n",
    "    im = i.text\n",
    "    guitars.append(im)"
   ]
  },
  {
   "cell_type": "code",
   "execution_count": 56,
   "id": "92a430fe",
   "metadata": {},
   "outputs": [
    {
     "data": {
      "text/plain": [
       "47"
      ]
     },
     "execution_count": 56,
     "metadata": {},
     "output_type": "execute_result"
    }
   ],
   "source": [
    "len(guitars)"
   ]
  },
  {
   "cell_type": "code",
   "execution_count": 57,
   "id": "c3969aa5",
   "metadata": {},
   "outputs": [],
   "source": [
    "driver = webdriver.Chrome()\n",
    "driver.get(\"http://www.images.google.com/\")"
   ]
  },
  {
   "cell_type": "code",
   "execution_count": 59,
   "id": "e7a13899",
   "metadata": {},
   "outputs": [],
   "source": [
    "title = driver.find_element(By.XPATH, '//textarea[@class=\"gLFyf\"]')\n",
    "title.send_keys(\"cakes\")\n",
    "search = driver.find_element(By.XPATH, '/html/body/div[1]/div[3]/form/div[1]/div[1]/div[1]/button/div/span')\n",
    "search.click()"
   ]
  },
  {
   "cell_type": "code",
   "execution_count": 61,
   "id": "911bbde6",
   "metadata": {},
   "outputs": [],
   "source": [
    "cakes = []\n",
    "\n",
    "# Scraping cars from the given page\n",
    "img = driver.find_elements(By.XPATH,'//img[@class=\"rg_i Q4LuWd\"]')\n",
    "\n",
    "for i in img:\n",
    "    im = i.text\n",
    "    cakes.append(im)"
   ]
  },
  {
   "cell_type": "code",
   "execution_count": 62,
   "id": "cf98a4ee",
   "metadata": {},
   "outputs": [
    {
     "data": {
      "text/plain": [
       "48"
      ]
     },
     "execution_count": 62,
     "metadata": {},
     "output_type": "execute_result"
    }
   ],
   "source": [
    "len(cakes)"
   ]
  },
  {
   "cell_type": "code",
   "execution_count": 71,
   "id": "abc18ac7",
   "metadata": {},
   "outputs": [
    {
     "ename": "ValueError",
     "evalue": "All arrays must be of the same length",
     "output_type": "error",
     "traceback": [
      "\u001b[1;31m---------------------------------------------------------------------------\u001b[0m",
      "\u001b[1;31mValueError\u001b[0m                                Traceback (most recent call last)",
      "Cell \u001b[1;32mIn[71], line 1\u001b[0m\n\u001b[1;32m----> 1\u001b[0m df \u001b[38;5;241m=\u001b[39m \u001b[43mpd\u001b[49m\u001b[38;5;241;43m.\u001b[39;49m\u001b[43mDataFrame\u001b[49m\u001b[43m(\u001b[49m\u001b[43m{\u001b[49m\u001b[38;5;124;43m'\u001b[39;49m\u001b[38;5;124;43mFruits\u001b[39;49m\u001b[38;5;124;43m'\u001b[39;49m\u001b[43m:\u001b[49m\u001b[43mimage\u001b[49m\u001b[43m,\u001b[49m\u001b[43m \u001b[49m\u001b[38;5;124;43m'\u001b[39;49m\u001b[38;5;124;43mCars\u001b[39;49m\u001b[38;5;124;43m'\u001b[39;49m\u001b[43m:\u001b[49m\u001b[43mcars\u001b[49m\u001b[43m,\u001b[49m\u001b[43m \u001b[49m\u001b[38;5;124;43m'\u001b[39;49m\u001b[38;5;124;43mMachine_learning\u001b[39;49m\u001b[38;5;124;43m'\u001b[39;49m\u001b[43m:\u001b[49m\u001b[43mMachine_learning\u001b[49m\u001b[43m,\u001b[49m\u001b[43m \u001b[49m\u001b[38;5;124;43m'\u001b[39;49m\u001b[38;5;124;43mCakes\u001b[39;49m\u001b[38;5;124;43m'\u001b[39;49m\u001b[43m:\u001b[49m\u001b[43mcakes\u001b[49m\u001b[43m}\u001b[49m\u001b[43m)\u001b[49m\n\u001b[0;32m      2\u001b[0m df\n",
      "File \u001b[1;32m~\\anaconda3\\python\\lib\\site-packages\\pandas\\core\\frame.py:664\u001b[0m, in \u001b[0;36mDataFrame.__init__\u001b[1;34m(self, data, index, columns, dtype, copy)\u001b[0m\n\u001b[0;32m    658\u001b[0m     mgr \u001b[38;5;241m=\u001b[39m \u001b[38;5;28mself\u001b[39m\u001b[38;5;241m.\u001b[39m_init_mgr(\n\u001b[0;32m    659\u001b[0m         data, axes\u001b[38;5;241m=\u001b[39m{\u001b[38;5;124m\"\u001b[39m\u001b[38;5;124mindex\u001b[39m\u001b[38;5;124m\"\u001b[39m: index, \u001b[38;5;124m\"\u001b[39m\u001b[38;5;124mcolumns\u001b[39m\u001b[38;5;124m\"\u001b[39m: columns}, dtype\u001b[38;5;241m=\u001b[39mdtype, copy\u001b[38;5;241m=\u001b[39mcopy\n\u001b[0;32m    660\u001b[0m     )\n\u001b[0;32m    662\u001b[0m \u001b[38;5;28;01melif\u001b[39;00m \u001b[38;5;28misinstance\u001b[39m(data, \u001b[38;5;28mdict\u001b[39m):\n\u001b[0;32m    663\u001b[0m     \u001b[38;5;66;03m# GH#38939 de facto copy defaults to False only in non-dict cases\u001b[39;00m\n\u001b[1;32m--> 664\u001b[0m     mgr \u001b[38;5;241m=\u001b[39m \u001b[43mdict_to_mgr\u001b[49m\u001b[43m(\u001b[49m\u001b[43mdata\u001b[49m\u001b[43m,\u001b[49m\u001b[43m \u001b[49m\u001b[43mindex\u001b[49m\u001b[43m,\u001b[49m\u001b[43m \u001b[49m\u001b[43mcolumns\u001b[49m\u001b[43m,\u001b[49m\u001b[43m \u001b[49m\u001b[43mdtype\u001b[49m\u001b[38;5;241;43m=\u001b[39;49m\u001b[43mdtype\u001b[49m\u001b[43m,\u001b[49m\u001b[43m \u001b[49m\u001b[43mcopy\u001b[49m\u001b[38;5;241;43m=\u001b[39;49m\u001b[43mcopy\u001b[49m\u001b[43m,\u001b[49m\u001b[43m \u001b[49m\u001b[43mtyp\u001b[49m\u001b[38;5;241;43m=\u001b[39;49m\u001b[43mmanager\u001b[49m\u001b[43m)\u001b[49m\n\u001b[0;32m    665\u001b[0m \u001b[38;5;28;01melif\u001b[39;00m \u001b[38;5;28misinstance\u001b[39m(data, ma\u001b[38;5;241m.\u001b[39mMaskedArray):\n\u001b[0;32m    666\u001b[0m     \u001b[38;5;28;01mimport\u001b[39;00m \u001b[38;5;21;01mnumpy\u001b[39;00m\u001b[38;5;21;01m.\u001b[39;00m\u001b[38;5;21;01mma\u001b[39;00m\u001b[38;5;21;01m.\u001b[39;00m\u001b[38;5;21;01mmrecords\u001b[39;00m \u001b[38;5;28;01mas\u001b[39;00m \u001b[38;5;21;01mmrecords\u001b[39;00m\n",
      "File \u001b[1;32m~\\anaconda3\\python\\lib\\site-packages\\pandas\\core\\internals\\construction.py:493\u001b[0m, in \u001b[0;36mdict_to_mgr\u001b[1;34m(data, index, columns, dtype, typ, copy)\u001b[0m\n\u001b[0;32m    489\u001b[0m     \u001b[38;5;28;01melse\u001b[39;00m:\n\u001b[0;32m    490\u001b[0m         \u001b[38;5;66;03m# dtype check to exclude e.g. range objects, scalars\u001b[39;00m\n\u001b[0;32m    491\u001b[0m         arrays \u001b[38;5;241m=\u001b[39m [x\u001b[38;5;241m.\u001b[39mcopy() \u001b[38;5;28;01mif\u001b[39;00m \u001b[38;5;28mhasattr\u001b[39m(x, \u001b[38;5;124m\"\u001b[39m\u001b[38;5;124mdtype\u001b[39m\u001b[38;5;124m\"\u001b[39m) \u001b[38;5;28;01melse\u001b[39;00m x \u001b[38;5;28;01mfor\u001b[39;00m x \u001b[38;5;129;01min\u001b[39;00m arrays]\n\u001b[1;32m--> 493\u001b[0m \u001b[38;5;28;01mreturn\u001b[39;00m \u001b[43marrays_to_mgr\u001b[49m\u001b[43m(\u001b[49m\u001b[43marrays\u001b[49m\u001b[43m,\u001b[49m\u001b[43m \u001b[49m\u001b[43mcolumns\u001b[49m\u001b[43m,\u001b[49m\u001b[43m \u001b[49m\u001b[43mindex\u001b[49m\u001b[43m,\u001b[49m\u001b[43m \u001b[49m\u001b[43mdtype\u001b[49m\u001b[38;5;241;43m=\u001b[39;49m\u001b[43mdtype\u001b[49m\u001b[43m,\u001b[49m\u001b[43m \u001b[49m\u001b[43mtyp\u001b[49m\u001b[38;5;241;43m=\u001b[39;49m\u001b[43mtyp\u001b[49m\u001b[43m,\u001b[49m\u001b[43m \u001b[49m\u001b[43mconsolidate\u001b[49m\u001b[38;5;241;43m=\u001b[39;49m\u001b[43mcopy\u001b[49m\u001b[43m)\u001b[49m\n",
      "File \u001b[1;32m~\\anaconda3\\python\\lib\\site-packages\\pandas\\core\\internals\\construction.py:118\u001b[0m, in \u001b[0;36marrays_to_mgr\u001b[1;34m(arrays, columns, index, dtype, verify_integrity, typ, consolidate)\u001b[0m\n\u001b[0;32m    115\u001b[0m \u001b[38;5;28;01mif\u001b[39;00m verify_integrity:\n\u001b[0;32m    116\u001b[0m     \u001b[38;5;66;03m# figure out the index, if necessary\u001b[39;00m\n\u001b[0;32m    117\u001b[0m     \u001b[38;5;28;01mif\u001b[39;00m index \u001b[38;5;129;01mis\u001b[39;00m \u001b[38;5;28;01mNone\u001b[39;00m:\n\u001b[1;32m--> 118\u001b[0m         index \u001b[38;5;241m=\u001b[39m \u001b[43m_extract_index\u001b[49m\u001b[43m(\u001b[49m\u001b[43marrays\u001b[49m\u001b[43m)\u001b[49m\n\u001b[0;32m    119\u001b[0m     \u001b[38;5;28;01melse\u001b[39;00m:\n\u001b[0;32m    120\u001b[0m         index \u001b[38;5;241m=\u001b[39m ensure_index(index)\n",
      "File \u001b[1;32m~\\anaconda3\\python\\lib\\site-packages\\pandas\\core\\internals\\construction.py:666\u001b[0m, in \u001b[0;36m_extract_index\u001b[1;34m(data)\u001b[0m\n\u001b[0;32m    664\u001b[0m lengths \u001b[38;5;241m=\u001b[39m \u001b[38;5;28mlist\u001b[39m(\u001b[38;5;28mset\u001b[39m(raw_lengths))\n\u001b[0;32m    665\u001b[0m \u001b[38;5;28;01mif\u001b[39;00m \u001b[38;5;28mlen\u001b[39m(lengths) \u001b[38;5;241m>\u001b[39m \u001b[38;5;241m1\u001b[39m:\n\u001b[1;32m--> 666\u001b[0m     \u001b[38;5;28;01mraise\u001b[39;00m \u001b[38;5;167;01mValueError\u001b[39;00m(\u001b[38;5;124m\"\u001b[39m\u001b[38;5;124mAll arrays must be of the same length\u001b[39m\u001b[38;5;124m\"\u001b[39m)\n\u001b[0;32m    668\u001b[0m \u001b[38;5;28;01mif\u001b[39;00m have_dicts:\n\u001b[0;32m    669\u001b[0m     \u001b[38;5;28;01mraise\u001b[39;00m \u001b[38;5;167;01mValueError\u001b[39;00m(\n\u001b[0;32m    670\u001b[0m         \u001b[38;5;124m\"\u001b[39m\u001b[38;5;124mMixing dicts with non-Series may lead to ambiguous ordering.\u001b[39m\u001b[38;5;124m\"\u001b[39m\n\u001b[0;32m    671\u001b[0m     )\n",
      "\u001b[1;31mValueError\u001b[0m: All arrays must be of the same length"
     ]
    }
   ],
   "source": [
    "df = pd.DataFrame({'Fruits':image, 'Cars':cars, 'Machine_learning':Machine_learning, 'Cakes':cakes})\n",
    "df"
   ]
  },
  {
   "cell_type": "code",
   "execution_count": 82,
   "id": "cb5bbe58",
   "metadata": {},
   "outputs": [],
   "source": [
    "# Question 4:-\n",
    "\n",
    "driver = webdriver.Chrome()\n",
    "driver.get(\"http://www.flipkart.com/\")"
   ]
  },
  {
   "cell_type": "code",
   "execution_count": 83,
   "id": "6a33d2ec",
   "metadata": {},
   "outputs": [],
   "source": [
    "# Entering mobile as required in the question.\n",
    "\n",
    "title = driver.find_element(By.XPATH, '/html/body/div[1]/div/div[1]/div/div/div/div/div[1]/div/div[1]/div/div[1]/div[1]/header/div[1]/div[2]/form/div/div/input')\n",
    "title.send_keys(\"Oneplus Nord\")"
   ]
  },
  {
   "cell_type": "code",
   "execution_count": 84,
   "id": "b7a70a5a",
   "metadata": {},
   "outputs": [],
   "source": [
    "search = driver.find_element(By.XPATH, '/html/body/div[1]/div/div[1]/div/div/div/div/div[1]/div/div[1]/div/div[1]/div[1]/header/div[1]/div[2]/form/div/button')\n",
    "search.click()"
   ]
  },
  {
   "cell_type": "code",
   "execution_count": 86,
   "id": "3705818e",
   "metadata": {},
   "outputs": [],
   "source": [
    "Brand_name = []\n",
    "Product_Name = []\n",
    "Color = []\n",
    "RAM = []\n",
    "ROM = []\n",
    "Primary_camera = []"
   ]
  },
  {
   "cell_type": "code",
   "execution_count": 87,
   "id": "88c7edb8",
   "metadata": {},
   "outputs": [],
   "source": [
    "# Scraping Brand_Name from the given page\n",
    "Brand = driver.find_elements(By.XPATH,'//div[@class=\"_4rR01T\"]')\n",
    "\n",
    "for i in Brand:\n",
    "    Name = i.text\n",
    "    Brand_name.append(Name)\n",
    "    \n",
    "# Scraping Product_Name from the given page.\n",
    "Product = driver.find_elements(By.XPATH,'//div[@class=\"_4rR01T\"]')\n",
    "\n",
    "for i in Product:\n",
    "    Name = i.text\n",
    "    Product_Name.append(Name)\n",
    "    \n",
    "# Scraping Color from the given page.\n",
    "color = driver.find_elements(By.XPATH,'//div[@class=\"jobCard_jobCard_cName__mYnow\"]/span')\n",
    "\n",
    "for i in color:\n",
    "    col = i.text\n",
    "    Color.append(col)\n",
    "    \n",
    "# Scraping RAM required from the given page.\n",
    "ram = driver.find_elements(By.XPATH,'//div[@class=\" jobCard_jobCard_lists_item__YxRkV jobCard_jobIcon__3FB1t\"]')\n",
    "\n",
    "for i in ram:\n",
    "    ra = i.text\n",
    "    RAM.append(ra)\n",
    "    \n",
    "# Scraping ROM required from the given page.\n",
    "rom = driver.find_elements(By.XPATH,'//div[@class=\" jobCard_jobCard_lists_item__YxRkV jobCard_jobIcon__3FB1t\"]')\n",
    "\n",
    "for i in rom:\n",
    "    ro = i.text\n",
    "    ROM.append(ro)\n",
    "    \n",
    "# Scraping RAM required from the given page.\n",
    "Primary = driver.find_elements(By.XPATH,'//div[@class=\" jobCard_jobCard_lists_item__YxRkV jobCard_jobIcon__3FB1t\"]')\n",
    "\n",
    "for i in Primary:\n",
    "    camera = i.text\n",
    "    Primary_camera.append(camera)"
   ]
  },
  {
   "cell_type": "code",
   "execution_count": 94,
   "id": "5200e979",
   "metadata": {},
   "outputs": [
    {
     "data": {
      "text/plain": [
       "<Response [200]>"
      ]
     },
     "execution_count": 94,
     "metadata": {},
     "output_type": "execute_result"
    }
   ],
   "source": [
    "# Question 4:-\n",
    "\n",
    "page = requests.get(\"https://www.flipkart.com/search?q=realme+8&otracker=AS_Query_HistoryAutoSuggest_2_0&otracker1=AS_Query_HistoryAutoSuggest_2_0&marketplace=FLIPKART&as-show=on&as=off&as-pos=2&as-type=HISTORY\")\n",
    "page"
   ]
  },
  {
   "cell_type": "code",
   "execution_count": 95,
   "id": "5daa19b1",
   "metadata": {},
   "outputs": [
    {
     "data": {
      "text/plain": [
       "<!DOCTYPE html>\n",
       "<html lang=\"en\"><head><link href=\"https://rukminim2.flixcart.com\" rel=\"preconnect\"/><link href=\"//static-assets-web.flixcart.com/fk-p-linchpin-web/fk-cp-zion/css/app_modules.chunk.9e9635.css\" rel=\"stylesheet\"/><link href=\"//static-assets-web.flixcart.com/fk-p-linchpin-web/fk-cp-zion/css/app.chunk.e82689.css\" rel=\"stylesheet\"/><meta content=\"text/html; charset=utf-8\" http-equiv=\"Content-type\"/><meta content=\"IE=Edge\" http-equiv=\"X-UA-Compatible\"/><meta content=\"102988293558\" property=\"fb:page_id\"/><meta content=\"658873552,624500995,100000233612389\" property=\"fb:admins\"/><link href=\"https:///www/promos/new/20150528-140547-favicon-retina.ico\" rel=\"shortcut icon\"/><link href=\"/osdd.xml?v=2\" rel=\"search\" type=\"application/opensearchdescription+xml\"/><meta content=\"website\" property=\"og:type\"/><meta content=\"Flipkart.com\" name=\"og_site_name\" property=\"og:site_name\"/><link href=\"/apple-touch-icon-57x57.png\" rel=\"apple-touch-icon\" sizes=\"57x57\"/><link href=\"/apple-touch-icon-72x72.png\" rel=\"apple-touch-icon\" sizes=\"72x72\"/><link href=\"/apple-touch-icon-114x114.png\" rel=\"apple-touch-icon\" sizes=\"114x114\"/><link href=\"/apple-touch-icon-144x144.png\" rel=\"apple-touch-icon\" sizes=\"144x144\"/><link href=\"/apple-touch-icon-57x57.png\" rel=\"apple-touch-icon\"/><meta content=\"app\" name=\"twitter:card\"/><meta content=\"@flipkart\" name=\"twitter:site\"/><meta content=\"@flipkart\" name=\"twitter:creator\"/><meta content=\"Realme 8- Buy Products Online at Best Price in India - All Categories | Flipkart.com\" name=\"twitter:title\"/><meta content=\"Shop for electronics, apparels &amp; more using our Flipkart app Free shipping &amp; COD.\" name=\"twitter:description\"/><meta content=\"in\" name=\"twitter:app:country\"/><meta content=\"Flipkart\" name=\"al:ios:app_name\"/><meta content=\"742044692\" name=\"al:ios:app_store_id\"/><meta content=\"Flipkart\" name=\"twitter:app:name:iphone\"/><meta content=\"742044692\" name=\"twitter:app:id:iphone\"/><meta content=\"http://dl.flipkart.com/dl/home?\" name=\"twitter:app:url:iphone\"/><meta content=\"Flipkart\" name=\"twitter:app:name:ipad\"/><meta content=\"742044692\" name=\"twitter:app:id:ipad\"/><meta content=\"http://dl.flipkart.com/dl/home?\" name=\"twitter:app:url:ipad\"/><meta content=\"Flipkart\" name=\"twitter:app:name:googleplay\"/><meta content=\"com.flipkart.android\" name=\"twitter:app:id:googleplay\"/><meta content=\"http://dl.flipkart.com/dl/home?\" name=\"twitter:app:url:googleplay\"/><style>#container {\n",
       "\t\t\theight: 100%;\n",
       "\t\t}</style> <link href=\"///fk-cp-zion/css/Browse.chunk.b2aeab.css\" rel=\"stylesheet\"/><title>Realme 8- Buy Products Online at Best Price in India - All Categories | Flipkart.com</title><meta content=\"Realme 8- Buy Products Online at Best Price in India - All Categories | Flipkart.com\" name=\"og_title\" property=\"og:title\"/><meta content=\"Realme 8\" name=\"Keywords\"/> <meta content=\"Realme 8- Buy Products Online at Best Price in India. India's Leading E-commerce Company - Free Home Delivery - All Categories | Flipkart.com\" name=\"Description\"/><meta content=\"Realme 8- Buy Products Online at Best Price in India. India's Leading E-commerce Company - Free Home Delivery - All Categories | Flipkart.com\" property=\"og:description\"/> <meta content=\"noindex\" name=\"robots\"/> <meta content=\"F4EEB3A0AFFDD385992A06E6920C0AC3\" name=\"msvalidate.01\"/> <!--[if IE 9 ]>\n",
       "\t<script nonce=\"16653882979875676128\">\n",
       "\t\twindow.browserVersion = 'IE9';\n",
       "\t\tdocument.documentElement.className += ' ie9';\n",
       "\t</script>\n",
       "\t<![endif]--><!--[if !IE]><!--><script nonce=\"16653882979875676128\">if (/*@cc_on!@*/false) {\n",
       "\t\t\twindow.browserVersion = 'IE10';\n",
       "\t\t\tdocument.documentElement.className += ' ie10';\n",
       "\t\t}</script><!--<![endif]--> <link href=\"https://www.flipkart.com/search?q=realme+8&amp;otracker=AS_Query_HistoryAutoSuggest_2_0&amp;otracker1=AS_Query_HistoryAutoSuggest_2_0&amp;marketplace=FLIPKART&amp;as-show=on&amp;as=off&amp;as-pos=2&amp;as-type=HISTORY&amp;page=2\" id=\"next-page-link-tag\" rel=\"next\"/><script nonce=\"16653882979875676128\">!function(){if(\"PerformancePaintTiming\" in window){var e=window.__perf={e:[]};e.o=new PerformanceObserver(function(n){e.e=e.e.concat(n.getEntries())});try{e.o.observe({entryTypes:[\"paint\"]})}catch(e){}}}();\n",
       "\n",
       "\t\tif (requestAnimationFrame && performance && performance.mark) {\n",
       "\t\t\trequestAnimationFrame(function () {\n",
       "\t\t\t\twindow.first_paint = performance.now();\n",
       "\t\t\t\tperformance.mark(\"first_paint\");\n",
       "\t\t\t});\n",
       "\t\t}\n",
       "\n",
       "        // web-vitals polyfill for FID\n",
       "        !function(n,e){var t,o,i,c=[],f={passive:!0,capture:!0},r=new Date,a=\"pointerup\",u=\"pointercancel\";function p(n,c){t||(t=c,o=n,i=new Date,w(e),s())}function s(){o>=0&&o<i-r&&(c.forEach(function(n){n(o,t)}),c=[])}function l(t){if(t.cancelable){var o=(t.timeStamp>1e12?new Date:performance.now())-t.timeStamp;\"pointerdown\"==t.type?function(t,o){function i(){p(t,o),r()}function c(){r()}function r(){e(a,i,f),e(u,c,f)}n(a,i,f),n(u,c,f)}(o,t):p(o,t)}}function w(n){[\"click\",\"mousedown\",\"keydown\",\"touchstart\",\"pointerdown\"].forEach(function(e){n(e,l,f)})}w(n),self.perfMetrics=self.perfMetrics||{},self.perfMetrics.onFirstInputDelay=function(n){c.push(n),s()}}(addEventListener,removeEventListener);</script><script async=\"\" src=\"https://www.googletagmanager.com/gtag/js?id=AW-594691041\"></script><script nonce=\"16653882979875676128\">window.dataLayer = window.dataLayer || [];\n",
       "\t\tfunction gtag(){dataLayer.push(arguments)};\n",
       "\t\tgtag('js', new Date());</script></head><body><div id=\"container\"><div><div class=\"_1kfTjk\"><div class=\"_1rH5Jn\"><div class=\"_1TmfNK\"></div><div class=\"_2Xfa2_\"><div class=\"_3_C9Hx\"><div class=\"_3qX0zy\"><a href=\"/\"><img alt=\"Flipkart\" class=\"_2xm1JU\" src=\"//static-assets-web.flixcart.com/fk-p-linchpin-web/fk-cp-zion/img/flipkart-plus_8d85f4.png\" title=\"Flipkart\" width=\"75\"/></a><a class=\"_21ljIi\" href=\"/plus\">Explore<!-- --> <span class=\"_2FVHGh\">Plus</span><img src=\"//static-assets-web.flixcart.com/fk-p-linchpin-web/fk-cp-zion/img/plus_aef861.png\" width=\"10\"/></a></div></div><div class=\"_1cmsER\"><form action=\"/search\" class=\"_2M8cLY header-form-search\" method=\"GET\"><div class=\"col-12-12 _2oO9oE\"><div class=\"_3OO5Xc\"><input autocomplete=\"off\" class=\"_3704LK\" name=\"q\" placeholder=\"Search for products, brands and more\" title=\"Search for products, brands and more\" type=\"text\" value=\"realme 8\"/></div><button class=\"L0Z3Pu\" type=\"submit\"><svg class=\"\" height=\"20\" viewbox=\"0 0 17 18\" width=\"20\" xmlns=\"http://www.w3.org/2000/svg\"><g fill=\"#2874F1\" fill-rule=\"evenodd\"><path class=\"_34RNph\" d=\"m11.618 9.897l4.225 4.212c.092.092.101.232.02.313l-1.465 1.46c-.081.081-.221.072-.314-.02l-4.216-4.203\"></path><path class=\"_34RNph\" d=\"m6.486 10.901c-2.42 0-4.381-1.956-4.381-4.368 0-2.413 1.961-4.369 4.381-4.369 2.42 0 4.381 1.956 4.381 4.369 0 2.413-1.961 4.368-4.381 4.368m0-10.835c-3.582 0-6.486 2.895-6.486 6.467 0 3.572 2.904 6.467 6.486 6.467 3.582 0 6.486-2.895 6.486-6.467 0-3.572-2.904-6.467-6.486-6.467\"></path></g></svg></button><input name=\"otracker\" type=\"hidden\" value=\"search\"/><input name=\"otracker1\" type=\"hidden\" value=\"search\"/><input name=\"marketplace\" type=\"hidden\" value=\"FLIPKART\"/><input name=\"as-show\" type=\"hidden\" value=\"off\"/><input name=\"as\" type=\"hidden\" value=\"off\"/></div><ul class=\"col-12-12 _1MRYA1\"></ul></form></div><div class=\"go_DOp _2errNR\"><div class=\"_28p97w\"><div class=\"_1psGvi _3BvnxG\"><div><a class=\"_1_3w1N\" href=\"/account/login?ret=/search%3Fq%3Drealme%2B8%26otracker%3DAS_Query_HistoryAutoSuggest_2_0%26otracker1%3DAS_Query_HistoryAutoSuggest_2_0%26marketplace%3DFLIPKART%26as-show%3Don%26as%3Doff%26as-pos%3D2%26as-type%3DHISTORY\">Login</a></div></div></div></div><div class=\"go_DOp\"><a class=\"_3-PJz-\" href=\"https://seller.flipkart.com/sell-online/?utm_source=fkwebsite&amp;utm_medium=websitedirect\"><span>Become a Seller</span></a></div><div class=\"go_DOp\"><div class=\"_28p97w\"><div class=\"_1psGvi _3BvnxG\"><div><div class=\"exehdJ\"> <!-- -->More<!-- --> </div></div></div><svg class=\"zZ3yfL\" height=\"8\" viewbox=\"0 0 16 27\" width=\"4.7\" xmlns=\"http://www.w3.org/2000/svg\"><path class=\"_2gTTdy\" d=\"M16 23.207L6.11 13.161 16 3.093 12.955 0 0 13.161l12.955 13.161z\" fill=\"#fff\"></path></svg></div></div><div class=\"go_DOp\"><div class=\"_1psGvi\"><div class=\"YUhWwv\"><a class=\"_3SkBxJ\" href=\"/viewcart?exploreMode=true&amp;preference=FLIPKART\"><svg class=\"V3C5bO\" height=\"14\" viewbox=\"0 0 16 16\" width=\"14\" xmlns=\"http://www.w3.org/2000/svg\"><path class=\"_1bS9ic\" d=\"M15.32 2.405H4.887C3 2.405 2.46.805 2.46.805L2.257.21C2.208.085 2.083 0 1.946 0H.336C.1 0-.064.24.024.46l.644 1.945L3.11 9.767c.047.137.175.23.32.23h8.418l-.493 1.958H3.768l.002.003c-.017 0-.033-.003-.05-.003-1.06 0-1.92.86-1.92 1.92s.86 1.92 1.92 1.92c.99 0 1.805-.75 1.91-1.712l5.55.076c.12.922.91 1.636 1.867 1.636 1.04 0 1.885-.844 1.885-1.885 0-.866-.584-1.593-1.38-1.814l2.423-8.832c.12-.433-.206-.86-.655-.86\" fill=\"#fff\"></path></svg><span>Cart</span></a></div></div></div></div><div class=\"_1TmfNK\"></div></div><div class=\"_1mUdNz\"></div></div><div class=\"_331-kn\"></div><div class=\"_36fx1h _6t1WkM _3HqJxg\"><div class=\"_1YokD2 _2GoDe3\"><div class=\"_1YokD2 _3Mn1Gg col-2-12\" style=\"flex:0 0 280px;max-width:280px;padding:0px 10px 0px 0px\"><div class=\"_1YokD2 _3Mn1Gg col-12-12\"><div class=\"_1AtVbE col-12-12\"><div class=\"_1KOcBL\"><section class=\"JWMl0H _2hbLCH\"><div class=\"_2ssEMF\"><div class=\"_3V8rao\"><span>Filters</span></div></div></section><div class=\"_2q_g77\"><section class=\"_2aDURW\"><div class=\"_2lfNTw\"><span>CATEGORIES</span></div><div><div class=\"TB_InB\"><span><svg class=\"_2Iqv73\" height=\"10\" viewbox=\"0 0 16 27\" width=\"10\" xmlns=\"http://www.w3.org/2000/svg\"><path class=\"_3zK8He\" d=\"M16 23.207L6.11 13.161 16 3.093 12.955 0 0 13.161l12.955 13.161z\" fill=\"#fff\"></path></svg></span><a class=\"_2qvBBJ _2Mji8F\" href=\"/mobiles-accessories/pr?sid=tyy&amp;q=realme+8&amp;otracker=categorytree\" title=\"Mobiles &amp; Accessories\">Mobiles &amp; Accessories</a></div></div><div><div class=\"TB_InB\"><span><svg class=\"_2Iqv73\" height=\"10\" viewbox=\"0 0 16 27\" width=\"10\" xmlns=\"http://www.w3.org/2000/svg\"><path class=\"\" d=\"M16 23.207L6.11 13.161 16 3.093 12.955 0 0 13.161l12.955 13.161z\" fill=\"#fff\"></path></svg></span><a class=\"_1jJQdf _2Mji8F\" href=\"/mobiles/pr?sid=tyy,4io&amp;q=realme+8&amp;otracker=categorytree\" title=\"Mobiles\">Mobiles</a></div></div></section></div><section class=\"_2yz7eI _2hbLCH\"><div class=\"_3KxRU6 _2ssEMF\"><div class=\"UR1L2I _3V8rao\"><span>Price</span></div></div><div class=\"_2NBiOm\"><div class=\"_1nneZ0\"><div class=\"_2TbXIJ\" style=\"height:0;width:0\"></div><div class=\"_2TbXIJ\" style=\"height:0;width:0\"></div><div class=\"_2TbXIJ\" style=\"height:0;width:0\"></div><div class=\"_2TbXIJ\" style=\"height:0;width:0\"></div><div class=\"_2TbXIJ\" style=\"height:0;width:0\"></div></div></div><div class=\"_2r34SG\"><div class=\"_12FhcQ\"><div class=\"_31Kbhn _28DFQy\"><div class=\"_3FdLqY\"></div></div><div class=\"_31Kbhn WC_zGJ\"><div class=\"_3FdLqY\"></div></div><div class=\"_2IN3-t\"></div><div class=\"_2IN3-t _1mRwrD\"></div></div><div class=\"_15GU70\"><div class=\"_1ftpgI\" style=\"width:undefinedpx\">.</div><div class=\"_1ftpgI\" style=\"width:undefinedpx\">.</div><div class=\"_1ftpgI\" style=\"width:undefinedpx\">.</div><div class=\"_1ftpgI\" style=\"width:undefinedpx\">.</div><div class=\"_1ftpgI\" style=\"width:undefinedpx\">.</div><div class=\"_1ftpgI\" style=\"width:0px\">.</div></div></div><div class=\"_2b0bUo\"><div class=\"_1YAKP4\"><select class=\"_2YxCDZ\"><option class=\"_3AsjWR\" selected=\"\" value=\"Min\">Min</option><option class=\"_3AsjWR\" value=\"10000\">₹10000</option><option class=\"_3AsjWR\" value=\"15000\">₹15000</option><option class=\"_3AsjWR\" value=\"20000\">₹20000</option><option class=\"_3AsjWR\" value=\"30000\">₹30000</option></select></div><div class=\"_3zohzR\">to</div><div class=\"_3uDYxP\"><select class=\"_2YxCDZ\"><option class=\"_3AsjWR\" value=\"10000\">₹10000</option><option class=\"_3AsjWR\" value=\"15000\">₹15000</option><option class=\"_3AsjWR\" value=\"20000\">₹20000</option><option class=\"_3AsjWR\" value=\"30000\">₹30000</option><option class=\"_3AsjWR\" selected=\"\" value=\"Max\">₹30000+</option></select></div></div></section><section class=\"_167Mu3 _2hbLCH\"><div class=\"_213eRC _2ssEMF\"><div class=\"_2gmUFU _3V8rao\">Brand</div><svg class=\"ttx38n _3DyGEM\" height=\"27\" viewbox=\"0 0 16 27\" width=\"16\" xmlns=\"http://www.w3.org/2000/svg\"><path class=\"IIvmWM\" d=\"M16 23.207L6.11 13.161 16 3.093 12.955 0 0 13.161l12.955 13.161z\" fill=\"#fff\"></path></svg></div><div class=\"_3FPh42\"><div class=\"_2d0we9\"><div class=\"_4921Z t0pPfW\" title=\"realme\"><div class=\"_1Y4Vhm _4FO7b6\"><label class=\"_2iDkf8 t0pPfW\"><input class=\"_30VH1S\" readonly=\"\" type=\"checkbox\"/><div class=\"_24_Dny\"></div><div class=\"_3879cV\">realme</div></label></div></div></div></div></section><section class=\"_2hbLCH _24gLJx\"><label class=\"_2iDkf8 shbqsL\"><input class=\"_30VH1S\" readonly=\"\" type=\"checkbox\"/><div class=\"_24_Dny _3tCU7L\"></div><div class=\"_3879cV\"><div class=\"_3U-Vxu\"><img class=\"_3U-Vxu\" height=\"21\" src=\"//static-assets-web.flixcart.com/fk-p-linchpin-web/fk-cp-zion/img/fa_62673a.png\"/></div></div></label><div class=\"Bv11UC\"><span class=\"question\">?</span></div></section><section class=\"_167Mu3 _2hbLCH\"><div class=\"_213eRC _2ssEMF\"><div class=\"_2gmUFU _3V8rao\">Customer Ratings</div><svg class=\"ttx38n _3DyGEM\" height=\"27\" viewbox=\"0 0 16 27\" width=\"16\" xmlns=\"http://www.w3.org/2000/svg\"><path class=\"IIvmWM\" d=\"M16 23.207L6.11 13.161 16 3.093 12.955 0 0 13.161l12.955 13.161z\" fill=\"#fff\"></path></svg></div><div class=\"_3FPh42\"><div class=\"_2d0we9\"><div class=\"_4921Z t0pPfW\" title=\"4★ &amp; above\"><div class=\"_1Y4Vhm _4FO7b6\"><label class=\"_2iDkf8 t0pPfW\"><input class=\"_30VH1S\" readonly=\"\" type=\"checkbox\"/><div class=\"_24_Dny\"></div><div class=\"_3879cV\">4★ &amp; above</div></label></div></div><div class=\"_4921Z t0pPfW\" title=\"3★ &amp; above\"><div class=\"_1Y4Vhm _4FO7b6\"><label class=\"_2iDkf8 t0pPfW\"><input class=\"_30VH1S\" readonly=\"\" type=\"checkbox\"/><div class=\"_24_Dny\"></div><div class=\"_3879cV\">3★ &amp; above</div></label></div></div></div></div></section><section class=\"_167Mu3 _2hbLCH\"><div class=\"_213eRC _2ssEMF\"><div class=\"_2gmUFU _3V8rao\">GST Invoice Available</div><svg class=\"ttx38n\" height=\"27\" viewbox=\"0 0 16 27\" width=\"16\" xmlns=\"http://www.w3.org/2000/svg\"><path class=\"IIvmWM\" d=\"M16 23.207L6.11 13.161 16 3.093 12.955 0 0 13.161l12.955 13.161z\" fill=\"#fff\"></path></svg></div></section><section class=\"_167Mu3 _2hbLCH\"><div class=\"_213eRC _2ssEMF\"><div class=\"_2gmUFU _3V8rao\">RAM</div><svg class=\"ttx38n _3DyGEM\" height=\"27\" viewbox=\"0 0 16 27\" width=\"16\" xmlns=\"http://www.w3.org/2000/svg\"><path class=\"IIvmWM\" d=\"M16 23.207L6.11 13.161 16 3.093 12.955 0 0 13.161l12.955 13.161z\" fill=\"#fff\"></path></svg></div><div class=\"_3FPh42\"><div class=\"_2d0we9\"><div class=\"_4921Z t0pPfW\" title=\"4 GB\"><div class=\"_1Y4Vhm _4FO7b6\"><label class=\"_2iDkf8 t0pPfW\"><input class=\"_30VH1S\" readonly=\"\" type=\"checkbox\"/><div class=\"_24_Dny\"></div><div class=\"_3879cV\">4 GB</div></label></div></div><div class=\"_4921Z t0pPfW\" title=\"3 GB\"><div class=\"_1Y4Vhm _4FO7b6\"><label class=\"_2iDkf8 t0pPfW\"><input class=\"_30VH1S\" readonly=\"\" type=\"checkbox\"/><div class=\"_24_Dny\"></div><div class=\"_3879cV\">3 GB</div></label></div></div><div class=\"_4921Z t0pPfW\" title=\"2 GB\"><div class=\"_1Y4Vhm _4FO7b6\"><label class=\"_2iDkf8 t0pPfW\"><input class=\"_30VH1S\" readonly=\"\" type=\"checkbox\"/><div class=\"_24_Dny\"></div><div class=\"_3879cV\">2 GB</div></label></div></div><div class=\"_4921Z t0pPfW\" title=\"8 GB and Above\"><div class=\"_1Y4Vhm _4FO7b6\"><label class=\"_2iDkf8 t0pPfW\"><input class=\"_30VH1S\" readonly=\"\" type=\"checkbox\"/><div class=\"_24_Dny\"></div><div class=\"_3879cV\">8 GB and Above</div></label></div></div><div class=\"_4921Z t0pPfW\" title=\"6 GB\"><div class=\"_1Y4Vhm _4FO7b6\"><label class=\"_2iDkf8 t0pPfW\"><input class=\"_30VH1S\" readonly=\"\" type=\"checkbox\"/><div class=\"_24_Dny\"></div><div class=\"_3879cV\">6 GB</div></label></div></div></div></div></section><section class=\"_167Mu3 _2hbLCH\"><div class=\"_213eRC _2ssEMF\"><div class=\"_2gmUFU _3V8rao\">Internal Storage</div><svg class=\"ttx38n\" height=\"27\" viewbox=\"0 0 16 27\" width=\"16\" xmlns=\"http://www.w3.org/2000/svg\"><path class=\"IIvmWM\" d=\"M16 23.207L6.11 13.161 16 3.093 12.955 0 0 13.161l12.955 13.161z\" fill=\"#fff\"></path></svg></div></section><section class=\"_167Mu3 _2hbLCH\"><div class=\"_213eRC _2ssEMF\"><div class=\"_2gmUFU _3V8rao\">Battery Capacity</div><svg class=\"ttx38n\" height=\"27\" viewbox=\"0 0 16 27\" width=\"16\" xmlns=\"http://www.w3.org/2000/svg\"><path class=\"IIvmWM\" d=\"M16 23.207L6.11 13.161 16 3.093 12.955 0 0 13.161l12.955 13.161z\" fill=\"#fff\"></path></svg></div></section><section class=\"_167Mu3 _2hbLCH\"><div class=\"_213eRC _2ssEMF\"><div class=\"_2gmUFU _3V8rao\">Screen Size</div><svg class=\"ttx38n\" height=\"27\" viewbox=\"0 0 16 27\" width=\"16\" xmlns=\"http://www.w3.org/2000/svg\"><path class=\"IIvmWM\" d=\"M16 23.207L6.11 13.161 16 3.093 12.955 0 0 13.161l12.955 13.161z\" fill=\"#fff\"></path></svg></div></section><section class=\"_167Mu3 _2hbLCH\"><div class=\"_213eRC _2ssEMF\"><div class=\"_2gmUFU _3V8rao\">Primary Camera</div><svg class=\"ttx38n\" height=\"27\" viewbox=\"0 0 16 27\" width=\"16\" xmlns=\"http://www.w3.org/2000/svg\"><path class=\"IIvmWM\" d=\"M16 23.207L6.11 13.161 16 3.093 12.955 0 0 13.161l12.955 13.161z\" fill=\"#fff\"></path></svg></div></section><section class=\"_167Mu3 _2hbLCH\"><div class=\"_213eRC _2ssEMF\"><div class=\"_2gmUFU _3V8rao\">Secondary Camera</div><svg class=\"ttx38n\" height=\"27\" viewbox=\"0 0 16 27\" width=\"16\" xmlns=\"http://www.w3.org/2000/svg\"><path class=\"IIvmWM\" d=\"M16 23.207L6.11 13.161 16 3.093 12.955 0 0 13.161l12.955 13.161z\" fill=\"#fff\"></path></svg></div></section><section class=\"_167Mu3 _2hbLCH\"><div class=\"_213eRC _2ssEMF\"><div class=\"_2gmUFU _3V8rao\">Processor Brand</div><svg class=\"ttx38n\" height=\"27\" viewbox=\"0 0 16 27\" width=\"16\" xmlns=\"http://www.w3.org/2000/svg\"><path class=\"IIvmWM\" d=\"M16 23.207L6.11 13.161 16 3.093 12.955 0 0 13.161l12.955 13.161z\" fill=\"#fff\"></path></svg></div></section><section class=\"_167Mu3 _2hbLCH\"><div class=\"_213eRC _2ssEMF\"><div class=\"_2gmUFU _3V8rao\">Speciality</div><svg class=\"ttx38n\" height=\"27\" viewbox=\"0 0 16 27\" width=\"16\" xmlns=\"http://www.w3.org/2000/svg\"><path class=\"IIvmWM\" d=\"M16 23.207L6.11 13.161 16 3.093 12.955 0 0 13.161l12.955 13.161z\" fill=\"#fff\"></path></svg></div></section><section class=\"_167Mu3 _2hbLCH\"><div class=\"_213eRC _2ssEMF\"><div class=\"_2gmUFU _3V8rao\">Resolution Type</div><svg class=\"ttx38n\" height=\"27\" viewbox=\"0 0 16 27\" width=\"16\" xmlns=\"http://www.w3.org/2000/svg\"><path class=\"IIvmWM\" d=\"M16 23.207L6.11 13.161 16 3.093 12.955 0 0 13.161l12.955 13.161z\" fill=\"#fff\"></path></svg></div></section><section class=\"_167Mu3 _2hbLCH\"><div class=\"_213eRC _2ssEMF\"><div class=\"_2gmUFU _3V8rao\">Operating System</div><svg class=\"ttx38n\" height=\"27\" viewbox=\"0 0 16 27\" width=\"16\" xmlns=\"http://www.w3.org/2000/svg\"><path class=\"IIvmWM\" d=\"M16 23.207L6.11 13.161 16 3.093 12.955 0 0 13.161l12.955 13.161z\" fill=\"#fff\"></path></svg></div></section><section class=\"_167Mu3 _2hbLCH\"><div class=\"_213eRC _2ssEMF\"><div class=\"_2gmUFU _3V8rao\">Network Type</div><svg class=\"ttx38n\" height=\"27\" viewbox=\"0 0 16 27\" width=\"16\" xmlns=\"http://www.w3.org/2000/svg\"><path class=\"IIvmWM\" d=\"M16 23.207L6.11 13.161 16 3.093 12.955 0 0 13.161l12.955 13.161z\" fill=\"#fff\"></path></svg></div></section><section class=\"_167Mu3 _2hbLCH\"><div class=\"_213eRC _2ssEMF\"><div class=\"_2gmUFU _3V8rao\">Sim Type</div><svg class=\"ttx38n\" height=\"27\" viewbox=\"0 0 16 27\" width=\"16\" xmlns=\"http://www.w3.org/2000/svg\"><path class=\"IIvmWM\" d=\"M16 23.207L6.11 13.161 16 3.093 12.955 0 0 13.161l12.955 13.161z\" fill=\"#fff\"></path></svg></div></section><section class=\"_167Mu3 _2hbLCH\"><div class=\"_213eRC _2ssEMF\"><div class=\"_2gmUFU _3V8rao\">Offers</div><svg class=\"ttx38n _3DyGEM\" height=\"27\" viewbox=\"0 0 16 27\" width=\"16\" xmlns=\"http://www.w3.org/2000/svg\"><path class=\"IIvmWM\" d=\"M16 23.207L6.11 13.161 16 3.093 12.955 0 0 13.161l12.955 13.161z\" fill=\"#fff\"></path></svg></div><div class=\"_3FPh42\"><div class=\"_2d0we9\"><div class=\"_4921Z t0pPfW\" title=\"Buy More, Save More\"><div class=\"_1Y4Vhm _4FO7b6\"><label class=\"_2iDkf8 t0pPfW\"><input class=\"_30VH1S\" readonly=\"\" type=\"checkbox\"/><div class=\"_24_Dny\"></div><div class=\"_3879cV\">Buy More, Save More</div></label></div></div><div class=\"_4921Z t0pPfW\" title=\"No Cost EMI\"><div class=\"_1Y4Vhm _4FO7b6\"><label class=\"_2iDkf8 t0pPfW\"><input class=\"_30VH1S\" readonly=\"\" type=\"checkbox\"/><div class=\"_24_Dny\"></div><div class=\"_3879cV\">No Cost EMI</div></label></div></div><div class=\"_4921Z t0pPfW\" title=\"Special Price\"><div class=\"_1Y4Vhm _4FO7b6\"><label class=\"_2iDkf8 t0pPfW\"><input class=\"_30VH1S\" readonly=\"\" type=\"checkbox\"/><div class=\"_24_Dny\"></div><div class=\"_3879cV\">Special Price</div></label></div></div></div></div></section><section class=\"_167Mu3 _2hbLCH\"><div class=\"_213eRC _2ssEMF\"><div class=\"_2gmUFU _3V8rao\">Features</div><svg class=\"ttx38n\" height=\"27\" viewbox=\"0 0 16 27\" width=\"16\" xmlns=\"http://www.w3.org/2000/svg\"><path class=\"IIvmWM\" d=\"M16 23.207L6.11 13.161 16 3.093 12.955 0 0 13.161l12.955 13.161z\" fill=\"#fff\"></path></svg></div></section><section class=\"_167Mu3 _2hbLCH\"><div class=\"_213eRC _2ssEMF\"><div class=\"_2gmUFU _3V8rao\">Type</div><svg class=\"ttx38n\" height=\"27\" viewbox=\"0 0 16 27\" width=\"16\" xmlns=\"http://www.w3.org/2000/svg\"><path class=\"IIvmWM\" d=\"M16 23.207L6.11 13.161 16 3.093 12.955 0 0 13.161l12.955 13.161z\" fill=\"#fff\"></path></svg></div></section><section class=\"_167Mu3 _2hbLCH\"><div class=\"_213eRC _2ssEMF\"><div class=\"_2gmUFU _3V8rao\">Number of Cores</div><svg class=\"ttx38n\" height=\"27\" viewbox=\"0 0 16 27\" width=\"16\" xmlns=\"http://www.w3.org/2000/svg\"><path class=\"IIvmWM\" d=\"M16 23.207L6.11 13.161 16 3.093 12.955 0 0 13.161l12.955 13.161z\" fill=\"#fff\"></path></svg></div></section><section class=\"_167Mu3 _2hbLCH\"><div class=\"_213eRC _2ssEMF\"><div class=\"_2gmUFU _3V8rao\">Availability</div><svg class=\"ttx38n\" height=\"27\" viewbox=\"0 0 16 27\" width=\"16\" xmlns=\"http://www.w3.org/2000/svg\"><path class=\"IIvmWM\" d=\"M16 23.207L6.11 13.161 16 3.093 12.955 0 0 13.161l12.955 13.161z\" fill=\"#fff\"></path></svg></div></section><section class=\"_167Mu3 _2hbLCH\"><div class=\"_213eRC _2ssEMF\"><div class=\"_2gmUFU _3V8rao\">Discount</div><svg class=\"ttx38n _3DyGEM\" height=\"27\" viewbox=\"0 0 16 27\" width=\"16\" xmlns=\"http://www.w3.org/2000/svg\"><path class=\"IIvmWM\" d=\"M16 23.207L6.11 13.161 16 3.093 12.955 0 0 13.161l12.955 13.161z\" fill=\"#fff\"></path></svg></div><div class=\"_3FPh42\"><div class=\"_2d0we9\"><div class=\"_4921Z t0pPfW\" title=\"50% or more\"><div class=\"_1Y4Vhm _4FO7b6\"><label class=\"_2iDkf8 t0pPfW\"><input class=\"_30VH1S\" readonly=\"\" type=\"checkbox\"/><div class=\"_24_Dny\"></div><div class=\"_3879cV\">50% or more</div></label></div></div><div class=\"_4921Z t0pPfW\" title=\"40% or more\"><div class=\"_1Y4Vhm _4FO7b6\"><label class=\"_2iDkf8 t0pPfW\"><input class=\"_30VH1S\" readonly=\"\" type=\"checkbox\"/><div class=\"_24_Dny\"></div><div class=\"_3879cV\">40% or more</div></label></div></div><div class=\"_4921Z t0pPfW\" title=\"30% or more\"><div class=\"_1Y4Vhm _4FO7b6\"><label class=\"_2iDkf8 t0pPfW\"><input class=\"_30VH1S\" readonly=\"\" type=\"checkbox\"/><div class=\"_24_Dny\"></div><div class=\"_3879cV\">30% or more</div></label></div></div><div class=\"_4921Z t0pPfW\" title=\"20% or more\"><div class=\"_1Y4Vhm _4FO7b6\"><label class=\"_2iDkf8 t0pPfW\"><input class=\"_30VH1S\" readonly=\"\" type=\"checkbox\"/><div class=\"_24_Dny\"></div><div class=\"_3879cV\">20% or more</div></label></div></div><div class=\"_4921Z t0pPfW\" title=\"10% or more\"><div class=\"_1Y4Vhm _4FO7b6\"><label class=\"_2iDkf8 t0pPfW\"><input class=\"_30VH1S\" readonly=\"\" type=\"checkbox\"/><div class=\"_24_Dny\"></div><div class=\"_3879cV\">10% or more</div></label></div></div></div></div></section><section class=\"_167Mu3 _2hbLCH\"><div class=\"_213eRC _2ssEMF\"><div class=\"_2gmUFU _3V8rao\">Operating System Version Name</div><svg class=\"ttx38n\" height=\"27\" viewbox=\"0 0 16 27\" width=\"16\" xmlns=\"http://www.w3.org/2000/svg\"><path class=\"IIvmWM\" d=\"M16 23.207L6.11 13.161 16 3.093 12.955 0 0 13.161l12.955 13.161z\" fill=\"#fff\"></path></svg></div></section><section class=\"_167Mu3 _2hbLCH\"><div class=\"_213eRC _2ssEMF\"><div class=\"_2gmUFU _3V8rao\">Clock Speed</div><svg class=\"ttx38n\" height=\"27\" viewbox=\"0 0 16 27\" width=\"16\" xmlns=\"http://www.w3.org/2000/svg\"><path class=\"IIvmWM\" d=\"M16 23.207L6.11 13.161 16 3.093 12.955 0 0 13.161l12.955 13.161z\" fill=\"#fff\"></path></svg></div></section></div></div><div class=\"_1AtVbE col-12-12\"><a class=\"_1nY1tt\" href=\"/buying-guide/mobiles?sid=tyy,4io&amp;otracker=bg_from_browse_lhs\" title=\"Buying Guide\"><div><span>Need help?</span></div><div class=\"_1mVNvF\"><span>Help me decide</span><svg class=\"ViewtL\" height=\"27\" viewbox=\"0 0 16 27\" width=\"16\" xmlns=\"http://www.w3.org/2000/svg\"><path class=\"_2Zt1Py\" d=\"M16 23.207L6.11 13.161 16 3.093 12.955 0 0 13.161l12.955 13.161z\" fill=\"#fff\"></path></svg></div><img alt=\"Buying Guide\" src=\"//static-assets-web.flixcart.com/fk-p-linchpin-web/fk-cp-zion/img/buying-guide-illustration_4dd325.png\"/></a></div></div></div><div class=\"_1YokD2 _3Mn1Gg\" style=\"flex-grow:1;overflow:auto\"><div class=\"_1YokD2 _2GoDe3 col-12-12\" style=\"background-color:#ffffff;align-items:flex-end\"><div class=\"_1AtVbE\" style=\"flex-grow:1;overflow:auto\"><div class=\"W_R1IA\"><div class=\"_1MR4o5\"><div class=\"_3GIHBu\"><a class=\"_2whKao\" href=\"/\">Home</a><svg class=\"_39X-Og\" height=\"27\" viewbox=\"0 0 16 27\" width=\"16\" xmlns=\"http://www.w3.org/2000/svg\"><path class=\"DpXnhQ\" d=\"M16 23.207L6.11 13.161 16 3.093 12.955 0 0 13.161l12.955 13.161z\" fill=\"#fff\"></path></svg></div><div class=\"_3GIHBu\"><a class=\"_2whKao\" href=\"/mobiles-accessories/pr?sid=tyy&amp;marketplace=FLIPKART\">Mobiles &amp; Accessories</a><svg class=\"_39X-Og\" height=\"27\" viewbox=\"0 0 16 27\" width=\"16\" xmlns=\"http://www.w3.org/2000/svg\"><path class=\"DpXnhQ\" d=\"M16 23.207L6.11 13.161 16 3.093 12.955 0 0 13.161l12.955 13.161z\" fill=\"#fff\"></path></svg></div><div class=\"_3GIHBu\"><a class=\"_2whKao\" href=\"/mobiles/pr?sid=tyy,4io&amp;marketplace=FLIPKART\">Mobiles</a><svg class=\"_39X-Og\" height=\"27\" viewbox=\"0 0 16 27\" width=\"16\" xmlns=\"http://www.w3.org/2000/svg\"><path class=\"DpXnhQ\" d=\"M16 23.207L6.11 13.161 16 3.093 12.955 0 0 13.161l12.955 13.161z\" fill=\"#fff\"></path></svg></div></div><span class=\"_10Ermr\">Showing 1 – 24 of 507 results for \"<span>realme 8</span>\"</span><div class=\"_5THWM1\"><span class=\"_2i7N3j\">Sort By</span><div class=\"_10UF8M _3LsR0e\">Relevance</div><div class=\"_10UF8M\">Popularity</div><div class=\"_10UF8M\">Price -- Low to High</div><div class=\"_10UF8M\">Price -- High to Low</div><div class=\"_10UF8M\">Newest First</div></div></div></div></div><div class=\"_1AtVbE col-12-12\"><div class=\"_13oc-S\"><div data-id=\"MOBGFH8THP6RWKGG\" style=\"width:100%\"><div class=\"_2kHMtA\"><a class=\"_1fQZEK\" href=\"/realme-8-cyber-silver-128-gb/p/itm63bda3bf5b1db?pid=MOBGFH8THP6RWKGG&amp;lid=LSTMOBGFH8THP6RWKGGENEOTL&amp;marketplace=FLIPKART&amp;q=realme+8&amp;store=tyy%2F4io&amp;srno=s_1_1&amp;otracker=AS_Query_HistoryAutoSuggest_2_0&amp;otracker1=AS_Query_HistoryAutoSuggest_2_0&amp;fm=organic&amp;iid=8f4ab5a5-e2f3-44aa-97f3-683116ac0bc5.MOBGFH8THP6RWKGG.SEARCH&amp;ppt=None&amp;ppn=None&amp;ssid=t5lw3z2fy80000001708176954270&amp;qH=f8f16929313ccb8e\" rel=\"noopener noreferrer\" target=\"_blank\"><div class=\"MIXNux\"><div class=\"_2QcLo-\"><div><div class=\"CXW8mj\" style=\"height:200px;width:200px\"><img alt=\"realme 8 (Cyber Silver, 128 GB)\" class=\"_396cs4\" loading=\"eager\" src=\"https://rukminim2.flixcart.com/image/312/312/kmmcrrk0/mobile/y/o/q/8-rmx3085-realme-original-imagfgpgmm6h8ptt.jpeg?q=70\"/></div></div></div><div class=\"_3wLduG\"><div class=\"_3PzNI-\"><span class=\"f3A4_V\"><label class=\"_2iDkf8\"><input class=\"_30VH1S\" readonly=\"\" type=\"checkbox\"/><div class=\"_24_Dny\"></div></label></span><label class=\"_6Up2sF\"><span>Add to Compare</span></label></div></div><div class=\"_2hVSre _3nq8ih\"><div class=\"_36FSn5\"><svg class=\"_1l0elc\" height=\"16\" viewbox=\"0 0 20 16\" width=\"16\" xmlns=\"http://www.w3.org/2000/svg\"><path class=\"eX72wL\" d=\"M8.695 16.682C4.06 12.382 1 9.536 1 6.065 1 3.219 3.178 1 5.95 1c1.566 0 3.069.746 4.05 1.915C10.981 1.745 12.484 1 14.05 1 16.822 1 19 3.22 19 6.065c0 3.471-3.06 6.316-7.695 10.617L10 17.897l-1.305-1.215z\" fill=\"#2874F0\" fill-rule=\"evenodd\" opacity=\".9\" stroke=\"#FFF\"></path></svg></div></div></div><div class=\"_3pLy-c row\"><div class=\"col col-7-12\"><div class=\"_4rR01T\">realme 8 (Cyber Silver, 128 GB)</div><div class=\"gUuXy-\"><span class=\"_1lRcqv\" id=\"productRating_LSTMOBGFH8THP6RWKGGENEOTL_MOBGFH8THP6RWKGG_\"><div class=\"_3LWZlK\">4.4<img class=\"_1wB99o\" src=\"data:image/svg+xml;base64,PHN2ZyB4bWxucz0iaHR0cDovL3d3dy53My5vcmcvMjAwMC9zdmciIHdpZHRoPSIxMyIgaGVpZ2h0PSIxMiI+PHBhdGggZmlsbD0iI0ZGRiIgZD0iTTYuNSA5LjQzOWwtMy42NzQgMi4yMy45NC00LjI2LTMuMjEtMi44ODMgNC4yNTQtLjQwNEw2LjUuMTEybDEuNjkgNC4wMSA0LjI1NC40MDQtMy4yMSAyLjg4Mi45NCA0LjI2eiIvPjwvc3ZnPg==\"/></div></span><span class=\"_2_R_DZ\"><span><span>1,23,240 Ratings </span><span class=\"_13vcmD\">&amp;</span><span> 9,976 Reviews</span></span></span></div><div class=\"fMghEO\"><ul class=\"_1xgFaf\"><li class=\"rgWa7D\">6 GB RAM | 128 GB ROM | Expandable Upto 256 GB</li><li class=\"rgWa7D\">16.26 cm (6.4 inch) Full HD+ Display</li><li class=\"rgWa7D\">64MP + 8MP + 2MP + 2MP | 16MP Front Camera</li><li class=\"rgWa7D\">5000 mAh Battery</li><li class=\"rgWa7D\">MediaTek Helio G95 Processor</li><li class=\"rgWa7D\">Super AMOLED Display</li><li class=\"rgWa7D\">1 Year Warranty for Mobile and 6 Months for Accessories</li></ul></div></div><div class=\"col col-5-12 nlI3QM\"><div class=\"_3tbKJL\"><div class=\"_25b18c\"><div class=\"_30jeq3 _1_WHN1\">₹14,499</div><div class=\"_3I9_wc _27UcVY\">₹<!-- -->17,999</div><div class=\"_3Ay6Sb\"><span>19% off</span></div></div></div><div class=\"_13J9qT\"><img height=\"21\" src=\"//static-assets-web.flixcart.com/fk-p-linchpin-web/fk-cp-zion/img/fa_62673a.png\"/></div></div></div></a></div></div></div></div><div class=\"_1AtVbE col-12-12\"><div class=\"_13oc-S\"><div data-id=\"MOBGYV98456KWXBC\" style=\"width:100%\"><div class=\"_2kHMtA\"><a class=\"_1fQZEK\" href=\"/realme-8-cyber-black-128-gb/p/itm63bda3bf5b1db?pid=MOBGYV98456KWXBC&amp;lid=LSTMOBGYV98456KWXBCUHKFKP&amp;marketplace=FLIPKART&amp;q=realme+8&amp;store=tyy%2F4io&amp;srno=s_1_2&amp;otracker=AS_Query_HistoryAutoSuggest_2_0&amp;otracker1=AS_Query_HistoryAutoSuggest_2_0&amp;fm=organic&amp;iid=8f4ab5a5-e2f3-44aa-97f3-683116ac0bc5.MOBGYV98456KWXBC.SEARCH&amp;ppt=None&amp;ppn=None&amp;ssid=t5lw3z2fy80000001708176954270&amp;qH=f8f16929313ccb8e\" rel=\"noopener noreferrer\" target=\"_blank\"><div class=\"MIXNux\"><div class=\"_2QcLo-\"><div><div class=\"CXW8mj\" style=\"height:200px;width:200px\"><img alt=\"realme 8 (Cyber Black, 128 GB)\" class=\"_396cs4\" loading=\"eager\" src=\"https://rukminim2.flixcart.com/image/312/312/kmmcrrk0/mobile/4/g/a/8-rmx3085-realme-original-imagfgpfdkyc29zc.jpeg?q=70\"/></div></div><div class=\"_3G6awp\"><span class=\"u05wbu\">Coming Soon</span></div></div><div class=\"_3wLduG\"><div class=\"_3PzNI-\"><span class=\"f3A4_V\"><label class=\"_2iDkf8\"><input class=\"_30VH1S\" readonly=\"\" type=\"checkbox\"/><div class=\"_24_Dny\"></div></label></span><label class=\"_6Up2sF\"><span>Add to Compare</span></label></div></div><div class=\"_2hVSre _3nq8ih\"><div class=\"_36FSn5\"><svg class=\"_1l0elc\" height=\"16\" viewbox=\"0 0 20 16\" width=\"16\" xmlns=\"http://www.w3.org/2000/svg\"><path class=\"eX72wL\" d=\"M8.695 16.682C4.06 12.382 1 9.536 1 6.065 1 3.219 3.178 1 5.95 1c1.566 0 3.069.746 4.05 1.915C10.981 1.745 12.484 1 14.05 1 16.822 1 19 3.22 19 6.065c0 3.471-3.06 6.316-7.695 10.617L10 17.897l-1.305-1.215z\" fill=\"#2874F0\" fill-rule=\"evenodd\" opacity=\".9\" stroke=\"#FFF\"></path></svg></div></div></div><div class=\"_3pLy-c row\"><div class=\"col col-7-12\"><div class=\"_4rR01T\">realme 8 (Cyber Black, 128 GB)</div><div class=\"gUuXy-\"><span class=\"_1lRcqv\" id=\"productRating_LSTMOBGYV98456KWXBCUHKFKP_MOBGYV98456KWXBC_\"><div class=\"_3LWZlK\">4.4<img class=\"_1wB99o\" src=\"data:image/svg+xml;base64,PHN2ZyB4bWxucz0iaHR0cDovL3d3dy53My5vcmcvMjAwMC9zdmciIHdpZHRoPSIxMyIgaGVpZ2h0PSIxMiI+PHBhdGggZmlsbD0iI0ZGRiIgZD0iTTYuNSA5LjQzOWwtMy42NzQgMi4yMy45NC00LjI2LTMuMjEtMi44ODMgNC4yNTQtLjQwNEw2LjUuMTEybDEuNjkgNC4wMSA0LjI1NC40MDQtMy4yMSAyLjg4Mi45NCA0LjI2eiIvPjwvc3ZnPg==\"/></div></span><span class=\"_2_R_DZ\"><span><span>97,237 Ratings </span><span class=\"_13vcmD\">&amp;</span><span> 8,429 Reviews</span></span></span></div><div class=\"fMghEO\"><ul class=\"_1xgFaf\"><li class=\"rgWa7D\">8 GB RAM | 128 GB ROM | Expandable Upto 256 GB</li><li class=\"rgWa7D\">16.26 cm (6.4 inch) Full HD+ Display</li><li class=\"rgWa7D\">64MP + 8MP + 2MP + 2MP | 16MP Front Camera</li><li class=\"rgWa7D\">5000 mAh Battery</li><li class=\"rgWa7D\">MediaTek Helio G95 Processor</li><li class=\"rgWa7D\">Super AMOLED Display</li><li class=\"rgWa7D\">1 Year Warranty for Mobile and 6 Months for Accessories</li></ul></div></div><div class=\"col col-5-12 nlI3QM\"><div class=\"_3tbKJL\"><div class=\"_25b18c\"><div class=\"_30jeq3 _1_WHN1\">₹15,499</div><div class=\"_3I9_wc _27UcVY\">₹<!-- -->18,999</div><div class=\"_3Ay6Sb\"><span>18% off</span></div></div></div><div class=\"_13J9qT\"><img height=\"21\" src=\"//static-assets-web.flixcart.com/fk-p-linchpin-web/fk-cp-zion/img/fa_62673a.png\"/></div></div></div></a></div></div></div></div><div class=\"_1AtVbE col-12-12\"><div class=\"_13oc-S\"><div data-id=\"MOBGYV98UUYXFYGX\" style=\"width:100%\"><div class=\"_2kHMtA\"><a class=\"_1fQZEK\" href=\"/realme-8-cyber-silver-128-gb/p/itm63bda3bf5b1db?pid=MOBGYV98UUYXFYGX&amp;lid=LSTMOBGYV98UUYXFYGXKS0ST9&amp;marketplace=FLIPKART&amp;q=realme+8&amp;store=tyy%2F4io&amp;srno=s_1_3&amp;otracker=AS_Query_HistoryAutoSuggest_2_0&amp;otracker1=AS_Query_HistoryAutoSuggest_2_0&amp;fm=organic&amp;iid=8f4ab5a5-e2f3-44aa-97f3-683116ac0bc5.MOBGYV98UUYXFYGX.SEARCH&amp;ppt=None&amp;ppn=None&amp;ssid=t5lw3z2fy80000001708176954270&amp;qH=f8f16929313ccb8e\" rel=\"noopener noreferrer\" target=\"_blank\"><div class=\"MIXNux\"><div class=\"_2QcLo-\"><div><div class=\"CXW8mj\" style=\"height:200px;width:200px\"><img alt=\"realme 8 (Cyber Silver, 128 GB)\" class=\"_396cs4\" loading=\"eager\" src=\"https://rukminim2.flixcart.com/image/312/312/kmmcrrk0/mobile/y/o/q/8-rmx3085-realme-original-imagfgpgmm6h8ptt.jpeg?q=70\"/></div></div><div class=\"_3G6awp\"><span class=\"u05wbu\">Coming Soon</span></div></div><div class=\"_3wLduG\"><div class=\"_3PzNI-\"><span class=\"f3A4_V\"><label class=\"_2iDkf8\"><input class=\"_30VH1S\" readonly=\"\" type=\"checkbox\"/><div class=\"_24_Dny\"></div></label></span><label class=\"_6Up2sF\"><span>Add to Compare</span></label></div></div><div class=\"_2hVSre _3nq8ih\"><div class=\"_36FSn5\"><svg class=\"_1l0elc\" height=\"16\" viewbox=\"0 0 20 16\" width=\"16\" xmlns=\"http://www.w3.org/2000/svg\"><path class=\"eX72wL\" d=\"M8.695 16.682C4.06 12.382 1 9.536 1 6.065 1 3.219 3.178 1 5.95 1c1.566 0 3.069.746 4.05 1.915C10.981 1.745 12.484 1 14.05 1 16.822 1 19 3.22 19 6.065c0 3.471-3.06 6.316-7.695 10.617L10 17.897l-1.305-1.215z\" fill=\"#2874F0\" fill-rule=\"evenodd\" opacity=\".9\" stroke=\"#FFF\"></path></svg></div></div></div><div class=\"_3pLy-c row\"><div class=\"col col-7-12\"><div class=\"_4rR01T\">realme 8 (Cyber Silver, 128 GB)</div><div class=\"gUuXy-\"><span class=\"_1lRcqv\" id=\"productRating_LSTMOBGYV98UUYXFYGXKS0ST9_MOBGYV98UUYXFYGX_\"><div class=\"_3LWZlK\">4.4<img class=\"_1wB99o\" src=\"data:image/svg+xml;base64,PHN2ZyB4bWxucz0iaHR0cDovL3d3dy53My5vcmcvMjAwMC9zdmciIHdpZHRoPSIxMyIgaGVpZ2h0PSIxMiI+PHBhdGggZmlsbD0iI0ZGRiIgZD0iTTYuNSA5LjQzOWwtMy42NzQgMi4yMy45NC00LjI2LTMuMjEtMi44ODMgNC4yNTQtLjQwNEw2LjUuMTEybDEuNjkgNC4wMSA0LjI1NC40MDQtMy4yMSAyLjg4Mi45NCA0LjI2eiIvPjwvc3ZnPg==\"/></div></span><span class=\"_2_R_DZ\"><span><span>97,237 Ratings </span><span class=\"_13vcmD\">&amp;</span><span> 8,429 Reviews</span></span></span></div><div class=\"fMghEO\"><ul class=\"_1xgFaf\"><li class=\"rgWa7D\">8 GB RAM | 128 GB ROM | Expandable Upto 256 GB</li><li class=\"rgWa7D\">16.26 cm (6.4 inch) Full HD+ Display</li><li class=\"rgWa7D\">64MP + 8MP + 2MP + 2MP | 16MP Front Camera</li><li class=\"rgWa7D\">5000 mAh Battery</li><li class=\"rgWa7D\">MediaTek Helio G95 Processor</li><li class=\"rgWa7D\">Super AMOLED Display</li><li class=\"rgWa7D\">1 Year Warranty for Mobile and 6 Months for Accessories</li></ul></div></div><div class=\"col col-5-12 nlI3QM\"><div class=\"_3tbKJL\"><div class=\"_25b18c\"><div class=\"_30jeq3 _1_WHN1\">₹15,499</div><div class=\"_3I9_wc _27UcVY\">₹<!-- -->18,999</div><div class=\"_3Ay6Sb\"><span>18% off</span></div></div></div><div class=\"_13J9qT\"><img height=\"21\" src=\"//static-assets-web.flixcart.com/fk-p-linchpin-web/fk-cp-zion/img/fa_62673a.png\"/></div></div></div></a></div></div></div></div><div class=\"_1AtVbE col-12-12\"><div class=\"_13oc-S\"><div data-id=\"MOBG5Y94BMGBRSKP\" style=\"width:100%\"><div class=\"_2kHMtA\"><a class=\"_1fQZEK\" href=\"/realme-8s-5g-universe-purple-128-gb/p/itm79fdf59bdbe44?pid=MOBG5Y94BMGBRSKP&amp;lid=LSTMOBG5Y94BMGBRSKPIUCBOW&amp;marketplace=FLIPKART&amp;q=realme+8&amp;store=tyy%2F4io&amp;srno=s_1_4&amp;otracker=AS_Query_HistoryAutoSuggest_2_0&amp;otracker1=AS_Query_HistoryAutoSuggest_2_0&amp;fm=organic&amp;iid=8f4ab5a5-e2f3-44aa-97f3-683116ac0bc5.MOBG5Y94BMGBRSKP.SEARCH&amp;ppt=None&amp;ppn=None&amp;ssid=t5lw3z2fy80000001708176954270&amp;qH=f8f16929313ccb8e\" rel=\"noopener noreferrer\" target=\"_blank\"><div class=\"MIXNux\"><div class=\"_2QcLo-\"><div><div class=\"CXW8mj\" style=\"height:200px;width:200px\"><img alt=\"realme 8s 5G (Universe Purple, 128 GB)\" class=\"_396cs4\" loading=\"eager\" src=\"https://rukminim2.flixcart.com/image/312/312/ktbu6q80/mobile/f/s/e/8s-5g-rmx3381-realme-original-imag6zhgra57dtqe.jpeg?q=70\"/></div></div><div class=\"_3G6awp\"><span class=\"u05wbu\">Coming Soon</span></div></div><div class=\"_3wLduG\"><div class=\"_3PzNI-\"><span class=\"f3A4_V\"><label class=\"_2iDkf8\"><input class=\"_30VH1S\" readonly=\"\" type=\"checkbox\"/><div class=\"_24_Dny\"></div></label></span><label class=\"_6Up2sF\"><span>Add to Compare</span></label></div></div><div class=\"_2hVSre _3nq8ih\"><div class=\"_36FSn5\"><svg class=\"_1l0elc\" height=\"16\" viewbox=\"0 0 20 16\" width=\"16\" xmlns=\"http://www.w3.org/2000/svg\"><path class=\"eX72wL\" d=\"M8.695 16.682C4.06 12.382 1 9.536 1 6.065 1 3.219 3.178 1 5.95 1c1.566 0 3.069.746 4.05 1.915C10.981 1.745 12.484 1 14.05 1 16.822 1 19 3.22 19 6.065c0 3.471-3.06 6.316-7.695 10.617L10 17.897l-1.305-1.215z\" fill=\"#2874F0\" fill-rule=\"evenodd\" opacity=\".9\" stroke=\"#FFF\"></path></svg></div></div></div><div class=\"_3pLy-c row\"><div class=\"col col-7-12\"><div class=\"_4rR01T\">realme 8s 5G (Universe Purple, 128 GB)</div><div class=\"gUuXy-\"><span class=\"_1lRcqv\" id=\"productRating_LSTMOBG5Y94BMGBRSKPIUCBOW_MOBG5Y94BMGBRSKP_\"><div class=\"_3LWZlK\">4.4<img class=\"_1wB99o\" src=\"data:image/svg+xml;base64,PHN2ZyB4bWxucz0iaHR0cDovL3d3dy53My5vcmcvMjAwMC9zdmciIHdpZHRoPSIxMyIgaGVpZ2h0PSIxMiI+PHBhdGggZmlsbD0iI0ZGRiIgZD0iTTYuNSA5LjQzOWwtMy42NzQgMi4yMy45NC00LjI2LTMuMjEtMi44ODMgNC4yNTQtLjQwNEw2LjUuMTEybDEuNjkgNC4wMSA0LjI1NC40MDQtMy4yMSAyLjg4Mi45NCA0LjI2eiIvPjwvc3ZnPg==\"/></div></span><span class=\"_2_R_DZ\"><span><span>54,701 Ratings </span><span class=\"_13vcmD\">&amp;</span><span> 4,809 Reviews</span></span></span></div><div class=\"fMghEO\"><ul class=\"_1xgFaf\"><li class=\"rgWa7D\">8 GB RAM | 128 GB ROM | Expandable Upto 1 TB</li><li class=\"rgWa7D\">16.51 cm (6.5 inch) Full HD+ Display</li><li class=\"rgWa7D\">64MP + 2MP + 2MP | 16MP Front Camera</li><li class=\"rgWa7D\">5000 mAh Battery</li><li class=\"rgWa7D\">MediaTek Dimensity 810 5G Processor</li><li class=\"rgWa7D\">33 W Charger</li><li class=\"rgWa7D\">1 Year Warranty for Mobile and 6 Months for Accessories</li></ul></div></div><div class=\"col col-5-12 nlI3QM\"><div class=\"_3tbKJL\"><div class=\"_25b18c\"><div class=\"_30jeq3 _1_WHN1\">₹19,999</div><div class=\"_3I9_wc _27UcVY\">₹<!-- -->22,999</div><div class=\"_3Ay6Sb\"><span>13% off</span></div></div></div><div class=\"_13J9qT\"><img height=\"21\" src=\"//static-assets-web.flixcart.com/fk-p-linchpin-web/fk-cp-zion/img/fa_62673a.png\"/></div></div></div></a></div></div></div></div><div class=\"_1AtVbE col-12-12\"><div class=\"_13oc-S\"><div data-id=\"MOBG5Y94RHMNGS6H\" style=\"width:100%\"><div class=\"_2kHMtA\"><a class=\"_1fQZEK\" href=\"/realme-8s-5g-universe-blue-128-gb/p/itm79fdf59bdbe44?pid=MOBG5Y94RHMNGS6H&amp;lid=LSTMOBG5Y94RHMNGS6HNEHTZU&amp;marketplace=FLIPKART&amp;q=realme+8&amp;store=tyy%2F4io&amp;srno=s_1_5&amp;otracker=AS_Query_HistoryAutoSuggest_2_0&amp;otracker1=AS_Query_HistoryAutoSuggest_2_0&amp;fm=organic&amp;iid=8f4ab5a5-e2f3-44aa-97f3-683116ac0bc5.MOBG5Y94RHMNGS6H.SEARCH&amp;ppt=None&amp;ppn=None&amp;ssid=t5lw3z2fy80000001708176954270&amp;qH=f8f16929313ccb8e\" rel=\"noopener noreferrer\" target=\"_blank\"><div class=\"MIXNux\"><div class=\"_2QcLo-\"><div><div class=\"CXW8mj\" style=\"height:200px;width:200px\"><img alt=\"realme 8s 5G (Universe Blue, 128 GB)\" class=\"_396cs4\" loading=\"eager\" src=\"https://rukminim2.flixcart.com/image/312/312/ktbu6q80/mobile/2/m/c/8s-5g-rmx3381-realme-original-imag6zhgghpzegzp.jpeg?q=70\"/></div></div><div class=\"_3G6awp\"><span class=\"u05wbu\">Coming Soon</span></div></div><div class=\"_3wLduG\"><div class=\"_3PzNI-\"><span class=\"f3A4_V\"><label class=\"_2iDkf8\"><input class=\"_30VH1S\" readonly=\"\" type=\"checkbox\"/><div class=\"_24_Dny\"></div></label></span><label class=\"_6Up2sF\"><span>Add to Compare</span></label></div></div><div class=\"_2hVSre _3nq8ih\"><div class=\"_36FSn5\"><svg class=\"_1l0elc\" height=\"16\" viewbox=\"0 0 20 16\" width=\"16\" xmlns=\"http://www.w3.org/2000/svg\"><path class=\"eX72wL\" d=\"M8.695 16.682C4.06 12.382 1 9.536 1 6.065 1 3.219 3.178 1 5.95 1c1.566 0 3.069.746 4.05 1.915C10.981 1.745 12.484 1 14.05 1 16.822 1 19 3.22 19 6.065c0 3.471-3.06 6.316-7.695 10.617L10 17.897l-1.305-1.215z\" fill=\"#2874F0\" fill-rule=\"evenodd\" opacity=\".9\" stroke=\"#FFF\"></path></svg></div></div></div><div class=\"_3pLy-c row\"><div class=\"col col-7-12\"><div class=\"_4rR01T\">realme 8s 5G (Universe Blue, 128 GB)</div><div class=\"gUuXy-\"><span class=\"_1lRcqv\" id=\"productRating_LSTMOBG5Y94RHMNGS6HNEHTZU_MOBG5Y94RHMNGS6H_\"><div class=\"_3LWZlK\">4.4<img class=\"_1wB99o\" src=\"data:image/svg+xml;base64,PHN2ZyB4bWxucz0iaHR0cDovL3d3dy53My5vcmcvMjAwMC9zdmciIHdpZHRoPSIxMyIgaGVpZ2h0PSIxMiI+PHBhdGggZmlsbD0iI0ZGRiIgZD0iTTYuNSA5LjQzOWwtMy42NzQgMi4yMy45NC00LjI2LTMuMjEtMi44ODMgNC4yNTQtLjQwNEw2LjUuMTEybDEuNjkgNC4wMSA0LjI1NC40MDQtMy4yMSAyLjg4Mi45NCA0LjI2eiIvPjwvc3ZnPg==\"/></div></span><span class=\"_2_R_DZ\"><span><span>54,701 Ratings </span><span class=\"_13vcmD\">&amp;</span><span> 4,809 Reviews</span></span></span></div><div class=\"fMghEO\"><ul class=\"_1xgFaf\"><li class=\"rgWa7D\">8 GB RAM | 128 GB ROM | Expandable Upto 1 TB</li><li class=\"rgWa7D\">16.51 cm (6.5 inch) Full HD+ Display</li><li class=\"rgWa7D\">64MP + 2MP + 2MP | 16MP Front Camera</li><li class=\"rgWa7D\">5000 mAh Battery</li><li class=\"rgWa7D\">MediaTek Dimensity 810 5G Processor</li><li class=\"rgWa7D\">33 W Charger</li><li class=\"rgWa7D\">1 Year Warranty for Mobile and 6 Months for Accessories</li></ul></div></div><div class=\"col col-5-12 nlI3QM\"><div class=\"_3tbKJL\"><div class=\"_25b18c\"><div class=\"_30jeq3 _1_WHN1\">₹19,999</div><div class=\"_3I9_wc _27UcVY\">₹<!-- -->22,999</div><div class=\"_3Ay6Sb\"><span>13% off</span></div></div></div><div class=\"_13J9qT\"><img height=\"21\" src=\"//static-assets-web.flixcart.com/fk-p-linchpin-web/fk-cp-zion/img/fa_62673a.png\"/></div></div></div></a></div></div></div></div><div class=\"_1AtVbE col-12-12\"><div class=\"_13oc-S\"><div data-id=\"MOBGYV98YPZ5R9BG\" style=\"width:100%\"><div class=\"_2kHMtA\"><a class=\"_1fQZEK\" href=\"/realme-8-pro-infinite-blue-128-gb/p/itmaa9c73f5a987c?pid=MOBGYV98YPZ5R9BG&amp;lid=LSTMOBGYV98YPZ5R9BGZO4FHL&amp;marketplace=FLIPKART&amp;q=realme+8&amp;store=tyy%2F4io&amp;spotlightTagId=FkPickId_tyy%2F4io&amp;srno=s_1_6&amp;otracker=AS_Query_HistoryAutoSuggest_2_0&amp;otracker1=AS_Query_HistoryAutoSuggest_2_0&amp;fm=organic&amp;iid=8f4ab5a5-e2f3-44aa-97f3-683116ac0bc5.MOBGYV98YPZ5R9BG.SEARCH&amp;ppt=None&amp;ppn=None&amp;ssid=t5lw3z2fy80000001708176954270&amp;qH=f8f16929313ccb8e\" rel=\"noopener noreferrer\" target=\"_blank\"><div></div><div class=\"MIXNux\"><div class=\"_2QcLo-\"><div><div class=\"CXW8mj\" style=\"height:200px;width:200px\"><img alt=\"realme 8 Pro (Infinite Blue, 128 GB)\" class=\"_396cs4\" loading=\"eager\" src=\"https://rukminim2.flixcart.com/image/312/312/kmmcrrk0/mobile/d/e/m/8-pro-rmx3081-realme-original-imagfgpgfexvzngd.jpeg?q=70\"/></div></div><div class=\"_3G6awp\"><span class=\"u05wbu\">Coming Soon</span></div></div><div class=\"_3wLduG\"><div class=\"_3PzNI-\"><span class=\"f3A4_V\"><label class=\"_2iDkf8\"><input class=\"_30VH1S\" readonly=\"\" type=\"checkbox\"/><div class=\"_24_Dny\"></div></label></span><label class=\"_6Up2sF\"><span>Add to Compare</span></label></div></div><div class=\"_2hVSre _3nq8ih\"><div class=\"_36FSn5\"><svg class=\"_1l0elc\" height=\"16\" viewbox=\"0 0 20 16\" width=\"16\" xmlns=\"http://www.w3.org/2000/svg\"><path class=\"eX72wL\" d=\"M8.695 16.682C4.06 12.382 1 9.536 1 6.065 1 3.219 3.178 1 5.95 1c1.566 0 3.069.746 4.05 1.915C10.981 1.745 12.484 1 14.05 1 16.822 1 19 3.22 19 6.065c0 3.471-3.06 6.316-7.695 10.617L10 17.897l-1.305-1.215z\" fill=\"#2874F0\" fill-rule=\"evenodd\" opacity=\".9\" stroke=\"#FFF\"></path></svg></div></div></div><div class=\"_3pLy-c row\"><div class=\"col col-7-12\"><div class=\"_4rR01T\">realme 8 Pro (Infinite Blue, 128 GB)</div><div class=\"gUuXy-\"><span class=\"_1lRcqv\" id=\"productRating_LSTMOBGYV98YPZ5R9BGZO4FHL_MOBGYV98YPZ5R9BG_\"><div class=\"_3LWZlK\">4.4<img class=\"_1wB99o\" src=\"data:image/svg+xml;base64,PHN2ZyB4bWxucz0iaHR0cDovL3d3dy53My5vcmcvMjAwMC9zdmciIHdpZHRoPSIxMyIgaGVpZ2h0PSIxMiI+PHBhdGggZmlsbD0iI0ZGRiIgZD0iTTYuNSA5LjQzOWwtMy42NzQgMi4yMy45NC00LjI2LTMuMjEtMi44ODMgNC4yNTQtLjQwNEw2LjUuMTEybDEuNjkgNC4wMSA0LjI1NC40MDQtMy4yMSAyLjg4Mi45NCA0LjI2eiIvPjwvc3ZnPg==\"/></div></span><span class=\"_2_R_DZ\"><span><span>40,746 Ratings </span><span class=\"_13vcmD\">&amp;</span><span> 3,369 Reviews</span></span></span></div><div class=\"fMghEO\"><ul class=\"_1xgFaf\"><li class=\"rgWa7D\">8 GB RAM | 128 GB ROM | Expandable Upto 256 GB</li><li class=\"rgWa7D\">16.26 cm (6.4 inch) Full HD+ Display</li><li class=\"rgWa7D\">108MP + 8MP + 2MP + 2MP | 16MP Front Camera</li><li class=\"rgWa7D\">4500 mAh Battery</li><li class=\"rgWa7D\">Qualcomm Snapdragon 720G Processor</li><li class=\"rgWa7D\">Super AMOLED Display</li><li class=\"rgWa7D\">1 Year Warranty for Mobile and 6 Months for Accessories</li></ul></div></div><div class=\"col col-5-12 nlI3QM\"><div class=\"_3tbKJL\"><div class=\"_25b18c\"><div class=\"_30jeq3 _1_WHN1\">₹19,999</div><div class=\"_3I9_wc _27UcVY\">₹<!-- -->21,999</div><div class=\"_3Ay6Sb\"><span>9% off</span></div></div></div><div class=\"_13J9qT\"><img height=\"21\" src=\"//static-assets-web.flixcart.com/fk-p-linchpin-web/fk-cp-zion/img/fa_62673a.png\"/></div></div></div></a></div></div></div></div><div class=\"_1AtVbE col-12-12\"><div class=\"_13oc-S\"><div data-id=\"MOBG5Y94WJ6GJ8MK\" style=\"width:100%\"><div class=\"_2kHMtA\"><a class=\"_1fQZEK\" href=\"/realme-8s-5g-universe-purple-128-gb/p/itm79fdf59bdbe44?pid=MOBG5Y94WJ6GJ8MK&amp;lid=LSTMOBG5Y94WJ6GJ8MKD4DMXT&amp;marketplace=FLIPKART&amp;q=realme+8&amp;store=tyy%2F4io&amp;spotlightTagId=TrendingId_tyy%2F4io&amp;srno=s_1_7&amp;otracker=AS_Query_HistoryAutoSuggest_2_0&amp;otracker1=AS_Query_HistoryAutoSuggest_2_0&amp;fm=organic&amp;iid=8f4ab5a5-e2f3-44aa-97f3-683116ac0bc5.MOBG5Y94WJ6GJ8MK.SEARCH&amp;ppt=None&amp;ppn=None&amp;ssid=t5lw3z2fy80000001708176954270&amp;qH=f8f16929313ccb8e\" rel=\"noopener noreferrer\" target=\"_blank\"><div></div><div class=\"MIXNux\"><div class=\"_2QcLo-\"><div><div class=\"CXW8mj\" style=\"height:200px;width:200px\"><img alt=\"realme 8s 5G (Universe Purple, 128 GB)\" class=\"_396cs4\" loading=\"eager\" src=\"https://rukminim2.flixcart.com/image/312/312/ktbu6q80/mobile/f/s/e/8s-5g-rmx3381-realme-original-imag6zhgra57dtqe.jpeg?q=70\"/></div></div></div><div class=\"_3wLduG\"><div class=\"_3PzNI-\"><span class=\"f3A4_V\"><label class=\"_2iDkf8\"><input class=\"_30VH1S\" readonly=\"\" type=\"checkbox\"/><div class=\"_24_Dny\"></div></label></span><label class=\"_6Up2sF\"><span>Add to Compare</span></label></div></div><div class=\"_2hVSre _3nq8ih\"><div class=\"_36FSn5\"><svg class=\"_1l0elc\" height=\"16\" viewbox=\"0 0 20 16\" width=\"16\" xmlns=\"http://www.w3.org/2000/svg\"><path class=\"eX72wL\" d=\"M8.695 16.682C4.06 12.382 1 9.536 1 6.065 1 3.219 3.178 1 5.95 1c1.566 0 3.069.746 4.05 1.915C10.981 1.745 12.484 1 14.05 1 16.822 1 19 3.22 19 6.065c0 3.471-3.06 6.316-7.695 10.617L10 17.897l-1.305-1.215z\" fill=\"#2874F0\" fill-rule=\"evenodd\" opacity=\".9\" stroke=\"#FFF\"></path></svg></div></div></div><div class=\"_3pLy-c row\"><div class=\"col col-7-12\"><div class=\"_4rR01T\">realme 8s 5G (Universe Purple, 128 GB)</div><div class=\"gUuXy-\"><span class=\"_1lRcqv\" id=\"productRating_LSTMOBG5Y94WJ6GJ8MKD4DMXT_MOBG5Y94WJ6GJ8MK_\"><div class=\"_3LWZlK\">4.4<img class=\"_1wB99o\" src=\"data:image/svg+xml;base64,PHN2ZyB4bWxucz0iaHR0cDovL3d3dy53My5vcmcvMjAwMC9zdmciIHdpZHRoPSIxMyIgaGVpZ2h0PSIxMiI+PHBhdGggZmlsbD0iI0ZGRiIgZD0iTTYuNSA5LjQzOWwtMy42NzQgMi4yMy45NC00LjI2LTMuMjEtMi44ODMgNC4yNTQtLjQwNEw2LjUuMTEybDEuNjkgNC4wMSA0LjI1NC40MDQtMy4yMSAyLjg4Mi45NCA0LjI2eiIvPjwvc3ZnPg==\"/></div></span><span class=\"_2_R_DZ\"><span><span>78,246 Ratings </span><span class=\"_13vcmD\">&amp;</span><span> 6,238 Reviews</span></span></span></div><div class=\"fMghEO\"><ul class=\"_1xgFaf\"><li class=\"rgWa7D\">6 GB RAM | 128 GB ROM | Expandable Upto 1 TB</li><li class=\"rgWa7D\">16.51 cm (6.5 inch) Full HD+ Display</li><li class=\"rgWa7D\">64MP + 2MP + 2MP | 16MP Front Camera</li><li class=\"rgWa7D\">5000 mAh Battery</li><li class=\"rgWa7D\">MediaTek Dimensity 810 5G Processor</li><li class=\"rgWa7D\">33 W Charger</li><li class=\"rgWa7D\">1 Year Warranty for Mobile and 6 Months for Accessories</li></ul></div></div><div class=\"col col-5-12 nlI3QM\"><div class=\"_3tbKJL\"><div class=\"_25b18c\"><div class=\"_30jeq3 _1_WHN1\">₹18,990</div><div class=\"_3I9_wc _27UcVY\">₹<!-- -->20,999</div><div class=\"_3Ay6Sb\"><span>9% off</span></div></div></div><div class=\"_13J9qT\"><img height=\"21\" src=\"//static-assets-web.flixcart.com/fk-p-linchpin-web/fk-cp-zion/img/fa_62673a.png\"/></div></div></div></a></div></div></div></div><div class=\"_1AtVbE col-12-12\"><div class=\"_13oc-S\"><div data-id=\"MOBG5Y94XBCAQYPR\" style=\"width:100%\"><div class=\"_2kHMtA\"><a class=\"_1fQZEK\" href=\"/realme-8s-5g-universe-blue-128-gb/p/itm79fdf59bdbe44?pid=MOBG5Y94XBCAQYPR&amp;lid=LSTMOBG5Y94XBCAQYPRG9SXAD&amp;marketplace=FLIPKART&amp;q=realme+8&amp;store=tyy%2F4io&amp;srno=s_1_8&amp;otracker=AS_Query_HistoryAutoSuggest_2_0&amp;otracker1=AS_Query_HistoryAutoSuggest_2_0&amp;fm=organic&amp;iid=8f4ab5a5-e2f3-44aa-97f3-683116ac0bc5.MOBG5Y94XBCAQYPR.SEARCH&amp;ppt=None&amp;ppn=None&amp;ssid=t5lw3z2fy80000001708176954270&amp;qH=f8f16929313ccb8e\" rel=\"noopener noreferrer\" target=\"_blank\"><div class=\"MIXNux\"><div class=\"_2QcLo-\"><div><div class=\"CXW8mj\" style=\"height:200px;width:200px\"><img alt=\"realme 8s 5G (Universe Blue, 128 GB)\" class=\"_396cs4\" loading=\"eager\" src=\"https://rukminim2.flixcart.com/image/312/312/ktbu6q80/mobile/2/m/c/8s-5g-rmx3381-realme-original-imag6zhgghpzegzp.jpeg?q=70\"/></div></div></div><div class=\"_3wLduG\"><div class=\"_3PzNI-\"><span class=\"f3A4_V\"><label class=\"_2iDkf8\"><input class=\"_30VH1S\" readonly=\"\" type=\"checkbox\"/><div class=\"_24_Dny\"></div></label></span><label class=\"_6Up2sF\"><span>Add to Compare</span></label></div></div><div class=\"_2hVSre _3nq8ih\"><div class=\"_36FSn5\"><svg class=\"_1l0elc\" height=\"16\" viewbox=\"0 0 20 16\" width=\"16\" xmlns=\"http://www.w3.org/2000/svg\"><path class=\"eX72wL\" d=\"M8.695 16.682C4.06 12.382 1 9.536 1 6.065 1 3.219 3.178 1 5.95 1c1.566 0 3.069.746 4.05 1.915C10.981 1.745 12.484 1 14.05 1 16.822 1 19 3.22 19 6.065c0 3.471-3.06 6.316-7.695 10.617L10 17.897l-1.305-1.215z\" fill=\"#2874F0\" fill-rule=\"evenodd\" opacity=\".9\" stroke=\"#FFF\"></path></svg></div></div></div><div class=\"_3pLy-c row\"><div class=\"col col-7-12\"><div class=\"_4rR01T\">realme 8s 5G (Universe Blue, 128 GB)</div><div class=\"gUuXy-\"><span class=\"_1lRcqv\" id=\"productRating_LSTMOBG5Y94XBCAQYPRG9SXAD_MOBG5Y94XBCAQYPR_\"><div class=\"_3LWZlK\">4.4<img class=\"_1wB99o\" src=\"data:image/svg+xml;base64,PHN2ZyB4bWxucz0iaHR0cDovL3d3dy53My5vcmcvMjAwMC9zdmciIHdpZHRoPSIxMyIgaGVpZ2h0PSIxMiI+PHBhdGggZmlsbD0iI0ZGRiIgZD0iTTYuNSA5LjQzOWwtMy42NzQgMi4yMy45NC00LjI2LTMuMjEtMi44ODMgNC4yNTQtLjQwNEw2LjUuMTEybDEuNjkgNC4wMSA0LjI1NC40MDQtMy4yMSAyLjg4Mi45NCA0LjI2eiIvPjwvc3ZnPg==\"/></div></span><span class=\"_2_R_DZ\"><span><span>78,246 Ratings </span><span class=\"_13vcmD\">&amp;</span><span> 6,238 Reviews</span></span></span></div><div class=\"fMghEO\"><ul class=\"_1xgFaf\"><li class=\"rgWa7D\">6 GB RAM | 128 GB ROM | Expandable Upto 1 TB</li><li class=\"rgWa7D\">16.51 cm (6.5 inch) Full HD+ Display</li><li class=\"rgWa7D\">64MP + 2MP + 2MP | 16MP Front Camera</li><li class=\"rgWa7D\">5000 mAh Battery</li><li class=\"rgWa7D\">MediaTek Dimensity 810 5G Processor</li><li class=\"rgWa7D\">33 W Charger</li><li class=\"rgWa7D\">1 Year Warranty for Mobile and 6 Months for Accessories</li></ul></div></div><div class=\"col col-5-12 nlI3QM\"><div class=\"_3tbKJL\"><div class=\"_25b18c\"><div class=\"_30jeq3 _1_WHN1\">₹18,990</div><div class=\"_3I9_wc _27UcVY\">₹<!-- -->20,999</div><div class=\"_3Ay6Sb\"><span>9% off</span></div></div></div><div class=\"_13J9qT\"><img height=\"21\" src=\"//static-assets-web.flixcart.com/fk-p-linchpin-web/fk-cp-zion/img/fa_62673a.png\"/></div></div></div></a></div></div></div></div><div class=\"_1AtVbE col-12-12\"><div class=\"_13oc-S\"><div data-id=\"MOBGYV98E5Z8NHTZ\" style=\"width:100%\"><div class=\"_2kHMtA\"><a class=\"_1fQZEK\" href=\"/realme-8-pro-infinite-black-128-gb/p/itmaa9c73f5a987c?pid=MOBGYV98E5Z8NHTZ&amp;lid=LSTMOBGYV98E5Z8NHTZ8NUBYR&amp;marketplace=FLIPKART&amp;q=realme+8&amp;store=tyy%2F4io&amp;srno=s_1_9&amp;otracker=AS_Query_HistoryAutoSuggest_2_0&amp;otracker1=AS_Query_HistoryAutoSuggest_2_0&amp;fm=organic&amp;iid=8f4ab5a5-e2f3-44aa-97f3-683116ac0bc5.MOBGYV98E5Z8NHTZ.SEARCH&amp;ppt=None&amp;ppn=None&amp;ssid=t5lw3z2fy80000001708176954270&amp;qH=f8f16929313ccb8e\" rel=\"noopener noreferrer\" target=\"_blank\"><div class=\"MIXNux\"><div class=\"_2QcLo-\"><div><div class=\"CXW8mj\" style=\"height:200px;width:200px\"><img alt=\"realme 8 Pro (Infinite Black, 128 GB)\" class=\"_396cs4\" loading=\"eager\" src=\"https://rukminim2.flixcart.com/image/312/312/kmmcrrk0/mobile/5/w/u/8-pro-rmx3081-realme-original-imagfgpgcxyjufz3.jpeg?q=70\"/></div></div><div class=\"_3G6awp\"><span class=\"u05wbu\">Coming Soon</span></div></div><div class=\"_3wLduG\"><div class=\"_3PzNI-\"><span class=\"f3A4_V\"><label class=\"_2iDkf8\"><input class=\"_30VH1S\" readonly=\"\" type=\"checkbox\"/><div class=\"_24_Dny\"></div></label></span><label class=\"_6Up2sF\"><span>Add to Compare</span></label></div></div><div class=\"_2hVSre _3nq8ih\"><div class=\"_36FSn5\"><svg class=\"_1l0elc\" height=\"16\" viewbox=\"0 0 20 16\" width=\"16\" xmlns=\"http://www.w3.org/2000/svg\"><path class=\"eX72wL\" d=\"M8.695 16.682C4.06 12.382 1 9.536 1 6.065 1 3.219 3.178 1 5.95 1c1.566 0 3.069.746 4.05 1.915C10.981 1.745 12.484 1 14.05 1 16.822 1 19 3.22 19 6.065c0 3.471-3.06 6.316-7.695 10.617L10 17.897l-1.305-1.215z\" fill=\"#2874F0\" fill-rule=\"evenodd\" opacity=\".9\" stroke=\"#FFF\"></path></svg></div></div></div><div class=\"_3pLy-c row\"><div class=\"col col-7-12\"><div class=\"_4rR01T\">realme 8 Pro (Infinite Black, 128 GB)</div><div class=\"gUuXy-\"><span class=\"_1lRcqv\" id=\"productRating_LSTMOBGYV98E5Z8NHTZ8NUBYR_MOBGYV98E5Z8NHTZ_\"><div class=\"_3LWZlK\">4.4<img class=\"_1wB99o\" src=\"data:image/svg+xml;base64,PHN2ZyB4bWxucz0iaHR0cDovL3d3dy53My5vcmcvMjAwMC9zdmciIHdpZHRoPSIxMyIgaGVpZ2h0PSIxMiI+PHBhdGggZmlsbD0iI0ZGRiIgZD0iTTYuNSA5LjQzOWwtMy42NzQgMi4yMy45NC00LjI2LTMuMjEtMi44ODMgNC4yNTQtLjQwNEw2LjUuMTEybDEuNjkgNC4wMSA0LjI1NC40MDQtMy4yMSAyLjg4Mi45NCA0LjI2eiIvPjwvc3ZnPg==\"/></div></span><span class=\"_2_R_DZ\"><span><span>69,447 Ratings </span><span class=\"_13vcmD\">&amp;</span><span> 6,341 Reviews</span></span></span></div><div class=\"fMghEO\"><ul class=\"_1xgFaf\"><li class=\"rgWa7D\">6 GB RAM | 128 GB ROM | Expandable Upto 256 GB</li><li class=\"rgWa7D\">16.26 cm (6.4 inch) Full HD+ Display</li><li class=\"rgWa7D\">108MP + 8MP + 2MP + 2MP | 16MP Front Camera</li><li class=\"rgWa7D\">4500 mAh Battery</li><li class=\"rgWa7D\">Qualcomm Snapdragon 720G Processor</li><li class=\"rgWa7D\">Super AMOLED Display</li><li class=\"rgWa7D\">1 Year Warranty for Mobile and 6 Months for Accessories</li></ul></div></div><div class=\"col col-5-12 nlI3QM\"><div class=\"_3tbKJL\"><div class=\"_25b18c\"><div class=\"_30jeq3 _1_WHN1\">₹17,999</div><div class=\"_3I9_wc _27UcVY\">₹<!-- -->19,999</div><div class=\"_3Ay6Sb\"><span>10% off</span></div></div></div><div class=\"_13J9qT\"><img height=\"21\" src=\"//static-assets-web.flixcart.com/fk-p-linchpin-web/fk-cp-zion/img/fa_62673a.png\"/></div></div></div></a></div></div></div></div><div class=\"_1AtVbE col-12-12\"><div class=\"_13oc-S\"><div data-id=\"MOBGYV98ESYUZZUK\" style=\"width:100%\"><div class=\"_2kHMtA\"><a class=\"_1fQZEK\" href=\"/realme-8-pro-illuminating-yellow-128-gb/p/itmaa9c73f5a987c?pid=MOBGYV98ESYUZZUK&amp;lid=LSTMOBGYV98ESYUZZUKJK4O6X&amp;marketplace=FLIPKART&amp;q=realme+8&amp;store=tyy%2F4io&amp;srno=s_1_10&amp;otracker=AS_Query_HistoryAutoSuggest_2_0&amp;otracker1=AS_Query_HistoryAutoSuggest_2_0&amp;fm=organic&amp;iid=8f4ab5a5-e2f3-44aa-97f3-683116ac0bc5.MOBGYV98ESYUZZUK.SEARCH&amp;ppt=None&amp;ppn=None&amp;ssid=t5lw3z2fy80000001708176954270&amp;qH=f8f16929313ccb8e\" rel=\"noopener noreferrer\" target=\"_blank\"><div class=\"MIXNux\"><div class=\"_2QcLo-\"><div><div class=\"CXW8mj\" style=\"height:200px;width:200px\"><img alt=\"realme 8 Pro (Illuminating Yellow, 128 GB)\" class=\"_396cs4\" loading=\"eager\" src=\"https://rukminim2.flixcart.com/image/312/312/knrsjgw0/mobile/s/b/z/8-pro-rmx3081-realme-original-imag2dcabdfyjrtb.jpeg?q=70\"/></div></div><div class=\"_3G6awp\"><span class=\"u05wbu\">Coming Soon</span></div></div><div class=\"_3wLduG\"><div class=\"_3PzNI-\"><span class=\"f3A4_V\"><label class=\"_2iDkf8\"><input class=\"_30VH1S\" readonly=\"\" type=\"checkbox\"/><div class=\"_24_Dny\"></div></label></span><label class=\"_6Up2sF\"><span>Add to Compare</span></label></div></div><div class=\"_2hVSre _3nq8ih\"><div class=\"_36FSn5\"><svg class=\"_1l0elc\" height=\"16\" viewbox=\"0 0 20 16\" width=\"16\" xmlns=\"http://www.w3.org/2000/svg\"><path class=\"eX72wL\" d=\"M8.695 16.682C4.06 12.382 1 9.536 1 6.065 1 3.219 3.178 1 5.95 1c1.566 0 3.069.746 4.05 1.915C10.981 1.745 12.484 1 14.05 1 16.822 1 19 3.22 19 6.065c0 3.471-3.06 6.316-7.695 10.617L10 17.897l-1.305-1.215z\" fill=\"#2874F0\" fill-rule=\"evenodd\" opacity=\".9\" stroke=\"#FFF\"></path></svg></div></div></div><div class=\"_3pLy-c row\"><div class=\"col col-7-12\"><div class=\"_4rR01T\">realme 8 Pro (Illuminating Yellow, 128 GB)</div><div class=\"gUuXy-\"><span class=\"_1lRcqv\" id=\"productRating_LSTMOBGYV98ESYUZZUKJK4O6X_MOBGYV98ESYUZZUK_\"><div class=\"_3LWZlK\">4.4<img class=\"_1wB99o\" src=\"data:image/svg+xml;base64,PHN2ZyB4bWxucz0iaHR0cDovL3d3dy53My5vcmcvMjAwMC9zdmciIHdpZHRoPSIxMyIgaGVpZ2h0PSIxMiI+PHBhdGggZmlsbD0iI0ZGRiIgZD0iTTYuNSA5LjQzOWwtMy42NzQgMi4yMy45NC00LjI2LTMuMjEtMi44ODMgNC4yNTQtLjQwNEw2LjUuMTEybDEuNjkgNC4wMSA0LjI1NC40MDQtMy4yMSAyLjg4Mi45NCA0LjI2eiIvPjwvc3ZnPg==\"/></div></span><span class=\"_2_R_DZ\"><span><span>40,746 Ratings </span><span class=\"_13vcmD\">&amp;</span><span> 3,369 Reviews</span></span></span></div><div class=\"fMghEO\"><ul class=\"_1xgFaf\"><li class=\"rgWa7D\">8 GB RAM | 128 GB ROM | Expandable Upto 256 GB</li><li class=\"rgWa7D\">16.26 cm (6.4 inch) Full HD+ Display</li><li class=\"rgWa7D\">108MP + 8MP + 2MP + 2MP | 16MP Front Camera</li><li class=\"rgWa7D\">4500 mAh Battery</li><li class=\"rgWa7D\">Qualcomm Snapdragon 720G Processor</li><li class=\"rgWa7D\">Super AMOLED Display</li><li class=\"rgWa7D\">1 Year Warranty for Mobile and 6 Months for Accessories</li></ul></div></div><div class=\"col col-5-12 nlI3QM\"><div class=\"_3tbKJL\"><div class=\"_25b18c\"><div class=\"_30jeq3 _1_WHN1\">₹19,999</div><div class=\"_3I9_wc _27UcVY\">₹<!-- -->21,999</div><div class=\"_3Ay6Sb\"><span>9% off</span></div></div></div><div class=\"_13J9qT\"><img height=\"21\" src=\"//static-assets-web.flixcart.com/fk-p-linchpin-web/fk-cp-zion/img/fa_62673a.png\"/></div></div></div></a></div></div></div></div><div class=\"_1AtVbE col-12-12\"><div class=\"_13oc-S\"><div data-id=\"MOBGYV98PHMCPQWX\" style=\"width:100%\"><div class=\"_2kHMtA\"><a class=\"_1fQZEK\" href=\"/realme-8-pro-infinite-blue-128-gb/p/itmaa9c73f5a987c?pid=MOBGYV98PHMCPQWX&amp;lid=LSTMOBGYV98PHMCPQWXT4BPTG&amp;marketplace=FLIPKART&amp;q=realme+8&amp;store=tyy%2F4io&amp;srno=s_1_11&amp;otracker=AS_Query_HistoryAutoSuggest_2_0&amp;otracker1=AS_Query_HistoryAutoSuggest_2_0&amp;fm=organic&amp;iid=8f4ab5a5-e2f3-44aa-97f3-683116ac0bc5.MOBGYV98PHMCPQWX.SEARCH&amp;ppt=None&amp;ppn=None&amp;ssid=t5lw3z2fy80000001708176954270&amp;qH=f8f16929313ccb8e\" rel=\"noopener noreferrer\" target=\"_blank\"><div class=\"MIXNux\"><div class=\"_2QcLo-\"><div><div class=\"CXW8mj\" style=\"height:200px;width:200px\"><img alt=\"realme 8 Pro (Infinite Blue, 128 GB)\" class=\"_396cs4\" loading=\"eager\" src=\"https://rukminim2.flixcart.com/image/312/312/kmmcrrk0/mobile/d/e/m/8-pro-rmx3081-realme-original-imagfgpgfexvzngd.jpeg?q=70\"/></div></div><div class=\"_3G6awp\"><span class=\"u05wbu\">Coming Soon</span></div></div><div class=\"_3wLduG\"><div class=\"_3PzNI-\"><span class=\"f3A4_V\"><label class=\"_2iDkf8\"><input class=\"_30VH1S\" readonly=\"\" type=\"checkbox\"/><div class=\"_24_Dny\"></div></label></span><label class=\"_6Up2sF\"><span>Add to Compare</span></label></div></div><div class=\"_2hVSre _3nq8ih\"><div class=\"_36FSn5\"><svg class=\"_1l0elc\" height=\"16\" viewbox=\"0 0 20 16\" width=\"16\" xmlns=\"http://www.w3.org/2000/svg\"><path class=\"eX72wL\" d=\"M8.695 16.682C4.06 12.382 1 9.536 1 6.065 1 3.219 3.178 1 5.95 1c1.566 0 3.069.746 4.05 1.915C10.981 1.745 12.484 1 14.05 1 16.822 1 19 3.22 19 6.065c0 3.471-3.06 6.316-7.695 10.617L10 17.897l-1.305-1.215z\" fill=\"#2874F0\" fill-rule=\"evenodd\" opacity=\".9\" stroke=\"#FFF\"></path></svg></div></div></div><div class=\"_3pLy-c row\"><div class=\"col col-7-12\"><div class=\"_4rR01T\">realme 8 Pro (Infinite Blue, 128 GB)</div><div class=\"gUuXy-\"><span class=\"_1lRcqv\" id=\"productRating_LSTMOBGYV98PHMCPQWXT4BPTG_MOBGYV98PHMCPQWX_\"><div class=\"_3LWZlK\">4.4<img class=\"_1wB99o\" src=\"data:image/svg+xml;base64,PHN2ZyB4bWxucz0iaHR0cDovL3d3dy53My5vcmcvMjAwMC9zdmciIHdpZHRoPSIxMyIgaGVpZ2h0PSIxMiI+PHBhdGggZmlsbD0iI0ZGRiIgZD0iTTYuNSA5LjQzOWwtMy42NzQgMi4yMy45NC00LjI2LTMuMjEtMi44ODMgNC4yNTQtLjQwNEw2LjUuMTEybDEuNjkgNC4wMSA0LjI1NC40MDQtMy4yMSAyLjg4Mi45NCA0LjI2eiIvPjwvc3ZnPg==\"/></div></span><span class=\"_2_R_DZ\"><span><span>69,447 Ratings </span><span class=\"_13vcmD\">&amp;</span><span> 6,341 Reviews</span></span></span></div><div class=\"fMghEO\"><ul class=\"_1xgFaf\"><li class=\"rgWa7D\">6 GB RAM | 128 GB ROM | Expandable Upto 256 GB</li><li class=\"rgWa7D\">16.26 cm (6.4 inch) Full HD+ Display</li><li class=\"rgWa7D\">108MP + 8MP + 2MP + 2MP | 16MP Front Camera</li><li class=\"rgWa7D\">4500 mAh Battery</li><li class=\"rgWa7D\">Qualcomm Snapdragon 720G Processor</li><li class=\"rgWa7D\">Super AMOLED Display</li><li class=\"rgWa7D\">1 Year Warranty for Mobile and 6 Months for Accessories</li></ul></div></div><div class=\"col col-5-12 nlI3QM\"><div class=\"_3tbKJL\"><div class=\"_25b18c\"><div class=\"_30jeq3 _1_WHN1\">₹17,999</div><div class=\"_3I9_wc _27UcVY\">₹<!-- -->19,999</div><div class=\"_3Ay6Sb\"><span>10% off</span></div></div></div><div class=\"_13J9qT\"><img height=\"21\" src=\"//static-assets-web.flixcart.com/fk-p-linchpin-web/fk-cp-zion/img/fa_62673a.png\"/></div></div></div></a></div></div></div></div><div class=\"_1AtVbE col-12-12\"><div class=\"_13oc-S\"><div data-id=\"MOBGYV98ZWDGFWKT\" style=\"width:100%\"><div class=\"_2kHMtA\"><a class=\"_1fQZEK\" href=\"/realme-8-pro-infinite-black-128-gb/p/itmaa9c73f5a987c?pid=MOBGYV98ZWDGFWKT&amp;lid=LSTMOBGYV98ZWDGFWKTQQHZXF&amp;marketplace=FLIPKART&amp;q=realme+8&amp;store=tyy%2F4io&amp;srno=s_1_12&amp;otracker=AS_Query_HistoryAutoSuggest_2_0&amp;otracker1=AS_Query_HistoryAutoSuggest_2_0&amp;fm=organic&amp;iid=8f4ab5a5-e2f3-44aa-97f3-683116ac0bc5.MOBGYV98ZWDGFWKT.SEARCH&amp;ppt=None&amp;ppn=None&amp;ssid=t5lw3z2fy80000001708176954270&amp;qH=f8f16929313ccb8e\" rel=\"noopener noreferrer\" target=\"_blank\"><div class=\"MIXNux\"><div class=\"_2QcLo-\"><div><div class=\"CXW8mj\" style=\"height:200px;width:200px\"><img alt=\"realme 8 Pro (Infinite Black, 128 GB)\" class=\"_396cs4\" loading=\"eager\" src=\"https://rukminim2.flixcart.com/image/312/312/kmmcrrk0/mobile/5/w/u/8-pro-rmx3081-realme-original-imagfgpgcxyjufz3.jpeg?q=70\"/></div></div><div class=\"_3G6awp\"><span class=\"u05wbu\">Coming Soon</span></div></div><div class=\"_3wLduG\"><div class=\"_3PzNI-\"><span class=\"f3A4_V\"><label class=\"_2iDkf8\"><input class=\"_30VH1S\" readonly=\"\" type=\"checkbox\"/><div class=\"_24_Dny\"></div></label></span><label class=\"_6Up2sF\"><span>Add to Compare</span></label></div></div><div class=\"_2hVSre _3nq8ih\"><div class=\"_36FSn5\"><svg class=\"_1l0elc\" height=\"16\" viewbox=\"0 0 20 16\" width=\"16\" xmlns=\"http://www.w3.org/2000/svg\"><path class=\"eX72wL\" d=\"M8.695 16.682C4.06 12.382 1 9.536 1 6.065 1 3.219 3.178 1 5.95 1c1.566 0 3.069.746 4.05 1.915C10.981 1.745 12.484 1 14.05 1 16.822 1 19 3.22 19 6.065c0 3.471-3.06 6.316-7.695 10.617L10 17.897l-1.305-1.215z\" fill=\"#2874F0\" fill-rule=\"evenodd\" opacity=\".9\" stroke=\"#FFF\"></path></svg></div></div></div><div class=\"_3pLy-c row\"><div class=\"col col-7-12\"><div class=\"_4rR01T\">realme 8 Pro (Infinite Black, 128 GB)</div><div class=\"gUuXy-\"><span class=\"_1lRcqv\" id=\"productRating_LSTMOBGYV98ZWDGFWKTQQHZXF_MOBGYV98ZWDGFWKT_\"><div class=\"_3LWZlK\">4.4<img class=\"_1wB99o\" src=\"data:image/svg+xml;base64,PHN2ZyB4bWxucz0iaHR0cDovL3d3dy53My5vcmcvMjAwMC9zdmciIHdpZHRoPSIxMyIgaGVpZ2h0PSIxMiI+PHBhdGggZmlsbD0iI0ZGRiIgZD0iTTYuNSA5LjQzOWwtMy42NzQgMi4yMy45NC00LjI2LTMuMjEtMi44ODMgNC4yNTQtLjQwNEw2LjUuMTEybDEuNjkgNC4wMSA0LjI1NC40MDQtMy4yMSAyLjg4Mi45NCA0LjI2eiIvPjwvc3ZnPg==\"/></div></span><span class=\"_2_R_DZ\"><span><span>40,746 Ratings </span><span class=\"_13vcmD\">&amp;</span><span> 3,369 Reviews</span></span></span></div><div class=\"fMghEO\"><ul class=\"_1xgFaf\"><li class=\"rgWa7D\">8 GB RAM | 128 GB ROM | Expandable Upto 256 GB</li><li class=\"rgWa7D\">16.26 cm (6.4 inch) Full HD+ Display</li><li class=\"rgWa7D\">108MP + 8MP + 2MP + 2MP | 16MP Front Camera</li><li class=\"rgWa7D\">4500 mAh Battery</li><li class=\"rgWa7D\">Qualcomm Snapdragon 720G Processor</li><li class=\"rgWa7D\">Super AMOLED Display</li><li class=\"rgWa7D\">1 Year Warranty for Mobile and 6 Months for Accessories</li></ul></div></div><div class=\"col col-5-12 nlI3QM\"><div class=\"_3tbKJL\"><div class=\"_25b18c\"><div class=\"_30jeq3 _1_WHN1\">₹19,999</div><div class=\"_3I9_wc _27UcVY\">₹<!-- -->21,999</div><div class=\"_3Ay6Sb\"><span>9% off</span></div></div></div><div class=\"_13J9qT\"><img height=\"21\" src=\"//static-assets-web.flixcart.com/fk-p-linchpin-web/fk-cp-zion/img/fa_62673a.png\"/></div></div></div></a></div></div></div></div><div class=\"_1AtVbE col-12-12\"><div class=\"_13oc-S\"><div data-id=\"MOBG63YXFYCU2RZZ\" style=\"width:100%\"><div class=\"_2kHMtA\"><a class=\"_1fQZEK\" href=\"/realme-8i-space-purple-128-gb/p/itm7ab6edcb3b2a4?pid=MOBG63YXFYCU2RZZ&amp;lid=LSTMOBG63YXFYCU2RZZKGBCMR&amp;marketplace=FLIPKART&amp;q=realme+8&amp;store=tyy%2F4io&amp;srno=s_1_13&amp;otracker=AS_Query_HistoryAutoSuggest_2_0&amp;otracker1=AS_Query_HistoryAutoSuggest_2_0&amp;fm=organic&amp;iid=8f4ab5a5-e2f3-44aa-97f3-683116ac0bc5.MOBG63YXFYCU2RZZ.SEARCH&amp;ppt=None&amp;ppn=None&amp;ssid=t5lw3z2fy80000001708176954270&amp;qH=f8f16929313ccb8e\" rel=\"noopener noreferrer\" target=\"_blank\"><div class=\"MIXNux\"><div class=\"_2QcLo-\"><div><div class=\"CXW8mj\" style=\"height:200px;width:200px\"><img alt=\"realme 8i (Space Purple, 128 GB)\" class=\"_396cs4\" loading=\"eager\" src=\"https://rukminim2.flixcart.com/image/312/312/ktbu6q80/mobile/q/g/q/8i-rmx3151-realme-original-imag6zhnbsuhcqny.jpeg?q=70\"/></div></div><div class=\"_3G6awp\"><span class=\"u05wbu\">Coming Soon</span></div></div><div class=\"_3wLduG\"><div class=\"_3PzNI-\"><span class=\"f3A4_V\"><label class=\"_2iDkf8\"><input class=\"_30VH1S\" readonly=\"\" type=\"checkbox\"/><div class=\"_24_Dny\"></div></label></span><label class=\"_6Up2sF\"><span>Add to Compare</span></label></div></div><div class=\"_2hVSre _3nq8ih\"><div class=\"_36FSn5\"><svg class=\"_1l0elc\" height=\"16\" viewbox=\"0 0 20 16\" width=\"16\" xmlns=\"http://www.w3.org/2000/svg\"><path class=\"eX72wL\" d=\"M8.695 16.682C4.06 12.382 1 9.536 1 6.065 1 3.219 3.178 1 5.95 1c1.566 0 3.069.746 4.05 1.915C10.981 1.745 12.484 1 14.05 1 16.822 1 19 3.22 19 6.065c0 3.471-3.06 6.316-7.695 10.617L10 17.897l-1.305-1.215z\" fill=\"#2874F0\" fill-rule=\"evenodd\" opacity=\".9\" stroke=\"#FFF\"></path></svg></div></div></div><div class=\"_3pLy-c row\"><div class=\"col col-7-12\"><div class=\"_4rR01T\">realme 8i (Space Purple, 128 GB)</div><div class=\"gUuXy-\"><span class=\"_1lRcqv\" id=\"productRating_LSTMOBG63YXFYCU2RZZKGBCMR_MOBG63YXFYCU2RZZ_\"><div class=\"_3LWZlK\">4.4<img class=\"_1wB99o\" src=\"data:image/svg+xml;base64,PHN2ZyB4bWxucz0iaHR0cDovL3d3dy53My5vcmcvMjAwMC9zdmciIHdpZHRoPSIxMyIgaGVpZ2h0PSIxMiI+PHBhdGggZmlsbD0iI0ZGRiIgZD0iTTYuNSA5LjQzOWwtMy42NzQgMi4yMy45NC00LjI2LTMuMjEtMi44ODMgNC4yNTQtLjQwNEw2LjUuMTEybDEuNjkgNC4wMSA0LjI1NC40MDQtMy4yMSAyLjg4Mi45NCA0LjI2eiIvPjwvc3ZnPg==\"/></div></span><span class=\"_2_R_DZ\"><span><span>70,891 Ratings </span><span class=\"_13vcmD\">&amp;</span><span> 4,896 Reviews</span></span></span></div><div class=\"fMghEO\"><ul class=\"_1xgFaf\"><li class=\"rgWa7D\">6 GB RAM | 128 GB ROM | Expandable Upto 256 GB</li><li class=\"rgWa7D\">16.76 cm (6.6 inch) Full HD+ Display</li><li class=\"rgWa7D\">50MP + 2MP + 2MP | 16MP Front Camera</li><li class=\"rgWa7D\">5000 mAh Battery</li><li class=\"rgWa7D\">MediaTek Helio G96 Processor</li><li class=\"rgWa7D\">1 Year Warranty for Mobile and 6 Months for Accessories</li></ul></div></div><div class=\"col col-5-12 nlI3QM\"><div class=\"_3tbKJL\"><div class=\"_25b18c\"><div class=\"_30jeq3 _1_WHN1\">₹13,499</div><div class=\"_3I9_wc _27UcVY\">₹<!-- -->17,999</div><div class=\"_3Ay6Sb\"><span>25% off</span></div></div></div><div class=\"_13J9qT\"><img height=\"21\" src=\"//static-assets-web.flixcart.com/fk-p-linchpin-web/fk-cp-zion/img/fa_62673a.png\"/></div></div></div></a></div></div></div></div><div class=\"_1AtVbE col-12-12\"><div class=\"_13oc-S\"><div data-id=\"MOBG63YXVG5VRHWN\" style=\"width:100%\"><div class=\"_2kHMtA\"><a class=\"_1fQZEK\" href=\"/realme-8i-space-black-128-gb/p/itm7ab6edcb3b2a4?pid=MOBG63YXVG5VRHWN&amp;lid=LSTMOBG63YXVG5VRHWNSS0ASL&amp;marketplace=FLIPKART&amp;q=realme+8&amp;store=tyy%2F4io&amp;srno=s_1_14&amp;otracker=AS_Query_HistoryAutoSuggest_2_0&amp;otracker1=AS_Query_HistoryAutoSuggest_2_0&amp;fm=organic&amp;iid=8f4ab5a5-e2f3-44aa-97f3-683116ac0bc5.MOBG63YXVG5VRHWN.SEARCH&amp;ppt=None&amp;ppn=None&amp;ssid=t5lw3z2fy80000001708176954270&amp;qH=f8f16929313ccb8e\" rel=\"noopener noreferrer\" target=\"_blank\"><div class=\"MIXNux\"><div class=\"_2QcLo-\"><div><div class=\"CXW8mj\" style=\"height:200px;width:200px\"><img alt=\"realme 8i (Space Black, 128 GB)\" class=\"_396cs4\" loading=\"eager\" src=\"https://rukminim2.flixcart.com/image/312/312/ktbu6q80/mobile/x/w/y/8i-rmx3151-realme-original-imag6zhnabagtrzu.jpeg?q=70\"/></div></div><div class=\"_3G6awp\"><span class=\"u05wbu\">Coming Soon</span></div></div><div class=\"_3wLduG\"><div class=\"_3PzNI-\"><span class=\"f3A4_V\"><label class=\"_2iDkf8\"><input class=\"_30VH1S\" readonly=\"\" type=\"checkbox\"/><div class=\"_24_Dny\"></div></label></span><label class=\"_6Up2sF\"><span>Add to Compare</span></label></div></div><div class=\"_2hVSre _3nq8ih\"><div class=\"_36FSn5\"><svg class=\"_1l0elc\" height=\"16\" viewbox=\"0 0 20 16\" width=\"16\" xmlns=\"http://www.w3.org/2000/svg\"><path class=\"eX72wL\" d=\"M8.695 16.682C4.06 12.382 1 9.536 1 6.065 1 3.219 3.178 1 5.95 1c1.566 0 3.069.746 4.05 1.915C10.981 1.745 12.484 1 14.05 1 16.822 1 19 3.22 19 6.065c0 3.471-3.06 6.316-7.695 10.617L10 17.897l-1.305-1.215z\" fill=\"#2874F0\" fill-rule=\"evenodd\" opacity=\".9\" stroke=\"#FFF\"></path></svg></div></div></div><div class=\"_3pLy-c row\"><div class=\"col col-7-12\"><div class=\"_4rR01T\">realme 8i (Space Black, 128 GB)</div><div class=\"gUuXy-\"><span class=\"_1lRcqv\" id=\"productRating_LSTMOBG63YXVG5VRHWNSS0ASL_MOBG63YXVG5VRHWN_\"><div class=\"_3LWZlK\">4.4<img class=\"_1wB99o\" src=\"data:image/svg+xml;base64,PHN2ZyB4bWxucz0iaHR0cDovL3d3dy53My5vcmcvMjAwMC9zdmciIHdpZHRoPSIxMyIgaGVpZ2h0PSIxMiI+PHBhdGggZmlsbD0iI0ZGRiIgZD0iTTYuNSA5LjQzOWwtMy42NzQgMi4yMy45NC00LjI2LTMuMjEtMi44ODMgNC4yNTQtLjQwNEw2LjUuMTEybDEuNjkgNC4wMSA0LjI1NC40MDQtMy4yMSAyLjg4Mi45NCA0LjI2eiIvPjwvc3ZnPg==\"/></div></span><span class=\"_2_R_DZ\"><span><span>70,891 Ratings </span><span class=\"_13vcmD\">&amp;</span><span> 4,896 Reviews</span></span></span></div><div class=\"fMghEO\"><ul class=\"_1xgFaf\"><li class=\"rgWa7D\">6 GB RAM | 128 GB ROM | Expandable Upto 256 GB</li><li class=\"rgWa7D\">16.76 cm (6.6 inch) Full HD+ Display</li><li class=\"rgWa7D\">50MP + 2MP + 2MP | 16MP Front Camera</li><li class=\"rgWa7D\">5000 mAh Battery</li><li class=\"rgWa7D\">MediaTek Helio G96 Processor</li><li class=\"rgWa7D\">1 Year Warranty for Mobile and 6 Months for Accessories</li></ul></div></div><div class=\"col col-5-12 nlI3QM\"><div class=\"_3tbKJL\"><div class=\"_25b18c\"><div class=\"_30jeq3 _1_WHN1\">₹13,499</div><div class=\"_3I9_wc _27UcVY\">₹<!-- -->17,999</div><div class=\"_3Ay6Sb\"><span>25% off</span></div></div></div><div class=\"_13J9qT\"><img height=\"21\" src=\"//static-assets-web.flixcart.com/fk-p-linchpin-web/fk-cp-zion/img/fa_62673a.png\"/></div></div></div></a></div></div></div></div><div class=\"_1AtVbE col-12-12\"><div class=\"_13oc-S\"><div data-id=\"MOBG63YX5KJ6VFDH\" style=\"width:100%\"><div class=\"_2kHMtA\"><a class=\"_1fQZEK\" href=\"/realme-8i-space-purple-64-gb/p/itm7ab6edcb3b2a4?pid=MOBG63YX5KJ6VFDH&amp;lid=LSTMOBG63YX5KJ6VFDHRMEYI2&amp;marketplace=FLIPKART&amp;q=realme+8&amp;store=tyy%2F4io&amp;srno=s_1_15&amp;otracker=AS_Query_HistoryAutoSuggest_2_0&amp;otracker1=AS_Query_HistoryAutoSuggest_2_0&amp;fm=organic&amp;iid=8f4ab5a5-e2f3-44aa-97f3-683116ac0bc5.MOBG63YX5KJ6VFDH.SEARCH&amp;ppt=None&amp;ppn=None&amp;ssid=t5lw3z2fy80000001708176954270&amp;qH=f8f16929313ccb8e\" rel=\"noopener noreferrer\" target=\"_blank\"><div class=\"MIXNux\"><div class=\"_2QcLo-\"><div><div class=\"CXW8mj\" style=\"height:200px;width:200px\"><img alt=\"realme 8i (Space Purple, 64 GB)\" class=\"_396cs4\" loading=\"eager\" src=\"https://rukminim2.flixcart.com/image/312/312/ktbu6q80/mobile/q/g/q/8i-rmx3151-realme-original-imag6zhnbsuhcqny.jpeg?q=70\"/></div></div><div class=\"_3G6awp\"><span class=\"u05wbu\">Coming Soon</span></div></div><div class=\"_3wLduG\"><div class=\"_3PzNI-\"><span class=\"f3A4_V\"><label class=\"_2iDkf8\"><input class=\"_30VH1S\" readonly=\"\" type=\"checkbox\"/><div class=\"_24_Dny\"></div></label></span><label class=\"_6Up2sF\"><span>Add to Compare</span></label></div></div><div class=\"_2hVSre _3nq8ih\"><div class=\"_36FSn5\"><svg class=\"_1l0elc\" height=\"16\" viewbox=\"0 0 20 16\" width=\"16\" xmlns=\"http://www.w3.org/2000/svg\"><path class=\"eX72wL\" d=\"M8.695 16.682C4.06 12.382 1 9.536 1 6.065 1 3.219 3.178 1 5.95 1c1.566 0 3.069.746 4.05 1.915C10.981 1.745 12.484 1 14.05 1 16.822 1 19 3.22 19 6.065c0 3.471-3.06 6.316-7.695 10.617L10 17.897l-1.305-1.215z\" fill=\"#2874F0\" fill-rule=\"evenodd\" opacity=\".9\" stroke=\"#FFF\"></path></svg></div></div></div><div class=\"_3pLy-c row\"><div class=\"col col-7-12\"><div class=\"_4rR01T\">realme 8i (Space Purple, 64 GB)</div><div class=\"gUuXy-\"><span class=\"_1lRcqv\" id=\"productRating_LSTMOBG63YX5KJ6VFDHRMEYI2_MOBG63YX5KJ6VFDH_\"><div class=\"_3LWZlK\">4.5<img class=\"_1wB99o\" src=\"data:image/svg+xml;base64,PHN2ZyB4bWxucz0iaHR0cDovL3d3dy53My5vcmcvMjAwMC9zdmciIHdpZHRoPSIxMyIgaGVpZ2h0PSIxMiI+PHBhdGggZmlsbD0iI0ZGRiIgZD0iTTYuNSA5LjQzOWwtMy42NzQgMi4yMy45NC00LjI2LTMuMjEtMi44ODMgNC4yNTQtLjQwNEw2LjUuMTEybDEuNjkgNC4wMSA0LjI1NC40MDQtMy4yMSAyLjg4Mi45NCA0LjI2eiIvPjwvc3ZnPg==\"/></div></span><span class=\"_2_R_DZ\"><span><span>1,75,994 Ratings </span><span class=\"_13vcmD\">&amp;</span><span> 10,962 Reviews</span></span></span></div><div class=\"fMghEO\"><ul class=\"_1xgFaf\"><li class=\"rgWa7D\">4 GB RAM | 64 GB ROM | Expandable Upto 256 GB</li><li class=\"rgWa7D\">16.76 cm (6.6 inch) Full HD+ Display</li><li class=\"rgWa7D\">50MP + 2MP + 2MP | 16MP Front Camera</li><li class=\"rgWa7D\">5000 mAh Battery</li><li class=\"rgWa7D\">MediaTek Helio G96 Processor</li><li class=\"rgWa7D\">1 Year Warranty for Mobile and 6 Months for Accessories</li></ul></div></div><div class=\"col col-5-12 nlI3QM\"><div class=\"_3tbKJL\"><div class=\"_25b18c\"><div class=\"_30jeq3 _1_WHN1\">₹11,499</div><div class=\"_3I9_wc _27UcVY\">₹<!-- -->15,999</div><div class=\"_3Ay6Sb\"><span>28% off</span></div></div></div><div class=\"_13J9qT\"><img height=\"21\" src=\"//static-assets-web.flixcart.com/fk-p-linchpin-web/fk-cp-zion/img/fa_62673a.png\"/></div></div></div></a></div></div></div></div><div class=\"_1AtVbE col-12-12\"><div class=\"_13oc-S\"><div data-id=\"MOBGPF9BBGBZBTJZ\" style=\"width:100%\"><div class=\"_2kHMtA\"><a class=\"_1fQZEK\" href=\"/realme-9-5g-speed-azure-glow-128gb-8gb-ram-glow-128-gb/p/itm787ec6ba8fb52?pid=MOBGPF9BBGBZBTJZ&amp;lid=LSTMOBGPF9BBGBZBTJZDAUQNY&amp;marketplace=FLIPKART&amp;q=realme+8&amp;store=tyy%2F4io&amp;srno=s_1_16&amp;otracker=AS_Query_HistoryAutoSuggest_2_0&amp;otracker1=AS_Query_HistoryAutoSuggest_2_0&amp;fm=organic&amp;iid=8f4ab5a5-e2f3-44aa-97f3-683116ac0bc5.MOBGPF9BBGBZBTJZ.SEARCH&amp;ppt=None&amp;ppn=None&amp;ssid=t5lw3z2fy80000001708176954270&amp;qH=f8f16929313ccb8e\" rel=\"noopener noreferrer\" target=\"_blank\"><div class=\"MIXNux\"><div class=\"_2QcLo-\"><div><div class=\"CXW8mj\" style=\"height:200px;width:200px\"><img alt=\"realme 9 5G Speed Edition (Azure Glow,128GB)(8GB RAM) (Azure Glow, 128 GB)\" class=\"_396cs4\" loading=\"eager\" src=\"https://rukminim2.flixcart.com/image/312/312/xif0q/mobile/j/2/v/9-5g-speed-edition-azure-glow-128gb-8gb-ram-rmx3461-realme-original-imagpf9atxyh8bxa.jpeg?q=70\"/></div></div><div class=\"_3G6awp\"><span class=\"_192laR\">Currently unavailable</span></div></div><div class=\"_3wLduG\"><div class=\"_3PzNI-\"><span class=\"f3A4_V\"><label class=\"_2iDkf8\"><input class=\"_30VH1S\" readonly=\"\" type=\"checkbox\"/><div class=\"_24_Dny\"></div></label></span><label class=\"_6Up2sF\"><span>Add to Compare</span></label></div></div><div class=\"_2hVSre _3nq8ih\"><div class=\"_36FSn5\"><svg class=\"_1l0elc\" height=\"16\" viewbox=\"0 0 20 16\" width=\"16\" xmlns=\"http://www.w3.org/2000/svg\"><path class=\"eX72wL\" d=\"M8.695 16.682C4.06 12.382 1 9.536 1 6.065 1 3.219 3.178 1 5.95 1c1.566 0 3.069.746 4.05 1.915C10.981 1.745 12.484 1 14.05 1 16.822 1 19 3.22 19 6.065c0 3.471-3.06 6.316-7.695 10.617L10 17.897l-1.305-1.215z\" fill=\"#2874F0\" fill-rule=\"evenodd\" opacity=\".9\" stroke=\"#FFF\"></path></svg></div></div></div><div class=\"_3pLy-c row\"><div class=\"col col-7-12\"><div class=\"_4rR01T\">realme 9 5G Speed Edition (Azure Glow,128GB)(8GB RAM) (Azure Glow, 128 GB)</div><div class=\"gUuXy-\"><span class=\"_1lRcqv\" id=\"productRating_LSTMOBGPF9BBGBZBTJZDAUQNY_MOBGPF9BBGBZBTJZ_\"><div class=\"_3LWZlK\">3.3<img class=\"_1wB99o\" src=\"data:image/svg+xml;base64,PHN2ZyB4bWxucz0iaHR0cDovL3d3dy53My5vcmcvMjAwMC9zdmciIHdpZHRoPSIxMyIgaGVpZ2h0PSIxMiI+PHBhdGggZmlsbD0iI0ZGRiIgZD0iTTYuNSA5LjQzOWwtMy42NzQgMi4yMy45NC00LjI2LTMuMjEtMi44ODMgNC4yNTQtLjQwNEw2LjUuMTEybDEuNjkgNC4wMSA0LjI1NC40MDQtMy4yMSAyLjg4Mi45NCA0LjI2eiIvPjwvc3ZnPg==\"/></div></span><span class=\"_2_R_DZ\"><span><span>6 Ratings </span><span class=\"_13vcmD\">&amp;</span><span> 2 Reviews</span></span></span></div><div class=\"fMghEO\"><ul class=\"_1xgFaf\"><li class=\"rgWa7D\">8 GB RAM | 128 GB ROM</li><li class=\"rgWa7D\">16.76 cm (6.6 inch) Display</li><li class=\"rgWa7D\">48MP Rear Camera</li><li class=\"rgWa7D\">5000 mAh Battery</li><li class=\"rgWa7D\">1 Year Warranty For Phone and 6 Months Warranty for in-box Accessories</li></ul></div></div><div class=\"col col-5-12 nlI3QM\"><div class=\"_3tbKJL\"><div class=\"_25b18c\"><div class=\"_30jeq3 _1_WHN1\">₹18,999</div><div class=\"_3I9_wc _27UcVY\">₹<!-- -->26,999</div><div class=\"_3Ay6Sb\"><span>29% off</span></div></div></div><div class=\"_13J9qT\"><img height=\"21\" src=\"//static-assets-web.flixcart.com/fk-p-linchpin-web/fk-cp-zion/img/fa_62673a.png\"/></div></div></div></a></div></div></div></div><div class=\"_1AtVbE col-12-12\"><div class=\"_13oc-S\"><div data-id=\"MOBGFH8TNGEKSCTY\" style=\"width:100%\"><div class=\"_2kHMtA\"><a class=\"_1fQZEK\" href=\"/realme-8-cyber-black-128-gb/p/itm63bda3bf5b1db?pid=MOBGFH8TNGEKSCTY&amp;lid=LSTMOBGFH8TNGEKSCTYCUMNTU&amp;marketplace=FLIPKART&amp;q=realme+8&amp;store=tyy%2F4io&amp;srno=s_1_17&amp;otracker=AS_Query_HistoryAutoSuggest_2_0&amp;otracker1=AS_Query_HistoryAutoSuggest_2_0&amp;fm=organic&amp;iid=8f4ab5a5-e2f3-44aa-97f3-683116ac0bc5.MOBGFH8TNGEKSCTY.SEARCH&amp;ppt=None&amp;ppn=None&amp;ssid=t5lw3z2fy80000001708176954270&amp;qH=f8f16929313ccb8e\" rel=\"noopener noreferrer\" target=\"_blank\"><div class=\"MIXNux\"><div class=\"_2QcLo-\"><div><div class=\"CXW8mj\" style=\"height:200px;width:200px\"><img alt=\"realme 8 (Cyber Black, 128 GB)\" class=\"_396cs4\" loading=\"eager\" src=\"https://rukminim2.flixcart.com/image/312/312/kmmcrrk0/mobile/4/g/a/8-rmx3085-realme-original-imagfgpfdkyc29zc.jpeg?q=70\"/></div></div><div class=\"_3G6awp\"><span class=\"_192laR\">Currently unavailable</span></div></div><div class=\"_3wLduG\"><div class=\"_3PzNI-\"><span class=\"f3A4_V\"><label class=\"_2iDkf8\"><input class=\"_30VH1S\" readonly=\"\" type=\"checkbox\"/><div class=\"_24_Dny\"></div></label></span><label class=\"_6Up2sF\"><span>Add to Compare</span></label></div></div><div class=\"_2hVSre _3nq8ih\"><div class=\"_36FSn5\"><svg class=\"_1l0elc\" height=\"16\" viewbox=\"0 0 20 16\" width=\"16\" xmlns=\"http://www.w3.org/2000/svg\"><path class=\"eX72wL\" d=\"M8.695 16.682C4.06 12.382 1 9.536 1 6.065 1 3.219 3.178 1 5.95 1c1.566 0 3.069.746 4.05 1.915C10.981 1.745 12.484 1 14.05 1 16.822 1 19 3.22 19 6.065c0 3.471-3.06 6.316-7.695 10.617L10 17.897l-1.305-1.215z\" fill=\"#2874F0\" fill-rule=\"evenodd\" opacity=\".9\" stroke=\"#FFF\"></path></svg></div></div></div><div class=\"_3pLy-c row\"><div class=\"col col-7-12\"><div class=\"_4rR01T\">realme 8 (Cyber Black, 128 GB)</div><div class=\"gUuXy-\"><span class=\"_1lRcqv\" id=\"productRating_LSTMOBGFH8TNGEKSCTYCUMNTU_MOBGFH8TNGEKSCTY_\"><div class=\"_3LWZlK\">4.4<img class=\"_1wB99o\" src=\"data:image/svg+xml;base64,PHN2ZyB4bWxucz0iaHR0cDovL3d3dy53My5vcmcvMjAwMC9zdmciIHdpZHRoPSIxMyIgaGVpZ2h0PSIxMiI+PHBhdGggZmlsbD0iI0ZGRiIgZD0iTTYuNSA5LjQzOWwtMy42NzQgMi4yMy45NC00LjI2LTMuMjEtMi44ODMgNC4yNTQtLjQwNEw2LjUuMTEybDEuNjkgNC4wMSA0LjI1NC40MDQtMy4yMSAyLjg4Mi45NCA0LjI2eiIvPjwvc3ZnPg==\"/></div></span><span class=\"_2_R_DZ\"><span><span>1,23,240 Ratings </span><span class=\"_13vcmD\">&amp;</span><span> 9,976 Reviews</span></span></span></div><div class=\"fMghEO\"><ul class=\"_1xgFaf\"><li class=\"rgWa7D\">6 GB RAM | 128 GB ROM | Expandable Upto 256 GB</li><li class=\"rgWa7D\">16.26 cm (6.4 inch) Full HD+ Display</li><li class=\"rgWa7D\">64MP + 8MP + 2MP + 2MP | 16MP Front Camera</li><li class=\"rgWa7D\">5000 mAh Battery</li><li class=\"rgWa7D\">MediaTek Helio G95 Processor</li><li class=\"rgWa7D\">Super AMOLED Display</li><li class=\"rgWa7D\">1 Year Warranty for Mobile and 6 Months for Accessories</li></ul></div></div><div class=\"col col-5-12 nlI3QM\"><div class=\"_3tbKJL\"><div class=\"_25b18c\"><div class=\"_30jeq3 _1_WHN1\">₹14,499</div><div class=\"_3I9_wc _27UcVY\">₹<!-- -->17,999</div><div class=\"_3Ay6Sb\"><span>19% off</span></div></div></div><div class=\"_13J9qT\"><img height=\"21\" src=\"//static-assets-web.flixcart.com/fk-p-linchpin-web/fk-cp-zion/img/fa_62673a.png\"/></div></div></div></a></div></div></div></div><div class=\"_1AtVbE col-12-12\"><div class=\"_13oc-S\"><div data-id=\"MOBGYV98YXYYAFKN\" style=\"width:100%\"><div class=\"_2kHMtA\"><a class=\"_1fQZEK\" href=\"/realme-8-cyber-silver-128-gb/p/itm63bda3bf5b1db?pid=MOBGYV98YXYYAFKN&amp;lid=LSTMOBGYV98YXYYAFKNRR2WER&amp;marketplace=FLIPKART&amp;q=realme+8&amp;store=tyy%2F4io&amp;srno=s_1_18&amp;otracker=AS_Query_HistoryAutoSuggest_2_0&amp;otracker1=AS_Query_HistoryAutoSuggest_2_0&amp;fm=organic&amp;iid=8f4ab5a5-e2f3-44aa-97f3-683116ac0bc5.MOBGYV98YXYYAFKN.SEARCH&amp;ppt=None&amp;ppn=None&amp;ssid=t5lw3z2fy80000001708176954270&amp;qH=f8f16929313ccb8e\" rel=\"noopener noreferrer\" target=\"_blank\"><div class=\"MIXNux\"><div class=\"_2QcLo-\"><div><div class=\"CXW8mj\" style=\"height:200px;width:200px\"><img alt=\"realme 8 (Cyber Silver, 128 GB)\" class=\"_396cs4\" loading=\"eager\" src=\"https://rukminim2.flixcart.com/image/312/312/kmmcrrk0/mobile/y/o/q/8-rmx3085-realme-original-imagfgpgmm6h8ptt.jpeg?q=70\"/></div></div><div class=\"_3G6awp\"><span class=\"_192laR\">Currently unavailable</span></div></div><div class=\"_3wLduG\"><div class=\"_3PzNI-\"><span class=\"f3A4_V\"><label class=\"_2iDkf8\"><input class=\"_30VH1S\" readonly=\"\" type=\"checkbox\"/><div class=\"_24_Dny\"></div></label></span><label class=\"_6Up2sF\"><span>Add to Compare</span></label></div></div><div class=\"_2hVSre _3nq8ih\"><div class=\"_36FSn5\"><svg class=\"_1l0elc\" height=\"16\" viewbox=\"0 0 20 16\" width=\"16\" xmlns=\"http://www.w3.org/2000/svg\"><path class=\"eX72wL\" d=\"M8.695 16.682C4.06 12.382 1 9.536 1 6.065 1 3.219 3.178 1 5.95 1c1.566 0 3.069.746 4.05 1.915C10.981 1.745 12.484 1 14.05 1 16.822 1 19 3.22 19 6.065c0 3.471-3.06 6.316-7.695 10.617L10 17.897l-1.305-1.215z\" fill=\"#2874F0\" fill-rule=\"evenodd\" opacity=\".9\" stroke=\"#FFF\"></path></svg></div></div></div><div class=\"_3pLy-c row\"><div class=\"col col-7-12\"><div class=\"_4rR01T\">realme 8 (Cyber Silver, 128 GB)</div><div class=\"gUuXy-\"><span class=\"_1lRcqv\" id=\"productRating_LSTMOBGYV98YXYYAFKNRR2WER_MOBGYV98YXYYAFKN_\"><div class=\"_3LWZlK\">4.4<img class=\"_1wB99o\" src=\"data:image/svg+xml;base64,PHN2ZyB4bWxucz0iaHR0cDovL3d3dy53My5vcmcvMjAwMC9zdmciIHdpZHRoPSIxMyIgaGVpZ2h0PSIxMiI+PHBhdGggZmlsbD0iI0ZGRiIgZD0iTTYuNSA5LjQzOWwtMy42NzQgMi4yMy45NC00LjI2LTMuMjEtMi44ODMgNC4yNTQtLjQwNEw2LjUuMTEybDEuNjkgNC4wMSA0LjI1NC40MDQtMy4yMSAyLjg4Mi45NCA0LjI2eiIvPjwvc3ZnPg==\"/></div></span><span class=\"_2_R_DZ\"><span><span>1,26,130 Ratings </span><span class=\"_13vcmD\">&amp;</span><span> 10,903 Reviews</span></span></span></div><div class=\"fMghEO\"><ul class=\"_1xgFaf\"><li class=\"rgWa7D\">4 GB RAM | 128 GB ROM | Expandable Upto 256 GB</li><li class=\"rgWa7D\">16.26 cm (6.4 inch) Full HD+ Display</li><li class=\"rgWa7D\">64MP + 8MP + 2MP + 2MP | 16MP Front Camera</li><li class=\"rgWa7D\">5000 mAh Battery</li><li class=\"rgWa7D\">MediaTek Helio G95 Processor</li><li class=\"rgWa7D\">Super AMOLED Display</li><li class=\"rgWa7D\">1 Year Warranty for Mobile and 6 Months for Accessories</li></ul></div></div><div class=\"col col-5-12 nlI3QM\"><div class=\"_3tbKJL\"><div class=\"_25b18c\"><div class=\"_30jeq3 _1_WHN1\">₹13,499</div><div class=\"_3I9_wc _27UcVY\">₹<!-- -->16,999</div><div class=\"_3Ay6Sb\"><span>20% off</span></div></div></div><div class=\"_13J9qT\"><img height=\"21\" src=\"//static-assets-web.flixcart.com/fk-p-linchpin-web/fk-cp-zion/img/fa_62673a.png\"/></div></div></div></a></div></div></div></div><div class=\"_1AtVbE col-12-12\"><div class=\"_13oc-S\"><div data-id=\"MOBGHJ6ZXE3RKKDX\" style=\"width:100%\"><div class=\"_2kHMtA\"><a class=\"_1fQZEK\" href=\"/realme-8-punk-black-128-gb/p/itm63bda3bf5b1db?pid=MOBGHJ6ZXE3RKKDX&amp;lid=LSTMOBGHJ6ZXE3RKKDXUS8XGX&amp;marketplace=FLIPKART&amp;q=realme+8&amp;store=tyy%2F4io&amp;srno=s_1_19&amp;otracker=AS_Query_HistoryAutoSuggest_2_0&amp;otracker1=AS_Query_HistoryAutoSuggest_2_0&amp;fm=organic&amp;iid=8f4ab5a5-e2f3-44aa-97f3-683116ac0bc5.MOBGHJ6ZXE3RKKDX.SEARCH&amp;ppt=None&amp;ppn=None&amp;ssid=t5lw3z2fy80000001708176954270&amp;qH=f8f16929313ccb8e\" rel=\"noopener noreferrer\" target=\"_blank\"><div class=\"MIXNux\"><div class=\"_2QcLo-\"><div><div class=\"CXW8mj\" style=\"height:200px;width:200px\"><img alt=\"realme 8 (Punk Black, 128 GB)\" class=\"_396cs4\" loading=\"eager\" src=\"https://rukminim2.flixcart.com/image/312/312/xif0q/mobile/y/z/d/-original-imagpn67b9dehbgf.jpeg?q=70\"/></div></div><div class=\"_3G6awp\"><span class=\"_192laR\">Currently unavailable</span></div></div><div class=\"_3wLduG\"><div class=\"_3PzNI-\"><span class=\"f3A4_V\"><label class=\"_2iDkf8\"><input class=\"_30VH1S\" readonly=\"\" type=\"checkbox\"/><div class=\"_24_Dny\"></div></label></span><label class=\"_6Up2sF\"><span>Add to Compare</span></label></div></div><div class=\"_2hVSre _3nq8ih\"><div class=\"_36FSn5\"><svg class=\"_1l0elc\" height=\"16\" viewbox=\"0 0 20 16\" width=\"16\" xmlns=\"http://www.w3.org/2000/svg\"><path class=\"eX72wL\" d=\"M8.695 16.682C4.06 12.382 1 9.536 1 6.065 1 3.219 3.178 1 5.95 1c1.566 0 3.069.746 4.05 1.915C10.981 1.745 12.484 1 14.05 1 16.822 1 19 3.22 19 6.065c0 3.471-3.06 6.316-7.695 10.617L10 17.897l-1.305-1.215z\" fill=\"#2874F0\" fill-rule=\"evenodd\" opacity=\".9\" stroke=\"#FFF\"></path></svg></div></div></div><div class=\"_3pLy-c row\"><div class=\"col col-7-12\"><div class=\"_4rR01T\">realme 8 (Punk Black, 128 GB)</div><div class=\"gUuXy-\"><span class=\"_1lRcqv\" id=\"productRating_LSTMOBGHJ6ZXE3RKKDXUS8XGX_MOBGHJ6ZXE3RKKDX_\"><div class=\"_3LWZlK\">4.4<img class=\"_1wB99o\" src=\"data:image/svg+xml;base64,PHN2ZyB4bWxucz0iaHR0cDovL3d3dy53My5vcmcvMjAwMC9zdmciIHdpZHRoPSIxMyIgaGVpZ2h0PSIxMiI+PHBhdGggZmlsbD0iI0ZGRiIgZD0iTTYuNSA5LjQzOWwtMy42NzQgMi4yMy45NC00LjI2LTMuMjEtMi44ODMgNC4yNTQtLjQwNEw2LjUuMTEybDEuNjkgNC4wMSA0LjI1NC40MDQtMy4yMSAyLjg4Mi45NCA0LjI2eiIvPjwvc3ZnPg==\"/></div></span><span class=\"_2_R_DZ\"><span><span>1,26,130 Ratings </span><span class=\"_13vcmD\">&amp;</span><span> 10,903 Reviews</span></span></span></div><div class=\"fMghEO\"><ul class=\"_1xgFaf\"><li class=\"rgWa7D\">4 GB RAM | 128 GB ROM | Expandable Upto 256 GB</li><li class=\"rgWa7D\">16.26 cm (6.4 inch) Full HD+ Display</li><li class=\"rgWa7D\">64MP + 8MP + 2MP + 2MP | 16MP Front Camera</li><li class=\"rgWa7D\">5000 mAh Battery</li><li class=\"rgWa7D\">MediaTek Helio G95 Processor</li><li class=\"rgWa7D\">Super AMOLED Display</li><li class=\"rgWa7D\">1 Year Warranty for Mobile and 6 Months for Accessories</li></ul></div></div><div class=\"col col-5-12 nlI3QM\"><div class=\"_3tbKJL\"><div class=\"_25b18c\"><div class=\"_30jeq3 _1_WHN1\">₹13,499</div><div class=\"_3I9_wc _27UcVY\">₹<!-- -->16,999</div><div class=\"_3Ay6Sb\"><span>20% off</span></div></div></div><div class=\"_13J9qT\"><img height=\"21\" src=\"//static-assets-web.flixcart.com/fk-p-linchpin-web/fk-cp-zion/img/fa_62673a.png\"/></div></div></div></a></div></div></div></div><div class=\"_1AtVbE col-12-12\"><div class=\"_13oc-S\"><div data-id=\"MOBGYV98TGYMRSVQ\" style=\"width:100%\"><div class=\"_2kHMtA\"><a class=\"_1fQZEK\" href=\"/realme-8-cyber-black-128-gb/p/itm63bda3bf5b1db?pid=MOBGYV98TGYMRSVQ&amp;lid=LSTMOBGYV98TGYMRSVQKRJ66K&amp;marketplace=FLIPKART&amp;q=realme+8&amp;store=tyy%2F4io&amp;srno=s_1_20&amp;otracker=AS_Query_HistoryAutoSuggest_2_0&amp;otracker1=AS_Query_HistoryAutoSuggest_2_0&amp;fm=organic&amp;iid=8f4ab5a5-e2f3-44aa-97f3-683116ac0bc5.MOBGYV98TGYMRSVQ.SEARCH&amp;ppt=None&amp;ppn=None&amp;ssid=t5lw3z2fy80000001708176954270&amp;qH=f8f16929313ccb8e\" rel=\"noopener noreferrer\" target=\"_blank\"><div class=\"MIXNux\"><div class=\"_2QcLo-\"><div><div class=\"CXW8mj\" style=\"height:200px;width:200px\"><img alt=\"realme 8 (Cyber Black, 128 GB)\" class=\"_396cs4\" loading=\"eager\" src=\"https://rukminim2.flixcart.com/image/312/312/kmmcrrk0/mobile/4/g/a/8-rmx3085-realme-original-imagfgpfdkyc29zc.jpeg?q=70\"/></div></div><div class=\"_3G6awp\"><span class=\"_192laR\">Currently unavailable</span></div></div><div class=\"_3wLduG\"><div class=\"_3PzNI-\"><span class=\"f3A4_V\"><label class=\"_2iDkf8\"><input class=\"_30VH1S\" readonly=\"\" type=\"checkbox\"/><div class=\"_24_Dny\"></div></label></span><label class=\"_6Up2sF\"><span>Add to Compare</span></label></div></div><div class=\"_2hVSre _3nq8ih\"><div class=\"_36FSn5\"><svg class=\"_1l0elc\" height=\"16\" viewbox=\"0 0 20 16\" width=\"16\" xmlns=\"http://www.w3.org/2000/svg\"><path class=\"eX72wL\" d=\"M8.695 16.682C4.06 12.382 1 9.536 1 6.065 1 3.219 3.178 1 5.95 1c1.566 0 3.069.746 4.05 1.915C10.981 1.745 12.484 1 14.05 1 16.822 1 19 3.22 19 6.065c0 3.471-3.06 6.316-7.695 10.617L10 17.897l-1.305-1.215z\" fill=\"#2874F0\" fill-rule=\"evenodd\" opacity=\".9\" stroke=\"#FFF\"></path></svg></div></div></div><div class=\"_3pLy-c row\"><div class=\"col col-7-12\"><div class=\"_4rR01T\">realme 8 (Cyber Black, 128 GB)</div><div class=\"gUuXy-\"><span class=\"_1lRcqv\" id=\"productRating_LSTMOBGYV98TGYMRSVQKRJ66K_MOBGYV98TGYMRSVQ_\"><div class=\"_3LWZlK\">4.4<img class=\"_1wB99o\" src=\"data:image/svg+xml;base64,PHN2ZyB4bWxucz0iaHR0cDovL3d3dy53My5vcmcvMjAwMC9zdmciIHdpZHRoPSIxMyIgaGVpZ2h0PSIxMiI+PHBhdGggZmlsbD0iI0ZGRiIgZD0iTTYuNSA5LjQzOWwtMy42NzQgMi4yMy45NC00LjI2LTMuMjEtMi44ODMgNC4yNTQtLjQwNEw2LjUuMTEybDEuNjkgNC4wMSA0LjI1NC40MDQtMy4yMSAyLjg4Mi45NCA0LjI2eiIvPjwvc3ZnPg==\"/></div></span><span class=\"_2_R_DZ\"><span><span>1,26,130 Ratings </span><span class=\"_13vcmD\">&amp;</span><span> 10,903 Reviews</span></span></span></div><div class=\"fMghEO\"><ul class=\"_1xgFaf\"><li class=\"rgWa7D\">4 GB RAM | 128 GB ROM | Expandable Upto 256 GB</li><li class=\"rgWa7D\">16.26 cm (6.4 inch) Full HD+ Display</li><li class=\"rgWa7D\">64MP + 8MP + 2MP + 2MP | 16MP Front Camera</li><li class=\"rgWa7D\">5000 mAh Battery</li><li class=\"rgWa7D\">MediaTek Helio G95 Processor</li><li class=\"rgWa7D\">Super AMOLED Display</li><li class=\"rgWa7D\">1 Year Warranty for Mobile and 6 Months for Accessories</li></ul></div></div><div class=\"col col-5-12 nlI3QM\"><div class=\"_3tbKJL\"><div class=\"_25b18c\"><div class=\"_30jeq3 _1_WHN1\">₹13,499</div><div class=\"_3I9_wc _27UcVY\">₹<!-- -->16,999</div><div class=\"_3Ay6Sb\"><span>20% off</span></div></div></div><div class=\"_13J9qT\"><img height=\"21\" src=\"//static-assets-web.flixcart.com/fk-p-linchpin-web/fk-cp-zion/img/fa_62673a.png\"/></div></div></div></a></div></div></div></div><div class=\"_1AtVbE col-12-12\"><div class=\"_13oc-S\"><div data-id=\"MOBG24GT8GPG3G2Y\" style=\"width:100%\"><div class=\"_2kHMtA\"><a class=\"_1fQZEK\" href=\"/realme-8-5g-supersonic-blue-128-gb/p/itm8a548578d136e?pid=MOBG24GT8GPG3G2Y&amp;lid=LSTMOBG24GT8GPG3G2YHPJKCZ&amp;marketplace=FLIPKART&amp;q=realme+8&amp;store=tyy%2F4io&amp;srno=s_1_21&amp;otracker=AS_Query_HistoryAutoSuggest_2_0&amp;otracker1=AS_Query_HistoryAutoSuggest_2_0&amp;fm=organic&amp;iid=8f4ab5a5-e2f3-44aa-97f3-683116ac0bc5.MOBG24GT8GPG3G2Y.SEARCH&amp;ppt=None&amp;ppn=None&amp;ssid=t5lw3z2fy80000001708176954270&amp;qH=f8f16929313ccb8e\" rel=\"noopener noreferrer\" target=\"_blank\"><div class=\"MIXNux\"><div class=\"_2QcLo-\"><div><div class=\"CXW8mj\" style=\"height:200px;width:200px\"><img alt=\"realme 8 5G (Supersonic Blue, 128 GB)\" class=\"_396cs4\" loading=\"eager\" src=\"https://rukminim2.flixcart.com/image/312/312/knrsjgw0/mobile/u/f/w/8-5g-rmx3241-realme-original-imag2d8ett6ukhcs.jpeg?q=70\"/></div></div><div class=\"_3G6awp\"><span class=\"_192laR\">Currently unavailable</span></div></div><div class=\"_3wLduG\"><div class=\"_3PzNI-\"><span class=\"f3A4_V\"><label class=\"_2iDkf8\"><input class=\"_30VH1S\" readonly=\"\" type=\"checkbox\"/><div class=\"_24_Dny\"></div></label></span><label class=\"_6Up2sF\"><span>Add to Compare</span></label></div></div><div class=\"_2hVSre _3nq8ih\"><div class=\"_36FSn5\"><svg class=\"_1l0elc\" height=\"16\" viewbox=\"0 0 20 16\" width=\"16\" xmlns=\"http://www.w3.org/2000/svg\"><path class=\"eX72wL\" d=\"M8.695 16.682C4.06 12.382 1 9.536 1 6.065 1 3.219 3.178 1 5.95 1c1.566 0 3.069.746 4.05 1.915C10.981 1.745 12.484 1 14.05 1 16.822 1 19 3.22 19 6.065c0 3.471-3.06 6.316-7.695 10.617L10 17.897l-1.305-1.215z\" fill=\"#2874F0\" fill-rule=\"evenodd\" opacity=\".9\" stroke=\"#FFF\"></path></svg></div></div></div><div class=\"_3pLy-c row\"><div class=\"col col-7-12\"><div class=\"_4rR01T\">realme 8 5G (Supersonic Blue, 128 GB)</div><div class=\"gUuXy-\"><span class=\"_1lRcqv\" id=\"productRating_LSTMOBG24GT8GPG3G2YHPJKCZ_MOBG24GT8GPG3G2Y_\"><div class=\"_3LWZlK\">4.4<img class=\"_1wB99o\" src=\"data:image/svg+xml;base64,PHN2ZyB4bWxucz0iaHR0cDovL3d3dy53My5vcmcvMjAwMC9zdmciIHdpZHRoPSIxMyIgaGVpZ2h0PSIxMiI+PHBhdGggZmlsbD0iI0ZGRiIgZD0iTTYuNSA5LjQzOWwtMy42NzQgMi4yMy45NC00LjI2LTMuMjEtMi44ODMgNC4yNTQtLjQwNEw2LjUuMTEybDEuNjkgNC4wMSA0LjI1NC40MDQtMy4yMSAyLjg4Mi45NCA0LjI2eiIvPjwvc3ZnPg==\"/></div></span><span class=\"_2_R_DZ\"><span><span>70,813 Ratings </span><span class=\"_13vcmD\">&amp;</span><span> 5,679 Reviews</span></span></span></div><div class=\"fMghEO\"><ul class=\"_1xgFaf\"><li class=\"rgWa7D\">8 GB RAM | 128 GB ROM | Expandable Upto 1 TB</li><li class=\"rgWa7D\">16.51 cm (6.5 inch) Full HD+ Display</li><li class=\"rgWa7D\">48MP + 2MP + 2MP | 16MP Front Camera</li><li class=\"rgWa7D\">5000 mAh Battery</li><li class=\"rgWa7D\">MediaTek Dimensity 700 (MT6833) Processor</li><li class=\"rgWa7D\">1 Year Warranty for Mobile and 6 Months for Accessories</li></ul></div></div><div class=\"col col-5-12 nlI3QM\"><div class=\"_3tbKJL\"><div class=\"_25b18c\"><div class=\"_30jeq3 _1_WHN1\">₹18,499</div><div class=\"_3I9_wc _27UcVY\">₹<!-- -->18,999</div><div class=\"_3Ay6Sb\"><span>2% off</span></div></div></div><div class=\"_13J9qT\"><img height=\"21\" src=\"//static-assets-web.flixcart.com/fk-p-linchpin-web/fk-cp-zion/img/fa_62673a.png\"/></div></div></div></a></div></div></div></div><div class=\"_1AtVbE col-12-12\"><div class=\"_13oc-S\"><div data-id=\"MOBG24GTTRD9XB8X\" style=\"width:100%\"><div class=\"_2kHMtA\"><a class=\"_1fQZEK\" href=\"/realme-8-5g-supersonic-black-128-gb/p/itm8a548578d136e?pid=MOBG24GTTRD9XB8X&amp;lid=LSTMOBG24GTTRD9XB8XOYYKCX&amp;marketplace=FLIPKART&amp;q=realme+8&amp;store=tyy%2F4io&amp;srno=s_1_22&amp;otracker=AS_Query_HistoryAutoSuggest_2_0&amp;otracker1=AS_Query_HistoryAutoSuggest_2_0&amp;fm=organic&amp;iid=8f4ab5a5-e2f3-44aa-97f3-683116ac0bc5.MOBG24GTTRD9XB8X.SEARCH&amp;ppt=None&amp;ppn=None&amp;ssid=t5lw3z2fy80000001708176954270&amp;qH=f8f16929313ccb8e\" rel=\"noopener noreferrer\" target=\"_blank\"><div class=\"MIXNux\"><div class=\"_2QcLo-\"><div><div class=\"CXW8mj\" style=\"height:200px;width:200px\"><img alt=\"realme 8 5G (Supersonic Black, 128 GB)\" class=\"_396cs4\" loading=\"eager\" src=\"https://rukminim2.flixcart.com/image/312/312/knrsjgw0/mobile/f/o/w/8-5g-rmx3241-realme-original-imag2d8eksc2szzy.jpeg?q=70\"/></div></div><div class=\"_3G6awp\"><span class=\"_192laR\">Currently unavailable</span></div></div><div class=\"_3wLduG\"><div class=\"_3PzNI-\"><span class=\"f3A4_V\"><label class=\"_2iDkf8\"><input class=\"_30VH1S\" readonly=\"\" type=\"checkbox\"/><div class=\"_24_Dny\"></div></label></span><label class=\"_6Up2sF\"><span>Add to Compare</span></label></div></div><div class=\"_2hVSre _3nq8ih\"><div class=\"_36FSn5\"><svg class=\"_1l0elc\" height=\"16\" viewbox=\"0 0 20 16\" width=\"16\" xmlns=\"http://www.w3.org/2000/svg\"><path class=\"eX72wL\" d=\"M8.695 16.682C4.06 12.382 1 9.536 1 6.065 1 3.219 3.178 1 5.95 1c1.566 0 3.069.746 4.05 1.915C10.981 1.745 12.484 1 14.05 1 16.822 1 19 3.22 19 6.065c0 3.471-3.06 6.316-7.695 10.617L10 17.897l-1.305-1.215z\" fill=\"#2874F0\" fill-rule=\"evenodd\" opacity=\".9\" stroke=\"#FFF\"></path></svg></div></div></div><div class=\"_3pLy-c row\"><div class=\"col col-7-12\"><div class=\"_4rR01T\">realme 8 5G (Supersonic Black, 128 GB)</div><div class=\"gUuXy-\"><span class=\"_1lRcqv\" id=\"productRating_LSTMOBG24GTTRD9XB8XOYYKCX_MOBG24GTTRD9XB8X_\"><div class=\"_3LWZlK\">4.3<img class=\"_1wB99o\" src=\"data:image/svg+xml;base64,PHN2ZyB4bWxucz0iaHR0cDovL3d3dy53My5vcmcvMjAwMC9zdmciIHdpZHRoPSIxMyIgaGVpZ2h0PSIxMiI+PHBhdGggZmlsbD0iI0ZGRiIgZD0iTTYuNSA5LjQzOWwtMy42NzQgMi4yMy45NC00LjI2LTMuMjEtMi44ODMgNC4yNTQtLjQwNEw2LjUuMTEybDEuNjkgNC4wMSA0LjI1NC40MDQtMy4yMSAyLjg4Mi45NCA0LjI2eiIvPjwvc3ZnPg==\"/></div></span><span class=\"_2_R_DZ\"><span><span>78,482 Ratings </span><span class=\"_13vcmD\">&amp;</span><span> 6,124 Reviews</span></span></span></div><div class=\"fMghEO\"><ul class=\"_1xgFaf\"><li class=\"rgWa7D\">4 GB RAM | 128 GB ROM | Expandable Upto 1 TB</li><li class=\"rgWa7D\">16.51 cm (6.5 inch) Full HD+ Display</li><li class=\"rgWa7D\">48MP + 2MP + 2MP | 16MP Front Camera</li><li class=\"rgWa7D\">5000 mAh Battery</li><li class=\"rgWa7D\">MediaTek Dimensity 700 (MT6833) Processor</li><li class=\"rgWa7D\">1 Year Warranty for Mobile and 6 Months for Accessories</li></ul></div></div><div class=\"col col-5-12 nlI3QM\"><div class=\"_3tbKJL\"><div class=\"_25b18c\"><div class=\"_30jeq3 _1_WHN1\">₹16,499</div><div class=\"_3I9_wc _27UcVY\">₹<!-- -->16,999</div><div class=\"_3Ay6Sb\"><span>2% off</span></div></div></div><div class=\"_13J9qT\"><img height=\"21\" src=\"//static-assets-web.flixcart.com/fk-p-linchpin-web/fk-cp-zion/img/fa_62673a.png\"/></div></div></div></a></div></div></div></div><div class=\"_1AtVbE col-12-12\"><div class=\"_13oc-S\"><div data-id=\"MOBG24GTQTFDXBBY\" style=\"width:100%\"><div class=\"_2kHMtA\"><a class=\"_1fQZEK\" href=\"/realme-8-5g-supersonic-blue-128-gb/p/itm8a548578d136e?pid=MOBG24GTQTFDXBBY&amp;lid=LSTMOBG24GTQTFDXBBYSLENA2&amp;marketplace=FLIPKART&amp;q=realme+8&amp;store=tyy%2F4io&amp;srno=s_1_23&amp;otracker=AS_Query_HistoryAutoSuggest_2_0&amp;otracker1=AS_Query_HistoryAutoSuggest_2_0&amp;fm=organic&amp;iid=8f4ab5a5-e2f3-44aa-97f3-683116ac0bc5.MOBG24GTQTFDXBBY.SEARCH&amp;ppt=None&amp;ppn=None&amp;ssid=t5lw3z2fy80000001708176954270&amp;qH=f8f16929313ccb8e\" rel=\"noopener noreferrer\" target=\"_blank\"><div class=\"MIXNux\"><div class=\"_2QcLo-\"><div><div class=\"CXW8mj\" style=\"height:200px;width:200px\"><img alt=\"realme 8 5G (Supersonic Blue, 128 GB)\" class=\"_396cs4\" loading=\"eager\" src=\"https://rukminim2.flixcart.com/image/312/312/knrsjgw0/mobile/u/f/w/8-5g-rmx3241-realme-original-imag2d8ett6ukhcs.jpeg?q=70\"/></div></div><div class=\"_3G6awp\"><span class=\"_192laR\">Currently unavailable</span></div></div><div class=\"_3wLduG\"><div class=\"_3PzNI-\"><span class=\"f3A4_V\"><label class=\"_2iDkf8\"><input class=\"_30VH1S\" readonly=\"\" type=\"checkbox\"/><div class=\"_24_Dny\"></div></label></span><label class=\"_6Up2sF\"><span>Add to Compare</span></label></div></div><div class=\"_2hVSre _3nq8ih\"><div class=\"_36FSn5\"><svg class=\"_1l0elc\" height=\"16\" viewbox=\"0 0 20 16\" width=\"16\" xmlns=\"http://www.w3.org/2000/svg\"><path class=\"eX72wL\" d=\"M8.695 16.682C4.06 12.382 1 9.536 1 6.065 1 3.219 3.178 1 5.95 1c1.566 0 3.069.746 4.05 1.915C10.981 1.745 12.484 1 14.05 1 16.822 1 19 3.22 19 6.065c0 3.471-3.06 6.316-7.695 10.617L10 17.897l-1.305-1.215z\" fill=\"#2874F0\" fill-rule=\"evenodd\" opacity=\".9\" stroke=\"#FFF\"></path></svg></div></div></div><div class=\"_3pLy-c row\"><div class=\"col col-7-12\"><div class=\"_4rR01T\">realme 8 5G (Supersonic Blue, 128 GB)</div><div class=\"gUuXy-\"><span class=\"_1lRcqv\" id=\"productRating_LSTMOBG24GTQTFDXBBYSLENA2_MOBG24GTQTFDXBBY_\"><div class=\"_3LWZlK\">4.3<img class=\"_1wB99o\" src=\"data:image/svg+xml;base64,PHN2ZyB4bWxucz0iaHR0cDovL3d3dy53My5vcmcvMjAwMC9zdmciIHdpZHRoPSIxMyIgaGVpZ2h0PSIxMiI+PHBhdGggZmlsbD0iI0ZGRiIgZD0iTTYuNSA5LjQzOWwtMy42NzQgMi4yMy45NC00LjI2LTMuMjEtMi44ODMgNC4yNTQtLjQwNEw2LjUuMTEybDEuNjkgNC4wMSA0LjI1NC40MDQtMy4yMSAyLjg4Mi45NCA0LjI2eiIvPjwvc3ZnPg==\"/></div></span><span class=\"_2_R_DZ\"><span><span>78,482 Ratings </span><span class=\"_13vcmD\">&amp;</span><span> 6,124 Reviews</span></span></span></div><div class=\"fMghEO\"><ul class=\"_1xgFaf\"><li class=\"rgWa7D\">4 GB RAM | 128 GB ROM | Expandable Upto 1 TB</li><li class=\"rgWa7D\">16.51 cm (6.5 inch) Full HD+ Display</li><li class=\"rgWa7D\">48MP + 2MP + 2MP | 16MP Front Camera</li><li class=\"rgWa7D\">5000 mAh Battery</li><li class=\"rgWa7D\">MediaTek Dimensity 700 (MT6833) Processor</li><li class=\"rgWa7D\">1 Year Warranty for Mobile and 6 Months for Accessories</li></ul></div></div><div class=\"col col-5-12 nlI3QM\"><div class=\"_3tbKJL\"><div class=\"_25b18c\"><div class=\"_30jeq3 _1_WHN1\">₹16,499</div><div class=\"_3I9_wc _27UcVY\">₹<!-- -->16,999</div><div class=\"_3Ay6Sb\"><span>2% off</span></div></div></div><div class=\"_13J9qT\"><img height=\"21\" src=\"//static-assets-web.flixcart.com/fk-p-linchpin-web/fk-cp-zion/img/fa_62673a.png\"/></div></div></div></a></div></div></div></div><div class=\"_1AtVbE col-12-12\"><div class=\"_13oc-S\"><div data-id=\"MOBG2CE4NAKFGHAE\" style=\"width:100%\"><div class=\"_2kHMtA\"><a class=\"_1fQZEK\" href=\"/realme-8-5g-supersonic-blue-64-gb/p/itm8a548578d136e?pid=MOBG2CE4NAKFGHAE&amp;lid=LSTMOBG2CE4NAKFGHAEOZFIFH&amp;marketplace=FLIPKART&amp;q=realme+8&amp;store=tyy%2F4io&amp;srno=s_1_24&amp;otracker=AS_Query_HistoryAutoSuggest_2_0&amp;otracker1=AS_Query_HistoryAutoSuggest_2_0&amp;fm=organic&amp;iid=8f4ab5a5-e2f3-44aa-97f3-683116ac0bc5.MOBG2CE4NAKFGHAE.SEARCH&amp;ppt=None&amp;ppn=None&amp;ssid=t5lw3z2fy80000001708176954270&amp;qH=f8f16929313ccb8e\" rel=\"noopener noreferrer\" target=\"_blank\"><div class=\"MIXNux\"><div class=\"_2QcLo-\"><div><div class=\"CXW8mj\" style=\"height:200px;width:200px\"><img alt=\"realme 8 5G (Supersonic Blue, 64 GB)\" class=\"_396cs4\" loading=\"eager\" src=\"https://rukminim2.flixcart.com/image/312/312/knrsjgw0/mobile/u/f/w/8-5g-rmx3241-realme-original-imag2d8ett6ukhcs.jpeg?q=70\"/></div></div><div class=\"_3G6awp\"><span class=\"_192laR\">Currently unavailable</span></div></div><div class=\"_3wLduG\"><div class=\"_3PzNI-\"><span class=\"f3A4_V\"><label class=\"_2iDkf8\"><input class=\"_30VH1S\" readonly=\"\" type=\"checkbox\"/><div class=\"_24_Dny\"></div></label></span><label class=\"_6Up2sF\"><span>Add to Compare</span></label></div></div><div class=\"_2hVSre _3nq8ih\"><div class=\"_36FSn5\"><svg class=\"_1l0elc\" height=\"16\" viewbox=\"0 0 20 16\" width=\"16\" xmlns=\"http://www.w3.org/2000/svg\"><path class=\"eX72wL\" d=\"M8.695 16.682C4.06 12.382 1 9.536 1 6.065 1 3.219 3.178 1 5.95 1c1.566 0 3.069.746 4.05 1.915C10.981 1.745 12.484 1 14.05 1 16.822 1 19 3.22 19 6.065c0 3.471-3.06 6.316-7.695 10.617L10 17.897l-1.305-1.215z\" fill=\"#2874F0\" fill-rule=\"evenodd\" opacity=\".9\" stroke=\"#FFF\"></path></svg></div></div></div><div class=\"_3pLy-c row\"><div class=\"col col-7-12\"><div class=\"_4rR01T\">realme 8 5G (Supersonic Blue, 64 GB)</div><div class=\"gUuXy-\"><span class=\"_1lRcqv\" id=\"productRating_LSTMOBG2CE4NAKFGHAEOZFIFH_MOBG2CE4NAKFGHAE_\"><div class=\"_3LWZlK\">4.3<img class=\"_1wB99o\" src=\"data:image/svg+xml;base64,PHN2ZyB4bWxucz0iaHR0cDovL3d3dy53My5vcmcvMjAwMC9zdmciIHdpZHRoPSIxMyIgaGVpZ2h0PSIxMiI+PHBhdGggZmlsbD0iI0ZGRiIgZD0iTTYuNSA5LjQzOWwtMy42NzQgMi4yMy45NC00LjI2LTMuMjEtMi44ODMgNC4yNTQtLjQwNEw2LjUuMTEybDEuNjkgNC4wMSA0LjI1NC40MDQtMy4yMSAyLjg4Mi45NCA0LjI2eiIvPjwvc3ZnPg==\"/></div></span><span class=\"_2_R_DZ\"><span><span>78,482 Ratings </span><span class=\"_13vcmD\">&amp;</span><span> 6,124 Reviews</span></span></span></div><div class=\"fMghEO\"><ul class=\"_1xgFaf\"><li class=\"rgWa7D\">4 GB RAM | 64 GB ROM | Expandable Upto 1 TB</li><li class=\"rgWa7D\">16.51 cm (6.5 inch) Full HD+ Display</li><li class=\"rgWa7D\">48MP + 2MP + 2MP | 16MP Front Camera</li><li class=\"rgWa7D\">5000 mAh Battery</li><li class=\"rgWa7D\">MediaTek Dimensity 700 (MT6833) Processor</li><li class=\"rgWa7D\">1 Year Warranty for Mobile and 6 Months for Accessories</li></ul></div></div><div class=\"col col-5-12 nlI3QM\"><div class=\"_3tbKJL\"><div class=\"_25b18c\"><div class=\"_30jeq3 _1_WHN1\">₹15,499</div><div class=\"_3I9_wc _27UcVY\">₹<!-- -->15,999</div><div class=\"_3Ay6Sb\"><span>3% off</span></div></div></div><div class=\"_13J9qT\"><img height=\"21\" src=\"//static-assets-web.flixcart.com/fk-p-linchpin-web/fk-cp-zion/img/fa_62673a.png\"/></div></div></div></a></div></div></div></div><div class=\"_1AtVbE col-12-12\"><div><div class=\"_2MImiq\"><span>Page 1 of 22</span><nav class=\"yFHi8N\"><a class=\"ge-49M _2Kfbh8\" href=\"/search?q=realme+8&amp;otracker=AS_Query_HistoryAutoSuggest_2_0&amp;otracker1=AS_Query_HistoryAutoSuggest_2_0&amp;marketplace=FLIPKART&amp;as-show=on&amp;as=off&amp;as-pos=2&amp;as-type=HISTORY&amp;page=1\">1</a><a class=\"ge-49M\" href=\"/search?q=realme+8&amp;otracker=AS_Query_HistoryAutoSuggest_2_0&amp;otracker1=AS_Query_HistoryAutoSuggest_2_0&amp;marketplace=FLIPKART&amp;as-show=on&amp;as=off&amp;as-pos=2&amp;as-type=HISTORY&amp;page=2\">2</a><a class=\"ge-49M\" href=\"/search?q=realme+8&amp;otracker=AS_Query_HistoryAutoSuggest_2_0&amp;otracker1=AS_Query_HistoryAutoSuggest_2_0&amp;marketplace=FLIPKART&amp;as-show=on&amp;as=off&amp;as-pos=2&amp;as-type=HISTORY&amp;page=3\">3</a><a class=\"ge-49M\" href=\"/search?q=realme+8&amp;otracker=AS_Query_HistoryAutoSuggest_2_0&amp;otracker1=AS_Query_HistoryAutoSuggest_2_0&amp;marketplace=FLIPKART&amp;as-show=on&amp;as=off&amp;as-pos=2&amp;as-type=HISTORY&amp;page=4\">4</a><a class=\"ge-49M\" href=\"/search?q=realme+8&amp;otracker=AS_Query_HistoryAutoSuggest_2_0&amp;otracker1=AS_Query_HistoryAutoSuggest_2_0&amp;marketplace=FLIPKART&amp;as-show=on&amp;as=off&amp;as-pos=2&amp;as-type=HISTORY&amp;page=5\">5</a><a class=\"ge-49M\" href=\"/search?q=realme+8&amp;otracker=AS_Query_HistoryAutoSuggest_2_0&amp;otracker1=AS_Query_HistoryAutoSuggest_2_0&amp;marketplace=FLIPKART&amp;as-show=on&amp;as=off&amp;as-pos=2&amp;as-type=HISTORY&amp;page=6\">6</a><a class=\"ge-49M\" href=\"/search?q=realme+8&amp;otracker=AS_Query_HistoryAutoSuggest_2_0&amp;otracker1=AS_Query_HistoryAutoSuggest_2_0&amp;marketplace=FLIPKART&amp;as-show=on&amp;as=off&amp;as-pos=2&amp;as-type=HISTORY&amp;page=7\">7</a><a class=\"ge-49M\" href=\"/search?q=realme+8&amp;otracker=AS_Query_HistoryAutoSuggest_2_0&amp;otracker1=AS_Query_HistoryAutoSuggest_2_0&amp;marketplace=FLIPKART&amp;as-show=on&amp;as=off&amp;as-pos=2&amp;as-type=HISTORY&amp;page=8\">8</a><a class=\"ge-49M\" href=\"/search?q=realme+8&amp;otracker=AS_Query_HistoryAutoSuggest_2_0&amp;otracker1=AS_Query_HistoryAutoSuggest_2_0&amp;marketplace=FLIPKART&amp;as-show=on&amp;as=off&amp;as-pos=2&amp;as-type=HISTORY&amp;page=9\">9</a><a class=\"ge-49M\" href=\"/search?q=realme+8&amp;otracker=AS_Query_HistoryAutoSuggest_2_0&amp;otracker1=AS_Query_HistoryAutoSuggest_2_0&amp;marketplace=FLIPKART&amp;as-show=on&amp;as=off&amp;as-pos=2&amp;as-type=HISTORY&amp;page=10\">10</a><a class=\"_1LKTO3\" href=\"/search?q=realme+8&amp;otracker=AS_Query_HistoryAutoSuggest_2_0&amp;otracker1=AS_Query_HistoryAutoSuggest_2_0&amp;marketplace=FLIPKART&amp;as-show=on&amp;as=off&amp;as-pos=2&amp;as-type=HISTORY&amp;page=2\"><span>Next</span></a></nav><span class=\"_22Tduf\"></span></div></div></div><div class=\"_1AtVbE col-12-12\" style=\"margin:10px 0px 0px 0px\"><div class=\"_1anD2T\"><span class=\"PTpXCl\">Did you find what you were looking for?</span><div class=\"_1ye8x2 _1xLf4B\"><span class=\"_2eFmU2 _3ZMjMT\">Yes</span><span class=\"_2eFmU2 _3ZMjMT\">No</span></div></div></div></div></div><div class=\"_1AtVbE col-12-12\" style=\"padding:16px 0px 0px 0px\"><div class=\"_3E8aIl X3IECw row\"><div class=\"_88-NUv\">Reviews for Popular Mobiles</div><div class=\"_2nRPpA\"><div class=\"_1Ni40J\"><div class=\"_3hVUcF\"><div class=\"CXW8mj\" style=\"height:150px;width:150px\"><img alt=\"realme 8i (Space Black, 128 GB)\" class=\"_396cs4\" loading=\"lazy\" src=\"https://rukminim2.flixcart.com/image/300/300/ktbu6q80/mobile/x/w/y/8i-rmx3151-realme-original-imag6zhnabagtrzu.jpeg?q=90\"/></div></div><div class=\"_1kLt05\"><a href=\"/realme-8i-space-black-128-gb/p/itm7ab6edcb3b2a4?pid=MOBG63YXVG5VRHWN&amp;marketplace=FLIPKART\" rel=\"noopener noreferrer\" target=\"_blank\"><div class=\"_1W9f5C\"><div>1. realme 8i (Space Black, 128...</div></div><div class=\"_3VDxyD\"><div class=\"_3LWZlK\">4.4<img class=\"_1wB99o\" src=\"data:image/svg+xml;base64,PHN2ZyB4bWxucz0iaHR0cDovL3d3dy53My5vcmcvMjAwMC9zdmciIHdpZHRoPSIxMyIgaGVpZ2h0PSIxMiI+PHBhdGggZmlsbD0iI0ZGRiIgZD0iTTYuNSA5LjQzOWwtMy42NzQgMi4yMy45NC00LjI2LTMuMjEtMi44ODMgNC4yNTQtLjQwNEw2LjUuMTEybDEuNjkgNC4wMSA0LjI1NC40MDQtMy4yMSAyLjg4Mi45NCA0LjI2eiIvPjwvc3ZnPg==\"/></div><span class=\"_34hpFu\"><span>70,891 Ratings</span><span><span class=\"_2oY1qB\">&amp;</span><span>4,896 Reviews</span></span></span></div><div class=\"_2wYYVP\"><div class=\"_25b18c\"><div class=\"_30jeq3 UMT9wN\">₹13,499</div><div class=\"_3Ay6Sb _2FuKQX\"><span>25% off</span></div></div></div></a><ul class=\"_1Sq2Fs\"><li class=\"_2OosNL\">6 GB RAM | 128 GB ROM | Expandable Upto 256 GB</li><li class=\"_2OosNL\">16.76 cm (6.6 inch) Full HD+ Display</li><li class=\"_2OosNL\">50MP + 2MP + 2MP | 16MP Front Camera</li></ul></div></div><div class=\"_2tzWk4\"><div class=\"_1A_Aux\">Most Helpful Review</div><div class=\"col\"><div class=\"col _2wzgFH _2cVXgz\"><div class=\"row\"><div class=\"_3LWZlK _1BLPMq\">5<img class=\"_1wB99o\" src=\"data:image/svg+xml;base64,PHN2ZyB4bWxucz0iaHR0cDovL3d3dy53My5vcmcvMjAwMC9zdmciIHdpZHRoPSIxMyIgaGVpZ2h0PSIxMiI+PHBhdGggZmlsbD0iI0ZGRiIgZD0iTTYuNSA5LjQzOWwtMy42NzQgMi4yMy45NC00LjI2LTMuMjEtMi44ODMgNC4yNTQtLjQwNEw2LjUuMTEybDEuNjkgNC4wMSA0LjI1NC40MDQtMy4yMSAyLjg4Mi45NCA0LjI2eiIvPjwvc3ZnPg==\"/></div><p class=\"_2-N8zT\">Mind-blowing purchase</p></div><div class=\"row\"><div class=\"t-ZTKy\"><div><div class=\"\">Awesome mobile in this budget<br/><br/>📱Display ➡️6.60-inch (1080x2412)<br/>📱Processor➡️ MediaTek Helio G96<br/>🎞️Front Camera ➡️ 16MP<br/>🎞️Rear Camera ➡️50MP + 2MP + 2MP<br/>�...</div><span class=\"_1BWGvX\"><span>Read full review</span></span></div></div></div><div class=\"row _3n8db9\"><div class=\"row\"><p class=\"_2sc7ZR _2V5EHH\">Ummed Kumar</p><svg class=\"_2a1p_T\" height=\"14\" viewbox=\"0 0 12 12\" width=\"14\" xmlns=\"http://www.w3.org/2000/svg\"><g><circle cx=\"6\" cy=\"6\" fill=\"#878787\" r=\"6\"></circle><path d=\"M3 6l2 2 4-4\" fill=\"#878787\" stroke=\"#FFF\" stroke-width=\"1.5\"></path></g></svg><p class=\"_2mcZGG\" id=\"review-ce81af3a-d5d5-4c3c-ac65-326e6f085514\"><span>Certified Buyer</span></p><p class=\"_2sc7ZR\">Sep, 2021</p></div></div></div></div></div><div class=\"_2tzWk4\"><div class=\"_1A_Aux\">Recent Review</div><div class=\"col\"><div class=\"col _2wzgFH _2cVXgz\"><div class=\"row\"><div class=\"_3LWZlK _1BLPMq\">4<img class=\"_1wB99o\" src=\"data:image/svg+xml;base64,PHN2ZyB4bWxucz0iaHR0cDovL3d3dy53My5vcmcvMjAwMC9zdmciIHdpZHRoPSIxMyIgaGVpZ2h0PSIxMiI+PHBhdGggZmlsbD0iI0ZGRiIgZD0iTTYuNSA5LjQzOWwtMy42NzQgMi4yMy45NC00LjI2LTMuMjEtMi44ODMgNC4yNTQtLjQwNEw2LjUuMTEybDEuNjkgNC4wMSA0LjI1NC40MDQtMy4yMSAyLjg4Mi45NCA0LjI2eiIvPjwvc3ZnPg==\"/></div><p class=\"_2-N8zT\">Worth the money</p></div><div class=\"row\"><div class=\"t-ZTKy\"><div><div class=\"\">Camera Quality needs to improve</div><span class=\"_1H-bmy\"><span>Read full review</span></span></div></div></div><div class=\"row _3n8db9\"><div class=\"row\"><p class=\"_2sc7ZR _2V5EHH\">Flipkart Customer</p><svg class=\"_2a1p_T\" height=\"14\" viewbox=\"0 0 12 12\" width=\"14\" xmlns=\"http://www.w3.org/2000/svg\"><g><circle cx=\"6\" cy=\"6\" fill=\"#878787\" r=\"6\"></circle><path d=\"M3 6l2 2 4-4\" fill=\"#878787\" stroke=\"#FFF\" stroke-width=\"1.5\"></path></g></svg><p class=\"_2mcZGG\" id=\"review-20948c77-1d14-489b-ac4e-960157c1a54b\"><span>Certified Buyer</span></p><p class=\"_2sc7ZR\">30 days ago</p></div></div></div></div></div></div><div class=\"_2nRPpA\"><div class=\"_1Ni40J\"><div class=\"_3hVUcF\"><div class=\"CXW8mj\" style=\"height:150px;width:150px\"><img alt=\"realme 8 5G (Supersonic Blue, 128 GB)\" class=\"_396cs4\" loading=\"lazy\" src=\"https://rukminim2.flixcart.com/image/300/300/knrsjgw0/mobile/u/f/w/8-5g-rmx3241-realme-original-imag2d8ett6ukhcs.jpeg?q=90\"/></div></div><div class=\"_1kLt05\"><a href=\"/realme-8-5g-supersonic-blue-128-gb/p/itm8a548578d136e?pid=MOBG24GT8GPG3G2Y&amp;marketplace=FLIPKART\" rel=\"noopener noreferrer\" target=\"_blank\"><div class=\"_1W9f5C\"><div>2. realme 8 5G (Supersonic Blu...</div></div><div class=\"_3VDxyD\"><div class=\"_3LWZlK\">4.4<img class=\"_1wB99o\" src=\"data:image/svg+xml;base64,PHN2ZyB4bWxucz0iaHR0cDovL3d3dy53My5vcmcvMjAwMC9zdmciIHdpZHRoPSIxMyIgaGVpZ2h0PSIxMiI+PHBhdGggZmlsbD0iI0ZGRiIgZD0iTTYuNSA5LjQzOWwtMy42NzQgMi4yMy45NC00LjI2LTMuMjEtMi44ODMgNC4yNTQtLjQwNEw2LjUuMTEybDEuNjkgNC4wMSA0LjI1NC40MDQtMy4yMSAyLjg4Mi45NCA0LjI2eiIvPjwvc3ZnPg==\"/></div><span class=\"_34hpFu\"><span>70,813 Ratings</span><span><span class=\"_2oY1qB\">&amp;</span><span>5,679 Reviews</span></span></span></div><div class=\"_2wYYVP\"><div class=\"_25b18c\"><div class=\"_30jeq3 UMT9wN\">₹18,499</div><div class=\"_3Ay6Sb _2FuKQX\"><span>2% off</span></div></div></div></a><ul class=\"_1Sq2Fs\"><li class=\"_2OosNL\">8 GB RAM | 128 GB ROM | Expandable Upto 1 TB</li><li class=\"_2OosNL\">16.51 cm (6.5 inch) Full HD+ Display</li><li class=\"_2OosNL\">48MP + 2MP + 2MP | 16MP Front Camera</li></ul></div></div><div class=\"_2tzWk4\"><div class=\"_1A_Aux\">Most Helpful Review</div><div class=\"col\"><div class=\"col _2wzgFH _2cVXgz\"><div class=\"row\"><div class=\"_3LWZlK _1BLPMq\">5<img class=\"_1wB99o\" src=\"data:image/svg+xml;base64,PHN2ZyB4bWxucz0iaHR0cDovL3d3dy53My5vcmcvMjAwMC9zdmciIHdpZHRoPSIxMyIgaGVpZ2h0PSIxMiI+PHBhdGggZmlsbD0iI0ZGRiIgZD0iTTYuNSA5LjQzOWwtMy42NzQgMi4yMy45NC00LjI2LTMuMjEtMi44ODMgNC4yNTQtLjQwNEw2LjUuMTEybDEuNjkgNC4wMSA0LjI1NC40MDQtMy4yMSAyLjg4Mi45NCA0LjI2eiIvPjwvc3ZnPg==\"/></div><p class=\"_2-N8zT\">Just wow!</p></div><div class=\"row\"><div class=\"t-ZTKy\"><div><div class=\"\">Owsm camera i loved it ty #realme</div><span class=\"_1H-bmy\"><span>Read full review</span></span></div></div></div><div class=\"row _3n8db9\"><div class=\"row\"><p class=\"_2sc7ZR _2V5EHH\">raj dev</p><svg class=\"_2a1p_T\" height=\"14\" viewbox=\"0 0 12 12\" width=\"14\" xmlns=\"http://www.w3.org/2000/svg\"><g><circle cx=\"6\" cy=\"6\" fill=\"#878787\" r=\"6\"></circle><path d=\"M3 6l2 2 4-4\" fill=\"#878787\" stroke=\"#FFF\" stroke-width=\"1.5\"></path></g></svg><p class=\"_2mcZGG\" id=\"review-b98dffe9-cd8c-42f1-b92a-ba91850e011e\"><span>Certified Buyer</span></p><p class=\"_2sc7ZR\">Jun, 2021</p></div></div></div></div></div><div class=\"_2tzWk4\"><div class=\"_1A_Aux\">Recent Review</div><div class=\"col\"><div class=\"col _2wzgFH _2cVXgz\"><div class=\"row\"><div class=\"_3LWZlK _1BLPMq\">5<img class=\"_1wB99o\" src=\"data:image/svg+xml;base64,PHN2ZyB4bWxucz0iaHR0cDovL3d3dy53My5vcmcvMjAwMC9zdmciIHdpZHRoPSIxMyIgaGVpZ2h0PSIxMiI+PHBhdGggZmlsbD0iI0ZGRiIgZD0iTTYuNSA5LjQzOWwtMy42NzQgMi4yMy45NC00LjI2LTMuMjEtMi44ODMgNC4yNTQtLjQwNEw2LjUuMTEybDEuNjkgNC4wMSA0LjI1NC40MDQtMy4yMSAyLjg4Mi45NCA0LjI2eiIvPjwvc3ZnPg==\"/></div><p class=\"_2-N8zT\">Perfect product!</p></div><div class=\"row\"><div class=\"t-ZTKy\"><div><div class=\"\">Best Mobile at this price Range</div><span class=\"_1H-bmy\"><span>Read full review</span></span></div></div></div><div class=\"row _3n8db9\"><div class=\"row\"><p class=\"_2sc7ZR _2V5EHH\">Sanket Gajbhiye</p><svg class=\"_2a1p_T\" height=\"14\" viewbox=\"0 0 12 12\" width=\"14\" xmlns=\"http://www.w3.org/2000/svg\"><g><circle cx=\"6\" cy=\"6\" fill=\"#878787\" r=\"6\"></circle><path d=\"M3 6l2 2 4-4\" fill=\"#878787\" stroke=\"#FFF\" stroke-width=\"1.5\"></path></g></svg><p class=\"_2mcZGG\" id=\"review-7ab1a291-22a4-469a-9049-4231e5e5cba8\"><span>Certified Buyer</span></p><p class=\"_2sc7ZR\">1 month ago</p></div></div></div></div></div></div><div class=\"_2nRPpA\"><div class=\"_1Ni40J\"><div class=\"_3hVUcF\"><div class=\"CXW8mj\" style=\"height:150px;width:150px\"><img alt=\"realme 9 5G Speed Edition (Azure Glow,128GB)(8GB RAM) (Azure Glow, 128 GB)\" class=\"_396cs4\" loading=\"lazy\" src=\"https://rukminim2.flixcart.com/image/300/300/xif0q/mobile/j/2/v/9-5g-speed-edition-azure-glow-128gb-8gb-ram-rmx3461-realme-original-imagpf9atxyh8bxa.jpeg?q=90\"/></div></div><div class=\"_1kLt05\"><a href=\"/realme-9-5g-speed-azure-glow-128gb-8gb-ram-glow-128-gb/p/itm787ec6ba8fb52?pid=MOBGPF9BBGBZBTJZ&amp;marketplace=FLIPKART\" rel=\"noopener noreferrer\" target=\"_blank\"><div class=\"_1W9f5C\"><div>3. realme 9 5G Speed Edition (...</div></div><div class=\"_3VDxyD\"><div class=\"_3LWZlK\">3.3<img class=\"_1wB99o\" src=\"data:image/svg+xml;base64,PHN2ZyB4bWxucz0iaHR0cDovL3d3dy53My5vcmcvMjAwMC9zdmciIHdpZHRoPSIxMyIgaGVpZ2h0PSIxMiI+PHBhdGggZmlsbD0iI0ZGRiIgZD0iTTYuNSA5LjQzOWwtMy42NzQgMi4yMy45NC00LjI2LTMuMjEtMi44ODMgNC4yNTQtLjQwNEw2LjUuMTEybDEuNjkgNC4wMSA0LjI1NC40MDQtMy4yMSAyLjg4Mi45NCA0LjI2eiIvPjwvc3ZnPg==\"/></div><span class=\"_34hpFu\"><span>6 Ratings</span><span><span class=\"_2oY1qB\">&amp;</span><span>2 Reviews</span></span></span></div><div class=\"_2wYYVP\"><div class=\"_25b18c\"><div class=\"_30jeq3 UMT9wN\">₹18,999</div><div class=\"_3Ay6Sb _2FuKQX\"><span>29% off</span></div></div></div></a><ul class=\"_1Sq2Fs\"><li class=\"_2OosNL\">8 GB RAM | 128 GB ROM</li><li class=\"_2OosNL\">16.76 cm (6.6 inch) Display</li><li class=\"_2OosNL\">48MP Rear Camera</li></ul></div></div><div class=\"_2tzWk4\"><div class=\"_1A_Aux\">Most Helpful Review</div><div class=\"col\"><div class=\"col _2wzgFH _2cVXgz\"><div class=\"row\"><div class=\"_3LWZlK _1BLPMq\">5<img class=\"_1wB99o\" src=\"data:image/svg+xml;base64,PHN2ZyB4bWxucz0iaHR0cDovL3d3dy53My5vcmcvMjAwMC9zdmciIHdpZHRoPSIxMyIgaGVpZ2h0PSIxMiI+PHBhdGggZmlsbD0iI0ZGRiIgZD0iTTYuNSA5LjQzOWwtMy42NzQgMi4yMy45NC00LjI2LTMuMjEtMi44ODMgNC4yNTQtLjQwNEw2LjUuMTEybDEuNjkgNC4wMSA0LjI1NC40MDQtMy4yMSAyLjg4Mi45NCA0LjI2eiIvPjwvc3ZnPg==\"/></div><p class=\"_2-N8zT\">Mind-blowing purchase</p></div><div class=\"row\"><div class=\"t-ZTKy\"><div><div class=\"\">Excellent phone  .. value for money and it's really a best phone 🤩😍I am very happy with Flipkart for this phone</div><span class=\"_1H-bmy\"><span>Read full review</span></span></div></div></div><div class=\"row _3n8db9\"><div class=\"row\"><p class=\"_2sc7ZR _2V5EHH\">Flipkart Customer</p><svg class=\"_2a1p_T\" height=\"14\" viewbox=\"0 0 12 12\" width=\"14\" xmlns=\"http://www.w3.org/2000/svg\"><g><circle cx=\"6\" cy=\"6\" fill=\"#878787\" r=\"6\"></circle><path d=\"M3 6l2 2 4-4\" fill=\"#878787\" stroke=\"#FFF\" stroke-width=\"1.5\"></path></g></svg><p class=\"_2mcZGG\" id=\"review-e5ddc3d4-624f-4f34-84f1-7e349a4b154a\"><span>Certified Buyer</span></p><p class=\"_2sc7ZR\">13 days ago</p></div></div></div></div></div><div class=\"_2tzWk4\"><div class=\"_1A_Aux\">Recent Review</div><div class=\"col\"><div class=\"col _2wzgFH _2cVXgz\"><div class=\"row\"><div class=\"_3LWZlK _1BLPMq\">5<img class=\"_1wB99o\" src=\"data:image/svg+xml;base64,PHN2ZyB4bWxucz0iaHR0cDovL3d3dy53My5vcmcvMjAwMC9zdmciIHdpZHRoPSIxMyIgaGVpZ2h0PSIxMiI+PHBhdGggZmlsbD0iI0ZGRiIgZD0iTTYuNSA5LjQzOWwtMy42NzQgMi4yMy45NC00LjI2LTMuMjEtMi44ODMgNC4yNTQtLjQwNEw2LjUuMTEybDEuNjkgNC4wMSA0LjI1NC40MDQtMy4yMSAyLjg4Mi45NCA0LjI2eiIvPjwvc3ZnPg==\"/></div><p class=\"_2-N8zT\">Mind-blowing purchase</p></div><div class=\"row\"><div class=\"t-ZTKy\"><div><div class=\"\">Excellent phone  .. value for money and it's really a best phone 🤩😍I am very happy with Flipkart for this phone</div><span class=\"_1H-bmy\"><span>Read full review</span></span></div></div></div><div class=\"row _3n8db9\"><div class=\"row\"><p class=\"_2sc7ZR _2V5EHH\">Flipkart Customer</p><svg class=\"_2a1p_T\" height=\"14\" viewbox=\"0 0 12 12\" width=\"14\" xmlns=\"http://www.w3.org/2000/svg\"><g><circle cx=\"6\" cy=\"6\" fill=\"#878787\" r=\"6\"></circle><path d=\"M3 6l2 2 4-4\" fill=\"#878787\" stroke=\"#FFF\" stroke-width=\"1.5\"></path></g></svg><p class=\"_2mcZGG\" id=\"review-e5ddc3d4-624f-4f34-84f1-7e349a4b154a\"><span>Certified Buyer</span></p><p class=\"_2sc7ZR\">13 days ago</p></div></div></div></div></div></div><div class=\"_2nRPpA\"><div class=\"_1Ni40J\"><div class=\"_3hVUcF\"><div class=\"CXW8mj\" style=\"height:150px;width:150px\"><img alt=\"realme 8 Pro (Illuminating Yellow, 128 GB)\" class=\"_396cs4\" loading=\"lazy\" src=\"https://rukminim2.flixcart.com/image/300/300/knrsjgw0/mobile/s/b/z/8-pro-rmx3081-realme-original-imag2dcabdfyjrtb.jpeg?q=90\"/></div></div><div class=\"_1kLt05\"><a href=\"/realme-8-pro-illuminating-yellow-128-gb/p/itmaa9c73f5a987c?pid=MOBGYV98ESYUZZUK&amp;marketplace=FLIPKART\" rel=\"noopener noreferrer\" target=\"_blank\"><div class=\"_1W9f5C\"><div>4. realme 8 Pro (Illuminating ...</div></div><div class=\"_3VDxyD\"><div class=\"_3LWZlK\">4.4<img class=\"_1wB99o\" src=\"data:image/svg+xml;base64,PHN2ZyB4bWxucz0iaHR0cDovL3d3dy53My5vcmcvMjAwMC9zdmciIHdpZHRoPSIxMyIgaGVpZ2h0PSIxMiI+PHBhdGggZmlsbD0iI0ZGRiIgZD0iTTYuNSA5LjQzOWwtMy42NzQgMi4yMy45NC00LjI2LTMuMjEtMi44ODMgNC4yNTQtLjQwNEw2LjUuMTEybDEuNjkgNC4wMSA0LjI1NC40MDQtMy4yMSAyLjg4Mi45NCA0LjI2eiIvPjwvc3ZnPg==\"/></div><span class=\"_34hpFu\"><span>40,746 Ratings</span><span><span class=\"_2oY1qB\">&amp;</span><span>3,369 Reviews</span></span></span></div><div class=\"_2wYYVP\"><div class=\"_25b18c\"><div class=\"_30jeq3 UMT9wN\">₹19,999</div><div class=\"_3Ay6Sb _2FuKQX\"><span>9% off</span></div></div></div></a><ul class=\"_1Sq2Fs\"><li class=\"_2OosNL\">8 GB RAM | 128 GB ROM | Expandable Upto 256 GB</li><li class=\"_2OosNL\">16.26 cm (6.4 inch) Full HD+ Display</li><li class=\"_2OosNL\">108MP + 8MP + 2MP + 2MP | 16MP Front Camera</li></ul></div></div><div class=\"_2tzWk4\"><div class=\"_1A_Aux\">Most Helpful Review</div><div class=\"col\"><div class=\"col _2wzgFH _2cVXgz\"><div class=\"row\"><div class=\"_3LWZlK _1BLPMq\">5<img class=\"_1wB99o\" src=\"data:image/svg+xml;base64,PHN2ZyB4bWxucz0iaHR0cDovL3d3dy53My5vcmcvMjAwMC9zdmciIHdpZHRoPSIxMyIgaGVpZ2h0PSIxMiI+PHBhdGggZmlsbD0iI0ZGRiIgZD0iTTYuNSA5LjQzOWwtMy42NzQgMi4yMy45NC00LjI2LTMuMjEtMi44ODMgNC4yNTQtLjQwNEw2LjUuMTEybDEuNjkgNC4wMSA0LjI1NC40MDQtMy4yMSAyLjg4Mi45NCA0LjI2eiIvPjwvc3ZnPg==\"/></div><p class=\"_2-N8zT\">Highly recommended</p></div><div class=\"row\"><div class=\"t-ZTKy\"><div><div class=\"\">Very thin mobile.  display very good camera is awesome... Battery is very good....<br/>Fully satisfied ☺️☺️☺️</div><span class=\"_1H-bmy\"><span>Read full review</span></span></div></div></div><div class=\"row _3n8db9\"><div class=\"row\"><p class=\"_2sc7ZR _2V5EHH\">Roshan Sabale</p><svg class=\"_2a1p_T\" height=\"14\" viewbox=\"0 0 12 12\" width=\"14\" xmlns=\"http://www.w3.org/2000/svg\"><g><circle cx=\"6\" cy=\"6\" fill=\"#878787\" r=\"6\"></circle><path d=\"M3 6l2 2 4-4\" fill=\"#878787\" stroke=\"#FFF\" stroke-width=\"1.5\"></path></g></svg><p class=\"_2mcZGG\" id=\"review-8bf5f0a7-7042-40d6-b920-c76448d7711e\"><span>Certified Buyer</span></p><p class=\"_2sc7ZR\">Sep, 2021</p></div></div></div></div></div><div class=\"_2tzWk4\"><div class=\"_1A_Aux\">Recent Review</div><div class=\"col\"><div class=\"col _2wzgFH _2cVXgz\"><div class=\"row\"><div class=\"_3LWZlK _1BLPMq\">3<img class=\"_1wB99o\" src=\"data:image/svg+xml;base64,PHN2ZyB4bWxucz0iaHR0cDovL3d3dy53My5vcmcvMjAwMC9zdmciIHdpZHRoPSIxMyIgaGVpZ2h0PSIxMiI+PHBhdGggZmlsbD0iI0ZGRiIgZD0iTTYuNSA5LjQzOWwtMy42NzQgMi4yMy45NC00LjI2LTMuMjEtMi44ODMgNC4yNTQtLjQwNEw2LjUuMTEybDEuNjkgNC4wMSA0LjI1NC40MDQtMy4yMSAyLjg4Mi45NCA0LjI2eiIvPjwvc3ZnPg==\"/></div><p class=\"_2-N8zT\">Good</p></div><div class=\"row\"><div class=\"t-ZTKy\"><div><div class=\"\">This mobile not worth full.Please Don't buy this mobile.</div><span class=\"_1H-bmy\"><span>Read full review</span></span></div></div></div><div class=\"row _3n8db9\"><div class=\"row\"><p class=\"_2sc7ZR _2V5EHH\">Jagadeesh</p><svg class=\"_2a1p_T\" height=\"14\" viewbox=\"0 0 12 12\" width=\"14\" xmlns=\"http://www.w3.org/2000/svg\"><g><circle cx=\"6\" cy=\"6\" fill=\"#878787\" r=\"6\"></circle><path d=\"M3 6l2 2 4-4\" fill=\"#878787\" stroke=\"#FFF\" stroke-width=\"1.5\"></path></g></svg><p class=\"_2mcZGG\" id=\"review-fa088732-0350-465f-83b0-3dd80289d605\"><span>Certified Buyer</span></p><p class=\"_2sc7ZR\">4 months ago</p></div></div></div></div></div></div><div class=\"_2nRPpA\"><div class=\"_1Ni40J\"><div class=\"_3hVUcF\"><div class=\"CXW8mj\" style=\"height:150px;width:150px\"><img alt=\"realme 8s 5G (Universe Purple, 128 GB)\" class=\"_396cs4\" loading=\"lazy\" src=\"https://rukminim2.flixcart.com/image/300/300/ktbu6q80/mobile/f/s/e/8s-5g-rmx3381-realme-original-imag6zhgra57dtqe.jpeg?q=90\"/></div></div><div class=\"_1kLt05\"><a href=\"/realme-8s-5g-universe-purple-128-gb/p/itm79fdf59bdbe44?pid=MOBG5Y94WJ6GJ8MK&amp;marketplace=FLIPKART\" rel=\"noopener noreferrer\" target=\"_blank\"><div class=\"_1W9f5C\"><div>5. realme 8s 5G (Universe Purp...</div></div><div class=\"_3VDxyD\"><div class=\"_3LWZlK\">4.4<img class=\"_1wB99o\" src=\"data:image/svg+xml;base64,PHN2ZyB4bWxucz0iaHR0cDovL3d3dy53My5vcmcvMjAwMC9zdmciIHdpZHRoPSIxMyIgaGVpZ2h0PSIxMiI+PHBhdGggZmlsbD0iI0ZGRiIgZD0iTTYuNSA5LjQzOWwtMy42NzQgMi4yMy45NC00LjI2LTMuMjEtMi44ODMgNC4yNTQtLjQwNEw2LjUuMTEybDEuNjkgNC4wMSA0LjI1NC40MDQtMy4yMSAyLjg4Mi45NCA0LjI2eiIvPjwvc3ZnPg==\"/></div><span class=\"_34hpFu\"><span>78,246 Ratings</span><span><span class=\"_2oY1qB\">&amp;</span><span>6,238 Reviews</span></span></span></div><div class=\"_2wYYVP\"><div class=\"_25b18c\"><div class=\"_30jeq3 UMT9wN\">₹18,990</div><div class=\"_3Ay6Sb _2FuKQX\"><span>9% off</span></div></div></div></a><ul class=\"_1Sq2Fs\"><li class=\"_2OosNL\">6 GB RAM | 128 GB ROM | Expandable Upto 1 TB</li><li class=\"_2OosNL\">16.51 cm (6.5 inch) Full HD+ Display</li><li class=\"_2OosNL\">64MP + 2MP + 2MP | 16MP Front Camera</li></ul></div></div><div class=\"_2tzWk4\"><div class=\"_1A_Aux\">Most Helpful Review</div><div class=\"col\"><div class=\"col _2wzgFH _2cVXgz\"><div class=\"row\"><div class=\"_3LWZlK _1BLPMq\">5<img class=\"_1wB99o\" src=\"data:image/svg+xml;base64,PHN2ZyB4bWxucz0iaHR0cDovL3d3dy53My5vcmcvMjAwMC9zdmciIHdpZHRoPSIxMyIgaGVpZ2h0PSIxMiI+PHBhdGggZmlsbD0iI0ZGRiIgZD0iTTYuNSA5LjQzOWwtMy42NzQgMi4yMy45NC00LjI2LTMuMjEtMi44ODMgNC4yNTQtLjQwNEw2LjUuMTEybDEuNjkgNC4wMSA0LjI1NC40MDQtMy4yMSAyLjg4Mi45NCA0LjI2eiIvPjwvc3ZnPg==\"/></div><p class=\"_2-N8zT\">Simply awesome</p></div><div class=\"row\"><div class=\"t-ZTKy\"><div><div class=\"\">Camera , battery , overall perfmnce is good . And that phones is value for money .</div><span class=\"_1H-bmy\"><span>Read full review</span></span></div></div></div><div class=\"row _3n8db9\"><div class=\"row\"><p class=\"_2sc7ZR _2V5EHH\">Md Aldyad Umar</p><svg class=\"_2a1p_T\" height=\"14\" viewbox=\"0 0 12 12\" width=\"14\" xmlns=\"http://www.w3.org/2000/svg\"><g><circle cx=\"6\" cy=\"6\" fill=\"#878787\" r=\"6\"></circle><path d=\"M3 6l2 2 4-4\" fill=\"#878787\" stroke=\"#FFF\" stroke-width=\"1.5\"></path></g></svg><p class=\"_2mcZGG\" id=\"review-edbe17e7-fa9a-4897-8538-5243bb19134e\"><span>Certified Buyer</span></p><p class=\"_2sc7ZR\">Oct, 2021</p></div></div></div></div></div><div class=\"_2tzWk4\"><div class=\"_1A_Aux\">Recent Review</div><div class=\"col\"><div class=\"col _2wzgFH _2cVXgz\"><div class=\"row\"><div class=\"_3LWZlK _32lA32 _1BLPMq\">2<img class=\"_1wB99o\" src=\"data:image/svg+xml;base64,PHN2ZyB4bWxucz0iaHR0cDovL3d3dy53My5vcmcvMjAwMC9zdmciIHdpZHRoPSIxMyIgaGVpZ2h0PSIxMiI+PHBhdGggZmlsbD0iI0ZGRiIgZD0iTTYuNSA5LjQzOWwtMy42NzQgMi4yMy45NC00LjI2LTMuMjEtMi44ODMgNC4yNTQtLjQwNEw2LjUuMTEybDEuNjkgNC4wMSA0LjI1NC40MDQtMy4yMSAyLjg4Mi45NCA0LjI2eiIvPjwvc3ZnPg==\"/></div><p class=\"_2-N8zT\">Could be way better</p></div><div class=\"row\"><div class=\"t-ZTKy\"><div><div class=\"\">Don't purchase this model phone</div><span class=\"_1H-bmy\"><span>Read full review</span></span></div></div></div><div class=\"row _3n8db9\"><div class=\"row\"><p class=\"_2sc7ZR _2V5EHH\">Kalyani P</p><svg class=\"_2a1p_T\" height=\"14\" viewbox=\"0 0 12 12\" width=\"14\" xmlns=\"http://www.w3.org/2000/svg\"><g><circle cx=\"6\" cy=\"6\" fill=\"#878787\" r=\"6\"></circle><path d=\"M3 6l2 2 4-4\" fill=\"#878787\" stroke=\"#FFF\" stroke-width=\"1.5\"></path></g></svg><p class=\"_2mcZGG\" id=\"review-bc5c9b05-29f8-4654-9295-74b9dff51548\"><span>Certified Buyer</span></p><p class=\"_2sc7ZR\">21 days ago</p></div></div></div></div></div></div></div></div><div class=\"_1AtVbE col-12-12\"></div></div><footer class=\"_3voSl0\"><div class=\"_3rc_xQ\"><div class=\"row\"><div class=\"col gu12 _8Qljeg\"></div></div><div><div class=\"_2WErco row\"><div class=\"_2Brcj4\"><div class=\"_3-dnWo\">ABOUT</div><a class=\"_1arVWX\" href=\"/helpcentre?otracker=undefined_footer_navlinks\">Contact Us</a><a class=\"_1arVWX\" href=\"https://corporate.flipkart.net/corporate-home\">About Us</a><a class=\"_1arVWX\" href=\"https://www.flipkartcareers.com/?otracker=undefined_footer_navlinks\">Careers</a><a class=\"_1arVWX\" href=\"http://stories.flipkart.com/?otracker=undefined_footer_navlinks\">Flipkart Stories</a><a class=\"_1arVWX\" href=\"http://stories.flipkart.com/category/top-stories/news/\">Press</a><a class=\"_1arVWX\" href=\"/corporate-information\">Corporate Information</a></div><div class=\"_2Brcj4\"><div class=\"_3-dnWo\">GROUP COMPANIES</div><a class=\"_1arVWX\" href=\"https://www.myntra.com/\" rel=\"noopener noreferrer\" target=\"_blank\" title=\"Myntra\">Myntra</a><a class=\"_1arVWX\" href=\"https://www.flipkartwholesale.com/?otracker=undefined_footer_navlinks\" rel=\"noopener noreferrer\" target=\"_blank\">Flipkart Wholesale</a><a class=\"_1arVWX\" href=\"https://www.cleartrip.com/\" rel=\"noopener noreferrer\" target=\"_blank\" title=\"Cleartrip: #1 Site for Booking Flights Tickets, Buses &amp; Hotels Online\">Cleartrip</a><a class=\"_1arVWX\" href=\"https://www.shopsy.in/\" rel=\"noopener noreferrer\" target=\"_blank\" title=\"Shopsy\">Shopsy</a></div><div class=\"_2Brcj4\"><div class=\"_3-dnWo\">HELP</div><a class=\"_1arVWX\" href=\"/pages/payments\">Payments</a><a class=\"_1arVWX\" href=\"/pages/shipping\">Shipping</a><a class=\"_1arVWX\" href=\"/helpcentre?catalog=55c9c6edb000002e002c1701&amp;view=CATALOG\">Cancellation &amp; Returns</a><a class=\"_1arVWX\" href=\"/helpcentre?catalog=55c9c8e2b0000023002c1702&amp;view=CATALOG\">FAQ</a><a class=\"_1arVWX\" href=\"https://seller.flipkart.com/fiv?otracker=undefined_footer_navlinks\">Report Infringement</a></div><div class=\"_2Brcj4\"><div class=\"_3-dnWo\">CONSUMER POLICY</div><a class=\"_1arVWX\" href=\"/pages/returnpolicy?otracker=undefined_footer_navlinks\">Cancellation &amp; Returns</a><a class=\"_1arVWX\" href=\"/pages/terms?otracker=undefined_footer_navlinks\">Terms Of Use</a><a class=\"_1arVWX\" href=\"/pages/paymentsecurity?otracker=undefined_footer_navlinks\">Security</a><a class=\"_1arVWX\" href=\"/pages/privacypolicy?otracker=undefined_footer_navlinks\">Privacy</a><a class=\"_1arVWX\" href=\"/sitemap?otracker=undefined_footer_navlinks\">Sitemap</a><a class=\"_1arVWX\" href=\"/pages/grievance-redressal-mechanism?otracker=undefined_footer_navlinks\">Grievance Redressal</a><a class=\"_1arVWX\" href=\"/pages/ewaste-compliance-tnc?otracker=undefined_footer_navlinks\">EPR Compliance</a></div><div class=\"_2Brcj4 address\"><div class=\"_3JHi0r\"><div class=\"_3-dnWo\"><span>Mail Us:</span></div><div class=\"_1U1qnR\"><div class=\"_1LJS6T\"><div class=\"_2NKhZn _1U1qnR\"><p>Flipkart Internet Private Limited, </p>\n",
       "<p> Buildings Alyssa, Begonia &amp; </p>\n",
       "<p> Clove Embassy Tech Village, </p>\n",
       "<p> Outer Ring Road, Devarabeesanahalli Village, </p>\n",
       "<p> Bengaluru, 560103, </p>\n",
       "<p> Karnataka, India</p>\n",
       "</div></div></div><div class=\"_3-dnWo\">Social</div><div class=\"_2SkNJs\"><span class=\"_2iAEVP\"><a href=\"https://www.facebook.com/flipkart\"><img height=\"24\" src=\"data:image/svg+xml;base64,PHN2ZyB3aWR0aD0iMjUiIGhlaWdodD0iMjQiIHZpZXdCb3g9IjAgMCAyNSAyNCIgZmlsbD0ibm9uZSIgeG1sbnM9Imh0dHA6Ly93d3cudzMub3JnLzIwMDAvc3ZnIj4KPHBhdGggZD0iTTEyLjkzMzEgMjFDMTcuOTAzNyAyMSAyMS45MzMxIDE2Ljk3MDYgMjEuOTMzMSAxMkMyMS45MzMxIDcuMDI5NDQgMTcuOTAzNyAzIDEyLjkzMzEgM0M3Ljk2MjU0IDMgMy45MzMxMSA3LjAyOTQ0IDMuOTMzMTEgMTJDMy45MzMxMSAxNi45NzA2IDcuOTYyNTQgMjEgMTIuOTMzMSAyMVoiIHN0cm9rZT0id2hpdGUiIHN0cm9rZS13aWR0aD0iMS41IiBzdHJva2UtbGluZWNhcD0icm91bmQiIHN0cm9rZS1saW5lam9pbj0icm91bmQiLz4KPHBhdGggZD0iTTE2LjY4MzEgOC4yNUgxNS4xODMxQzE0LjU4NjQgOC4yNSAxNC4wMTQxIDguNDg3MDUgMTMuNTkyMSA4LjkwOTAxQzEzLjE3MDIgOS4zMzA5NyAxMi45MzMxIDkuOTAzMjYgMTIuOTMzMSAxMC41VjIxIiBzdHJva2U9IndoaXRlIiBzdHJva2Utd2lkdGg9IjEuNSIgc3Ryb2tlLWxpbmVjYXA9InJvdW5kIiBzdHJva2UtbGluZWpvaW49InJvdW5kIi8+CjxwYXRoIGQ9Ik05LjkzMzExIDEzLjVIMTUuOTMzMSIgc3Ryb2tlPSJ3aGl0ZSIgc3Ryb2tlLXdpZHRoPSIxLjUiIHN0cm9rZS1saW5lY2FwPSJyb3VuZCIgc3Ryb2tlLWxpbmVqb2luPSJyb3VuZCIvPgo8L3N2Zz4K\" width=\"24\"/></a></span><span class=\"_2iAEVP\"><a href=\"https://www.twitter.com/flipkart\"><img height=\"24\" src=\"data:image/svg+xml;base64,PHN2ZyB3aWR0aD0iMjQiIGhlaWdodD0iMjQiIHZpZXdCb3g9IjAgMCAyNCAyNCIgZmlsbD0ibm9uZSIgeG1sbnM9Imh0dHA6Ly93d3cudzMub3JnLzIwMDAvc3ZnIj4KPGcgY2xpcC1wYXRoPSJ1cmwoI2NsaXAwXzE4M18yMCkiPgo8cGF0aCBkPSJNMTMuNTQzNiAxMC42MTc5TDIwLjA5NzEgM0gxOC41NDQxTDEyLjg1MzcgOS42MTQ0OEw4LjMwODg3IDNIMy4wNjY4OUw5LjkzOTY0IDEzLjAwMjNMMy4wNjY4OSAyMC45OTA4SDQuNjE5OTRMMTAuNjI5MSAxNC4wMDU2TDE1LjQyODggMjAuOTkwOEgyMC42NzA4TDEzLjU0MzIgMTAuNjE3OUgxMy41NDM2Wk0xMS40MTY1IDEzLjA5MDRMMTAuNzIwMiAxMi4wOTQ0TDUuMTc5NTMgNC4xNjkxMUg3LjU2NDkxTDEyLjAzNjMgMTAuNTY1MUwxMi43MzI2IDExLjU2MTFMMTguNTQ0OCAxOS44NzQ4SDE2LjE1OTVMMTEuNDE2NSAxMy4wOTA4VjEzLjA5MDRaIiBmaWxsPSJ3aGl0ZSIvPgo8L2c+CjxkZWZzPgo8Y2xpcFBhdGggaWQ9ImNsaXAwXzE4M18yMCI+CjxyZWN0IHg9IjMuMDY2ODkiIHk9IjMiIHdpZHRoPSIxNy42MDM5IiBoZWlnaHQ9IjE4IiByeD0iMC4yIiBmaWxsPSJ3aGl0ZSIvPgo8L2NsaXBQYXRoPgo8L2RlZnM+Cjwvc3ZnPgo=\" width=\"24\"/></a></span><span class=\"_2iAEVP\"><a href=\"https://www.youtube.com/flipkart\"><img height=\"24\" src=\"//static-assets-web.flixcart.com/fk-p-linchpin-web/fk-cp-zion/img/YoutubeLogo_958b78.svg\" width=\"24\"/></a></span></div></div></div><div class=\"_2Brcj4 address\"><div class=\"_3IT4e6\"><div class=\"_3-dnWo\"><span>Registered Office Address:</span></div><div class=\"_1U1qnR\"><div class=\"_1LJS6T\"><div class=\"_2NKhZn _1U1qnR\"><p>Flipkart Internet Private Limited, </p>\n",
       "<p> Buildings Alyssa, Begonia &amp; </p>\n",
       "<p> Clove Embassy Tech Village, </p>\n",
       "<p> Outer Ring Road, Devarabeesanahalli Village, </p>\n",
       "<p> Bengaluru, 560103, </p>\n",
       "<p> Karnataka, India </p>\n",
       "<p> CIN : U51109KA2012PTC066107 </p>\n",
       "<p> Telephone: <a href=\"tel:044-45614700\">044-45614700</a></p>\n",
       "</div></div></div></div></div></div><div><div class=\"_2uz0vJ\"><div><img src=\"data:image/svg+xml;base64,PHN2ZyB4bWxucz0iaHR0cDovL3d3dy53My5vcmcvMjAwMC9zdmciIHdpZHRoPSIxNiIgaGVpZ2h0PSIxNSIgdmlld0JveD0iMCAwIDE2IDE1Ij4KICAgIDxkZWZzPgogICAgICAgIDxsaW5lYXJHcmFkaWVudCBpZD0iYSIgeDE9IjAlIiB4Mj0iODYuODc2JSIgeTE9IjAlIiB5Mj0iODAuMjAyJSI+CiAgICAgICAgICAgIDxzdG9wIG9mZnNldD0iMCUiIHN0b3AtY29sb3I9IiNGRkQ4MDAiLz4KICAgICAgICAgICAgPHN0b3Agb2Zmc2V0PSIxMDAlIiBzdG9wLWNvbG9yPSIjRkZBRjAwIi8+CiAgICAgICAgPC9saW5lYXJHcmFkaWVudD4KICAgIDwvZGVmcz4KICAgIDxnIGZpbGw9Im5vbmUiIGZpbGwtcnVsZT0iZXZlbm9kZCI+CiAgICAgICAgPHBhdGggZD0iTS0yLTJoMjB2MjBILTJ6Ii8+CiAgICAgICAgPHBhdGggZmlsbD0idXJsKCNhKSIgZmlsbC1ydWxlPSJub256ZXJvIiBkPSJNMTUuOTMgNS42MTRoLTIuOTQ4VjQuMTRjMC0uODE4LS42NTUtMS40NzMtMS40NzMtMS40NzNIOC41NmMtLjgxNyAwLTEuNDczLjY1NS0xLjQ3MyAxLjQ3M3YxLjQ3NEg0LjE0Yy0uODE4IDAtMS40NjYuNjU2LTEuNDY2IDEuNDc0bC0uMDA3IDguMTA1YzAgLjgxOC42NTUgMS40NzQgMS40NzMgMS40NzRoMTEuNzljLjgxOCAwIDEuNDc0LS42NTYgMS40NzQtMS40NzRWNy4wODhjMC0uODE4LS42NTYtMS40NzQtMS40NzQtMS40NzR6bS00LjQyMSAwSDguNTZWNC4xNGgyLjk0OHYxLjQ3NHoiIHRyYW5zZm9ybT0idHJhbnNsYXRlKC0yIC0yKSIvPgogICAgPC9nPgo8L3N2Zz4K\"/><a href=\"https://seller.flipkart.com/?utm_source=fkwebsite&amp;utm_medium=websitedirect\"><span class=\"hDTmm5\">Become a Seller</span></a></div><div><img src=\"data:image/svg+xml;base64,PHN2ZyB4bWxucz0iaHR0cDovL3d3dy53My5vcmcvMjAwMC9zdmciIHdpZHRoPSIxNSIgaGVpZ2h0PSIxNSIgdmlld0JveD0iMCAwIDE1IDE1Ij4KICAgIDxkZWZzPgogICAgICAgIDxsaW5lYXJHcmFkaWVudCBpZD0iYSIgeDE9IjAlIiB4Mj0iODYuODc2JSIgeTE9IjAlIiB5Mj0iODAuMjAyJSI+CiAgICAgICAgICAgIDxzdG9wIG9mZnNldD0iMCUiIHN0b3AtY29sb3I9IiNGRkQ4MDAiLz4KICAgICAgICAgICAgPHN0b3Agb2Zmc2V0PSIxMDAlIiBzdG9wLWNvbG9yPSIjRkZBRjAwIi8+CiAgICAgICAgPC9saW5lYXJHcmFkaWVudD4KICAgIDwvZGVmcz4KICAgIDxnIGZpbGw9Im5vbmUiIGZpbGwtcnVsZT0iZXZlbm9kZCI+CiAgICAgICAgPHBhdGggZD0iTS0zLTNoMjB2MjBILTN6Ii8+CiAgICAgICAgPHBhdGggZmlsbD0idXJsKCNhKSIgZmlsbC1ydWxlPSJub256ZXJvIiBkPSJNMTAuNDkyIDNDNi4zNTMgMyAzIDYuMzYgMyAxMC41YzAgNC4xNCAzLjM1MyA3LjUgNy40OTIgNy41QzE0LjY0IDE4IDE4IDE0LjY0IDE4IDEwLjUgMTggNi4zNiAxNC42NCAzIDEwLjQ5MiAzem0zLjE4IDEyTDEwLjUgMTMuMDg4IDcuMzI3IDE1bC44NC0zLjYwN0w1LjM3IDguOTdsMy42OS0uMzE1TDEwLjUgNS4yNWwxLjQ0IDMuMzk4IDMuNjkuMzE1LTIuNzk4IDIuNDIyLjg0IDMuNjE1eiIgdHJhbnNmb3JtPSJ0cmFuc2xhdGUoLTMgLTMpIi8+CiAgICA8L2c+Cjwvc3ZnPgo=\"/><a href=\"https://brands.flipkart.com\"><span class=\"hDTmm5\">Advertise</span></a></div><div><img src=\"data:image/svg+xml;base64,PHN2ZyB4bWxucz0iaHR0cDovL3d3dy53My5vcmcvMjAwMC9zdmciIHdpZHRoPSIxOCIgaGVpZ2h0PSIxNyIgdmlld0JveD0iMCAwIDE4IDE3Ij4KICAgIDxkZWZzPgogICAgICAgIDxsaW5lYXJHcmFkaWVudCBpZD0iYSIgeDE9IjAlIiB4Mj0iODYuODc2JSIgeTE9IjAlIiB5Mj0iODAuMjAyJSI+CiAgICAgICAgICAgIDxzdG9wIG9mZnNldD0iMCUiIHN0b3AtY29sb3I9IiNGRkQ4MDAiLz4KICAgICAgICAgICAgPHN0b3Agb2Zmc2V0PSIxMDAlIiBzdG9wLWNvbG9yPSIjRkZBRjAwIi8+CiAgICAgICAgPC9saW5lYXJHcmFkaWVudD4KICAgIDwvZGVmcz4KICAgIDxnIGZpbGw9Im5vbmUiIGZpbGwtcnVsZT0iZXZlbm9kZCI+CiAgICAgICAgPHBhdGggZD0iTS0xLTFoMjB2MjBILTF6Ii8+CiAgICAgICAgPHBhdGggZmlsbD0idXJsKCNhKSIgZmlsbC1ydWxlPSJub256ZXJvIiBkPSJNMTYuNjY3IDVIMTQuODVjLjA5Mi0uMjU4LjE1LS41NDIuMTUtLjgzM2EyLjQ5NyAyLjQ5NyAwIDAgMC00LjU4My0xLjM3NUwxMCAzLjM1bC0uNDE3LS41NjdBMi41MSAyLjUxIDAgMCAwIDcuNSAxLjY2N2EyLjQ5NyAyLjQ5NyAwIDAgMC0yLjUgMi41YzAgLjI5MS4wNTguNTc1LjE1LjgzM0gzLjMzM2MtLjkyNSAwLTEuNjU4Ljc0Mi0xLjY1OCAxLjY2N2wtLjAwOCA5LjE2NkExLjY2IDEuNjYgMCAwIDAgMy4zMzMgMTcuNWgxMy4zMzRhMS42NiAxLjY2IDAgMCAwIDEuNjY2LTEuNjY3VjYuNjY3QTEuNjYgMS42NiAwIDAgMCAxNi42NjcgNXptMCA2LjY2N0gzLjMzM3YtNWg0LjIzNEw1LjgzMyA5LjAyNWwxLjM1Ljk3NSAxLjk4NC0yLjdMMTAgNi4xNjdsLjgzMyAxLjEzMyAxLjk4NCAyLjcgMS4zNS0uOTc1LTEuNzM0LTIuMzU4aDQuMjM0djV6IiB0cmFuc2Zvcm09InRyYW5zbGF0ZSgtMSAtMSkiLz4KICAgIDwvZz4KPC9zdmc+Cg==\"/><a href=\"/the-gift-card-store?otracker=undefined_footer_footer_navlinks\"><span class=\"hDTmm5\">Gift Cards</span></a></div><div><img src=\"data:image/svg+xml;base64,PHN2ZyB4bWxucz0iaHR0cDovL3d3dy53My5vcmcvMjAwMC9zdmciIHdpZHRoPSIxNSIgaGVpZ2h0PSIxNSIgdmlld0JveD0iMCAwIDE1IDE1Ij4KICAgIDxkZWZzPgogICAgICAgIDxsaW5lYXJHcmFkaWVudCBpZD0iYSIgeDE9IjAlIiB4Mj0iODYuODc2JSIgeTE9IjAlIiB5Mj0iODAuMjAyJSI+CiAgICAgICAgICAgIDxzdG9wIG9mZnNldD0iMCUiIHN0b3AtY29sb3I9IiNGRkQ4MDAiLz4KICAgICAgICAgICAgPHN0b3Agb2Zmc2V0PSIxMDAlIiBzdG9wLWNvbG9yPSIjRkZBRjAwIi8+CiAgICAgICAgPC9saW5lYXJHcmFkaWVudD4KICAgIDwvZGVmcz4KICAgIDxnIGZpbGw9Im5vbmUiIGZpbGwtcnVsZT0iZXZlbm9kZCI+CiAgICAgICAgPHBhdGggZD0iTS0yLTNoMjB2MjBILTJ6Ii8+CiAgICAgICAgPHBhdGggZmlsbD0idXJsKCNhKSIgZmlsbC1ydWxlPSJub256ZXJvIiBkPSJNOS41IDNDNS4zNiAzIDIgNi4zNiAyIDEwLjUgMiAxNC42NCA1LjM2IDE4IDkuNSAxOGM0LjE0IDAgNy41LTMuMzYgNy41LTcuNUMxNyA2LjM2IDEzLjY0IDMgOS41IDN6bS43NSAxMi43NWgtMS41di0xLjVoMS41djEuNXptMS41NTMtNS44MTNsLS42NzYuNjljLS41NC41NDgtLjg3Ny45OTgtLjg3NyAyLjEyM2gtMS41di0uMzc1YzAtLjgyNS4zMzgtMS41NzUuODc3LTIuMTIzbC45My0uOTQ1Yy4yNzgtLjI3LjQ0My0uNjQ1LjQ0My0xLjA1NyAwLS44MjUtLjY3NS0xLjUtMS41LTEuNVM4IDcuNDI1IDggOC4yNUg2LjVhMyAzIDAgMSAxIDYgMGMwIC42Ni0uMjcgMS4yNi0uNjk3IDEuNjg4eiIgdHJhbnNmb3JtPSJ0cmFuc2xhdGUoLTIgLTMpIi8+CiAgICA8L2c+Cjwvc3ZnPgo=\"/><a href=\"/helpcentre?otracker=undefined_footer_footer_navlinks\"><span class=\"hDTmm5\">Help Center</span></a></div><span class=\"z3ht-w\">© 2007-<!-- -->2024<!-- --> <span>Flipkart.com</span></span><img src=\"//static-assets-web.flixcart.com/fk-p-linchpin-web/fk-cp-zion/img/payment-method_69e7ec.svg\"/></div></div></div></div></footer><div class=\"_1EcK2J _38JCdA\"><div class=\"bra6U8\"><svg class=\"_2TdLiZ\" height=\"27\" viewbox=\"0 0 16 27\" width=\"16\" xmlns=\"http://www.w3.org/2000/svg\"><path class=\"_3ZKfA2\" d=\"M16 23.207L6.11 13.161 16 3.093 12.955 0 0 13.161l12.955 13.161z\" fill=\"#fff\"></path></svg><span>Back to top</span></div></div></div></div> <script id=\"jsonLD\" nonce=\"16653882979875676128\" type=\"application/ld+json\">{\"@context\":\"http://schema.org\",\"@type\":\"ItemList\",\"itemListElement\":[{\"@type\":\"ListItem\",\"position\":1,\"url\":\"https://www.flipkart.com/realme-8-cyber-silver-128-gb/p/itm63bda3bf5b1db?pid=MOBGFH8THP6RWKGG&lid=LSTMOBGFH8THP6RWKGGENEOTL&marketplace=FLIPKART&q=realme+8&store=tyy%2F4io\",\"name\":\"realme 8 (Cyber Silver, 128 GB)\"},{\"@type\":\"ListItem\",\"position\":2,\"url\":\"https://www.flipkart.com/realme-8-cyber-black-128-gb/p/itm63bda3bf5b1db?pid=MOBGYV98456KWXBC&lid=LSTMOBGYV98456KWXBCUHKFKP&marketplace=FLIPKART&q=realme+8&store=tyy%2F4io\",\"name\":\"realme 8 (Cyber Black, 128 GB)\"},{\"@type\":\"ListItem\",\"position\":3,\"url\":\"https://www.flipkart.com/realme-8-cyber-silver-128-gb/p/itm63bda3bf5b1db?pid=MOBGYV98UUYXFYGX&lid=LSTMOBGYV98UUYXFYGXKS0ST9&marketplace=FLIPKART&q=realme+8&store=tyy%2F4io\",\"name\":\"realme 8 (Cyber Silver, 128 GB)\"},{\"@type\":\"ListItem\",\"position\":4,\"url\":\"https://www.flipkart.com/realme-8s-5g-universe-purple-128-gb/p/itm79fdf59bdbe44?pid=MOBG5Y94BMGBRSKP&lid=LSTMOBG5Y94BMGBRSKPIUCBOW&marketplace=FLIPKART&q=realme+8&store=tyy%2F4io\",\"name\":\"realme 8s 5G (Universe Purple, 128 GB)\"},{\"@type\":\"ListItem\",\"position\":5,\"url\":\"https://www.flipkart.com/realme-8s-5g-universe-blue-128-gb/p/itm79fdf59bdbe44?pid=MOBG5Y94RHMNGS6H&lid=LSTMOBG5Y94RHMNGS6HNEHTZU&marketplace=FLIPKART&q=realme+8&store=tyy%2F4io\",\"name\":\"realme 8s 5G (Universe Blue, 128 GB)\"},{\"@type\":\"ListItem\",\"position\":6,\"url\":\"https://www.flipkart.com/realme-8-pro-infinite-blue-128-gb/p/itmaa9c73f5a987c?pid=MOBGYV98YPZ5R9BG&lid=LSTMOBGYV98YPZ5R9BGZO4FHL&marketplace=FLIPKART&q=realme+8&store=tyy%2F4io&spotlightTagId=FkPickId_tyy%2F4io\",\"name\":\"realme 8 Pro (Infinite Blue, 128 GB)\"},{\"@type\":\"ListItem\",\"position\":7,\"url\":\"https://www.flipkart.com/realme-8s-5g-universe-purple-128-gb/p/itm79fdf59bdbe44?pid=MOBG5Y94WJ6GJ8MK&lid=LSTMOBG5Y94WJ6GJ8MKD4DMXT&marketplace=FLIPKART&q=realme+8&store=tyy%2F4io&spotlightTagId=TrendingId_tyy%2F4io\",\"name\":\"realme 8s 5G (Universe Purple, 128 GB)\"},{\"@type\":\"ListItem\",\"position\":8,\"url\":\"https://www.flipkart.com/realme-8s-5g-universe-blue-128-gb/p/itm79fdf59bdbe44?pid=MOBG5Y94XBCAQYPR&lid=LSTMOBG5Y94XBCAQYPRG9SXAD&marketplace=FLIPKART&q=realme+8&store=tyy%2F4io\",\"name\":\"realme 8s 5G (Universe Blue, 128 GB)\"},{\"@type\":\"ListItem\",\"position\":9,\"url\":\"https://www.flipkart.com/realme-8-pro-infinite-black-128-gb/p/itmaa9c73f5a987c?pid=MOBGYV98E5Z8NHTZ&lid=LSTMOBGYV98E5Z8NHTZ8NUBYR&marketplace=FLIPKART&q=realme+8&store=tyy%2F4io\",\"name\":\"realme 8 Pro (Infinite Black, 128 GB)\"},{\"@type\":\"ListItem\",\"position\":10,\"url\":\"https://www.flipkart.com/realme-8-pro-illuminating-yellow-128-gb/p/itmaa9c73f5a987c?pid=MOBGYV98ESYUZZUK&lid=LSTMOBGYV98ESYUZZUKJK4O6X&marketplace=FLIPKART&q=realme+8&store=tyy%2F4io\",\"name\":\"realme 8 Pro (Illuminating Yellow, 128 GB)\"}]}</script> <script id=\"jsonLD\" nonce=\"16653882979875676128\" type=\"application/ld+json\">{}</script><script nonce=\"16653882979875676128\" type=\"application/ld+json\">{\n",
       "    \"@context\": \"http://schema.org\",\n",
       "    \"@type\": \"WebSite\",\n",
       "    \"url\": \"http://www.flipkart.com/\",\n",
       "    \"potentialAction\": [{\n",
       "        \"@type\": \"SearchAction\",\n",
       "        \"target\": \"http://www.flipkart.com/search?q={search_term_string}\",\n",
       "        \"query-input\": \"required name=search_term_string\"\n",
       "        },{\n",
       "        \"@type\": \"SearchAction\",\n",
       "        \"target\": \"android-app://com.flipkart.android/flipkart/de_sq_seg_-search.flipkart.com-_{search_term_string}\",\n",
       "        \"query-input\": \"required name=search_term_string\"\n",
       "    }]\n",
       "}</script><script id=\"is_script\" nonce=\"16653882979875676128\">window.__INITIAL_STATE__ = {};</script> <link data-chunk=\"NavMenu\" href=\"//static-assets-web.flixcart.com/fk-p-linchpin-web/fk-cp-zion/css/NavMenu.chunk.0a28b6.css\" rel=\"stylesheet\"/>\n",
       "<link data-chunk=\"SearchFeedback\" href=\"//static-assets-web.flixcart.com/fk-p-linchpin-web/fk-cp-zion/css/SearchFeedback.chunk.51a13b.css\" rel=\"stylesheet\"/> <script id=\"__LOADABLE_REQUIRED_CHUNKS__\" type=\"application/json\">[130,205]</script><script id=\"__LOADABLE_REQUIRED_CHUNKS___ext\" type=\"application/json\">{\"namedChunks\":[\"NavMenu\",\"SearchFeedback\"]}</script>\n",
       "<script async=\"\" data-chunk=\"NavMenu\" src=\"//static-assets-web.flixcart.com/fk-p-linchpin-web/fk-cp-zion/js/NavMenu.chunk.b73d7942.js\"></script>\n",
       "<script async=\"\" data-chunk=\"SearchFeedback\" src=\"//static-assets-web.flixcart.com/fk-p-linchpin-web/fk-cp-zion/js/SearchFeedback.chunk.7b391e5a.js\"></script><script nonce=\"16653882979875676128\">window.omniture={tpv:[],tl:[]};window.omniture.trackPageView=function(){window.omniture.tpv.push(arguments)};window.omniture.trackLink=function(){window.omniture.tl.push(arguments)}\n",
       "\n",
       "    if(window.location.host === 'www.flipkart.com' || /\\.store\\.flipkart\\.com/i.test(window.location.host)){\n",
       "        window.s_account = \"flipkart-prd\"; //omniture account id\n",
       "    }else{\n",
       "        window.s_account = \"flipkart-prd-test\";\n",
       "    }\n",
       "    window.s_isDesktop = true;</script><script nonce=\"16653882979875676128\">function isMobile(){\n",
       "\t\tif (!!(navigator.userAgentData && navigator.userAgentData.mobile) || navigator.userAgent.indexOf(\"Mobile\") !== -1){\n",
       "\t\t\treturn true;\n",
       "\t\t}\n",
       "\t\telse {\n",
       "\t\t\treturn false;\n",
       "\t\t}\n",
       "\t}\n",
       "\n",
       "\tif ('serviceWorker' in navigator && !isMobile()) {\n",
       "\t\tnavigator.serviceWorker.register('/sw.js').then(function(registration) {\n",
       "\t\t\tconsole.log('ServiceWorker registration successful with scope: ', registration.scope);\n",
       "\t\t\tnavigator.onLine && navigator.serviceWorker.controller && navigator.serviceWorker.controller.postMessage('BANDWIDTH_COMPUTE');\n",
       "\t\t\tnavigator.serviceWorker.addEventListener('message', function (event) {\n",
       "\t\t\t\ttry {\n",
       "\t\t\t\t\tconst bandwidthData = JSON.parse(event.data);\n",
       "\t\t\t\t\tif (bandwidthData && bandwidthData.data) {\n",
       "\t\t\t\t\t\twindow.bandwidth = bandwidthData.data.downlink + '_' + bandwidthData.data.computeMethod + '_' + bandwidthData.data.effectiveType + '_' + bandwidthData.data.type;\n",
       "\t\t\t\t\t}\n",
       "\t\t\t\t}catch(err) {\n",
       "\t\t\t\t\tconsole.error('JSON.parse failed:', err);\n",
       "\t\t\t\t}\n",
       "\t\t\t});\n",
       "\t\t})\n",
       "\t\t.catch(function(err) {\n",
       "\t\t\tconsole.error('ServiceWorker registration failed: ', err);\n",
       "\t\t});\n",
       "\t} else if('serviceWorker' in navigator && isMobile()){\n",
       "        navigator.serviceWorker.getRegistration().then(function(registration) {\n",
       "            var serviceWorkerUnregistered=false;\n",
       "            if(registration) {\n",
       "                registration.unregister();\n",
       "                serviceWorkerUnregistered=true;\n",
       "            }\n",
       "            serviceWorkerUnregistered && window.location.reload();\n",
       "        });\n",
       "    }</script> <script async=\"\" defer=\"defer\" id=\"omni_script\" nonce=\"16653882979875676128\" src=\"///www/linchpin/batman-returns/omni/omni16.js\"></script> <script nonce=\"16653882979875676128\">window._pxAppId = 'PXgNtTli3A';</script><script async=\"\" nonce=\"16653882979875676128\" src=\"///px/gNtTli3A/init.js\"></script></body></html>"
      ]
     },
     "execution_count": 95,
     "metadata": {},
     "output_type": "execute_result"
    }
   ],
   "source": [
    "soup = BeautifulSoup(page.content)\n",
    "soup"
   ]
  },
  {
   "cell_type": "code",
   "execution_count": 96,
   "id": "5b0769d8",
   "metadata": {},
   "outputs": [
    {
     "data": {
      "text/plain": [
       "<div class=\"_4rR01T\">realme 8 (Cyber Silver, 128 GB)</div>"
      ]
     },
     "execution_count": 96,
     "metadata": {},
     "output_type": "execute_result"
    }
   ],
   "source": [
    "# Scraping Brand Name\n",
    "\n",
    "Brand = soup.find('div',class_=\"_4rR01T\")\n",
    "Brand"
   ]
  },
  {
   "cell_type": "code",
   "execution_count": 97,
   "id": "927d06a1",
   "metadata": {},
   "outputs": [
    {
     "data": {
      "text/plain": [
       "'realme 8 (Cyber Silver, 128 GB)'"
      ]
     },
     "execution_count": 97,
     "metadata": {},
     "output_type": "execute_result"
    }
   ],
   "source": [
    "Brand.text"
   ]
  },
  {
   "cell_type": "code",
   "execution_count": 98,
   "id": "abca3cc8",
   "metadata": {},
   "outputs": [
    {
     "data": {
      "text/plain": [
       "<div class=\"_4rR01T\">realme 8 (Cyber Silver, 128 GB)</div>"
      ]
     },
     "execution_count": 98,
     "metadata": {},
     "output_type": "execute_result"
    }
   ],
   "source": [
    "# Scraping SmartPhone_Name\n",
    "\n",
    "SmartPhone_Name = soup.find('div',class_=\"_4rR01T\")\n",
    "SmartPhone_Name"
   ]
  },
  {
   "cell_type": "code",
   "execution_count": 100,
   "id": "17ff0d89",
   "metadata": {},
   "outputs": [
    {
     "data": {
      "text/plain": [
       "'realme 8 (Cyber Silver, 128 GB)'"
      ]
     },
     "execution_count": 100,
     "metadata": {},
     "output_type": "execute_result"
    }
   ],
   "source": [
    "SmartPhone_Name.text"
   ]
  },
  {
   "cell_type": "code",
   "execution_count": 101,
   "id": "1e0577d1",
   "metadata": {},
   "outputs": [
    {
     "data": {
      "text/plain": [
       "<div class=\"_4rR01T\">realme 8 (Cyber Silver, 128 GB)</div>"
      ]
     },
     "execution_count": 101,
     "metadata": {},
     "output_type": "execute_result"
    }
   ],
   "source": [
    "# Scraping color\n",
    "\n",
    "\n",
    "color = soup.find('div',class_=\"_4rR01T\")\n",
    "color"
   ]
  },
  {
   "cell_type": "code",
   "execution_count": 102,
   "id": "7f5f9eec",
   "metadata": {},
   "outputs": [
    {
     "data": {
      "text/plain": [
       "'realme 8 (Cyber Silver, 128 GB)'"
      ]
     },
     "execution_count": 102,
     "metadata": {},
     "output_type": "execute_result"
    }
   ],
   "source": [
    "color.text"
   ]
  },
  {
   "cell_type": "code",
   "execution_count": 105,
   "id": "ed3a9524",
   "metadata": {},
   "outputs": [
    {
     "data": {
      "text/plain": [
       "<li class=\"rgWa7D\">6 GB RAM | 128 GB ROM | Expandable Upto 256 GB</li>"
      ]
     },
     "execution_count": 105,
     "metadata": {},
     "output_type": "execute_result"
    }
   ],
   "source": [
    "# Scraping RAM_ROM\n",
    "\n",
    "RAM_ROM = soup.find('li',class_=\"rgWa7D\")\n",
    "RAM_ROM"
   ]
  },
  {
   "cell_type": "code",
   "execution_count": 106,
   "id": "039bcbec",
   "metadata": {},
   "outputs": [
    {
     "data": {
      "text/plain": [
       "'6 GB RAM | 128 GB ROM | Expandable Upto 256 GB'"
      ]
     },
     "execution_count": 106,
     "metadata": {},
     "output_type": "execute_result"
    }
   ],
   "source": [
    "RAM_ROM.text"
   ]
  },
  {
   "cell_type": "code",
   "execution_count": 107,
   "id": "83e6d585",
   "metadata": {},
   "outputs": [
    {
     "data": {
      "text/plain": [
       "<li class=\"rgWa7D\">6 GB RAM | 128 GB ROM | Expandable Upto 256 GB</li>"
      ]
     },
     "execution_count": 107,
     "metadata": {},
     "output_type": "execute_result"
    }
   ],
   "source": [
    "# Scraping Primary_camera\n",
    "\n",
    "Primary_camera = soup.find('li',class_=\"rgWa7D\")\n",
    "Primary_camera"
   ]
  },
  {
   "cell_type": "code",
   "execution_count": 108,
   "id": "23fc27c0",
   "metadata": {},
   "outputs": [
    {
     "data": {
      "text/plain": [
       "'6 GB RAM | 128 GB ROM | Expandable Upto 256 GB'"
      ]
     },
     "execution_count": 108,
     "metadata": {},
     "output_type": "execute_result"
    }
   ],
   "source": [
    "Primary_camera.text"
   ]
  },
  {
   "cell_type": "code",
   "execution_count": 109,
   "id": "06367aa2",
   "metadata": {},
   "outputs": [
    {
     "data": {
      "text/plain": [
       "<li class=\"rgWa7D\">6 GB RAM | 128 GB ROM | Expandable Upto 256 GB</li>"
      ]
     },
     "execution_count": 109,
     "metadata": {},
     "output_type": "execute_result"
    }
   ],
   "source": [
    "# Scraping Display_size\n",
    "\n",
    "Display_size = soup.find('li',class_=\"rgWa7D\")\n",
    "Display_size"
   ]
  },
  {
   "cell_type": "code",
   "execution_count": 110,
   "id": "65b1bfa6",
   "metadata": {},
   "outputs": [
    {
     "data": {
      "text/plain": [
       "'6 GB RAM | 128 GB ROM | Expandable Upto 256 GB'"
      ]
     },
     "execution_count": 110,
     "metadata": {},
     "output_type": "execute_result"
    }
   ],
   "source": [
    "Display_size.text"
   ]
  },
  {
   "cell_type": "code",
   "execution_count": 111,
   "id": "5fa5fb19",
   "metadata": {},
   "outputs": [
    {
     "data": {
      "text/plain": [
       "<li class=\"rgWa7D\">6 GB RAM | 128 GB ROM | Expandable Upto 256 GB</li>"
      ]
     },
     "execution_count": 111,
     "metadata": {},
     "output_type": "execute_result"
    }
   ],
   "source": [
    "Battery_capacity = soup.find('li',class_=\"rgWa7D\")\n",
    "Battery_capacity"
   ]
  },
  {
   "cell_type": "code",
   "execution_count": 112,
   "id": "5f12dc85",
   "metadata": {},
   "outputs": [
    {
     "data": {
      "text/plain": [
       "'6 GB RAM | 128 GB ROM | Expandable Upto 256 GB'"
      ]
     },
     "execution_count": 112,
     "metadata": {},
     "output_type": "execute_result"
    }
   ],
   "source": [
    "Battery_capacity.text"
   ]
  },
  {
   "cell_type": "code",
   "execution_count": 113,
   "id": "55dbcae3",
   "metadata": {},
   "outputs": [
    {
     "data": {
      "text/plain": [
       "<div class=\"_30jeq3 _1_WHN1\">₹14,499</div>"
      ]
     },
     "execution_count": 113,
     "metadata": {},
     "output_type": "execute_result"
    }
   ],
   "source": [
    "price = soup.find('div',class_=\"_30jeq3 _1_WHN1\")\n",
    "price"
   ]
  },
  {
   "cell_type": "code",
   "execution_count": 114,
   "id": "cd90b3e9",
   "metadata": {},
   "outputs": [
    {
     "data": {
      "text/plain": [
       "'₹14,499'"
      ]
     },
     "execution_count": 114,
     "metadata": {},
     "output_type": "execute_result"
    }
   ],
   "source": [
    "price.text"
   ]
  },
  {
   "cell_type": "code",
   "execution_count": 119,
   "id": "1a524b8b",
   "metadata": {},
   "outputs": [
    {
     "data": {
      "text/plain": [
       "<img alt=\"realme 8 (Cyber Silver, 128 GB)\" class=\"_396cs4\" loading=\"eager\" src=\"https://rukminim2.flixcart.com/image/312/312/kmmcrrk0/mobile/y/o/q/8-rmx3085-realme-original-imagfgpgmm6h8ptt.jpeg?q=70\"/>"
      ]
     },
     "execution_count": 119,
     "metadata": {},
     "output_type": "execute_result"
    }
   ],
   "source": [
    "url = soup.find('img',class_=\"_396cs4\")\n",
    "url"
   ]
  },
  {
   "cell_type": "code",
   "execution_count": 117,
   "id": "9106d2b1",
   "metadata": {},
   "outputs": [
    {
     "data": {
      "text/plain": [
       "''"
      ]
     },
     "execution_count": 117,
     "metadata": {},
     "output_type": "execute_result"
    }
   ],
   "source": [
    "url.text"
   ]
  },
  {
   "cell_type": "code",
   "execution_count": 123,
   "id": "a3b7a319",
   "metadata": {},
   "outputs": [
    {
     "ename": "TypeError",
     "evalue": "Index(...) must be called with a collection of some kind, 10 was passed",
     "output_type": "error",
     "traceback": [
      "\u001b[1;31m---------------------------------------------------------------------------\u001b[0m",
      "\u001b[1;31mTypeError\u001b[0m                                 Traceback (most recent call last)",
      "Cell \u001b[1;32mIn[123], line 1\u001b[0m\n\u001b[1;32m----> 1\u001b[0m df \u001b[38;5;241m=\u001b[39m \u001b[43mpd\u001b[49m\u001b[38;5;241;43m.\u001b[39;49m\u001b[43mDataFrame\u001b[49m\u001b[43m(\u001b[49m\u001b[43m{\u001b[49m\u001b[38;5;124;43m'\u001b[39;49m\u001b[38;5;124;43mBrand Name\u001b[39;49m\u001b[38;5;124;43m'\u001b[39;49m\u001b[43m:\u001b[49m\u001b[43mBrand\u001b[49m\u001b[43m,\u001b[49m\u001b[43m \u001b[49m\u001b[38;5;124;43m'\u001b[39;49m\u001b[38;5;124;43mSmartPhone_Name\u001b[39;49m\u001b[38;5;124;43m'\u001b[39;49m\u001b[43m:\u001b[49m\u001b[43mSmartPhone_Name\u001b[49m\u001b[43m,\u001b[49m\u001b[43m \u001b[49m\u001b[38;5;124;43m'\u001b[39;49m\u001b[38;5;124;43mColour\u001b[39;49m\u001b[38;5;124;43m'\u001b[39;49m\u001b[43m:\u001b[49m\u001b[43mcolor\u001b[49m\u001b[43m,\u001b[49m\u001b[43m \u001b[49m\u001b[38;5;124;43m'\u001b[39;49m\u001b[38;5;124;43mRAM_ROM\u001b[39;49m\u001b[38;5;124;43m'\u001b[39;49m\u001b[43m:\u001b[49m\u001b[43mRAM_ROM\u001b[49m\u001b[43m,\u001b[49m\n\u001b[0;32m      2\u001b[0m \u001b[43m                   \u001b[49m\u001b[38;5;124;43m'\u001b[39;49m\u001b[38;5;124;43mPrimary_camera\u001b[39;49m\u001b[38;5;124;43m'\u001b[39;49m\u001b[43m:\u001b[49m\u001b[43mPrimary_camera\u001b[49m\u001b[43m,\u001b[49m\u001b[43m \u001b[49m\u001b[38;5;124;43m'\u001b[39;49m\u001b[38;5;124;43mDisplay_size\u001b[39;49m\u001b[38;5;124;43m'\u001b[39;49m\u001b[43m:\u001b[49m\u001b[43mDisplay_size\u001b[49m\u001b[43m,\u001b[49m\u001b[43m \u001b[49m\u001b[38;5;124;43m'\u001b[39;49m\u001b[38;5;124;43mBattery_capacity\u001b[39;49m\u001b[38;5;124;43m'\u001b[39;49m\u001b[43m:\u001b[49m\u001b[43mBattery_capacity\u001b[49m\u001b[43m,\u001b[49m\n\u001b[0;32m      3\u001b[0m \u001b[43m                  \u001b[49m\u001b[38;5;124;43m'\u001b[39;49m\u001b[38;5;124;43mPrice\u001b[39;49m\u001b[38;5;124;43m'\u001b[39;49m\u001b[43m:\u001b[49m\u001b[43mprice\u001b[49m\u001b[43m,\u001b[49m\u001b[43m \u001b[49m\u001b[38;5;124;43m'\u001b[39;49m\u001b[38;5;124;43mProduct URL\u001b[39;49m\u001b[38;5;124;43m'\u001b[39;49m\u001b[43m:\u001b[49m\u001b[43murl\u001b[49m\u001b[43m}\u001b[49m\u001b[43m,\u001b[49m\u001b[43m \u001b[49m\u001b[43mindex\u001b[49m\u001b[43m \u001b[49m\u001b[38;5;241;43m=\u001b[39;49m\u001b[43m \u001b[49m\u001b[38;5;241;43m10\u001b[39;49m\u001b[43m)\u001b[49m\n",
      "File \u001b[1;32m~\\anaconda3\\python\\lib\\site-packages\\pandas\\core\\frame.py:664\u001b[0m, in \u001b[0;36mDataFrame.__init__\u001b[1;34m(self, data, index, columns, dtype, copy)\u001b[0m\n\u001b[0;32m    658\u001b[0m     mgr \u001b[38;5;241m=\u001b[39m \u001b[38;5;28mself\u001b[39m\u001b[38;5;241m.\u001b[39m_init_mgr(\n\u001b[0;32m    659\u001b[0m         data, axes\u001b[38;5;241m=\u001b[39m{\u001b[38;5;124m\"\u001b[39m\u001b[38;5;124mindex\u001b[39m\u001b[38;5;124m\"\u001b[39m: index, \u001b[38;5;124m\"\u001b[39m\u001b[38;5;124mcolumns\u001b[39m\u001b[38;5;124m\"\u001b[39m: columns}, dtype\u001b[38;5;241m=\u001b[39mdtype, copy\u001b[38;5;241m=\u001b[39mcopy\n\u001b[0;32m    660\u001b[0m     )\n\u001b[0;32m    662\u001b[0m \u001b[38;5;28;01melif\u001b[39;00m \u001b[38;5;28misinstance\u001b[39m(data, \u001b[38;5;28mdict\u001b[39m):\n\u001b[0;32m    663\u001b[0m     \u001b[38;5;66;03m# GH#38939 de facto copy defaults to False only in non-dict cases\u001b[39;00m\n\u001b[1;32m--> 664\u001b[0m     mgr \u001b[38;5;241m=\u001b[39m \u001b[43mdict_to_mgr\u001b[49m\u001b[43m(\u001b[49m\u001b[43mdata\u001b[49m\u001b[43m,\u001b[49m\u001b[43m \u001b[49m\u001b[43mindex\u001b[49m\u001b[43m,\u001b[49m\u001b[43m \u001b[49m\u001b[43mcolumns\u001b[49m\u001b[43m,\u001b[49m\u001b[43m \u001b[49m\u001b[43mdtype\u001b[49m\u001b[38;5;241;43m=\u001b[39;49m\u001b[43mdtype\u001b[49m\u001b[43m,\u001b[49m\u001b[43m \u001b[49m\u001b[43mcopy\u001b[49m\u001b[38;5;241;43m=\u001b[39;49m\u001b[43mcopy\u001b[49m\u001b[43m,\u001b[49m\u001b[43m \u001b[49m\u001b[43mtyp\u001b[49m\u001b[38;5;241;43m=\u001b[39;49m\u001b[43mmanager\u001b[49m\u001b[43m)\u001b[49m\n\u001b[0;32m    665\u001b[0m \u001b[38;5;28;01melif\u001b[39;00m \u001b[38;5;28misinstance\u001b[39m(data, ma\u001b[38;5;241m.\u001b[39mMaskedArray):\n\u001b[0;32m    666\u001b[0m     \u001b[38;5;28;01mimport\u001b[39;00m \u001b[38;5;21;01mnumpy\u001b[39;00m\u001b[38;5;21;01m.\u001b[39;00m\u001b[38;5;21;01mma\u001b[39;00m\u001b[38;5;21;01m.\u001b[39;00m\u001b[38;5;21;01mmrecords\u001b[39;00m \u001b[38;5;28;01mas\u001b[39;00m \u001b[38;5;21;01mmrecords\u001b[39;00m\n",
      "File \u001b[1;32m~\\anaconda3\\python\\lib\\site-packages\\pandas\\core\\internals\\construction.py:493\u001b[0m, in \u001b[0;36mdict_to_mgr\u001b[1;34m(data, index, columns, dtype, typ, copy)\u001b[0m\n\u001b[0;32m    489\u001b[0m     \u001b[38;5;28;01melse\u001b[39;00m:\n\u001b[0;32m    490\u001b[0m         \u001b[38;5;66;03m# dtype check to exclude e.g. range objects, scalars\u001b[39;00m\n\u001b[0;32m    491\u001b[0m         arrays \u001b[38;5;241m=\u001b[39m [x\u001b[38;5;241m.\u001b[39mcopy() \u001b[38;5;28;01mif\u001b[39;00m \u001b[38;5;28mhasattr\u001b[39m(x, \u001b[38;5;124m\"\u001b[39m\u001b[38;5;124mdtype\u001b[39m\u001b[38;5;124m\"\u001b[39m) \u001b[38;5;28;01melse\u001b[39;00m x \u001b[38;5;28;01mfor\u001b[39;00m x \u001b[38;5;129;01min\u001b[39;00m arrays]\n\u001b[1;32m--> 493\u001b[0m \u001b[38;5;28;01mreturn\u001b[39;00m \u001b[43marrays_to_mgr\u001b[49m\u001b[43m(\u001b[49m\u001b[43marrays\u001b[49m\u001b[43m,\u001b[49m\u001b[43m \u001b[49m\u001b[43mcolumns\u001b[49m\u001b[43m,\u001b[49m\u001b[43m \u001b[49m\u001b[43mindex\u001b[49m\u001b[43m,\u001b[49m\u001b[43m \u001b[49m\u001b[43mdtype\u001b[49m\u001b[38;5;241;43m=\u001b[39;49m\u001b[43mdtype\u001b[49m\u001b[43m,\u001b[49m\u001b[43m \u001b[49m\u001b[43mtyp\u001b[49m\u001b[38;5;241;43m=\u001b[39;49m\u001b[43mtyp\u001b[49m\u001b[43m,\u001b[49m\u001b[43m \u001b[49m\u001b[43mconsolidate\u001b[49m\u001b[38;5;241;43m=\u001b[39;49m\u001b[43mcopy\u001b[49m\u001b[43m)\u001b[49m\n",
      "File \u001b[1;32m~\\anaconda3\\python\\lib\\site-packages\\pandas\\core\\internals\\construction.py:120\u001b[0m, in \u001b[0;36marrays_to_mgr\u001b[1;34m(arrays, columns, index, dtype, verify_integrity, typ, consolidate)\u001b[0m\n\u001b[0;32m    118\u001b[0m     index \u001b[38;5;241m=\u001b[39m _extract_index(arrays)\n\u001b[0;32m    119\u001b[0m \u001b[38;5;28;01melse\u001b[39;00m:\n\u001b[1;32m--> 120\u001b[0m     index \u001b[38;5;241m=\u001b[39m \u001b[43mensure_index\u001b[49m\u001b[43m(\u001b[49m\u001b[43mindex\u001b[49m\u001b[43m)\u001b[49m\n\u001b[0;32m    122\u001b[0m \u001b[38;5;66;03m# don't force copy because getting jammed in an ndarray anyway\u001b[39;00m\n\u001b[0;32m    123\u001b[0m arrays \u001b[38;5;241m=\u001b[39m _homogenize(arrays, index, dtype)\n",
      "File \u001b[1;32m~\\anaconda3\\python\\lib\\site-packages\\pandas\\core\\indexes\\base.py:7333\u001b[0m, in \u001b[0;36mensure_index\u001b[1;34m(index_like, copy)\u001b[0m\n\u001b[0;32m   7331\u001b[0m         \u001b[38;5;28;01mreturn\u001b[39;00m Index\u001b[38;5;241m.\u001b[39m_with_infer(index_like, copy\u001b[38;5;241m=\u001b[39mcopy, tupleize_cols\u001b[38;5;241m=\u001b[39m\u001b[38;5;28;01mFalse\u001b[39;00m)\n\u001b[0;32m   7332\u001b[0m \u001b[38;5;28;01melse\u001b[39;00m:\n\u001b[1;32m-> 7333\u001b[0m     \u001b[38;5;28;01mreturn\u001b[39;00m \u001b[43mIndex\u001b[49m\u001b[38;5;241;43m.\u001b[39;49m\u001b[43m_with_infer\u001b[49m\u001b[43m(\u001b[49m\u001b[43mindex_like\u001b[49m\u001b[43m,\u001b[49m\u001b[43m \u001b[49m\u001b[43mcopy\u001b[49m\u001b[38;5;241;43m=\u001b[39;49m\u001b[43mcopy\u001b[49m\u001b[43m)\u001b[49m\n",
      "File \u001b[1;32m~\\anaconda3\\python\\lib\\site-packages\\pandas\\core\\indexes\\base.py:716\u001b[0m, in \u001b[0;36mIndex._with_infer\u001b[1;34m(cls, *args, **kwargs)\u001b[0m\n\u001b[0;32m    714\u001b[0m \u001b[38;5;28;01mwith\u001b[39;00m warnings\u001b[38;5;241m.\u001b[39mcatch_warnings():\n\u001b[0;32m    715\u001b[0m     warnings\u001b[38;5;241m.\u001b[39mfilterwarnings(\u001b[38;5;124m\"\u001b[39m\u001b[38;5;124mignore\u001b[39m\u001b[38;5;124m\"\u001b[39m, \u001b[38;5;124m\"\u001b[39m\u001b[38;5;124m.*the Index constructor\u001b[39m\u001b[38;5;124m\"\u001b[39m, \u001b[38;5;167;01mFutureWarning\u001b[39;00m)\n\u001b[1;32m--> 716\u001b[0m     result \u001b[38;5;241m=\u001b[39m \u001b[38;5;28mcls\u001b[39m(\u001b[38;5;241m*\u001b[39margs, \u001b[38;5;241m*\u001b[39m\u001b[38;5;241m*\u001b[39mkwargs)\n\u001b[0;32m    718\u001b[0m \u001b[38;5;28;01mif\u001b[39;00m result\u001b[38;5;241m.\u001b[39mdtype \u001b[38;5;241m==\u001b[39m _dtype_obj \u001b[38;5;129;01mand\u001b[39;00m \u001b[38;5;129;01mnot\u001b[39;00m result\u001b[38;5;241m.\u001b[39m_is_multi:\n\u001b[0;32m    719\u001b[0m     \u001b[38;5;66;03m# error: Argument 1 to \"maybe_convert_objects\" has incompatible type\u001b[39;00m\n\u001b[0;32m    720\u001b[0m     \u001b[38;5;66;03m# \"Union[ExtensionArray, ndarray[Any, Any]]\"; expected\u001b[39;00m\n\u001b[0;32m    721\u001b[0m     \u001b[38;5;66;03m# \"ndarray[Any, Any]\"\u001b[39;00m\n\u001b[0;32m    722\u001b[0m     values \u001b[38;5;241m=\u001b[39m lib\u001b[38;5;241m.\u001b[39mmaybe_convert_objects(result\u001b[38;5;241m.\u001b[39m_values)  \u001b[38;5;66;03m# type: ignore[arg-type]\u001b[39;00m\n",
      "File \u001b[1;32m~\\anaconda3\\python\\lib\\site-packages\\pandas\\core\\indexes\\base.py:545\u001b[0m, in \u001b[0;36mIndex.__new__\u001b[1;34m(cls, data, dtype, copy, name, tupleize_cols, **kwargs)\u001b[0m\n\u001b[0;32m    542\u001b[0m     \u001b[38;5;28;01mreturn\u001b[39;00m klass\u001b[38;5;241m.\u001b[39m_simple_new(arr, name)\n\u001b[0;32m    544\u001b[0m \u001b[38;5;28;01melif\u001b[39;00m is_scalar(data):\n\u001b[1;32m--> 545\u001b[0m     \u001b[38;5;28;01mraise\u001b[39;00m \u001b[38;5;28mcls\u001b[39m\u001b[38;5;241m.\u001b[39m_scalar_data_error(data)\n\u001b[0;32m    546\u001b[0m \u001b[38;5;28;01melif\u001b[39;00m \u001b[38;5;28mhasattr\u001b[39m(data, \u001b[38;5;124m\"\u001b[39m\u001b[38;5;124m__array__\u001b[39m\u001b[38;5;124m\"\u001b[39m):\n\u001b[0;32m    547\u001b[0m     \u001b[38;5;28;01mreturn\u001b[39;00m Index(np\u001b[38;5;241m.\u001b[39masarray(data), dtype\u001b[38;5;241m=\u001b[39mdtype, copy\u001b[38;5;241m=\u001b[39mcopy, name\u001b[38;5;241m=\u001b[39mname, \u001b[38;5;241m*\u001b[39m\u001b[38;5;241m*\u001b[39mkwargs)\n",
      "\u001b[1;31mTypeError\u001b[0m: Index(...) must be called with a collection of some kind, 10 was passed"
     ]
    }
   ],
   "source": [
    "df = pd.DataFrame({'Brand Name':Brand, 'SmartPhone_Name':SmartPhone_Name, 'Colour':color, 'RAM_ROM':RAM_ROM,\n",
    "                   'Primary_camera':Primary_camera, 'Display_size':Display_size, 'Battery_capacity':Battery_capacity,\n",
    "                  'Price':price, 'Product URL':url}, index = 10)"
   ]
  },
  {
   "cell_type": "code",
   "execution_count": 124,
   "id": "439d75d8",
   "metadata": {},
   "outputs": [],
   "source": [
    "# Question 6:-\n",
    "\n",
    "driver = webdriver.Chrome()"
   ]
  },
  {
   "cell_type": "code",
   "execution_count": 125,
   "id": "3647db56",
   "metadata": {},
   "outputs": [],
   "source": [
    "# Opening the Shine page on Automated Chrome Browser.\n",
    "driver.get(\"https://www.digit.in/\")"
   ]
  },
  {
   "cell_type": "code",
   "execution_count": 126,
   "id": "650507f2",
   "metadata": {},
   "outputs": [],
   "source": [
    "Name = []\n",
    "Operating_system = []\n",
    "Display_size = []\n",
    "Processor = []\n",
    "Description = []"
   ]
  },
  {
   "cell_type": "code",
   "execution_count": 129,
   "id": "6463da92",
   "metadata": {},
   "outputs": [],
   "source": [
    "# Scraping Name from the given page\n",
    "laptop = driver.find_elements(By.XPATH,'//h3[@class=\"font130 mt0 mb10 mobilesblockdisplay \"]/a')\n",
    "\n",
    "for i in laptop:\n",
    "    title = i.text\n",
    "    Name.append(title)\n",
    "    \n",
    "# Scraping Operating_system from the given page.\n",
    "operating_system = driver.find_elements(By.XPATH,'/html/body/div[1]/div[3]/div/div/article/div[6]/div/div[2]/div[1]/div/div/div/div[2]/div[3]/div[2]/div[1]/div/span[2]')\n",
    "\n",
    "for i in operating_system:\n",
    "    os = i.text\n",
    "    Operating_system.append(os)\n",
    "    \n",
    "# Scraping Display_size from the given page.\n",
    "DS = driver.find_elements(By.XPATH,'/html/body/div[1]/div[3]/div/div/article/div[6]/div/div[2]/div[1]/div/div/div/div[2]/div[3]/div[2]/div[2]/div/span[2]')\n",
    "\n",
    "for i in DS:\n",
    "    ds = i.text\n",
    "    Display_size.append(ds)\n",
    "    \n",
    "# Scraping Processor from the given page.\n",
    "processor = driver.find_elements(By.XPATH,'/html/body/div[1]/div[3]/div/div/article/div[6]/div/div[2]/div[1]/div/div/div/div[2]/div[3]/div[2]/div[4]/div/span[2]')\n",
    "\n",
    "for i in processor:\n",
    "    pro = i.text\n",
    "    Processor.append(pro)\n",
    "    \n",
    "# Scraping Description from the given page.\n",
    "Des = driver.find_elements(By.XPATH,'/html/body/div[1]/div[3]/div/div/article/div[6]/div/div[2]/p[1]')\n",
    "\n",
    "for i in Des:\n",
    "    x = i.text\n",
    "    Description.append(x)"
   ]
  },
  {
   "cell_type": "code",
   "execution_count": 131,
   "id": "ef2f295a",
   "metadata": {},
   "outputs": [],
   "source": [
    "# Question 7:-\n",
    "\n",
    "driver = webdriver.Chrome()"
   ]
  },
  {
   "cell_type": "code",
   "execution_count": 132,
   "id": "15ae2556",
   "metadata": {},
   "outputs": [],
   "source": [
    "# Opening the forbes page on Automated Chrome Browser.\n",
    "driver.get(\"http://www.forbes.com/\")"
   ]
  },
  {
   "cell_type": "code",
   "execution_count": 133,
   "id": "dbe0b302",
   "metadata": {},
   "outputs": [],
   "source": [
    "Rank = []\n",
    "Name = []\n",
    "Net_worth = []\n",
    "Age = []\n",
    "Citizenship = []\n",
    "Source = []\n",
    "Industry = []"
   ]
  },
  {
   "cell_type": "code",
   "execution_count": null,
   "id": "fdeb6b1c",
   "metadata": {},
   "outputs": [],
   "source": [
    "# Scraping Rank from the given page\n",
    "rank = driver.find_elements(By.XPATH,'//div[@class=\"Table_rank___YBhk Table_dataCell__2QCve\"]')\n",
    "\n",
    "for i in rank:\n",
    "    title = i.text\n",
    "    Rank.append(title)\n",
    "    \n",
    "# Scraping Name from the given page.\n",
    "name = driver.find_elements(By.XPATH,'//div[@class=\"Table_dataCell__2QCve\"]')\n",
    "\n",
    "for i in name:\n",
    "    naam = i.text\n",
    "    Name.append(naam)\n",
    "    \n",
    "# Scraping Net_worth from the given page.\n",
    "NW = driver.find_elements(By.XPATH,'//div[@class=\"Table_netWorth___L4R5 Table_dataCell__2QCve\"]')\n",
    "\n",
    "for i in NW:\n",
    "    nw = i.text\n",
    "    Net_worth.append(nw)\n",
    "    \n",
    "# Scraping Age from the given page.\n",
    "age = driver.find_elements(By.XPATH,'//div[@class=\"Table_dataCell__2QCve\"]')\n",
    "\n",
    "for i in age:\n",
    "    umar = i.text\n",
    "    Age.append(umar)\n",
    "    \n",
    "# Scraping Citizenship from the given page.\n",
    "country = driver.find_elements(By.XPATH,'//div[@class=\"TableRow_cell__db-hv Table_cell__houv9\"]')\n",
    "\n",
    "for i in country:\n",
    "    x = i.text\n",
    "    Citizenship.append(x)\n",
    "    \n",
    "# Scraping Source from the given page.\n",
    "source = driver.find_elements(By.XPATH,'//div[@class=\"Table_dataCell__2QCve\"]/span')\n",
    "\n",
    "for i in source:\n",
    "    pro = i.text\n",
    "    Source.append(pro)\n",
    "    \n",
    "# Scraping Industry from the given page.\n",
    "industry = driver.find_elements(By.XPATH,'//div[@class=\"Table_dataCell__2QCve\"]')\n",
    "\n",
    "for i in industry:\n",
    "    x = i.text\n",
    "    Industry.append(x)"
   ]
  },
  {
   "cell_type": "code",
   "execution_count": null,
   "id": "ad92f330",
   "metadata": {},
   "outputs": [],
   "source": []
  }
 ],
 "metadata": {
  "kernelspec": {
   "display_name": "Python 3 (ipykernel)",
   "language": "python",
   "name": "python3"
  },
  "language_info": {
   "codemirror_mode": {
    "name": "ipython",
    "version": 3
   },
   "file_extension": ".py",
   "mimetype": "text/x-python",
   "name": "python",
   "nbconvert_exporter": "python",
   "pygments_lexer": "ipython3",
   "version": "3.10.9"
  }
 },
 "nbformat": 4,
 "nbformat_minor": 5
}
